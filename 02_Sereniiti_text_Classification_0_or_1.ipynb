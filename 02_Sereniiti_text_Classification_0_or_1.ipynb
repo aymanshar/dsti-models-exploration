{
  "nbformat": 4,
  "nbformat_minor": 0,
  "metadata": {
    "kernelspec": {
      "display_name": "Python 3",
      "language": "python",
      "name": "python3"
    },
    "colab": {
      "name": "project_test-text_Classification_013.ipynb",
      "provenance": [],
      "collapsed_sections": [],
      "toc_visible": true,
      "include_colab_link": true
    }
  },
  "cells": [
    {
      "cell_type": "markdown",
      "metadata": {
        "id": "view-in-github",
        "colab_type": "text"
      },
      "source": [
        "<a href=\"https://colab.research.google.com/github/Sereniiti/models-exploration/blob/develop/Ayman/02_Sereniiti_text_Classification_0_or_1.ipynb\" target=\"_parent\"><img src=\"https://colab.research.google.com/assets/colab-badge.svg\" alt=\"Open In Colab\"/></a>"
      ]
    },
    {
      "cell_type": "code",
      "metadata": {
        "id": "kb6Xgs3qS4pH"
      },
      "source": [
        "# import regular expression library for searching words in a text or paragraph\n",
        "import re\n",
        "\n",
        "# function to clean the given text lowring, removing special characters\n",
        "def clean_text(text):\n",
        "    \"\"\"\n",
        "    Applies some pre-processing on the given text.\n",
        "\n",
        "    Steps :\n",
        "    - Removing HTML tags\n",
        "    - Removing punctuation\n",
        "    - Lowering text\n",
        "    \"\"\"\n",
        "    \n",
        "    # remove HTML tags\n",
        "    text = re.sub(r'<.*?>', '', text)\n",
        "    \n",
        "    # remove the characters [\\], ['] and [\"] replacing by space \"\"\n",
        "    text = re.sub(r\"\\\\\", \"\", text)    \n",
        "    text = re.sub(r\"\\'\", \"\", text)    \n",
        "    text = re.sub(r\"\\\"\", \"\", text)    \n",
        "    \n",
        "    # convert text to lowercase\n",
        "    text = text.strip().lower()\n",
        "    \n",
        "    # replace punctuation characters with spaces\n",
        "    filters='!\"\\'#$%&()*+,-./:;<=>?@[\\\\]^_`{|}~\\t\\n'\n",
        "    translate_dict = dict((c, \" \") for c in filters)\n",
        "    translate_map = str.maketrans(translate_dict)\n",
        "    text = text.translate(translate_map)\n",
        "\n",
        "    return text"
      ],
      "execution_count": null,
      "outputs": []
    },
    {
      "cell_type": "code",
      "metadata": {
        "id": "6p5L-l3I0tPn"
      },
      "source": [
        "from sklearn.feature_extraction.text import CountVectorizer"
      ],
      "execution_count": null,
      "outputs": []
    },
    {
      "cell_type": "code",
      "metadata": {
        "id": "FQrfEqWjS4pM"
      },
      "source": [
        "import numpy as np\n",
        "import pandas as pd # for data frame\n",
        "import re # regular expression library for searching words in a text or paragraph\n",
        "from sklearn.feature_extraction.text import TfidfVectorizer #to convert the words to feature  vectors\n",
        "from sklearn.model_selection import train_test_split # to split our dtata set into training data and test data\n",
        "#from sklearn.linear_model import LogisticRegression # \n",
        "from sklearn.metrics import accuracy_score #\n"
      ],
      "execution_count": null,
      "outputs": []
    },
    {
      "cell_type": "code",
      "metadata": {
        "id": "NHPEBatLTArl"
      },
      "source": [
        "# Code to read csv file into Colaboratory:\n",
        "!pip install -U -q PyDrive\n",
        "from pydrive.auth import GoogleAuth\n",
        "from pydrive.drive import GoogleDrive\n",
        "from google.colab import auth\n",
        "from oauth2client.client import GoogleCredentials\n",
        "# Authenticate and create the PyDrive client.\n",
        "auth.authenticate_user()\n",
        "gauth = GoogleAuth()\n",
        "gauth.credentials = GoogleCredentials.get_application_default()\n",
        "drive = GoogleDrive(gauth)"
      ],
      "execution_count": null,
      "outputs": []
    },
    {
      "cell_type": "code",
      "metadata": {
        "colab": {
          "base_uri": "https://localhost:8080/"
        },
        "id": "oeqaB-gwTRLW",
        "outputId": "773162d8-d52a-4133-bec4-b750cd165e34"
      },
      "source": [
        "from google.colab import drive\n",
        "drive.mount('/content/drive')"
      ],
      "execution_count": null,
      "outputs": [
        {
          "output_type": "stream",
          "text": [
            "Mounted at /content/drive\n"
          ],
          "name": "stdout"
        }
      ]
    },
    {
      "cell_type": "code",
      "metadata": {
        "id": "COyrOSk2S4pO"
      },
      "source": [
        "data_sentences = pd.read_csv('/content/drive/MyDrive/Colab Notebooks/Data_sentences.csv')\n",
        "# Dataset is now stored in a Pandas Dataframe"
      ],
      "execution_count": null,
      "outputs": []
    },
    {
      "cell_type": "code",
      "metadata": {
        "colab": {
          "base_uri": "https://localhost:8080/",
          "height": 204
        },
        "id": "xO8pm6fqS4pO",
        "outputId": "76e687e8-05bf-4297-fcea-53f931afe87b"
      },
      "source": [
        "# show first 5 records\n",
        "data_sentences.head(5)"
      ],
      "execution_count": null,
      "outputs": [
        {
          "output_type": "execute_result",
          "data": {
            "text/html": [
              "<div>\n",
              "<style scoped>\n",
              "    .dataframe tbody tr th:only-of-type {\n",
              "        vertical-align: middle;\n",
              "    }\n",
              "\n",
              "    .dataframe tbody tr th {\n",
              "        vertical-align: top;\n",
              "    }\n",
              "\n",
              "    .dataframe thead th {\n",
              "        text-align: right;\n",
              "    }\n",
              "</style>\n",
              "<table border=\"1\" class=\"dataframe\">\n",
              "  <thead>\n",
              "    <tr style=\"text-align: right;\">\n",
              "      <th></th>\n",
              "      <th>words_en</th>\n",
              "      <th>words_Fr</th>\n",
              "      <th>ratings</th>\n",
              "    </tr>\n",
              "  </thead>\n",
              "  <tbody>\n",
              "    <tr>\n",
              "      <th>0</th>\n",
              "      <td>I am being abused.</td>\n",
              "      <td>Je suis maltraité.</td>\n",
              "      <td>acceptable negative</td>\n",
              "    </tr>\n",
              "    <tr>\n",
              "      <th>1</th>\n",
              "      <td>I am unwanted.</td>\n",
              "      <td>Je suis indésirable.</td>\n",
              "      <td>acceptable negative</td>\n",
              "    </tr>\n",
              "    <tr>\n",
              "      <th>2</th>\n",
              "      <td>I don't feel heard</td>\n",
              "      <td>Je ne me sens pas entendu</td>\n",
              "      <td>acceptable negative</td>\n",
              "    </tr>\n",
              "    <tr>\n",
              "      <th>3</th>\n",
              "      <td>I don't feel supported</td>\n",
              "      <td>Je ne me sens pas soutenue</td>\n",
              "      <td>acceptable negative</td>\n",
              "    </tr>\n",
              "    <tr>\n",
              "      <th>4</th>\n",
              "      <td>I don't like you</td>\n",
              "      <td>Je ne t'aime pas</td>\n",
              "      <td>acceptable negative</td>\n",
              "    </tr>\n",
              "  </tbody>\n",
              "</table>\n",
              "</div>"
            ],
            "text/plain": [
              "                 words_en                    words_Fr              ratings\n",
              "0      I am being abused.          Je suis maltraité.  acceptable negative\n",
              "1          I am unwanted.        Je suis indésirable.  acceptable negative\n",
              "2      I don't feel heard   Je ne me sens pas entendu  acceptable negative\n",
              "3  I don't feel supported  Je ne me sens pas soutenue  acceptable negative\n",
              "4       I don't like you             Je ne t'aime pas  acceptable negative"
            ]
          },
          "metadata": {
            "tags": []
          },
          "execution_count": 41
        }
      ]
    },
    {
      "cell_type": "code",
      "metadata": {
        "colab": {
          "base_uri": "https://localhost:8080/"
        },
        "id": "1C_MpGRWS4pO",
        "outputId": "ad11b117-ecb0-4639-d3a6-6fcb17affb04"
      },
      "source": [
        "data_sentences.shape"
      ],
      "execution_count": null,
      "outputs": [
        {
          "output_type": "execute_result",
          "data": {
            "text/plain": [
              "(7482, 3)"
            ]
          },
          "metadata": {
            "tags": []
          },
          "execution_count": 42
        }
      ]
    },
    {
      "cell_type": "code",
      "metadata": {
        "colab": {
          "base_uri": "https://localhost:8080/"
        },
        "id": "ObBiIpr0S4pP",
        "outputId": "e28d33b4-3881-4c39-8a4f-c775d962d1a6"
      },
      "source": [
        "#check missing values\n",
        "data_sentences.isnull().sum()"
      ],
      "execution_count": null,
      "outputs": [
        {
          "output_type": "execute_result",
          "data": {
            "text/plain": [
              "words_en    0\n",
              "words_Fr    0\n",
              "ratings     0\n",
              "dtype: int64"
            ]
          },
          "metadata": {
            "tags": []
          },
          "execution_count": 43
        }
      ]
    },
    {
      "cell_type": "code",
      "metadata": {
        "colab": {
          "base_uri": "https://localhost:8080/"
        },
        "id": "EzIRZx_eS4pQ",
        "outputId": "3e32d328-bf48-476f-f6b3-1a3b8f7efdd3"
      },
      "source": [
        "#check the unique records in ratings column to map them with code number\n",
        "data_sentences['ratings'].unique()"
      ],
      "execution_count": null,
      "outputs": [
        {
          "output_type": "execute_result",
          "data": {
            "text/plain": [
              "array(['acceptable negative', 'acceptable positive', 'bad', 'violent',\n",
              "       'very violent', 'good', 'excellent'], dtype=object)"
            ]
          },
          "metadata": {
            "tags": []
          },
          "execution_count": 44
        }
      ]
    },
    {
      "cell_type": "code",
      "metadata": {
        "id": "OddJ-IHFS4pQ"
      },
      "source": [
        "# map the ratings to code where 0 'very violent' until 6 'excellent'\n",
        "data_sentences['ratings_code']=data_sentences['ratings'].map({'very violent':0,'violent':0,'bad':0,'acceptable negative':1,'acceptable positive':1,'good':1,'excellent':1})"
      ],
      "execution_count": null,
      "outputs": []
    },
    {
      "cell_type": "code",
      "metadata": {
        "colab": {
          "base_uri": "https://localhost:8080/",
          "height": 204
        },
        "id": "ezrzHmjSS4pQ",
        "outputId": "811f1ce4-fde9-4e4c-df62-7575a5ab93c9"
      },
      "source": [
        "data_sentences.head()"
      ],
      "execution_count": null,
      "outputs": [
        {
          "output_type": "execute_result",
          "data": {
            "text/html": [
              "<div>\n",
              "<style scoped>\n",
              "    .dataframe tbody tr th:only-of-type {\n",
              "        vertical-align: middle;\n",
              "    }\n",
              "\n",
              "    .dataframe tbody tr th {\n",
              "        vertical-align: top;\n",
              "    }\n",
              "\n",
              "    .dataframe thead th {\n",
              "        text-align: right;\n",
              "    }\n",
              "</style>\n",
              "<table border=\"1\" class=\"dataframe\">\n",
              "  <thead>\n",
              "    <tr style=\"text-align: right;\">\n",
              "      <th></th>\n",
              "      <th>words_en</th>\n",
              "      <th>words_Fr</th>\n",
              "      <th>ratings</th>\n",
              "      <th>ratings_code</th>\n",
              "    </tr>\n",
              "  </thead>\n",
              "  <tbody>\n",
              "    <tr>\n",
              "      <th>0</th>\n",
              "      <td>I am being abused.</td>\n",
              "      <td>Je suis maltraité.</td>\n",
              "      <td>acceptable negative</td>\n",
              "      <td>1</td>\n",
              "    </tr>\n",
              "    <tr>\n",
              "      <th>1</th>\n",
              "      <td>I am unwanted.</td>\n",
              "      <td>Je suis indésirable.</td>\n",
              "      <td>acceptable negative</td>\n",
              "      <td>1</td>\n",
              "    </tr>\n",
              "    <tr>\n",
              "      <th>2</th>\n",
              "      <td>I don't feel heard</td>\n",
              "      <td>Je ne me sens pas entendu</td>\n",
              "      <td>acceptable negative</td>\n",
              "      <td>1</td>\n",
              "    </tr>\n",
              "    <tr>\n",
              "      <th>3</th>\n",
              "      <td>I don't feel supported</td>\n",
              "      <td>Je ne me sens pas soutenue</td>\n",
              "      <td>acceptable negative</td>\n",
              "      <td>1</td>\n",
              "    </tr>\n",
              "    <tr>\n",
              "      <th>4</th>\n",
              "      <td>I don't like you</td>\n",
              "      <td>Je ne t'aime pas</td>\n",
              "      <td>acceptable negative</td>\n",
              "      <td>1</td>\n",
              "    </tr>\n",
              "  </tbody>\n",
              "</table>\n",
              "</div>"
            ],
            "text/plain": [
              "                 words_en  ... ratings_code\n",
              "0      I am being abused.  ...            1\n",
              "1          I am unwanted.  ...            1\n",
              "2      I don't feel heard  ...            1\n",
              "3  I don't feel supported  ...            1\n",
              "4       I don't like you   ...            1\n",
              "\n",
              "[5 rows x 4 columns]"
            ]
          },
          "metadata": {
            "tags": []
          },
          "execution_count": 46
        }
      ]
    },
    {
      "cell_type": "code",
      "metadata": {
        "colab": {
          "base_uri": "https://localhost:8080/"
        },
        "id": "3oALPHfzS4pR",
        "outputId": "d2058919-c9f2-4834-a93b-411b65e92c22"
      },
      "source": [
        "# show data frame information to check the column data types\n",
        "data_sentences.info()"
      ],
      "execution_count": null,
      "outputs": [
        {
          "output_type": "stream",
          "text": [
            "<class 'pandas.core.frame.DataFrame'>\n",
            "RangeIndex: 7482 entries, 0 to 7481\n",
            "Data columns (total 4 columns):\n",
            " #   Column        Non-Null Count  Dtype \n",
            "---  ------        --------------  ----- \n",
            " 0   words_en      7482 non-null   object\n",
            " 1   words_Fr      7482 non-null   object\n",
            " 2   ratings       7482 non-null   object\n",
            " 3   ratings_code  7482 non-null   int64 \n",
            "dtypes: int64(1), object(3)\n",
            "memory usage: 233.9+ KB\n"
          ],
          "name": "stdout"
        }
      ]
    },
    {
      "cell_type": "code",
      "metadata": {
        "colab": {
          "base_uri": "https://localhost:8080/"
        },
        "id": "pZPsU87-S4pR",
        "outputId": "9aeb3837-00d8-44b9-e347-599b9e2a25fc"
      },
      "source": [
        "# count the ocurance of each rating\n",
        "data_sentences['ratings_code'].value_counts()"
      ],
      "execution_count": null,
      "outputs": [
        {
          "output_type": "execute_result",
          "data": {
            "text/plain": [
              "1    4056\n",
              "0    3426\n",
              "Name: ratings_code, dtype: int64"
            ]
          },
          "metadata": {
            "tags": []
          },
          "execution_count": 48
        }
      ]
    },
    {
      "cell_type": "code",
      "metadata": {
        "colab": {
          "base_uri": "https://localhost:8080/",
          "height": 280
        },
        "id": "brlIjpLIS4pR",
        "outputId": "e67e7bde-4a9e-4f6e-ff48-dc46e6d25318"
      },
      "source": [
        "# this step to visualize the occurance of each we can skip\n",
        "import matplotlib.pyplot as plt\n",
        "Sentiment_count=data_sentences.groupby('ratings_code').count()\n",
        "plt.bar(Sentiment_count.index.values, Sentiment_count['words_en'])\n",
        "plt.xlabel('word_en')\n",
        "plt.ylabel('Number ratings')\n",
        "plt.show()"
      ],
      "execution_count": null,
      "outputs": [
        {
          "output_type": "display_data",
          "data": {
            "image/png": "[encoded data removed]",
            "text/plain": [
              "<Figure size 432x288 with 1 Axes>"
            ]
          },
          "metadata": {
            "tags": [],
            "needs_background": "light"
          }
        }
      ]
    },
    {
      "cell_type": "code",
      "metadata": {
        "id": "tuQNiHxkS4pS"
      },
      "source": [
        "from sklearn.svm import LinearSVC\n",
        "from sklearn.metrics import accuracy_score\n",
        "from sklearn.feature_extraction.text import TfidfVectorizer\n",
        "\n",
        "\n",
        "# Transform each text into a vector of word counts\n",
        "vectorizer = TfidfVectorizer(stop_words=\"english\",\n",
        "                             preprocessor=clean_text,\n",
        "                             ngram_range=(1, 2))\n",
        "# X is the vectorized sentinces from Words_en column\n",
        "X = vectorizer.fit_transform(data_sentences['words_en']) \n",
        "# Y is the data in Ratings code column , no need to vectorize as values already mapped to 0 and 1 not a string   \n",
        "Y = data_sentences['ratings_code'].values"
      ],
      "execution_count": null,
      "outputs": []
    },
    {
      "cell_type": "code",
      "metadata": {
        "colab": {
          "base_uri": "https://localhost:8080/"
        },
        "id": "hw2glfx2qAK7",
        "outputId": "15dd114f-9e31-41c1-9d13-0aa87feb45c4"
      },
      "source": [
        "# define the training and test sets, 0.2 means test data is %20 of the trained data will stored in the X_test\n",
        "X_train, X_test, Y_train, Y_test = train_test_split(X, Y, test_size = 0.2, stratify=Y, random_state=2) \n",
        "\n",
        "# adding training and testing set defining the LinearSVC instance firest to fit the training set in\n",
        "model = LinearSVC()\n",
        "# fit x and y training set in the model\n",
        "model.fit(X_train, Y_train)"
      ],
      "execution_count": null,
      "outputs": [
        {
          "output_type": "execute_result",
          "data": {
            "text/plain": [
              "LinearSVC(C=1.0, class_weight=None, dual=True, fit_intercept=True,\n",
              "          intercept_scaling=1, loss='squared_hinge', max_iter=1000,\n",
              "          multi_class='ovr', penalty='l2', random_state=None, tol=0.0001,\n",
              "          verbose=0)"
            ]
          },
          "metadata": {
            "tags": []
          },
          "execution_count": 51
        }
      ]
    },
    {
      "cell_type": "code",
      "metadata": {
        "colab": {
          "base_uri": "https://localhost:8080/"
        },
        "id": "RHY08L57sE7I",
        "outputId": "2e7672ce-6289-4e3c-9516-11f4d66194f7"
      },
      "source": [
        "#Accuracy score of the training set\n",
        "X_train_prediction=model.predict(X_train)\n",
        "training_data_accuracy=accuracy_score(X_train_prediction, Y_train)\n",
        "print(' Accuracy score of the training:',training_data_accuracy )"
      ],
      "execution_count": null,
      "outputs": [
        {
          "output_type": "stream",
          "text": [
            " Accuracy score of the training: 0.9836257309941521\n"
          ],
          "name": "stdout"
        }
      ]
    },
    {
      "cell_type": "code",
      "metadata": {
        "colab": {
          "base_uri": "https://localhost:8080/"
        },
        "id": "rhLTxEmpsK1x",
        "outputId": "f692214e-7bd5-48a4-faa1-39a8f8a28c40"
      },
      "source": [
        "#Accuracy score of the test set\n",
        "X_test_prediction=model.predict(X_test)\n",
        "test_data_accuracy=accuracy_score(X_test_prediction, Y_test)\n",
        "print(' Accuracy score of the test:',test_data_accuracy )"
      ],
      "execution_count": null,
      "outputs": [
        {
          "output_type": "stream",
          "text": [
            " Accuracy score of the test: 0.8637274549098196\n"
          ],
          "name": "stdout"
        }
      ]
    },
    {
      "cell_type": "code",
      "metadata": {
        "colab": {
          "base_uri": "https://localhost:8080/"
        },
        "id": "01WJqx_VS4pU",
        "outputId": "7730eda7-e093-49bf-d59b-319a5600ec7c"
      },
      "source": [
        "#input the data\n",
        "X_new = [input('please input your text to test : ')]\n",
        "# save the input data in a new data frame\n",
        "X_new_data=pd.DataFrame({0:X_new})\n",
        "print(X_new_data)\n",
        "# stemming the input data\n",
        "#vectorize the inputs\n",
        "X_new_in = vectorizer.transform(X_new_data[0])  \n",
        "#predict the vectorized inputs\n",
        "prediction=model.predict(X_new_in)\n",
        "print(prediction)\n",
        "\n",
        "#'very violent':0,'violent':1,'bad':2,'acceptable negative':3,'acceptable positive':4,'good':5,'excellent':6\n",
        "if (prediction[0]==0):\n",
        "    print('violent')\n",
        "elif (prediction[0]==1):\n",
        "    print('good')\n",
        "else:\n",
        "    print('unable to predict')"
      ],
      "execution_count": null,
      "outputs": [
        {
          "output_type": "stream",
          "text": [
            "please input your text to test : this is to bad\n",
            "                0\n",
            "0  this is to bad\n",
            "[0]\n",
            "violent\n"
          ],
          "name": "stdout"
        }
      ]
    },
    {
      "cell_type": "code",
      "metadata": {
        "id": "gJZfwktauwfQ"
      },
      "source": [
        ""
      ],
      "execution_count": null,
      "outputs": []
    }
  ]
}