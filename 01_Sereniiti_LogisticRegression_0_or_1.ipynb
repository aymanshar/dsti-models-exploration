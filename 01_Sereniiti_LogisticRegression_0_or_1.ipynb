{
  "nbformat": 4,
  "nbformat_minor": 0,
  "metadata": {
    "kernelspec": {
      "display_name": "Python 3",
      "language": "python",
      "name": "python3"
    },
    "language_info": {
      "codemirror_mode": {
        "name": "ipython",
        "version": 3
      },
      "file_extension": ".py",
      "mimetype": "text/x-python",
      "name": "python",
      "nbconvert_exporter": "python",
      "pygments_lexer": "ipython3",
      "version": "3.7.4"
    },
    "colab": {
      "name": "01_Sereniiti_LogisticRegression_0_or_1.ipynb",
      "provenance": [],
      "collapsed_sections": [],
      "include_colab_link": true
    }
  },
  "cells": [
    {
      "cell_type": "markdown",
      "metadata": {
        "id": "view-in-github",
        "colab_type": "text"
      },
      "source": [
        "<a href=\"https://colab.research.google.com/github/Sereniiti/models-exploration/blob/develop/Ayman/01_Sereniiti_LogisticRegression_0_or_1.ipynb\" target=\"_parent\"><img src=\"https://colab.research.google.com/assets/colab-badge.svg\" alt=\"Open In Colab\"/></a>"
      ]
    },
    {
      "cell_type": "code",
      "metadata": {
        "id": "DXUPmHXa783d"
      },
      "source": [
        "import numpy as np\n",
        "import pandas as pd # for data frame\n",
        "import re # regular expression library for searching words in a text or paragraph\n",
        "from nltk.stem.porter import PorterStemmer # stemming function takes the word and remove prefex and suffix of that word and returns the root word\n",
        "from sklearn.feature_extraction.text import TfidfVectorizer #to convert the words to feature  vectors\n",
        "from sklearn.model_selection import train_test_split # to split our dtata set into training data and test data\n",
        "from sklearn.linear_model import LogisticRegression # \n",
        "from sklearn.metrics import accuracy_score #\n"
      ],
      "execution_count": 1,
      "outputs": []
    },
    {
      "cell_type": "code",
      "metadata": {
        "id": "wyOqnA_OJh2R"
      },
      "source": [
        "# Code to read csv file into Colaboratory:\n",
        "!pip install -U -q PyDrive\n",
        "from pydrive.auth import GoogleAuth\n",
        "from pydrive.drive import GoogleDrive\n",
        "from google.colab import auth\n",
        "from oauth2client.client import GoogleCredentials\n",
        "# Authenticate and create the PyDrive client.\n",
        "auth.authenticate_user()\n",
        "gauth = GoogleAuth()\n",
        "gauth.credentials = GoogleCredentials.get_application_default()\n",
        "drive = GoogleDrive(gauth)"
      ],
      "execution_count": 2,
      "outputs": []
    },
    {
      "cell_type": "code",
      "metadata": {
        "id": "LVibt3wiLJOc"
      },
      "source": [
        "data_sentences = pd.read_csv('/content/drive/MyDrive/Colab Notebooks/Data_sentences.csv')\n",
        "# Dataset is now stored in a Pandas Dataframe"
      ],
      "execution_count": 4,
      "outputs": []
    },
    {
      "cell_type": "code",
      "metadata": {
        "colab": {
          "base_uri": "https://localhost:8080/"
        },
        "id": "pao9WrLrSV5j",
        "outputId": "37a443e0-8b4d-4ce4-e394-c0b8bf77ac12"
      },
      "source": [
        "from google.colab import drive\n",
        "drive.mount('/content/drive')"
      ],
      "execution_count": 3,
      "outputs": [
        {
          "output_type": "stream",
          "text": [
            "Mounted at /content/drive\n"
          ],
          "name": "stdout"
        }
      ]
    },
    {
      "cell_type": "code",
      "metadata": {
        "colab": {
          "base_uri": "https://localhost:8080/",
          "height": 206
        },
        "id": "ak0IVUz7783g",
        "outputId": "72250dcb-9b7b-4ba4-ec22-3e8199bea020"
      },
      "source": [
        "# show first 5 records\n",
        "data_sentences.head(5)"
      ],
      "execution_count": 5,
      "outputs": [
        {
          "output_type": "execute_result",
          "data": {
            "text/html": [
              "<div>\n",
              "<style scoped>\n",
              "    .dataframe tbody tr th:only-of-type {\n",
              "        vertical-align: middle;\n",
              "    }\n",
              "\n",
              "    .dataframe tbody tr th {\n",
              "        vertical-align: top;\n",
              "    }\n",
              "\n",
              "    .dataframe thead th {\n",
              "        text-align: right;\n",
              "    }\n",
              "</style>\n",
              "<table border=\"1\" class=\"dataframe\">\n",
              "  <thead>\n",
              "    <tr style=\"text-align: right;\">\n",
              "      <th></th>\n",
              "      <th>words_en</th>\n",
              "      <th>words_Fr</th>\n",
              "      <th>ratings</th>\n",
              "    </tr>\n",
              "  </thead>\n",
              "  <tbody>\n",
              "    <tr>\n",
              "      <th>0</th>\n",
              "      <td>I am being abused.</td>\n",
              "      <td>Je suis maltraité.</td>\n",
              "      <td>acceptable negative</td>\n",
              "    </tr>\n",
              "    <tr>\n",
              "      <th>1</th>\n",
              "      <td>I am unwanted.</td>\n",
              "      <td>Je suis indésirable.</td>\n",
              "      <td>acceptable negative</td>\n",
              "    </tr>\n",
              "    <tr>\n",
              "      <th>2</th>\n",
              "      <td>I don't feel heard</td>\n",
              "      <td>Je ne me sens pas entendu</td>\n",
              "      <td>acceptable negative</td>\n",
              "    </tr>\n",
              "    <tr>\n",
              "      <th>3</th>\n",
              "      <td>I don't feel supported</td>\n",
              "      <td>Je ne me sens pas soutenue</td>\n",
              "      <td>acceptable negative</td>\n",
              "    </tr>\n",
              "    <tr>\n",
              "      <th>4</th>\n",
              "      <td>I don't like you</td>\n",
              "      <td>Je ne t'aime pas</td>\n",
              "      <td>acceptable negative</td>\n",
              "    </tr>\n",
              "  </tbody>\n",
              "</table>\n",
              "</div>"
            ],
            "text/plain": [
              "                 words_en                    words_Fr              ratings\n",
              "0      I am being abused.          Je suis maltraité.  acceptable negative\n",
              "1          I am unwanted.        Je suis indésirable.  acceptable negative\n",
              "2      I don't feel heard   Je ne me sens pas entendu  acceptable negative\n",
              "3  I don't feel supported  Je ne me sens pas soutenue  acceptable negative\n",
              "4       I don't like you             Je ne t'aime pas  acceptable negative"
            ]
          },
          "metadata": {
            "tags": []
          },
          "execution_count": 5
        }
      ]
    },
    {
      "cell_type": "code",
      "metadata": {
        "colab": {
          "base_uri": "https://localhost:8080/"
        },
        "id": "6AYxEEe9783h",
        "outputId": "fc3f92e8-a44a-47e6-f30a-be301872d99f"
      },
      "source": [
        "data_sentences.shape"
      ],
      "execution_count": 6,
      "outputs": [
        {
          "output_type": "execute_result",
          "data": {
            "text/plain": [
              "(7482, 3)"
            ]
          },
          "metadata": {
            "tags": []
          },
          "execution_count": 6
        }
      ]
    },
    {
      "cell_type": "code",
      "metadata": {
        "id": "KlZM9xpY783h",
        "colab": {
          "base_uri": "https://localhost:8080/",
          "height": 206
        },
        "outputId": "32383974-334f-4e61-c6f1-698613ebf4f9"
      },
      "source": [
        "data_sentences.tail(5)"
      ],
      "execution_count": 7,
      "outputs": [
        {
          "output_type": "execute_result",
          "data": {
            "text/html": [
              "<div>\n",
              "<style scoped>\n",
              "    .dataframe tbody tr th:only-of-type {\n",
              "        vertical-align: middle;\n",
              "    }\n",
              "\n",
              "    .dataframe tbody tr th {\n",
              "        vertical-align: top;\n",
              "    }\n",
              "\n",
              "    .dataframe thead th {\n",
              "        text-align: right;\n",
              "    }\n",
              "</style>\n",
              "<table border=\"1\" class=\"dataframe\">\n",
              "  <thead>\n",
              "    <tr style=\"text-align: right;\">\n",
              "      <th></th>\n",
              "      <th>words_en</th>\n",
              "      <th>words_Fr</th>\n",
              "      <th>ratings</th>\n",
              "    </tr>\n",
              "  </thead>\n",
              "  <tbody>\n",
              "    <tr>\n",
              "      <th>7477</th>\n",
              "      <td>Thank you for walking through this life with m...</td>\n",
              "      <td>Merci d'avoir traversé cette vie avec moi. Je ...</td>\n",
              "      <td>good</td>\n",
              "    </tr>\n",
              "    <tr>\n",
              "      <th>7478</th>\n",
              "      <td>Thank you.</td>\n",
              "      <td>Merci.</td>\n",
              "      <td>good</td>\n",
              "    </tr>\n",
              "    <tr>\n",
              "      <th>7479</th>\n",
              "      <td>Thanks for your help.</td>\n",
              "      <td>Merci pour votre aide.</td>\n",
              "      <td>good</td>\n",
              "    </tr>\n",
              "    <tr>\n",
              "      <th>7480</th>\n",
              "      <td>That is hardly important</td>\n",
              "      <td>Ce n'est pas important.</td>\n",
              "      <td>bad</td>\n",
              "    </tr>\n",
              "    <tr>\n",
              "      <th>7481</th>\n",
              "      <td>You are delusional, absolutely nothing like th...</td>\n",
              "      <td>Tu délire, absoluement rien de tout cela n'est...</td>\n",
              "      <td>violent</td>\n",
              "    </tr>\n",
              "  </tbody>\n",
              "</table>\n",
              "</div>"
            ],
            "text/plain": [
              "                                               words_en  ...  ratings\n",
              "7477  Thank you for walking through this life with m...  ...     good\n",
              "7478                                         Thank you.  ...     good\n",
              "7479                              Thanks for your help.  ...     good\n",
              "7480                           That is hardly important  ...      bad\n",
              "7481  You are delusional, absolutely nothing like th...  ...  violent\n",
              "\n",
              "[5 rows x 3 columns]"
            ]
          },
          "metadata": {
            "tags": []
          },
          "execution_count": 7
        }
      ]
    },
    {
      "cell_type": "code",
      "metadata": {
        "id": "RF-ygeWp783h",
        "colab": {
          "base_uri": "https://localhost:8080/"
        },
        "outputId": "82405eed-f897-414a-bf15-b183f9eab5ab"
      },
      "source": [
        "#check missing values\n",
        "data_sentences.isnull().sum()"
      ],
      "execution_count": 8,
      "outputs": [
        {
          "output_type": "execute_result",
          "data": {
            "text/plain": [
              "words_en    0\n",
              "words_Fr    0\n",
              "ratings     0\n",
              "dtype: int64"
            ]
          },
          "metadata": {
            "tags": []
          },
          "execution_count": 8
        }
      ]
    },
    {
      "cell_type": "code",
      "metadata": {
        "id": "YfFa-eIR783i",
        "colab": {
          "base_uri": "https://localhost:8080/"
        },
        "outputId": "96972329-4143-488c-beef-a72f4a8d61a5"
      },
      "source": [
        "#check the unique records\n",
        "data_sentences['ratings'].unique()"
      ],
      "execution_count": 9,
      "outputs": [
        {
          "output_type": "execute_result",
          "data": {
            "text/plain": [
              "array(['acceptable negative', 'acceptable positive', 'bad', 'violent',\n",
              "       'very violent', 'good', 'excellent'], dtype=object)"
            ]
          },
          "metadata": {
            "tags": []
          },
          "execution_count": 9
        }
      ]
    },
    {
      "cell_type": "code",
      "metadata": {
        "id": "BCokana-783i"
      },
      "source": [
        "# map the ratings to code where 0 'very violent' until 6 'excellent'\n",
        "data_sentences['ratings_code']=data_sentences['ratings'].map({'very violent':0,'violent':0,'bad':0,'acceptable negative':1,'acceptable positive':1,'good':1,'excellent':1})"
      ],
      "execution_count": 11,
      "outputs": []
    },
    {
      "cell_type": "code",
      "metadata": {
        "id": "fiqRoUFc783i",
        "colab": {
          "base_uri": "https://localhost:8080/",
          "height": 206
        },
        "outputId": "4f356609-d926-4562-a5e7-ae12377c8532"
      },
      "source": [
        "data_sentences.head()"
      ],
      "execution_count": 12,
      "outputs": [
        {
          "output_type": "execute_result",
          "data": {
            "text/html": [
              "<div>\n",
              "<style scoped>\n",
              "    .dataframe tbody tr th:only-of-type {\n",
              "        vertical-align: middle;\n",
              "    }\n",
              "\n",
              "    .dataframe tbody tr th {\n",
              "        vertical-align: top;\n",
              "    }\n",
              "\n",
              "    .dataframe thead th {\n",
              "        text-align: right;\n",
              "    }\n",
              "</style>\n",
              "<table border=\"1\" class=\"dataframe\">\n",
              "  <thead>\n",
              "    <tr style=\"text-align: right;\">\n",
              "      <th></th>\n",
              "      <th>words_en</th>\n",
              "      <th>words_Fr</th>\n",
              "      <th>ratings</th>\n",
              "      <th>ratings_code</th>\n",
              "    </tr>\n",
              "  </thead>\n",
              "  <tbody>\n",
              "    <tr>\n",
              "      <th>0</th>\n",
              "      <td>I am being abused.</td>\n",
              "      <td>Je suis maltraité.</td>\n",
              "      <td>acceptable negative</td>\n",
              "      <td>1</td>\n",
              "    </tr>\n",
              "    <tr>\n",
              "      <th>1</th>\n",
              "      <td>I am unwanted.</td>\n",
              "      <td>Je suis indésirable.</td>\n",
              "      <td>acceptable negative</td>\n",
              "      <td>1</td>\n",
              "    </tr>\n",
              "    <tr>\n",
              "      <th>2</th>\n",
              "      <td>I don't feel heard</td>\n",
              "      <td>Je ne me sens pas entendu</td>\n",
              "      <td>acceptable negative</td>\n",
              "      <td>1</td>\n",
              "    </tr>\n",
              "    <tr>\n",
              "      <th>3</th>\n",
              "      <td>I don't feel supported</td>\n",
              "      <td>Je ne me sens pas soutenue</td>\n",
              "      <td>acceptable negative</td>\n",
              "      <td>1</td>\n",
              "    </tr>\n",
              "    <tr>\n",
              "      <th>4</th>\n",
              "      <td>I don't like you</td>\n",
              "      <td>Je ne t'aime pas</td>\n",
              "      <td>acceptable negative</td>\n",
              "      <td>1</td>\n",
              "    </tr>\n",
              "  </tbody>\n",
              "</table>\n",
              "</div>"
            ],
            "text/plain": [
              "                 words_en  ... ratings_code\n",
              "0      I am being abused.  ...            1\n",
              "1          I am unwanted.  ...            1\n",
              "2      I don't feel heard  ...            1\n",
              "3  I don't feel supported  ...            1\n",
              "4       I don't like you   ...            1\n",
              "\n",
              "[5 rows x 4 columns]"
            ]
          },
          "metadata": {
            "tags": []
          },
          "execution_count": 12
        }
      ]
    },
    {
      "cell_type": "code",
      "metadata": {
        "id": "wKITWGRo783i"
      },
      "source": [
        "# separating rating storing Scentinces in Y and rating in X\n",
        "X=data_sentences['words_en']\n",
        "Y=data_sentences['ratings_code']"
      ],
      "execution_count": 13,
      "outputs": []
    },
    {
      "cell_type": "code",
      "metadata": {
        "id": "QRF9xeTq783j",
        "colab": {
          "base_uri": "https://localhost:8080/"
        },
        "outputId": "fdeba366-d786-45d5-f9b6-715da2e4b01a"
      },
      "source": [
        "Y.unique()"
      ],
      "execution_count": 14,
      "outputs": [
        {
          "output_type": "execute_result",
          "data": {
            "text/plain": [
              "array([1, 0])"
            ]
          },
          "metadata": {
            "tags": []
          },
          "execution_count": 14
        }
      ]
    },
    {
      "cell_type": "code",
      "metadata": {
        "id": "jMZwL2Cs783j"
      },
      "source": [
        "# stemming is the process of reducing a word to Root word\n",
        "port_stem = PorterStemmer()"
      ],
      "execution_count": 15,
      "outputs": []
    },
    {
      "cell_type": "code",
      "metadata": {
        "id": "Q5mUrDbo783j"
      },
      "source": [
        "# create stemming function with input variable \n",
        "def stemming(content):\n",
        "    stemmed_content=re.sub('[^a-zA-Z]',' ',content) # calling reguler expression searching for only using^ (from a to z and from A to Z) execluding others like numbers, especial characters\n",
        "    stemmed_content=stemmed_content.lower() # convert all to lower case\n",
        "    stemmed_content=stemmed_content.split() # split and convert to a list\n",
        "#    stemmed_content=[port_stem.stem(word) for word in stemmed_content if not word in stopwords.words('english')] # taking each word removing the stop words using the for loop\n",
        "    stemmed_content=' '.join(stemmed_content) # joining all the words after stemming\n",
        "    return stemmed_content # return the result"
      ],
      "execution_count": 16,
      "outputs": []
    },
    {
      "cell_type": "code",
      "metadata": {
        "id": "gc0IVqcy783j"
      },
      "source": [
        "data_sentences['words_stemmed']=data_sentences['words_en'].apply(stemming)"
      ],
      "execution_count": 17,
      "outputs": []
    },
    {
      "cell_type": "code",
      "metadata": {
        "id": "HbEdsoNx783j"
      },
      "source": [
        "X = data_sentences['words_stemmed'].values\n",
        "Y = data_sentences['ratings_code'].values"
      ],
      "execution_count": 18,
      "outputs": []
    },
    {
      "cell_type": "code",
      "metadata": {
        "id": "b6A4aB4H783j"
      },
      "source": [
        "# convert the textual data to numerical data vectors\n",
        "vectorizer = TfidfVectorizer() # Tf for term frequency and idf transfer inverse document frequency , basicaly counts the number of times a particular word is repeating and assign a numerical value  \n",
        "vectorizer.fit(X)\n",
        "X = vectorizer.transform(X)"
      ],
      "execution_count": 19,
      "outputs": []
    },
    {
      "cell_type": "code",
      "metadata": {
        "id": "jUP5KEW9783k",
        "colab": {
          "base_uri": "https://localhost:8080/"
        },
        "outputId": "d2dc4b55-31fd-4133-9e69-1d84c61f52c1"
      },
      "source": [
        "X.shape"
      ],
      "execution_count": null,
      "outputs": [
        {
          "output_type": "execute_result",
          "data": {
            "text/plain": [
              "(7482, 5026)"
            ]
          },
          "metadata": {
            "tags": []
          },
          "execution_count": 99
        }
      ]
    },
    {
      "cell_type": "code",
      "metadata": {
        "id": "cWY-htSZ783k",
        "colab": {
          "base_uri": "https://localhost:8080/"
        },
        "outputId": "14da89b1-116a-481a-fde5-80de17296fe7"
      },
      "source": [
        "Y.shape"
      ],
      "execution_count": null,
      "outputs": [
        {
          "output_type": "execute_result",
          "data": {
            "text/plain": [
              "(7482,)"
            ]
          },
          "metadata": {
            "tags": []
          },
          "execution_count": 100
        }
      ]
    },
    {
      "cell_type": "code",
      "metadata": {
        "id": "jTHo0vcZ783k"
      },
      "source": [
        "#splitting the dataset to training & test data\n",
        "X_train, X_test, Y_train, Y_test = train_test_split(X, Y, test_size = 0.2, stratify=Y, random_state=2) # 0.2 means test data is %20 of the trained data will stored in the X_test"
      ],
      "execution_count": 20,
      "outputs": []
    },
    {
      "cell_type": "code",
      "metadata": {
        "id": "v4g5qh9_783k",
        "colab": {
          "base_uri": "https://localhost:8080/"
        },
        "outputId": "67fe9f5e-44bd-4817-f858-60b79c6bd05a"
      },
      "source": [
        "X_train.shape"
      ],
      "execution_count": null,
      "outputs": [
        {
          "output_type": "execute_result",
          "data": {
            "text/plain": [
              "(5985, 5026)"
            ]
          },
          "metadata": {
            "tags": []
          },
          "execution_count": 102
        }
      ]
    },
    {
      "cell_type": "code",
      "metadata": {
        "id": "mtvXpWMZ783k",
        "colab": {
          "base_uri": "https://localhost:8080/"
        },
        "outputId": "456e099d-d5a6-48af-893e-41dc47ceba9c"
      },
      "source": [
        "Y_train.shape"
      ],
      "execution_count": null,
      "outputs": [
        {
          "output_type": "execute_result",
          "data": {
            "text/plain": [
              "(5985,)"
            ]
          },
          "metadata": {
            "tags": []
          },
          "execution_count": 103
        }
      ]
    },
    {
      "cell_type": "code",
      "metadata": {
        "id": "oQ2c2GtV783k",
        "colab": {
          "base_uri": "https://localhost:8080/"
        },
        "outputId": "16f60a08-441d-4e99-a7e1-04fda559c59c"
      },
      "source": [
        "X_test.shape"
      ],
      "execution_count": null,
      "outputs": [
        {
          "output_type": "execute_result",
          "data": {
            "text/plain": [
              "(1497, 5026)"
            ]
          },
          "metadata": {
            "tags": []
          },
          "execution_count": 104
        }
      ]
    },
    {
      "cell_type": "code",
      "metadata": {
        "id": "n2inhPV6783l"
      },
      "source": [
        "model=LogisticRegression()"
      ],
      "execution_count": 21,
      "outputs": []
    },
    {
      "cell_type": "code",
      "metadata": {
        "id": "ZdwikzgR783l",
        "colab": {
          "base_uri": "https://localhost:8080/"
        },
        "outputId": "18fa93b1-ddce-4cd7-8bb8-a139437ea7fc"
      },
      "source": [
        "model.fit(X_train, Y_train)"
      ],
      "execution_count": 22,
      "outputs": [
        {
          "output_type": "execute_result",
          "data": {
            "text/plain": [
              "LogisticRegression(C=1.0, class_weight=None, dual=False, fit_intercept=True,\n",
              "                   intercept_scaling=1, l1_ratio=None, max_iter=100,\n",
              "                   multi_class='auto', n_jobs=None, penalty='l2',\n",
              "                   random_state=None, solver='lbfgs', tol=0.0001, verbose=0,\n",
              "                   warm_start=False)"
            ]
          },
          "metadata": {
            "tags": []
          },
          "execution_count": 22
        }
      ]
    },
    {
      "cell_type": "code",
      "metadata": {
        "id": "LhgcyX0z783l"
      },
      "source": [
        "X_train_prediction=model.predict(X_train)\n",
        "training_data_accuracy=accuracy_score(X_train_prediction, Y_train)"
      ],
      "execution_count": 23,
      "outputs": []
    },
    {
      "cell_type": "code",
      "metadata": {
        "id": "qWbOl0A4783l",
        "colab": {
          "base_uri": "https://localhost:8080/"
        },
        "outputId": "8d3affcd-a4a3-4478-a3ea-f764bc60c30a"
      },
      "source": [
        "print(' Accuracy score of the training:',training_data_accuracy )"
      ],
      "execution_count": 24,
      "outputs": [
        {
          "output_type": "stream",
          "text": [
            " Accuracy score of the training: 0.9191311612364244\n"
          ],
          "name": "stdout"
        }
      ]
    },
    {
      "cell_type": "code",
      "metadata": {
        "id": "qLd1fziW783l"
      },
      "source": [
        "X_test_prediction=model.predict(X_test)\n",
        "test_data_accuracy=accuracy_score(X_test_prediction, Y_test)"
      ],
      "execution_count": 25,
      "outputs": []
    },
    {
      "cell_type": "code",
      "metadata": {
        "id": "uq7Y2Qvi783l",
        "colab": {
          "base_uri": "https://localhost:8080/"
        },
        "outputId": "f01e2da0-f1c9-471d-b02c-29625123a69a"
      },
      "source": [
        "print(' Accuracy score of the test:',test_data_accuracy )"
      ],
      "execution_count": 26,
      "outputs": [
        {
          "output_type": "stream",
          "text": [
            " Accuracy score of the test: 0.8851035404141616\n"
          ],
          "name": "stdout"
        }
      ]
    },
    {
      "cell_type": "code",
      "metadata": {
        "id": "X20OOnvU783m",
        "colab": {
          "base_uri": "https://localhost:8080/"
        },
        "outputId": "ed28148a-5f10-49cb-c6cd-9ebbd921051d"
      },
      "source": [
        "# test any record in the test set\n",
        "X_new = X_test[5]\n",
        "prediction=model.predict(X_new)\n",
        "print(prediction)"
      ],
      "execution_count": 27,
      "outputs": [
        {
          "output_type": "stream",
          "text": [
            "[1]\n"
          ],
          "name": "stdout"
        }
      ]
    },
    {
      "cell_type": "code",
      "metadata": {
        "colab": {
          "base_uri": "https://localhost:8080/"
        },
        "id": "E2mi8HiJODAJ",
        "outputId": "9ba6e958-c8c6-410f-c722-3b3513e98a53"
      },
      "source": [
        "\n",
        "X_new = [input('please input your text to test : ')]\n",
        "X_new_data=pd.DataFrame({0:X_new},index={0})\n",
        "X_new_stemming=X_new_data[0].apply(stemming)\n",
        "X_new_in = vectorizer.transform(X_new_stemming)\n",
        "prediction=model.predict(X_new_in)\n",
        "print(prediction)\n",
        "\n",
        "#'very violent':0,'violent':1,'bad':2,'acceptable negative':3,'acceptable positive':4,'good':5,'excellent':6\n",
        "if (prediction[0]==0):\n",
        "    print('bad')\n",
        "elif (prediction[0]==1):\n",
        "    print('good')\n",
        "else:\n",
        "    print('unable to predict')"
      ],
      "execution_count": 31,
      "outputs": [
        {
          "output_type": "stream",
          "text": [
            "please input your text to test : this is too bad\n",
            "[0]\n",
            "bad\n"
          ],
          "name": "stdout"
        }
      ]
    }
  ]
}