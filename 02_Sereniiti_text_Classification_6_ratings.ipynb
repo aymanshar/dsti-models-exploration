{
  "nbformat": 4,
  "nbformat_minor": 0,
  "metadata": {
    "kernelspec": {
      "display_name": "Python 3",
      "language": "python",
      "name": "python3"
    },
    "colab": {
      "name": "02_Sereniiti_text_Classification_6_ratings.ipynb",
      "provenance": [],
      "collapsed_sections": [],
      "toc_visible": true,
      "include_colab_link": true
    }
  },
  "cells": [
    {
      "cell_type": "markdown",
      "metadata": {
        "id": "view-in-github",
        "colab_type": "text"
      },
      "source": [
        "<a href=\"https://colab.research.google.com/github/Sereniiti/models-exploration/blob/develop/Ayman/02_Sereniiti_text_Classification_6_ratings.ipynb\" target=\"_parent\"><img src=\"https://colab.research.google.com/assets/colab-badge.svg\" alt=\"Open In Colab\"/></a>"
      ]
    },
    {
      "cell_type": "code",
      "metadata": {
        "id": "kb6Xgs3qS4pH"
      },
      "source": [
        "# import regular expression library for searching words in a text or paragraph\n",
        "import re\n",
        "\n",
        "# function to clean the given text lowring, removing special characters\n",
        "def clean_text(text):\n",
        "    \"\"\"\n",
        "    Applies some pre-processing on the given text.\n",
        "\n",
        "    Steps :\n",
        "    - Removing HTML tags\n",
        "    - Removing punctuation\n",
        "    - Lowering text\n",
        "    \"\"\"\n",
        "    \n",
        "    # remove HTML tags\n",
        "    text = re.sub(r'<.*?>', '', text)\n",
        "    \n",
        "    # remove the characters [\\], ['] and [\"] replacing by space \"\"\n",
        "    text = re.sub(r\"\\\\\", \"\", text)    \n",
        "    text = re.sub(r\"\\'\", \"\", text)    \n",
        "    text = re.sub(r\"\\\"\", \"\", text)    \n",
        "    \n",
        "    # convert text to lowercase\n",
        "    text = text.strip().lower()\n",
        "    \n",
        "    # replace punctuation characters with spaces\n",
        "    filters='!\"\\'#$%&()*+,-./:;<=>?@[\\\\]^_`{|}~\\t\\n'\n",
        "    translate_dict = dict((c, \" \") for c in filters)\n",
        "    translate_map = str.maketrans(translate_dict)\n",
        "    text = text.translate(translate_map)\n",
        "\n",
        "    return text"
      ],
      "execution_count": 1,
      "outputs": []
    },
    {
      "cell_type": "code",
      "metadata": {
        "id": "6p5L-l3I0tPn"
      },
      "source": [
        "from sklearn.feature_extraction.text import CountVectorizer"
      ],
      "execution_count": 2,
      "outputs": []
    },
    {
      "cell_type": "code",
      "metadata": {
        "id": "FQrfEqWjS4pM"
      },
      "source": [
        "import numpy as np\n",
        "import pandas as pd # for data frame\n",
        "import re # regular expression library for searching words in a text or paragraph\n",
        "from sklearn.feature_extraction.text import TfidfVectorizer #to convert the words to feature  vectors\n",
        "from sklearn.model_selection import train_test_split # to split our dtata set into training data and test data\n",
        "from sklearn.linear_model import LogisticRegression # \n",
        "from sklearn.metrics import accuracy_score #\n"
      ],
      "execution_count": 3,
      "outputs": []
    },
    {
      "cell_type": "code",
      "metadata": {
        "id": "NHPEBatLTArl"
      },
      "source": [
        "# Code to read csv file into Colaboratory:\n",
        "!pip install -U -q PyDrive\n",
        "from pydrive.auth import GoogleAuth\n",
        "from pydrive.drive import GoogleDrive\n",
        "from google.colab import auth\n",
        "from oauth2client.client import GoogleCredentials\n",
        "# Authenticate and create the PyDrive client.\n",
        "auth.authenticate_user()\n",
        "gauth = GoogleAuth()\n",
        "gauth.credentials = GoogleCredentials.get_application_default()\n",
        "drive = GoogleDrive(gauth)"
      ],
      "execution_count": 4,
      "outputs": []
    },
    {
      "cell_type": "code",
      "metadata": {
        "colab": {
          "base_uri": "https://localhost:8080/"
        },
        "id": "oeqaB-gwTRLW",
        "outputId": "422e6edb-3bc3-4df2-b624-29ba4c008a2a"
      },
      "source": [
        "from google.colab import drive\n",
        "drive.mount('/content/drive')"
      ],
      "execution_count": 6,
      "outputs": [
        {
          "output_type": "stream",
          "text": [
            "Drive already mounted at /content/drive; to attempt to forcibly remount, call drive.mount(\"/content/drive\", force_remount=True).\n"
          ],
          "name": "stdout"
        }
      ]
    },
    {
      "cell_type": "code",
      "metadata": {
        "id": "COyrOSk2S4pO"
      },
      "source": [
        "data_sentences = pd.read_csv('/content/drive/MyDrive/Colab Notebooks/Data_sentences.csv')\n",
        "# Dataset is now stored in a Pandas Dataframe"
      ],
      "execution_count": 7,
      "outputs": []
    },
    {
      "cell_type": "code",
      "metadata": {
        "colab": {
          "base_uri": "https://localhost:8080/",
          "height": 206
        },
        "id": "xO8pm6fqS4pO",
        "outputId": "16c81a5e-5b20-47e2-e1fd-98aad68e3759"
      },
      "source": [
        "# show first 5 records\n",
        "data_sentences.head(5)"
      ],
      "execution_count": 9,
      "outputs": [
        {
          "output_type": "execute_result",
          "data": {
            "text/html": [
              "<div>\n",
              "<style scoped>\n",
              "    .dataframe tbody tr th:only-of-type {\n",
              "        vertical-align: middle;\n",
              "    }\n",
              "\n",
              "    .dataframe tbody tr th {\n",
              "        vertical-align: top;\n",
              "    }\n",
              "\n",
              "    .dataframe thead th {\n",
              "        text-align: right;\n",
              "    }\n",
              "</style>\n",
              "<table border=\"1\" class=\"dataframe\">\n",
              "  <thead>\n",
              "    <tr style=\"text-align: right;\">\n",
              "      <th></th>\n",
              "      <th>words_en</th>\n",
              "      <th>words_Fr</th>\n",
              "      <th>ratings</th>\n",
              "    </tr>\n",
              "  </thead>\n",
              "  <tbody>\n",
              "    <tr>\n",
              "      <th>0</th>\n",
              "      <td>I am being abused.</td>\n",
              "      <td>Je suis maltraité.</td>\n",
              "      <td>acceptable negative</td>\n",
              "    </tr>\n",
              "    <tr>\n",
              "      <th>1</th>\n",
              "      <td>I am unwanted.</td>\n",
              "      <td>Je suis indésirable.</td>\n",
              "      <td>acceptable negative</td>\n",
              "    </tr>\n",
              "    <tr>\n",
              "      <th>2</th>\n",
              "      <td>I don't feel heard</td>\n",
              "      <td>Je ne me sens pas entendu</td>\n",
              "      <td>acceptable negative</td>\n",
              "    </tr>\n",
              "    <tr>\n",
              "      <th>3</th>\n",
              "      <td>I don't feel supported</td>\n",
              "      <td>Je ne me sens pas soutenue</td>\n",
              "      <td>acceptable negative</td>\n",
              "    </tr>\n",
              "    <tr>\n",
              "      <th>4</th>\n",
              "      <td>I don't like you</td>\n",
              "      <td>Je ne t'aime pas</td>\n",
              "      <td>acceptable negative</td>\n",
              "    </tr>\n",
              "  </tbody>\n",
              "</table>\n",
              "</div>"
            ],
            "text/plain": [
              "                 words_en                    words_Fr              ratings\n",
              "0      I am being abused.          Je suis maltraité.  acceptable negative\n",
              "1          I am unwanted.        Je suis indésirable.  acceptable negative\n",
              "2      I don't feel heard   Je ne me sens pas entendu  acceptable negative\n",
              "3  I don't feel supported  Je ne me sens pas soutenue  acceptable negative\n",
              "4       I don't like you             Je ne t'aime pas  acceptable negative"
            ]
          },
          "metadata": {
            "tags": []
          },
          "execution_count": 9
        }
      ]
    },
    {
      "cell_type": "code",
      "metadata": {
        "colab": {
          "base_uri": "https://localhost:8080/"
        },
        "id": "1C_MpGRWS4pO",
        "outputId": "e8fe20c1-60db-4045-ba4d-0d8685361a0b"
      },
      "source": [
        "data_sentences.shape"
      ],
      "execution_count": 10,
      "outputs": [
        {
          "output_type": "execute_result",
          "data": {
            "text/plain": [
              "(7482, 3)"
            ]
          },
          "metadata": {
            "tags": []
          },
          "execution_count": 10
        }
      ]
    },
    {
      "cell_type": "code",
      "metadata": {
        "colab": {
          "base_uri": "https://localhost:8080/"
        },
        "id": "ObBiIpr0S4pP",
        "outputId": "a25fdacd-314b-473e-8de2-c1695a159ad2"
      },
      "source": [
        "#check missing values\n",
        "data_sentences.isnull().sum()"
      ],
      "execution_count": 11,
      "outputs": [
        {
          "output_type": "execute_result",
          "data": {
            "text/plain": [
              "words_en    0\n",
              "words_Fr    0\n",
              "ratings     0\n",
              "dtype: int64"
            ]
          },
          "metadata": {
            "tags": []
          },
          "execution_count": 11
        }
      ]
    },
    {
      "cell_type": "code",
      "metadata": {
        "colab": {
          "base_uri": "https://localhost:8080/"
        },
        "id": "EzIRZx_eS4pQ",
        "outputId": "a4446f47-1fc6-4a41-bb9d-1923d7cdf213"
      },
      "source": [
        "#check the unique records in ratings column to map them with code number\n",
        "data_sentences['ratings'].unique()"
      ],
      "execution_count": 12,
      "outputs": [
        {
          "output_type": "execute_result",
          "data": {
            "text/plain": [
              "array(['acceptable negative', 'acceptable positive', 'bad', 'violent',\n",
              "       'very violent', 'good', 'excellent'], dtype=object)"
            ]
          },
          "metadata": {
            "tags": []
          },
          "execution_count": 12
        }
      ]
    },
    {
      "cell_type": "code",
      "metadata": {
        "id": "OddJ-IHFS4pQ"
      },
      "source": [
        "# map the ratings to code where 0 'very violent' until 6 'excellent'\n",
        "data_sentences['ratings_code']=data_sentences['ratings'].map({'very violent':0,'violent':1,'bad':2,'acceptable negative':3,'acceptable positive':4,'good':5,'excellent':6})"
      ],
      "execution_count": 13,
      "outputs": []
    },
    {
      "cell_type": "code",
      "metadata": {
        "colab": {
          "base_uri": "https://localhost:8080/",
          "height": 206
        },
        "id": "ezrzHmjSS4pQ",
        "outputId": "e8bf02dc-e736-4750-c2ab-ac607ba9c704"
      },
      "source": [
        "data_sentences.head()"
      ],
      "execution_count": 14,
      "outputs": [
        {
          "output_type": "execute_result",
          "data": {
            "text/html": [
              "<div>\n",
              "<style scoped>\n",
              "    .dataframe tbody tr th:only-of-type {\n",
              "        vertical-align: middle;\n",
              "    }\n",
              "\n",
              "    .dataframe tbody tr th {\n",
              "        vertical-align: top;\n",
              "    }\n",
              "\n",
              "    .dataframe thead th {\n",
              "        text-align: right;\n",
              "    }\n",
              "</style>\n",
              "<table border=\"1\" class=\"dataframe\">\n",
              "  <thead>\n",
              "    <tr style=\"text-align: right;\">\n",
              "      <th></th>\n",
              "      <th>words_en</th>\n",
              "      <th>words_Fr</th>\n",
              "      <th>ratings</th>\n",
              "      <th>ratings_code</th>\n",
              "    </tr>\n",
              "  </thead>\n",
              "  <tbody>\n",
              "    <tr>\n",
              "      <th>0</th>\n",
              "      <td>I am being abused.</td>\n",
              "      <td>Je suis maltraité.</td>\n",
              "      <td>acceptable negative</td>\n",
              "      <td>3</td>\n",
              "    </tr>\n",
              "    <tr>\n",
              "      <th>1</th>\n",
              "      <td>I am unwanted.</td>\n",
              "      <td>Je suis indésirable.</td>\n",
              "      <td>acceptable negative</td>\n",
              "      <td>3</td>\n",
              "    </tr>\n",
              "    <tr>\n",
              "      <th>2</th>\n",
              "      <td>I don't feel heard</td>\n",
              "      <td>Je ne me sens pas entendu</td>\n",
              "      <td>acceptable negative</td>\n",
              "      <td>3</td>\n",
              "    </tr>\n",
              "    <tr>\n",
              "      <th>3</th>\n",
              "      <td>I don't feel supported</td>\n",
              "      <td>Je ne me sens pas soutenue</td>\n",
              "      <td>acceptable negative</td>\n",
              "      <td>3</td>\n",
              "    </tr>\n",
              "    <tr>\n",
              "      <th>4</th>\n",
              "      <td>I don't like you</td>\n",
              "      <td>Je ne t'aime pas</td>\n",
              "      <td>acceptable negative</td>\n",
              "      <td>3</td>\n",
              "    </tr>\n",
              "  </tbody>\n",
              "</table>\n",
              "</div>"
            ],
            "text/plain": [
              "                 words_en  ... ratings_code\n",
              "0      I am being abused.  ...            3\n",
              "1          I am unwanted.  ...            3\n",
              "2      I don't feel heard  ...            3\n",
              "3  I don't feel supported  ...            3\n",
              "4       I don't like you   ...            3\n",
              "\n",
              "[5 rows x 4 columns]"
            ]
          },
          "metadata": {
            "tags": []
          },
          "execution_count": 14
        }
      ]
    },
    {
      "cell_type": "code",
      "metadata": {
        "colab": {
          "base_uri": "https://localhost:8080/"
        },
        "id": "3oALPHfzS4pR",
        "outputId": "a072e6b2-e187-4d83-889f-7d47f258abc6"
      },
      "source": [
        "# show data frame information to check the column data types\n",
        "data_sentences.info()"
      ],
      "execution_count": 16,
      "outputs": [
        {
          "output_type": "stream",
          "text": [
            "<class 'pandas.core.frame.DataFrame'>\n",
            "RangeIndex: 7482 entries, 0 to 7481\n",
            "Data columns (total 4 columns):\n",
            " #   Column        Non-Null Count  Dtype \n",
            "---  ------        --------------  ----- \n",
            " 0   words_en      7482 non-null   object\n",
            " 1   words_Fr      7482 non-null   object\n",
            " 2   ratings       7482 non-null   object\n",
            " 3   ratings_code  7482 non-null   int64 \n",
            "dtypes: int64(1), object(3)\n",
            "memory usage: 233.9+ KB\n"
          ],
          "name": "stdout"
        }
      ]
    },
    {
      "cell_type": "code",
      "metadata": {
        "colab": {
          "base_uri": "https://localhost:8080/"
        },
        "id": "pZPsU87-S4pR",
        "outputId": "009cc7cf-5053-4bc4-a67d-3277f85d567d"
      },
      "source": [
        "# count the ocurance of each rating\n",
        "data_sentences['ratings_code'].value_counts()"
      ],
      "execution_count": 17,
      "outputs": [
        {
          "output_type": "execute_result",
          "data": {
            "text/plain": [
              "5    2954\n",
              "2    1526\n",
              "1    1094\n",
              "6     952\n",
              "0     806\n",
              "4      93\n",
              "3      57\n",
              "Name: ratings_code, dtype: int64"
            ]
          },
          "metadata": {
            "tags": []
          },
          "execution_count": 17
        }
      ]
    },
    {
      "cell_type": "code",
      "metadata": {
        "colab": {
          "base_uri": "https://localhost:8080/",
          "height": 280
        },
        "id": "brlIjpLIS4pR",
        "outputId": "7db65ce7-1e5f-46c5-c97a-0799a117e94f"
      },
      "source": [
        "# this step to visualize the occurance of each we can skip\n",
        "import matplotlib.pyplot as plt\n",
        "Sentiment_count=data_sentences.groupby('ratings_code').count()\n",
        "plt.bar(Sentiment_count.index.values, Sentiment_count['words_en'])\n",
        "plt.xlabel('word_en')\n",
        "plt.ylabel('Number ratings')\n",
        "plt.show()"
      ],
      "execution_count": 18,
      "outputs": [
        {
          "output_type": "display_data",
          "data": {
            "image/png": "[encoded data removed]",
            "text/plain": [
              "<Figure size 432x288 with 1 Axes>"
            ]
          },
          "metadata": {
            "tags": [],
            "needs_background": "light"
          }
        }
      ]
    },
    {
      "cell_type": "code",
      "metadata": {
        "id": "tuQNiHxkS4pS"
      },
      "source": [
        "from sklearn.svm import LinearSVC\n",
        "from sklearn.metrics import accuracy_score\n",
        "from sklearn.feature_extraction.text import TfidfVectorizer\n",
        "\n",
        "\n",
        "# Transform each text into a vector of word counts\n",
        "vectorizer = TfidfVectorizer(stop_words=\"english\",\n",
        "                             preprocessor=clean_text,\n",
        "                             ngram_range=(1, 2))\n",
        "\n",
        "X = vectorizer.fit_transform(data_sentences['words_en'])    \n",
        "\n",
        "\n"
      ],
      "execution_count": 20,
      "outputs": []
    },
    {
      "cell_type": "code",
      "metadata": {
        "colab": {
          "base_uri": "https://localhost:8080/"
        },
        "id": "hw2glfx2qAK7",
        "outputId": "d8f391e3-e384-4a2c-868b-3191582a79a6"
      },
      "source": [
        "# adding training and testing set\n",
        "model = LinearSVC()\n",
        "Y = data_sentences['ratings_code'].values\n",
        "\n",
        "X_train, X_test, Y_train, Y_test = train_test_split(X, Y, test_size = 0.2, stratify=Y, random_state=2) # 0.2 means test data is %20 of the trained data will stored in the X_test\n",
        "model.fit(X_train, Y_train)"
      ],
      "execution_count": 21,
      "outputs": [
        {
          "output_type": "execute_result",
          "data": {
            "text/plain": [
              "LinearSVC(C=1.0, class_weight=None, dual=True, fit_intercept=True,\n",
              "          intercept_scaling=1, loss='squared_hinge', max_iter=1000,\n",
              "          multi_class='ovr', penalty='l2', random_state=None, tol=0.0001,\n",
              "          verbose=0)"
            ]
          },
          "metadata": {
            "tags": []
          },
          "execution_count": 21
        }
      ]
    },
    {
      "cell_type": "code",
      "metadata": {
        "colab": {
          "base_uri": "https://localhost:8080/"
        },
        "id": "RHY08L57sE7I",
        "outputId": "1b18a7e2-ac8c-4f20-a30e-457d9c32ce7a"
      },
      "source": [
        "#Accuracy score of the training set\n",
        "X_train_prediction=model.predict(X_train)\n",
        "training_data_accuracy=accuracy_score(X_train_prediction, Y_train)\n",
        "print(' Accuracy score of the training:',training_data_accuracy )"
      ],
      "execution_count": 22,
      "outputs": [
        {
          "output_type": "stream",
          "text": [
            " Accuracy score of the training: 0.9560568086883876\n"
          ],
          "name": "stdout"
        }
      ]
    },
    {
      "cell_type": "code",
      "metadata": {
        "colab": {
          "base_uri": "https://localhost:8080/"
        },
        "id": "rhLTxEmpsK1x",
        "outputId": "592f5f07-5913-4515-deab-3c3ef5b83be0"
      },
      "source": [
        "#Accuracy score of the test set\n",
        "X_test_prediction=model.predict(X_test)\n",
        "test_data_accuracy=accuracy_score(X_test_prediction, Y_test)\n",
        "print(' Accuracy score of the test:',test_data_accuracy )"
      ],
      "execution_count": 23,
      "outputs": [
        {
          "output_type": "stream",
          "text": [
            " Accuracy score of the test: 0.6199064796259185\n"
          ],
          "name": "stdout"
        }
      ]
    },
    {
      "cell_type": "code",
      "metadata": {
        "colab": {
          "base_uri": "https://localhost:8080/"
        },
        "id": "01WJqx_VS4pU",
        "outputId": "41e8368b-8acb-4073-ede3-6ca5cb41d250"
      },
      "source": [
        "#input the data\n",
        "X_new = [input('please input your text to test : ')]\n",
        "# save the input data in a new data frame\n",
        "X_new_data=pd.DataFrame({0:X_new})\n",
        "#vectorize the inputs\n",
        "X_new_in = vectorizer.transform(X_new_data[0])  \n",
        "#predict the vectorized inputs\n",
        "prediction=model.predict(X_new_in)\n",
        "print(prediction)\n",
        "\n",
        "#'very violent':0,'violent':1,'bad':2,'acceptable negative':3,'acceptable positive':4,'good':5,'excellent':6\n",
        "if (prediction[0]==0):\n",
        "    print('very violent')\n",
        "elif (prediction[0]==1):\n",
        "    print('violent')\n",
        "elif (prediction[0]==2):\n",
        "    print('bad')\n",
        "elif (prediction[0]==3):\n",
        "    print('acceptable negative')    \n",
        "elif (prediction[0]==4):\n",
        "    print('acceptable positive')    \n",
        "elif (prediction[0]==5):\n",
        "    print('good')\n",
        "elif (prediction[0]==6):\n",
        "    print('excellent')\n",
        "else:\n",
        "    print('unable to predict')"
      ],
      "execution_count": 24,
      "outputs": [
        {
          "output_type": "stream",
          "text": [
            "please input your text to test : this is to bad\n",
            "[0]\n",
            "very violent\n"
          ],
          "name": "stdout"
        }
      ]
    },
    {
      "cell_type": "code",
      "metadata": {
        "id": "jHtk1p3H4FNM"
      },
      "source": [
        ""
      ],
      "execution_count": null,
      "outputs": []
    }
  ]
}