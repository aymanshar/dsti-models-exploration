{
  "nbformat": 4,
  "nbformat_minor": 0,
  "metadata": {
    "colab": {
      "name": "04_sereniiti_with_function.ipynb",
      "provenance": [],
      "authorship_tag": "ABX9TyOpZYBWARa6cWTlMctbQbb4",
      "include_colab_link": true
    },
    "kernelspec": {
      "name": "python3",
      "display_name": "Python 3"
    },
    "language_info": {
      "name": "python"
    }
  },
  "cells": [
    {
      "cell_type": "markdown",
      "metadata": {
        "id": "view-in-github",
        "colab_type": "text"
      },
      "source": [
        "<a href=\"https://colab.research.google.com/github/Sereniiti/models-exploration/blob/develop/Ayman/04_sereniiti_with_function.ipynb\" target=\"_parent\"><img src=\"https://colab.research.google.com/assets/colab-badge.svg\" alt=\"Open In Colab\"/></a>"
      ]
    },
    {
      "cell_type": "code",
      "metadata": {
        "colab": {
          "base_uri": "https://localhost:8080/"
        },
        "id": "kHQeYDXQkB-e",
        "outputId": "2797e47f-03bf-4409-f9f0-476024b5df7c"
      },
      "source": [
        "from google.colab import drive\n",
        "drive.mount('/content/drive')"
      ],
      "execution_count": 1,
      "outputs": [
        {
          "output_type": "stream",
          "text": [
            "Mounted at /content/drive\n"
          ],
          "name": "stdout"
        }
      ]
    },
    {
      "cell_type": "code",
      "metadata": {
        "id": "Gxz2kGwTkJVJ"
      },
      "source": [
        "# import pandas\n",
        "import pandas as pd\n",
        "\n",
        "df = pd.read_csv('/content/drive/MyDrive/Colab_Notebooks/Data_sentences.csv')\n",
        "# Dataset is now stored in a Pandas Dataframe"
      ],
      "execution_count": 67,
      "outputs": []
    },
    {
      "cell_type": "code",
      "metadata": {
        "colab": {
          "base_uri": "https://localhost:8080/"
        },
        "id": "H4BR-_GekxT2",
        "outputId": "bd80e6ab-f779-4307-9b6e-8196f2ee1854"
      },
      "source": [
        "# check if any null values in words_en or ratings\n",
        "print('words_en null records: ', df['words_en'].isnull().sum())\n",
        "print('ratings null records: ', df['ratings'].isnull().sum())\n",
        "#if there is any Null Value we can replace with 0\n",
        "# df['words_en'].fillna(0)"
      ],
      "execution_count": 68,
      "outputs": [
        {
          "output_type": "stream",
          "text": [
            "words_en null records:  0\n",
            "ratings null records:  0\n"
          ],
          "name": "stdout"
        }
      ]
    },
    {
      "cell_type": "code",
      "metadata": {
        "colab": {
          "base_uri": "https://localhost:8080/"
        },
        "id": "gw5bOI-1pRxi",
        "outputId": "c9fed14a-04e4-4eea-a755-2ec74aa72d50"
      },
      "source": [
        "#check the unique records in ratings column to map them with code number\n",
        "df['ratings'].unique()"
      ],
      "execution_count": 69,
      "outputs": [
        {
          "output_type": "execute_result",
          "data": {
            "text/plain": [
              "array(['bad', 'good', 'very violent', 'violent', 'excellent',\n",
              "       'acceptable positive', 'acceptable negative'], dtype=object)"
            ]
          },
          "metadata": {
            "tags": []
          },
          "execution_count": 69
        }
      ]
    },
    {
      "cell_type": "code",
      "metadata": {
        "id": "g22qRvzapTse"
      },
      "source": [
        "# map the ratings to code where 0 'violent' and 1 'good'\n",
        "df['ratings_code']=df['ratings'].map({'very violent':0,'violent':0,'bad':0,'acceptable negative':1,'acceptable positive':1,'good':1,'excellent':1})"
      ],
      "execution_count": 70,
      "outputs": []
    },
    {
      "cell_type": "code",
      "metadata": {
        "id": "wNHFG2EXpW9C"
      },
      "source": [
        "# save the needed columns only in the dataset\n",
        "df=df[['words_en','ratings_code']]"
      ],
      "execution_count": 71,
      "outputs": []
    },
    {
      "cell_type": "code",
      "metadata": {
        "id": "Muaog5LSsUe2"
      },
      "source": [
        "import sys\n",
        "sys.path.insert(0,'/content/drive/MyDrive/Colab_Notebooks')"
      ],
      "execution_count": 72,
      "outputs": []
    },
    {
      "cell_type": "code",
      "metadata": {
        "id": "_fWz4304se6U"
      },
      "source": [
        "import cleaning_func"
      ],
      "execution_count": 74,
      "outputs": []
    },
    {
      "cell_type": "code",
      "metadata": {
        "id": "5vFLSXGUpZ5k"
      },
      "source": [
        "from cleaning_func import clean_text_punc"
      ],
      "execution_count": 75,
      "outputs": []
    },
    {
      "cell_type": "code",
      "metadata": {
        "id": "-D6SFVs4sTt0"
      },
      "source": [
        "# create new column with to save cleaned text\n",
        "df['text_clean']=df['words_en'].apply(lambda x : clean_text_punc(x))"
      ],
      "execution_count": 76,
      "outputs": []
    },
    {
      "cell_type": "code",
      "metadata": {
        "id": "cxNwYCfFpqWw"
      },
      "source": [
        "from cleaning_func import remove_stopwords"
      ],
      "execution_count": 77,
      "outputs": []
    },
    {
      "cell_type": "code",
      "metadata": {
        "id": "5mKiQFeTs3rd"
      },
      "source": [
        "# create new column for stopword cleaned text (not recommended in our case so will ignore that column)\n",
        "df['text_clean_nostopword']=df['text_clean'].apply(lambda x:remove_stopwords(x))"
      ],
      "execution_count": 78,
      "outputs": []
    },
    {
      "cell_type": "code",
      "metadata": {
        "colab": {
          "base_uri": "https://localhost:8080/",
          "height": 204
        },
        "id": "C_LPrurLs6EG",
        "outputId": "2bbd30b8-026d-4329-e3ef-874eb7ecf6b8"
      },
      "source": [
        "df.head()"
      ],
      "execution_count": 50,
      "outputs": [
        {
          "output_type": "execute_result",
          "data": {
            "text/html": [
              "<div>\n",
              "<style scoped>\n",
              "    .dataframe tbody tr th:only-of-type {\n",
              "        vertical-align: middle;\n",
              "    }\n",
              "\n",
              "    .dataframe tbody tr th {\n",
              "        vertical-align: top;\n",
              "    }\n",
              "\n",
              "    .dataframe thead th {\n",
              "        text-align: right;\n",
              "    }\n",
              "</style>\n",
              "<table border=\"1\" class=\"dataframe\">\n",
              "  <thead>\n",
              "    <tr style=\"text-align: right;\">\n",
              "      <th></th>\n",
              "      <th>words_en</th>\n",
              "      <th>ratings_code</th>\n",
              "      <th>text_clean</th>\n",
              "      <th>text_clean_nostopword</th>\n",
              "    </tr>\n",
              "  </thead>\n",
              "  <tbody>\n",
              "    <tr>\n",
              "      <th>0</th>\n",
              "      <td>I am being abused.</td>\n",
              "      <td>1</td>\n",
              "      <td>I am being abused</td>\n",
              "      <td>I abused</td>\n",
              "    </tr>\n",
              "    <tr>\n",
              "      <th>1</th>\n",
              "      <td>I am unwanted.</td>\n",
              "      <td>1</td>\n",
              "      <td>I am unwanted</td>\n",
              "      <td>I unwanted</td>\n",
              "    </tr>\n",
              "    <tr>\n",
              "      <th>2</th>\n",
              "      <td>I don't feel heard</td>\n",
              "      <td>1</td>\n",
              "      <td>I dont feel heard</td>\n",
              "      <td>I dont feel heard</td>\n",
              "    </tr>\n",
              "    <tr>\n",
              "      <th>3</th>\n",
              "      <td>I don't feel supported</td>\n",
              "      <td>1</td>\n",
              "      <td>I dont feel supported</td>\n",
              "      <td>I dont feel supported</td>\n",
              "    </tr>\n",
              "    <tr>\n",
              "      <th>4</th>\n",
              "      <td>I don't like you</td>\n",
              "      <td>1</td>\n",
              "      <td>I dont like you</td>\n",
              "      <td>I dont like you</td>\n",
              "    </tr>\n",
              "  </tbody>\n",
              "</table>\n",
              "</div>"
            ],
            "text/plain": [
              "                 words_en  ...  text_clean_nostopword\n",
              "0      I am being abused.  ...               I abused\n",
              "1          I am unwanted.  ...             I unwanted\n",
              "2      I don't feel heard  ...      I dont feel heard\n",
              "3  I don't feel supported  ...  I dont feel supported\n",
              "4       I don't like you   ...       I dont like you \n",
              "\n",
              "[5 rows x 4 columns]"
            ]
          },
          "metadata": {
            "tags": []
          },
          "execution_count": 50
        }
      ]
    },
    {
      "cell_type": "code",
      "metadata": {
        "id": "ExedsXH-s8fZ"
      },
      "source": [
        "from cleaning_func import lemma_data"
      ],
      "execution_count": 79,
      "outputs": []
    },
    {
      "cell_type": "code",
      "metadata": {
        "id": "X4qKQ8_7tFD6"
      },
      "source": [
        "# create new column for lemmatized cleaned text\n",
        "df['text_clean_lemma']=df['text_clean'].apply(lambda x:lemma_data(x))"
      ],
      "execution_count": 80,
      "outputs": []
    },
    {
      "cell_type": "code",
      "metadata": {
        "colab": {
          "base_uri": "https://localhost:8080/",
          "height": 204
        },
        "id": "pSJP32aFtIAA",
        "outputId": "f797ac35-0d78-42d8-c743-5666e38aa8b1"
      },
      "source": [
        "df.head()"
      ],
      "execution_count": 81,
      "outputs": [
        {
          "output_type": "execute_result",
          "data": {
            "text/html": [
              "<div>\n",
              "<style scoped>\n",
              "    .dataframe tbody tr th:only-of-type {\n",
              "        vertical-align: middle;\n",
              "    }\n",
              "\n",
              "    .dataframe tbody tr th {\n",
              "        vertical-align: top;\n",
              "    }\n",
              "\n",
              "    .dataframe thead th {\n",
              "        text-align: right;\n",
              "    }\n",
              "</style>\n",
              "<table border=\"1\" class=\"dataframe\">\n",
              "  <thead>\n",
              "    <tr style=\"text-align: right;\">\n",
              "      <th></th>\n",
              "      <th>words_en</th>\n",
              "      <th>ratings_code</th>\n",
              "      <th>text_clean</th>\n",
              "      <th>text_clean_nostopword</th>\n",
              "      <th>text_clean_lemma</th>\n",
              "    </tr>\n",
              "  </thead>\n",
              "  <tbody>\n",
              "    <tr>\n",
              "      <th>0</th>\n",
              "      <td>I feel neglected by you.</td>\n",
              "      <td>0</td>\n",
              "      <td>I feel neglected by you</td>\n",
              "      <td>I feel neglected you</td>\n",
              "      <td>I feel neglected by you</td>\n",
              "    </tr>\n",
              "    <tr>\n",
              "      <th>1</th>\n",
              "      <td>A big boy doesn't cry</td>\n",
              "      <td>0</td>\n",
              "      <td>A big boy doesnt cry</td>\n",
              "      <td>A big boy doesnt cry</td>\n",
              "      <td>A big boy doesnt cry</td>\n",
              "    </tr>\n",
              "    <tr>\n",
              "      <th>2</th>\n",
              "      <td>A cheetah, the fastest land animal, can run 70...</td>\n",
              "      <td>1</td>\n",
              "      <td>A cheetah the fastest land animal can run 70 m...</td>\n",
              "      <td>A cheetah fastest land animal run 70 miles hour</td>\n",
              "      <td>A cheetah the fastest land animal can run 70 m...</td>\n",
              "    </tr>\n",
              "    <tr>\n",
              "      <th>3</th>\n",
              "      <td>A combination of words that makes a complete s...</td>\n",
              "      <td>1</td>\n",
              "      <td>A combination of words that makes a complete s...</td>\n",
              "      <td>A combination words makes complete sense calle...</td>\n",
              "      <td>A combination of word that make a complete sen...</td>\n",
              "    </tr>\n",
              "    <tr>\n",
              "      <th>4</th>\n",
              "      <td>A door would have more charisma than you</td>\n",
              "      <td>0</td>\n",
              "      <td>A door would have more charisma than you</td>\n",
              "      <td>A door would charisma you</td>\n",
              "      <td>A door would have more charisma than you</td>\n",
              "    </tr>\n",
              "  </tbody>\n",
              "</table>\n",
              "</div>"
            ],
            "text/plain": [
              "                                            words_en  ...                                   text_clean_lemma\n",
              "0                           I feel neglected by you.  ...                            I feel neglected by you\n",
              "1                              A big boy doesn't cry  ...                               A big boy doesnt cry\n",
              "2  A cheetah, the fastest land animal, can run 70...  ...  A cheetah the fastest land animal can run 70 m...\n",
              "3  A combination of words that makes a complete s...  ...  A combination of word that make a complete sen...\n",
              "4           A door would have more charisma than you  ...           A door would have more charisma than you\n",
              "\n",
              "[5 rows x 5 columns]"
            ]
          },
          "metadata": {
            "tags": []
          },
          "execution_count": 81
        }
      ]
    },
    {
      "cell_type": "code",
      "metadata": {
        "id": "jkPisTxMtsHZ"
      },
      "source": [
        "# vectorization encode a text as integers to create feature vectores ( vectore of numerical feature that represent an object)\n",
        "# CountVectorizer\n",
        "from sklearn.feature_extraction.text import CountVectorizer\n",
        "# create instance from CountVectorizer\n",
        "text_vectorized=CountVectorizer()"
      ],
      "execution_count": 82,
      "outputs": []
    },
    {
      "cell_type": "code",
      "metadata": {
        "colab": {
          "base_uri": "https://localhost:8080/"
        },
        "id": "7dkqaTE8yeqp",
        "outputId": "4d4ef2c7-b34f-4fff-ef62-739b6a905fba"
      },
      "source": [
        "# save the CountVectorized data in word_vectorized, and rating_code values in y\n",
        "word_vectorized= text_vectorized.fit_transform(df['text_clean'])\n",
        "y = df['ratings_code'].values\n",
        "print ('Word_vectorized data shape:\\n ', word_vectorized.shape,'\\n')"
      ],
      "execution_count": 83,
      "outputs": [
        {
          "output_type": "stream",
          "text": [
            "Word_vectorized data shape:\n",
            "  (7480, 5092) \n",
            "\n"
          ],
          "name": "stdout"
        }
      ]
    },
    {
      "cell_type": "code",
      "metadata": {
        "id": "MHowAA6tyo_l"
      },
      "source": [
        "from sklearn.model_selection import train_test_split # to split our dtata set into training data and test data"
      ],
      "execution_count": 84,
      "outputs": []
    },
    {
      "cell_type": "code",
      "metadata": {
        "id": "QxbfGrpSyrYF"
      },
      "source": [
        "# define the training and test sets, 0.2 means test data is %20 of the trained data will stored in the X_test\n",
        "X_training, X_testing, y_train, y_test = train_test_split(word_vectorized, y, test_size = 0.25, random_state=1000) "
      ],
      "execution_count": 85,
      "outputs": []
    },
    {
      "cell_type": "code",
      "metadata": {
        "colab": {
          "base_uri": "https://localhost:8080/"
        },
        "id": "1K8AzPr5ytE-",
        "outputId": "22187ce1-cb4c-45e0-e683-0db9430469a5"
      },
      "source": [
        "# LogisticRegression\n",
        "from sklearn.linear_model import LogisticRegression # \n",
        "from sklearn.metrics import accuracy_score #\n",
        "\n",
        "\n",
        "# adding training and testing set defining the LinearSVC instance firest to fit the training set in\n",
        "model_lr = LogisticRegression()\n",
        "# fit x and y training set in the model\n",
        "model_lr.fit(X_training, y_train)\n",
        "\n",
        "X_train_prediction=model_lr.predict(X_training)\n",
        "training_data_accuracy=accuracy_score(X_train_prediction, y_train)\n",
        "\n",
        "X_test_prediction=model_lr.predict(X_testing)\n",
        "test_data_accuracy=accuracy_score(X_test_prediction, y_test)\n",
        "\n",
        "print('CountVectorizer - Accuracy score of the training: ',round(training_data_accuracy,3) )\n",
        "print('CountVectorizer - Accuracy score of the test : ',round(test_data_accuracy,3) )"
      ],
      "execution_count": 86,
      "outputs": [
        {
          "output_type": "stream",
          "text": [
            "CountVectorizer - Accuracy score of the training:  0.947\n",
            "CountVectorizer - Accuracy score of the test :  0.878\n"
          ],
          "name": "stdout"
        }
      ]
    },
    {
      "cell_type": "code",
      "metadata": {
        "colab": {
          "base_uri": "https://localhost:8080/"
        },
        "id": "2yDvJwPIzB-2",
        "outputId": "49296e90-ea35-4c1d-8ef8-409f04ea4982"
      },
      "source": [
        "from sklearn.metrics import confusion_matrix\n",
        "confusion_matrix(X_test_prediction, y_test)"
      ],
      "execution_count": 87,
      "outputs": [
        {
          "output_type": "execute_result",
          "data": {
            "text/plain": [
              "array([[749, 111],\n",
              "       [117, 893]])"
            ]
          },
          "metadata": {
            "tags": []
          },
          "execution_count": 87
        }
      ]
    },
    {
      "cell_type": "code",
      "metadata": {
        "colab": {
          "base_uri": "https://localhost:8080/"
        },
        "id": "eQW8xRvA0VaT",
        "outputId": "c0cb3c40-43ba-48e5-a291-cb40d127afe4"
      },
      "source": [
        "df['text_clean_lemma'].value_counts()"
      ],
      "execution_count": 88,
      "outputs": [
        {
          "output_type": "execute_result",
          "data": {
            "text/plain": [
              "Youre a pain in the as                                                                                                 5\n",
              "bitch                                                                                                                  4\n",
              "I feel neglected                                                                                                       4\n",
              "Good morning                                                                                                           4\n",
              "You deserve to be slapped                                                                                              4\n",
              "                                                                                                                      ..\n",
              "You always have to take detour                                                                                         1\n",
              "Im afraid that I cant make tomorrow meeting                                                                            1\n",
              "Im really interested in working for your company                                                                       1\n",
              "When the homeless people tent were taken away by the police I felt bad for them because I think they need a shelter    1\n",
              "I feel suprised                                                                                                        1\n",
              "Name: text_clean_lemma, Length: 7300, dtype: int64"
            ]
          },
          "metadata": {
            "tags": []
          },
          "execution_count": 88
        }
      ]
    },
    {
      "cell_type": "code",
      "metadata": {
        "id": "5_oHP7hP0oXN"
      },
      "source": [
        "# sorting by first name\n",
        "df.sort_values(\"text_clean_lemma\", inplace = True)\n",
        "df.drop_duplicates(subset='text_clean_lemma', keep='first', inplace=True)"
      ],
      "execution_count": 89,
      "outputs": []
    },
    {
      "cell_type": "code",
      "metadata": {
        "colab": {
          "base_uri": "https://localhost:8080/"
        },
        "id": "--X2aCI02aSu",
        "outputId": "6ec721b6-0194-47ca-eb88-6499155d2b27"
      },
      "source": [
        "df['text_clean_lemma'].value_counts()"
      ],
      "execution_count": 90,
      "outputs": [
        {
          "output_type": "execute_result",
          "data": {
            "text/plain": [
              "You are so psychotic                                         1\n",
              "If you had the gut youd do this                              1\n",
              "You have no capacity for abstraction                         1\n",
              "You cant keep a straight face                                1\n",
              "We dont do anything together except for the kid              1\n",
              "                                                            ..\n",
              "Whats with the outfit                                        1\n",
              "I feel frustrated because you did this                       1\n",
              "I didnt sleep last night I feel inert because I need rest    1\n",
              "You never follow good practice                               1\n",
              "I feel suprised                                              1\n",
              "Name: text_clean_lemma, Length: 7300, dtype: int64"
            ]
          },
          "metadata": {
            "tags": []
          },
          "execution_count": 90
        }
      ]
    },
    {
      "cell_type": "code",
      "metadata": {
        "colab": {
          "base_uri": "https://localhost:8080/"
        },
        "id": "yr6Gk7XP2b8D",
        "outputId": "0c91e21a-4560-4995-873f-e31d78aceddd"
      },
      "source": [
        "confusion_matrix(X_test_prediction, y_test)"
      ],
      "execution_count": 91,
      "outputs": [
        {
          "output_type": "execute_result",
          "data": {
            "text/plain": [
              "array([[749, 111],\n",
              "       [117, 893]])"
            ]
          },
          "metadata": {
            "tags": []
          },
          "execution_count": 91
        }
      ]
    },
    {
      "cell_type": "code",
      "metadata": {
        "colab": {
          "base_uri": "https://localhost:8080/"
        },
        "id": "DNwnw_xJ2ilP",
        "outputId": "36a15fc3-ce05-4cf1-a2d0-702190d572a9"
      },
      "source": [
        "df['ratings_code'].value_counts()"
      ],
      "execution_count": 92,
      "outputs": [
        {
          "output_type": "execute_result",
          "data": {
            "text/plain": [
              "1    3964\n",
              "0    3336\n",
              "Name: ratings_code, dtype: int64"
            ]
          },
          "metadata": {
            "tags": []
          },
          "execution_count": 92
        }
      ]
    },
    {
      "cell_type": "code",
      "metadata": {
        "id": "h1c5QU7P4TQt"
      },
      "source": [
        "from sklearn.feature_extraction.text import TfidfVectorizer\n",
        "tfidf_vect=TfidfVectorizer()\n",
        "\n",
        "Xtf_training = tfidf_vect.fit_transform(df['text_clean'])\n",
        "y = df['ratings_code'].values\n",
        "\n",
        "from sklearn.model_selection import train_test_split # to split our dtata set into training data and test data\n",
        "# define the training and test sets, 0.2 means test data is %20 of the trained data will stored in the X_test\n",
        "Xt_training, Xt_testing, y_train, y_test = train_test_split(Xtf_training, y, test_size = 0.25, random_state=1000) "
      ],
      "execution_count": 93,
      "outputs": []
    },
    {
      "cell_type": "code",
      "metadata": {
        "colab": {
          "base_uri": "https://localhost:8080/"
        },
        "id": "EvSQ-eAt4jgb",
        "outputId": "522d6820-cd6b-41af-bbf7-38e3def59b06"
      },
      "source": [
        "# LogisticRegression for tfidf vectorization\n",
        "from sklearn.linear_model import LogisticRegression # \n",
        "from sklearn.metrics import accuracy_score #\n",
        "# adding training and testing set defining the LinearSVC instance firest to fit the training set in\n",
        "model_lr_tf = LogisticRegression()\n",
        "# fit x and y training set in the model\n",
        "model_lr_tf.fit(Xt_training, y_train)\n",
        "\n",
        "Xt_train_prediction=model_lr_tf.predict(Xt_training)\n",
        "training_data_accuracy_t=accuracy_score(Xt_train_prediction, y_train)\n",
        "\n",
        "Xt_test_prediction=model_lr_tf.predict(Xt_testing)\n",
        "test_data_accuracy_t=accuracy_score(Xt_test_prediction, y_test)\n",
        "\n",
        "print('TfidfVectorizer - Accuracy score of the training:',round(training_data_accuracy_t,3) )\n",
        "print('TfidfVectorizer - Accuracy score of the test:',round(test_data_accuracy_t,3) )"
      ],
      "execution_count": 94,
      "outputs": [
        {
          "output_type": "stream",
          "text": [
            "TfidfVectorizer - Accuracy score of the training: 0.924\n",
            "TfidfVectorizer - Accuracy score of the test: 0.884\n"
          ],
          "name": "stdout"
        }
      ]
    },
    {
      "cell_type": "code",
      "metadata": {
        "colab": {
          "base_uri": "https://localhost:8080/"
        },
        "id": "4AQRSqA-4wVo",
        "outputId": "f6cf058b-7d47-496d-a22c-dbd5bea2b499"
      },
      "source": [
        "# data entry test model\n",
        "#========================\n",
        "#input the data for testing the model\n",
        "X_new = [input('please input your text to test : ')]\n",
        "# save the input data in a new data frame\n",
        "X_new_data=pd.DataFrame({0:X_new})\n",
        "\n",
        "#vectorize the inputs and create the training set to use the input data to test from\n",
        "test_vectorized=CountVectorizer()\n",
        "training_features = test_vectorized.fit_transform(df['text_clean'])    \n",
        "test_features = test_vectorized.transform(df['text_clean'])\n",
        "model_test = LogisticRegression()\n",
        "model_test.fit(training_features, df['ratings_code'])\n",
        "y_pred = model_test.predict(test_features)\n",
        "\n",
        "#predict the vectorized inputs\n",
        "X_new_test = test_vectorized.transform(X_new_data[0])  \n",
        "prediction=model_test.predict(X_new_test)\n",
        "print(prediction)"
      ],
      "execution_count": 96,
      "outputs": [
        {
          "output_type": "stream",
          "text": [
            "please input your text to test : this is bad\n",
            "[0]\n"
          ],
          "name": "stdout"
        }
      ]
    },
    {
      "cell_type": "code",
      "metadata": {
        "colab": {
          "base_uri": "https://localhost:8080/"
        },
        "id": "4mGEfgJ548IP",
        "outputId": "644b9938-32d2-48dd-c90f-6404db0dde22"
      },
      "source": [
        "from cleaning_func import predict\n",
        "predict(prediction)"
      ],
      "execution_count": 97,
      "outputs": [
        {
          "output_type": "stream",
          "text": [
            "violent\n"
          ],
          "name": "stdout"
        }
      ]
    },
    {
      "cell_type": "code",
      "metadata": {
        "id": "JpYYZGe85Lq_"
      },
      "source": [
        ""
      ],
      "execution_count": null,
      "outputs": []
    }
  ]
}