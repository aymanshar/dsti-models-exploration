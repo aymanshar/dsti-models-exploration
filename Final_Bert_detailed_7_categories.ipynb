{
  "nbformat": 4,
  "nbformat_minor": 0,
  "metadata": {
    "colab": {
      "name": "Bert.ipynb",
      "provenance": [],
      "collapsed_sections": [],
      "authorship_tag": "ABX9TyMkRuA87aec+klykba/Pci3",
      "include_colab_link": true
    },
    "kernelspec": {
      "name": "python3",
      "display_name": "Python 3"
    },
    "language_info": {
      "name": "python"
    },
    "widgets": {
      "application/vnd.jupyter.widget-state+json": {
        "e5a2282b299c441c802871de3faef7ee": {
          "model_module": "@jupyter-widgets/controls",
          "model_name": "HBoxModel",
          "state": {
            "_view_name": "HBoxView",
            "_dom_classes": [],
            "_model_name": "HBoxModel",
            "_view_module": "@jupyter-widgets/controls",
            "_model_module_version": "1.5.0",
            "_view_count": null,
            "_view_module_version": "1.5.0",
            "box_style": "",
            "layout": "IPY_MODEL_1fa557ba87754e80a8b8d1d19a9b1090",
            "_model_module": "@jupyter-widgets/controls",
            "children": [
              "IPY_MODEL_785068167ed6439a8b51def30b9a0897",
              "IPY_MODEL_642001b6ea5c4ef79c1e04d47bc0f1b7"
            ]
          }
        },
        "1fa557ba87754e80a8b8d1d19a9b1090": {
          "model_module": "@jupyter-widgets/base",
          "model_name": "LayoutModel",
          "state": {
            "_view_name": "LayoutView",
            "grid_template_rows": null,
            "right": null,
            "justify_content": null,
            "_view_module": "@jupyter-widgets/base",
            "overflow": null,
            "_model_module_version": "1.2.0",
            "_view_count": null,
            "flex_flow": null,
            "width": null,
            "min_width": null,
            "border": null,
            "align_items": null,
            "bottom": null,
            "_model_module": "@jupyter-widgets/base",
            "top": null,
            "grid_column": null,
            "overflow_y": null,
            "overflow_x": null,
            "grid_auto_flow": null,
            "grid_area": null,
            "grid_template_columns": null,
            "flex": null,
            "_model_name": "LayoutModel",
            "justify_items": null,
            "grid_row": null,
            "max_height": null,
            "align_content": null,
            "visibility": null,
            "align_self": null,
            "height": null,
            "min_height": null,
            "padding": null,
            "grid_auto_rows": null,
            "grid_gap": null,
            "max_width": null,
            "order": null,
            "_view_module_version": "1.2.0",
            "grid_template_areas": null,
            "object_position": null,
            "object_fit": null,
            "grid_auto_columns": null,
            "margin": null,
            "display": null,
            "left": null
          }
        },
        "785068167ed6439a8b51def30b9a0897": {
          "model_module": "@jupyter-widgets/controls",
          "model_name": "FloatProgressModel",
          "state": {
            "_view_name": "ProgressView",
            "style": "IPY_MODEL_054bc77472dd42e9b7efeae0e2ed8a57",
            "_dom_classes": [],
            "description": "Downloading: 100%",
            "_model_name": "FloatProgressModel",
            "bar_style": "success",
            "max": 231508,
            "_view_module": "@jupyter-widgets/controls",
            "_model_module_version": "1.5.0",
            "value": 231508,
            "_view_count": null,
            "_view_module_version": "1.5.0",
            "orientation": "horizontal",
            "min": 0,
            "description_tooltip": null,
            "_model_module": "@jupyter-widgets/controls",
            "layout": "IPY_MODEL_ad3fd37b08d3420b933dd354f88fe045"
          }
        },
        "642001b6ea5c4ef79c1e04d47bc0f1b7": {
          "model_module": "@jupyter-widgets/controls",
          "model_name": "HTMLModel",
          "state": {
            "_view_name": "HTMLView",
            "style": "IPY_MODEL_07362b90b7ad4f4ca35619663d95f967",
            "_dom_classes": [],
            "description": "",
            "_model_name": "HTMLModel",
            "placeholder": "​",
            "_view_module": "@jupyter-widgets/controls",
            "_model_module_version": "1.5.0",
            "value": " 232k/232k [00:00&lt;00:00, 604kB/s]",
            "_view_count": null,
            "_view_module_version": "1.5.0",
            "description_tooltip": null,
            "_model_module": "@jupyter-widgets/controls",
            "layout": "IPY_MODEL_a6555e1beb0f4916b336017c47f17a03"
          }
        },
        "054bc77472dd42e9b7efeae0e2ed8a57": {
          "model_module": "@jupyter-widgets/controls",
          "model_name": "ProgressStyleModel",
          "state": {
            "_view_name": "StyleView",
            "_model_name": "ProgressStyleModel",
            "description_width": "initial",
            "_view_module": "@jupyter-widgets/base",
            "_model_module_version": "1.5.0",
            "_view_count": null,
            "_view_module_version": "1.2.0",
            "bar_color": null,
            "_model_module": "@jupyter-widgets/controls"
          }
        },
        "ad3fd37b08d3420b933dd354f88fe045": {
          "model_module": "@jupyter-widgets/base",
          "model_name": "LayoutModel",
          "state": {
            "_view_name": "LayoutView",
            "grid_template_rows": null,
            "right": null,
            "justify_content": null,
            "_view_module": "@jupyter-widgets/base",
            "overflow": null,
            "_model_module_version": "1.2.0",
            "_view_count": null,
            "flex_flow": null,
            "width": null,
            "min_width": null,
            "border": null,
            "align_items": null,
            "bottom": null,
            "_model_module": "@jupyter-widgets/base",
            "top": null,
            "grid_column": null,
            "overflow_y": null,
            "overflow_x": null,
            "grid_auto_flow": null,
            "grid_area": null,
            "grid_template_columns": null,
            "flex": null,
            "_model_name": "LayoutModel",
            "justify_items": null,
            "grid_row": null,
            "max_height": null,
            "align_content": null,
            "visibility": null,
            "align_self": null,
            "height": null,
            "min_height": null,
            "padding": null,
            "grid_auto_rows": null,
            "grid_gap": null,
            "max_width": null,
            "order": null,
            "_view_module_version": "1.2.0",
            "grid_template_areas": null,
            "object_position": null,
            "object_fit": null,
            "grid_auto_columns": null,
            "margin": null,
            "display": null,
            "left": null
          }
        },
        "07362b90b7ad4f4ca35619663d95f967": {
          "model_module": "@jupyter-widgets/controls",
          "model_name": "DescriptionStyleModel",
          "state": {
            "_view_name": "StyleView",
            "_model_name": "DescriptionStyleModel",
            "description_width": "",
            "_view_module": "@jupyter-widgets/base",
            "_model_module_version": "1.5.0",
            "_view_count": null,
            "_view_module_version": "1.2.0",
            "_model_module": "@jupyter-widgets/controls"
          }
        },
        "a6555e1beb0f4916b336017c47f17a03": {
          "model_module": "@jupyter-widgets/base",
          "model_name": "LayoutModel",
          "state": {
            "_view_name": "LayoutView",
            "grid_template_rows": null,
            "right": null,
            "justify_content": null,
            "_view_module": "@jupyter-widgets/base",
            "overflow": null,
            "_model_module_version": "1.2.0",
            "_view_count": null,
            "flex_flow": null,
            "width": null,
            "min_width": null,
            "border": null,
            "align_items": null,
            "bottom": null,
            "_model_module": "@jupyter-widgets/base",
            "top": null,
            "grid_column": null,
            "overflow_y": null,
            "overflow_x": null,
            "grid_auto_flow": null,
            "grid_area": null,
            "grid_template_columns": null,
            "flex": null,
            "_model_name": "LayoutModel",
            "justify_items": null,
            "grid_row": null,
            "max_height": null,
            "align_content": null,
            "visibility": null,
            "align_self": null,
            "height": null,
            "min_height": null,
            "padding": null,
            "grid_auto_rows": null,
            "grid_gap": null,
            "max_width": null,
            "order": null,
            "_view_module_version": "1.2.0",
            "grid_template_areas": null,
            "object_position": null,
            "object_fit": null,
            "grid_auto_columns": null,
            "margin": null,
            "display": null,
            "left": null
          }
        },
        "873c16ca24324ed4938f1a7a6406c5b0": {
          "model_module": "@jupyter-widgets/controls",
          "model_name": "HBoxModel",
          "state": {
            "_view_name": "HBoxView",
            "_dom_classes": [],
            "_model_name": "HBoxModel",
            "_view_module": "@jupyter-widgets/controls",
            "_model_module_version": "1.5.0",
            "_view_count": null,
            "_view_module_version": "1.5.0",
            "box_style": "",
            "layout": "IPY_MODEL_e0fc8f4a9c6145cb815041f51766b24c",
            "_model_module": "@jupyter-widgets/controls",
            "children": [
              "IPY_MODEL_3a49b4df9a154d69b2243353c0d85102",
              "IPY_MODEL_e2f594c342af4e89b56f3354afc7dc13"
            ]
          }
        },
        "e0fc8f4a9c6145cb815041f51766b24c": {
          "model_module": "@jupyter-widgets/base",
          "model_name": "LayoutModel",
          "state": {
            "_view_name": "LayoutView",
            "grid_template_rows": null,
            "right": null,
            "justify_content": null,
            "_view_module": "@jupyter-widgets/base",
            "overflow": null,
            "_model_module_version": "1.2.0",
            "_view_count": null,
            "flex_flow": null,
            "width": null,
            "min_width": null,
            "border": null,
            "align_items": null,
            "bottom": null,
            "_model_module": "@jupyter-widgets/base",
            "top": null,
            "grid_column": null,
            "overflow_y": null,
            "overflow_x": null,
            "grid_auto_flow": null,
            "grid_area": null,
            "grid_template_columns": null,
            "flex": null,
            "_model_name": "LayoutModel",
            "justify_items": null,
            "grid_row": null,
            "max_height": null,
            "align_content": null,
            "visibility": null,
            "align_self": null,
            "height": null,
            "min_height": null,
            "padding": null,
            "grid_auto_rows": null,
            "grid_gap": null,
            "max_width": null,
            "order": null,
            "_view_module_version": "1.2.0",
            "grid_template_areas": null,
            "object_position": null,
            "object_fit": null,
            "grid_auto_columns": null,
            "margin": null,
            "display": null,
            "left": null
          }
        },
        "3a49b4df9a154d69b2243353c0d85102": {
          "model_module": "@jupyter-widgets/controls",
          "model_name": "FloatProgressModel",
          "state": {
            "_view_name": "ProgressView",
            "style": "IPY_MODEL_66952bc93ca54142804832eb21c5a805",
            "_dom_classes": [],
            "description": "Downloading: 100%",
            "_model_name": "FloatProgressModel",
            "bar_style": "success",
            "max": 28,
            "_view_module": "@jupyter-widgets/controls",
            "_model_module_version": "1.5.0",
            "value": 28,
            "_view_count": null,
            "_view_module_version": "1.5.0",
            "orientation": "horizontal",
            "min": 0,
            "description_tooltip": null,
            "_model_module": "@jupyter-widgets/controls",
            "layout": "IPY_MODEL_ddf73b6401fb414ab0cdb46f052ea1d8"
          }
        },
        "e2f594c342af4e89b56f3354afc7dc13": {
          "model_module": "@jupyter-widgets/controls",
          "model_name": "HTMLModel",
          "state": {
            "_view_name": "HTMLView",
            "style": "IPY_MODEL_a7a6af6586ec4d70b268317bf9c854df",
            "_dom_classes": [],
            "description": "",
            "_model_name": "HTMLModel",
            "placeholder": "​",
            "_view_module": "@jupyter-widgets/controls",
            "_model_module_version": "1.5.0",
            "value": " 28.0/28.0 [00:00&lt;00:00, 74.4B/s]",
            "_view_count": null,
            "_view_module_version": "1.5.0",
            "description_tooltip": null,
            "_model_module": "@jupyter-widgets/controls",
            "layout": "IPY_MODEL_a4650d857d0346ef908536ce04f3314f"
          }
        },
        "66952bc93ca54142804832eb21c5a805": {
          "model_module": "@jupyter-widgets/controls",
          "model_name": "ProgressStyleModel",
          "state": {
            "_view_name": "StyleView",
            "_model_name": "ProgressStyleModel",
            "description_width": "initial",
            "_view_module": "@jupyter-widgets/base",
            "_model_module_version": "1.5.0",
            "_view_count": null,
            "_view_module_version": "1.2.0",
            "bar_color": null,
            "_model_module": "@jupyter-widgets/controls"
          }
        },
        "ddf73b6401fb414ab0cdb46f052ea1d8": {
          "model_module": "@jupyter-widgets/base",
          "model_name": "LayoutModel",
          "state": {
            "_view_name": "LayoutView",
            "grid_template_rows": null,
            "right": null,
            "justify_content": null,
            "_view_module": "@jupyter-widgets/base",
            "overflow": null,
            "_model_module_version": "1.2.0",
            "_view_count": null,
            "flex_flow": null,
            "width": null,
            "min_width": null,
            "border": null,
            "align_items": null,
            "bottom": null,
            "_model_module": "@jupyter-widgets/base",
            "top": null,
            "grid_column": null,
            "overflow_y": null,
            "overflow_x": null,
            "grid_auto_flow": null,
            "grid_area": null,
            "grid_template_columns": null,
            "flex": null,
            "_model_name": "LayoutModel",
            "justify_items": null,
            "grid_row": null,
            "max_height": null,
            "align_content": null,
            "visibility": null,
            "align_self": null,
            "height": null,
            "min_height": null,
            "padding": null,
            "grid_auto_rows": null,
            "grid_gap": null,
            "max_width": null,
            "order": null,
            "_view_module_version": "1.2.0",
            "grid_template_areas": null,
            "object_position": null,
            "object_fit": null,
            "grid_auto_columns": null,
            "margin": null,
            "display": null,
            "left": null
          }
        },
        "a7a6af6586ec4d70b268317bf9c854df": {
          "model_module": "@jupyter-widgets/controls",
          "model_name": "DescriptionStyleModel",
          "state": {
            "_view_name": "StyleView",
            "_model_name": "DescriptionStyleModel",
            "description_width": "",
            "_view_module": "@jupyter-widgets/base",
            "_model_module_version": "1.5.0",
            "_view_count": null,
            "_view_module_version": "1.2.0",
            "_model_module": "@jupyter-widgets/controls"
          }
        },
        "a4650d857d0346ef908536ce04f3314f": {
          "model_module": "@jupyter-widgets/base",
          "model_name": "LayoutModel",
          "state": {
            "_view_name": "LayoutView",
            "grid_template_rows": null,
            "right": null,
            "justify_content": null,
            "_view_module": "@jupyter-widgets/base",
            "overflow": null,
            "_model_module_version": "1.2.0",
            "_view_count": null,
            "flex_flow": null,
            "width": null,
            "min_width": null,
            "border": null,
            "align_items": null,
            "bottom": null,
            "_model_module": "@jupyter-widgets/base",
            "top": null,
            "grid_column": null,
            "overflow_y": null,
            "overflow_x": null,
            "grid_auto_flow": null,
            "grid_area": null,
            "grid_template_columns": null,
            "flex": null,
            "_model_name": "LayoutModel",
            "justify_items": null,
            "grid_row": null,
            "max_height": null,
            "align_content": null,
            "visibility": null,
            "align_self": null,
            "height": null,
            "min_height": null,
            "padding": null,
            "grid_auto_rows": null,
            "grid_gap": null,
            "max_width": null,
            "order": null,
            "_view_module_version": "1.2.0",
            "grid_template_areas": null,
            "object_position": null,
            "object_fit": null,
            "grid_auto_columns": null,
            "margin": null,
            "display": null,
            "left": null
          }
        },
        "80179063f70c425e95f710de78470550": {
          "model_module": "@jupyter-widgets/controls",
          "model_name": "HBoxModel",
          "state": {
            "_view_name": "HBoxView",
            "_dom_classes": [],
            "_model_name": "HBoxModel",
            "_view_module": "@jupyter-widgets/controls",
            "_model_module_version": "1.5.0",
            "_view_count": null,
            "_view_module_version": "1.5.0",
            "box_style": "",
            "layout": "IPY_MODEL_099e321d56f14c719a7776e576ef6ed5",
            "_model_module": "@jupyter-widgets/controls",
            "children": [
              "IPY_MODEL_c4be4e78cf8848e6887f1aa7bc900308",
              "IPY_MODEL_38e17563bb4749f0a362aab5cf48885e"
            ]
          }
        },
        "099e321d56f14c719a7776e576ef6ed5": {
          "model_module": "@jupyter-widgets/base",
          "model_name": "LayoutModel",
          "state": {
            "_view_name": "LayoutView",
            "grid_template_rows": null,
            "right": null,
            "justify_content": null,
            "_view_module": "@jupyter-widgets/base",
            "overflow": null,
            "_model_module_version": "1.2.0",
            "_view_count": null,
            "flex_flow": null,
            "width": null,
            "min_width": null,
            "border": null,
            "align_items": null,
            "bottom": null,
            "_model_module": "@jupyter-widgets/base",
            "top": null,
            "grid_column": null,
            "overflow_y": null,
            "overflow_x": null,
            "grid_auto_flow": null,
            "grid_area": null,
            "grid_template_columns": null,
            "flex": null,
            "_model_name": "LayoutModel",
            "justify_items": null,
            "grid_row": null,
            "max_height": null,
            "align_content": null,
            "visibility": null,
            "align_self": null,
            "height": null,
            "min_height": null,
            "padding": null,
            "grid_auto_rows": null,
            "grid_gap": null,
            "max_width": null,
            "order": null,
            "_view_module_version": "1.2.0",
            "grid_template_areas": null,
            "object_position": null,
            "object_fit": null,
            "grid_auto_columns": null,
            "margin": null,
            "display": null,
            "left": null
          }
        },
        "c4be4e78cf8848e6887f1aa7bc900308": {
          "model_module": "@jupyter-widgets/controls",
          "model_name": "FloatProgressModel",
          "state": {
            "_view_name": "ProgressView",
            "style": "IPY_MODEL_a48e8852ea8a4b748cb99980a2fdf324",
            "_dom_classes": [],
            "description": "Downloading: 100%",
            "_model_name": "FloatProgressModel",
            "bar_style": "success",
            "max": 466062,
            "_view_module": "@jupyter-widgets/controls",
            "_model_module_version": "1.5.0",
            "value": 466062,
            "_view_count": null,
            "_view_module_version": "1.5.0",
            "orientation": "horizontal",
            "min": 0,
            "description_tooltip": null,
            "_model_module": "@jupyter-widgets/controls",
            "layout": "IPY_MODEL_5f877b5e17d1471682e9a9ef39123b47"
          }
        },
        "38e17563bb4749f0a362aab5cf48885e": {
          "model_module": "@jupyter-widgets/controls",
          "model_name": "HTMLModel",
          "state": {
            "_view_name": "HTMLView",
            "style": "IPY_MODEL_e1c7e6bfec08423d93a0781622a9d7ed",
            "_dom_classes": [],
            "description": "",
            "_model_name": "HTMLModel",
            "placeholder": "​",
            "_view_module": "@jupyter-widgets/controls",
            "_model_module_version": "1.5.0",
            "value": " 466k/466k [00:00&lt;00:00, 2.98MB/s]",
            "_view_count": null,
            "_view_module_version": "1.5.0",
            "description_tooltip": null,
            "_model_module": "@jupyter-widgets/controls",
            "layout": "IPY_MODEL_ef86889334714609855172cb5fb28561"
          }
        },
        "a48e8852ea8a4b748cb99980a2fdf324": {
          "model_module": "@jupyter-widgets/controls",
          "model_name": "ProgressStyleModel",
          "state": {
            "_view_name": "StyleView",
            "_model_name": "ProgressStyleModel",
            "description_width": "initial",
            "_view_module": "@jupyter-widgets/base",
            "_model_module_version": "1.5.0",
            "_view_count": null,
            "_view_module_version": "1.2.0",
            "bar_color": null,
            "_model_module": "@jupyter-widgets/controls"
          }
        },
        "5f877b5e17d1471682e9a9ef39123b47": {
          "model_module": "@jupyter-widgets/base",
          "model_name": "LayoutModel",
          "state": {
            "_view_name": "LayoutView",
            "grid_template_rows": null,
            "right": null,
            "justify_content": null,
            "_view_module": "@jupyter-widgets/base",
            "overflow": null,
            "_model_module_version": "1.2.0",
            "_view_count": null,
            "flex_flow": null,
            "width": null,
            "min_width": null,
            "border": null,
            "align_items": null,
            "bottom": null,
            "_model_module": "@jupyter-widgets/base",
            "top": null,
            "grid_column": null,
            "overflow_y": null,
            "overflow_x": null,
            "grid_auto_flow": null,
            "grid_area": null,
            "grid_template_columns": null,
            "flex": null,
            "_model_name": "LayoutModel",
            "justify_items": null,
            "grid_row": null,
            "max_height": null,
            "align_content": null,
            "visibility": null,
            "align_self": null,
            "height": null,
            "min_height": null,
            "padding": null,
            "grid_auto_rows": null,
            "grid_gap": null,
            "max_width": null,
            "order": null,
            "_view_module_version": "1.2.0",
            "grid_template_areas": null,
            "object_position": null,
            "object_fit": null,
            "grid_auto_columns": null,
            "margin": null,
            "display": null,
            "left": null
          }
        },
        "e1c7e6bfec08423d93a0781622a9d7ed": {
          "model_module": "@jupyter-widgets/controls",
          "model_name": "DescriptionStyleModel",
          "state": {
            "_view_name": "StyleView",
            "_model_name": "DescriptionStyleModel",
            "description_width": "",
            "_view_module": "@jupyter-widgets/base",
            "_model_module_version": "1.5.0",
            "_view_count": null,
            "_view_module_version": "1.2.0",
            "_model_module": "@jupyter-widgets/controls"
          }
        },
        "ef86889334714609855172cb5fb28561": {
          "model_module": "@jupyter-widgets/base",
          "model_name": "LayoutModel",
          "state": {
            "_view_name": "LayoutView",
            "grid_template_rows": null,
            "right": null,
            "justify_content": null,
            "_view_module": "@jupyter-widgets/base",
            "overflow": null,
            "_model_module_version": "1.2.0",
            "_view_count": null,
            "flex_flow": null,
            "width": null,
            "min_width": null,
            "border": null,
            "align_items": null,
            "bottom": null,
            "_model_module": "@jupyter-widgets/base",
            "top": null,
            "grid_column": null,
            "overflow_y": null,
            "overflow_x": null,
            "grid_auto_flow": null,
            "grid_area": null,
            "grid_template_columns": null,
            "flex": null,
            "_model_name": "LayoutModel",
            "justify_items": null,
            "grid_row": null,
            "max_height": null,
            "align_content": null,
            "visibility": null,
            "align_self": null,
            "height": null,
            "min_height": null,
            "padding": null,
            "grid_auto_rows": null,
            "grid_gap": null,
            "max_width": null,
            "order": null,
            "_view_module_version": "1.2.0",
            "grid_template_areas": null,
            "object_position": null,
            "object_fit": null,
            "grid_auto_columns": null,
            "margin": null,
            "display": null,
            "left": null
          }
        },
        "d5189a0d1da5482591fd6fd131abd4de": {
          "model_module": "@jupyter-widgets/controls",
          "model_name": "HBoxModel",
          "state": {
            "_view_name": "HBoxView",
            "_dom_classes": [],
            "_model_name": "HBoxModel",
            "_view_module": "@jupyter-widgets/controls",
            "_model_module_version": "1.5.0",
            "_view_count": null,
            "_view_module_version": "1.5.0",
            "box_style": "",
            "layout": "IPY_MODEL_a648772e4aca4238978bcad33f775f5d",
            "_model_module": "@jupyter-widgets/controls",
            "children": [
              "IPY_MODEL_a5f450e4a44340c6a6a8cddefca6907e",
              "IPY_MODEL_39c1645bbeeb49c5af8ef4c020021348"
            ]
          }
        },
        "a648772e4aca4238978bcad33f775f5d": {
          "model_module": "@jupyter-widgets/base",
          "model_name": "LayoutModel",
          "state": {
            "_view_name": "LayoutView",
            "grid_template_rows": null,
            "right": null,
            "justify_content": null,
            "_view_module": "@jupyter-widgets/base",
            "overflow": null,
            "_model_module_version": "1.2.0",
            "_view_count": null,
            "flex_flow": null,
            "width": null,
            "min_width": null,
            "border": null,
            "align_items": null,
            "bottom": null,
            "_model_module": "@jupyter-widgets/base",
            "top": null,
            "grid_column": null,
            "overflow_y": null,
            "overflow_x": null,
            "grid_auto_flow": null,
            "grid_area": null,
            "grid_template_columns": null,
            "flex": null,
            "_model_name": "LayoutModel",
            "justify_items": null,
            "grid_row": null,
            "max_height": null,
            "align_content": null,
            "visibility": null,
            "align_self": null,
            "height": null,
            "min_height": null,
            "padding": null,
            "grid_auto_rows": null,
            "grid_gap": null,
            "max_width": null,
            "order": null,
            "_view_module_version": "1.2.0",
            "grid_template_areas": null,
            "object_position": null,
            "object_fit": null,
            "grid_auto_columns": null,
            "margin": null,
            "display": null,
            "left": null
          }
        },
        "a5f450e4a44340c6a6a8cddefca6907e": {
          "model_module": "@jupyter-widgets/controls",
          "model_name": "FloatProgressModel",
          "state": {
            "_view_name": "ProgressView",
            "style": "IPY_MODEL_26a9120121f04085990df20d3c86dfd7",
            "_dom_classes": [],
            "description": "Downloading: 100%",
            "_model_name": "FloatProgressModel",
            "bar_style": "success",
            "max": 442,
            "_view_module": "@jupyter-widgets/controls",
            "_model_module_version": "1.5.0",
            "value": 442,
            "_view_count": null,
            "_view_module_version": "1.5.0",
            "orientation": "horizontal",
            "min": 0,
            "description_tooltip": null,
            "_model_module": "@jupyter-widgets/controls",
            "layout": "IPY_MODEL_5906bf3a622d4431bdc0c1fb875ae689"
          }
        },
        "39c1645bbeeb49c5af8ef4c020021348": {
          "model_module": "@jupyter-widgets/controls",
          "model_name": "HTMLModel",
          "state": {
            "_view_name": "HTMLView",
            "style": "IPY_MODEL_0511c1aa82534d34bfb7189832f0f946",
            "_dom_classes": [],
            "description": "",
            "_model_name": "HTMLModel",
            "placeholder": "​",
            "_view_module": "@jupyter-widgets/controls",
            "_model_module_version": "1.5.0",
            "value": " 442/442 [00:00&lt;00:00, 1.18kB/s]",
            "_view_count": null,
            "_view_module_version": "1.5.0",
            "description_tooltip": null,
            "_model_module": "@jupyter-widgets/controls",
            "layout": "IPY_MODEL_dd4b1b316a034453b02f41dad5944dce"
          }
        },
        "26a9120121f04085990df20d3c86dfd7": {
          "model_module": "@jupyter-widgets/controls",
          "model_name": "ProgressStyleModel",
          "state": {
            "_view_name": "StyleView",
            "_model_name": "ProgressStyleModel",
            "description_width": "initial",
            "_view_module": "@jupyter-widgets/base",
            "_model_module_version": "1.5.0",
            "_view_count": null,
            "_view_module_version": "1.2.0",
            "bar_color": null,
            "_model_module": "@jupyter-widgets/controls"
          }
        },
        "5906bf3a622d4431bdc0c1fb875ae689": {
          "model_module": "@jupyter-widgets/base",
          "model_name": "LayoutModel",
          "state": {
            "_view_name": "LayoutView",
            "grid_template_rows": null,
            "right": null,
            "justify_content": null,
            "_view_module": "@jupyter-widgets/base",
            "overflow": null,
            "_model_module_version": "1.2.0",
            "_view_count": null,
            "flex_flow": null,
            "width": null,
            "min_width": null,
            "border": null,
            "align_items": null,
            "bottom": null,
            "_model_module": "@jupyter-widgets/base",
            "top": null,
            "grid_column": null,
            "overflow_y": null,
            "overflow_x": null,
            "grid_auto_flow": null,
            "grid_area": null,
            "grid_template_columns": null,
            "flex": null,
            "_model_name": "LayoutModel",
            "justify_items": null,
            "grid_row": null,
            "max_height": null,
            "align_content": null,
            "visibility": null,
            "align_self": null,
            "height": null,
            "min_height": null,
            "padding": null,
            "grid_auto_rows": null,
            "grid_gap": null,
            "max_width": null,
            "order": null,
            "_view_module_version": "1.2.0",
            "grid_template_areas": null,
            "object_position": null,
            "object_fit": null,
            "grid_auto_columns": null,
            "margin": null,
            "display": null,
            "left": null
          }
        },
        "0511c1aa82534d34bfb7189832f0f946": {
          "model_module": "@jupyter-widgets/controls",
          "model_name": "DescriptionStyleModel",
          "state": {
            "_view_name": "StyleView",
            "_model_name": "DescriptionStyleModel",
            "description_width": "",
            "_view_module": "@jupyter-widgets/base",
            "_model_module_version": "1.5.0",
            "_view_count": null,
            "_view_module_version": "1.2.0",
            "_model_module": "@jupyter-widgets/controls"
          }
        },
        "dd4b1b316a034453b02f41dad5944dce": {
          "model_module": "@jupyter-widgets/base",
          "model_name": "LayoutModel",
          "state": {
            "_view_name": "LayoutView",
            "grid_template_rows": null,
            "right": null,
            "justify_content": null,
            "_view_module": "@jupyter-widgets/base",
            "overflow": null,
            "_model_module_version": "1.2.0",
            "_view_count": null,
            "flex_flow": null,
            "width": null,
            "min_width": null,
            "border": null,
            "align_items": null,
            "bottom": null,
            "_model_module": "@jupyter-widgets/base",
            "top": null,
            "grid_column": null,
            "overflow_y": null,
            "overflow_x": null,
            "grid_auto_flow": null,
            "grid_area": null,
            "grid_template_columns": null,
            "flex": null,
            "_model_name": "LayoutModel",
            "justify_items": null,
            "grid_row": null,
            "max_height": null,
            "align_content": null,
            "visibility": null,
            "align_self": null,
            "height": null,
            "min_height": null,
            "padding": null,
            "grid_auto_rows": null,
            "grid_gap": null,
            "max_width": null,
            "order": null,
            "_view_module_version": "1.2.0",
            "grid_template_areas": null,
            "object_position": null,
            "object_fit": null,
            "grid_auto_columns": null,
            "margin": null,
            "display": null,
            "left": null
          }
        },
        "34858b3b326a4f16ae481b0c62082fa2": {
          "model_module": "@jupyter-widgets/controls",
          "model_name": "HBoxModel",
          "state": {
            "_view_name": "HBoxView",
            "_dom_classes": [],
            "_model_name": "HBoxModel",
            "_view_module": "@jupyter-widgets/controls",
            "_model_module_version": "1.5.0",
            "_view_count": null,
            "_view_module_version": "1.5.0",
            "box_style": "",
            "layout": "IPY_MODEL_3d4def9d4fa14ea591b0113261d36270",
            "_model_module": "@jupyter-widgets/controls",
            "children": [
              "IPY_MODEL_4885d7d8f32740e5a3e14505693af085",
              "IPY_MODEL_14de8c7ba0c94baa8d3897b154619cc7"
            ]
          }
        },
        "3d4def9d4fa14ea591b0113261d36270": {
          "model_module": "@jupyter-widgets/base",
          "model_name": "LayoutModel",
          "state": {
            "_view_name": "LayoutView",
            "grid_template_rows": null,
            "right": null,
            "justify_content": null,
            "_view_module": "@jupyter-widgets/base",
            "overflow": null,
            "_model_module_version": "1.2.0",
            "_view_count": null,
            "flex_flow": null,
            "width": null,
            "min_width": null,
            "border": null,
            "align_items": null,
            "bottom": null,
            "_model_module": "@jupyter-widgets/base",
            "top": null,
            "grid_column": null,
            "overflow_y": null,
            "overflow_x": null,
            "grid_auto_flow": null,
            "grid_area": null,
            "grid_template_columns": null,
            "flex": null,
            "_model_name": "LayoutModel",
            "justify_items": null,
            "grid_row": null,
            "max_height": null,
            "align_content": null,
            "visibility": null,
            "align_self": null,
            "height": null,
            "min_height": null,
            "padding": null,
            "grid_auto_rows": null,
            "grid_gap": null,
            "max_width": null,
            "order": null,
            "_view_module_version": "1.2.0",
            "grid_template_areas": null,
            "object_position": null,
            "object_fit": null,
            "grid_auto_columns": null,
            "margin": null,
            "display": null,
            "left": null
          }
        },
        "4885d7d8f32740e5a3e14505693af085": {
          "model_module": "@jupyter-widgets/controls",
          "model_name": "FloatProgressModel",
          "state": {
            "_view_name": "ProgressView",
            "style": "IPY_MODEL_8279f1e78a274d209b928f0ca6eb8607",
            "_dom_classes": [],
            "description": "Downloading: 100%",
            "_model_name": "FloatProgressModel",
            "bar_style": "success",
            "max": 267967963,
            "_view_module": "@jupyter-widgets/controls",
            "_model_module_version": "1.5.0",
            "value": 267967963,
            "_view_count": null,
            "_view_module_version": "1.5.0",
            "orientation": "horizontal",
            "min": 0,
            "description_tooltip": null,
            "_model_module": "@jupyter-widgets/controls",
            "layout": "IPY_MODEL_1b42fc5795ff469fb7472013f5a9ccc1"
          }
        },
        "14de8c7ba0c94baa8d3897b154619cc7": {
          "model_module": "@jupyter-widgets/controls",
          "model_name": "HTMLModel",
          "state": {
            "_view_name": "HTMLView",
            "style": "IPY_MODEL_717d2a15965c420e96e254dc6cf48644",
            "_dom_classes": [],
            "description": "",
            "_model_name": "HTMLModel",
            "placeholder": "​",
            "_view_module": "@jupyter-widgets/controls",
            "_model_module_version": "1.5.0",
            "value": " 268M/268M [00:07&lt;00:00, 34.4MB/s]",
            "_view_count": null,
            "_view_module_version": "1.5.0",
            "description_tooltip": null,
            "_model_module": "@jupyter-widgets/controls",
            "layout": "IPY_MODEL_95d92184d7ae4738ac020dc634890f79"
          }
        },
        "8279f1e78a274d209b928f0ca6eb8607": {
          "model_module": "@jupyter-widgets/controls",
          "model_name": "ProgressStyleModel",
          "state": {
            "_view_name": "StyleView",
            "_model_name": "ProgressStyleModel",
            "description_width": "initial",
            "_view_module": "@jupyter-widgets/base",
            "_model_module_version": "1.5.0",
            "_view_count": null,
            "_view_module_version": "1.2.0",
            "bar_color": null,
            "_model_module": "@jupyter-widgets/controls"
          }
        },
        "1b42fc5795ff469fb7472013f5a9ccc1": {
          "model_module": "@jupyter-widgets/base",
          "model_name": "LayoutModel",
          "state": {
            "_view_name": "LayoutView",
            "grid_template_rows": null,
            "right": null,
            "justify_content": null,
            "_view_module": "@jupyter-widgets/base",
            "overflow": null,
            "_model_module_version": "1.2.0",
            "_view_count": null,
            "flex_flow": null,
            "width": null,
            "min_width": null,
            "border": null,
            "align_items": null,
            "bottom": null,
            "_model_module": "@jupyter-widgets/base",
            "top": null,
            "grid_column": null,
            "overflow_y": null,
            "overflow_x": null,
            "grid_auto_flow": null,
            "grid_area": null,
            "grid_template_columns": null,
            "flex": null,
            "_model_name": "LayoutModel",
            "justify_items": null,
            "grid_row": null,
            "max_height": null,
            "align_content": null,
            "visibility": null,
            "align_self": null,
            "height": null,
            "min_height": null,
            "padding": null,
            "grid_auto_rows": null,
            "grid_gap": null,
            "max_width": null,
            "order": null,
            "_view_module_version": "1.2.0",
            "grid_template_areas": null,
            "object_position": null,
            "object_fit": null,
            "grid_auto_columns": null,
            "margin": null,
            "display": null,
            "left": null
          }
        },
        "717d2a15965c420e96e254dc6cf48644": {
          "model_module": "@jupyter-widgets/controls",
          "model_name": "DescriptionStyleModel",
          "state": {
            "_view_name": "StyleView",
            "_model_name": "DescriptionStyleModel",
            "description_width": "",
            "_view_module": "@jupyter-widgets/base",
            "_model_module_version": "1.5.0",
            "_view_count": null,
            "_view_module_version": "1.2.0",
            "_model_module": "@jupyter-widgets/controls"
          }
        },
        "95d92184d7ae4738ac020dc634890f79": {
          "model_module": "@jupyter-widgets/base",
          "model_name": "LayoutModel",
          "state": {
            "_view_name": "LayoutView",
            "grid_template_rows": null,
            "right": null,
            "justify_content": null,
            "_view_module": "@jupyter-widgets/base",
            "overflow": null,
            "_model_module_version": "1.2.0",
            "_view_count": null,
            "flex_flow": null,
            "width": null,
            "min_width": null,
            "border": null,
            "align_items": null,
            "bottom": null,
            "_model_module": "@jupyter-widgets/base",
            "top": null,
            "grid_column": null,
            "overflow_y": null,
            "overflow_x": null,
            "grid_auto_flow": null,
            "grid_area": null,
            "grid_template_columns": null,
            "flex": null,
            "_model_name": "LayoutModel",
            "justify_items": null,
            "grid_row": null,
            "max_height": null,
            "align_content": null,
            "visibility": null,
            "align_self": null,
            "height": null,
            "min_height": null,
            "padding": null,
            "grid_auto_rows": null,
            "grid_gap": null,
            "max_width": null,
            "order": null,
            "_view_module_version": "1.2.0",
            "grid_template_areas": null,
            "object_position": null,
            "object_fit": null,
            "grid_auto_columns": null,
            "margin": null,
            "display": null,
            "left": null
          }
        }
      }
    }
  },
  "cells": [
    {
      "cell_type": "markdown",
      "metadata": {
        "id": "view-in-github",
        "colab_type": "text"
      },
      "source": [
        "<a href=\"https://colab.research.google.com/github/Sereniiti/models-exploration/blob/develop/Ayman/Final_Bert_detailed_7_categories.ipynb\" target=\"_parent\"><img src=\"https://colab.research.google.com/assets/colab-badge.svg\" alt=\"Open In Colab\"/></a>"
      ]
    },
    {
      "cell_type": "markdown",
      "metadata": {
        "id": "FktPcryGrr6l"
      },
      "source": [
        "Seneriiti with Bert - example used from the link:\n",
        "\n",
        "https://colab.research.google.com/github/jalammar/jalammar.github.io/blob/master/notebooks/bert/A_Visual_Notebook_to_Using_BERT_for_the_First_Time.ipynb#scrollTo=jK-CQB9-kN99\n",
        "\n",
        "### Dataset:\n",
        "The dataset we will contains sentences with 7 categories (from very violent to excellent).\n",
        "\n",
        "\n",
        "#### Under the hood, the model is actually made up of two model.\n",
        ">- **DistilBERT** processes the sentence and passes along some information it extracted from it on to the next model. DistilBERT is a smaller version of BERT developed and open sourced by the team at HuggingFace. It’s a lighter and faster version of BERT that roughly matches its performance.\n",
        ">- The next model, a **basic Logistic Regression model** from scikit learn will take in the result of DistilBERT’s processing, and classify the sentence as either positive or negative (1 or 0, respectively).\n",
        "\n",
        "\n",
        "![01.JPG](data:image/jpeg;base64,/9j/4AAQSkZJRgABAQEAkACQAAD/4RD0RXhpZgAATU0AKgAAAAgABAE7AAIAAAAOAAAISodpAAQAAAABAAAIWJydAAEAAAAcAAAQ0OocAAcAAAgMAAAAPgAAAAAc6gAAAAgAAAAAAAAAAAAAAAAAAAAAAAAAAAAAAAAAAAAAAAAAAAAAAAAAAAAAAAAAAAAAAAAAAAAAAAAAAAAAAAAAAAAAAAAAAAAAAAAAAAAAAAAAAAAAAAAAAAAAAAAAAAAAAAAAAAAAAAAAAAAAAAAAAAAAAAAAAAAAAAAAAAAAAAAAAAAAAAAAAAAAAAAAAAAAAAAAAAAAAAAAAAAAAAAAAAAAAAAAAAAAAAAAAAAAAAAAAAAAAAAAAAAAAAAAAAAAAAAAAAAAAAAAAAAAAAAAAAAAAAAAAAAAAAAAAAAAAAAAAAAAAAAAAAAAAAAAAAAAAAAAAAAAAAAAAAAAAAAAAAAAAAAAAAAAAAAAAAAAAAAAAAAAAAAAAAAAAAAAAAAAAAAAAAAAAAAAAAAAAAAAAAAAAAAAAAAAAAAAAAAAAAAAAAAAAAAAAAAAAAAAAAAAAAAAAAAAAAAAAAAAAAAAAAAAAAAAAAAAAAAAAAAAAAAAAAAAAAAAAAAAAAAAAAAAAAAAAAAAAAAAAAAAAAAAAAAAAAAAAAAAAAAAAAAAAAAAAAAAAAAAAAAAAAAAAAAAAAAAAAAAAAAAAAAAAAAAAAAAAAAAAAAAAAAAAAAAAAAAAAAAAAAAAAAAAAAAAAAAAAAAAAAAAAAAAAAAAAAAAAAAAAAAAAAAAAAAAAAAAAAAAAAAAAAAAAAAAAAAAAAAAAAAAAAAAAAAAAAAAAAAAAAAAAAAAAAAAAAAAAAAAAAAAAAAAAAAAAAAAAAAAAAAAAAAAAAAAAAAAAAAAAAAAAAAAAAAAAAAAAAAAAAAAAAAAAAAAAAAAAAAAAAAAAAAAAAAAAAAAAAAAAAAAAAAAAAAAAAAAAAAAAAAAAAAAAAAAAAAAAAAAAAAAAAAAAAAAAAAAAAAAAAAAAAAAAAAAAAAAAAAAAAAAAAAAAAAAAAAAAAAAAAAAAAAAAAAAAAAAAAAAAAAAAAAAAAAAAAAAAAAAAAAAAAAAAAAAAAAAAAAAAAAAAAAAAAAAAAAAAAAAAAAAAAAAAAAAAAAAAAAAAAAAAAAAAAAAAAAAAAAAAAAAAAAAAAAAAAAAAAAAAAAAAAAAAAAAAAAAAAAAAAAAAAAAAAAAAAAAAAAAAAAAAAAAAAAAAAAAAAAAAAAAAAAAAAAAAAAAAAAAAAAAAAAAAAAAAAAAAAAAAAAAAAAAAAAAAAAAAAAAAAAAAAAAAAAAAAAAAAAAAAAAAAAAAAAAAAAAAAAAAAAAAAAAAAAAAAAAAAAAAAAAAAAAAAAAAAAAAAAAAAAAAAAAAAAAAAAAAAAAAAAAAAAAAAAAAAAAAAAAAAAAAAAAAAAAAAAAAAAAAAAAAAAAAAAAAAAAAAAAAAAAAAAAAAAAAAAAAAAAAAAAAAAAAAAAAAAAAAAAAAAAAAAAAAAAAAAAAAAAAAAAAAAAAAAAAAAAAAAAAAAAAAAAAAAAAAAAAAAAAAAAAAAAAAAAAAAAAAAAAAAAAAAAAAAAAAAAAAAAAAAAAAAAAAAAAAAAAAAAAAAAAAAAAAAAAAAAAAAAAAAAAAAAAAAAAAAAAAAAAAAAAAAAAAAAAAAAAAAAAAAAAAAAAAAAAAAAAAAAAAAAAAAAAAAAAAAAAAAAAAAAAAAAAAAAAAAAAAAAAAAAAAAAAAAAAAAAAAAAAAAAAAAAAAAAAAAAAAAAAAAAAAAAAAAAAAAAAAAAAAAAAAAAAAAAAAAAAAAAAAAAAAAAAAAAAAAAAAAAAAAAAAAAAAAAAAAAAAAAAAAAAAAAAAAAAAAAAAAAAAAAAAAAAAAAAAAAAAAAAAAAAAAAAAAAAAAAAAAAAAAAAAAAAAAAAAAAAAAAAAAAAAAAAAAAAAAAAAAAAAAAAAAAAAAAAAAAAAAAAAAAAAAAAAAAAAAAAAAAAAAAAAAAAAAAAAAAAAAAAAAAAAAAAAAAAAAAAAAAAAAAAAAAAAAAAAAAAAAAAAAAAAAAAAAAAAAAAAAAAAAAAAAAAAAAAAAAAAAAAAAAAAAAAAAAAAAAAAAAAAAAAAAAAAAAAAAAAAAAAAAAAAAAAAAAAAAAAAAAAAAAAAAAAAAAAAAAAAAAAAAAAAAAAAAAAAAAAAAAAAAAAAAAAAAAAAAAAAAAAAAAAAAAAAAAAAAAAAAAAAAAAAAAAAAAAAAAAAAAAAAAAAAAAAAAAAAAAAAAAAAAAAAAAAAAAAAAAAAAAAAAAAAAAAAAAAAAAAAAAAAAAAAAAAAAAAAAAAAAAAAAAAAAAAAAAAAAAAAAAAAAAAAAAAAAAAAAAAAAAAAAAAAAAAAAAAAAAAAAAAAAAAAAAAAAAAAAAAAAAAAAAAAAAAAAAAAAAAAAAAAAAAAAAAAAAAAAAAAAAAAAAAAAAAAAAAAAAAAAAAAAAAAAAAAAAAAAAAAAAAAAAAAAAAAAAAAAAAAAAAAAAAAAAAAAAAAAAAAAAAAAAAAAAAAAAAAAAAAAAAAAAAAAAAAAAAAAAAAAAAAAAAAAAAAAAAAAAAAAAAAAAAAAAAAAAAAAAAAAAAAAAAAAAAAAAAAAAAAAAAAAAAAAAAAAAAAAAAAAAAAAAAAAAAAAAAAAAAAAAAAAAAAAAAAAAAAAAAAAAAAAAAAAAAAAAAAAAAAAAAAAAAAAAAAAAAAAAAAAAAAAAAAAAAAAAAAAAAAAAAAAAAAAAAAAAAAAAAAAAAAAAAAAAAAAAAAAAAAAAAAAAAAAAAAAAAAAAAAAAAAAAAAAAAAAAAAAFNIQVJBUkEgQXltYW4AAAWQAwACAAAAFAAAEKaQBAACAAAAFAAAELqSkQACAAAAAzQ1AACSkgACAAAAAzQ1AADqHAAHAAAIDAAACJoAAAAAHOoAAAAIAAAAAAAAAAAAAAAAAAAAAAAAAAAAAAAAAAAAAAAAAAAAAAAAAAAAAAAAAAAAAAAAAAAAAAAAAAAAAAAAAAAAAAAAAAAAAAAAAAAAAAAAAAAAAAAAAAAAAAAAAAAAAAAAAAAAAAAAAAAAAAAAAAAAAAAAAAAAAAAAAAAAAAAAAAAAAAAAAAAAAAAAAAAAAAAAAAAAAAAAAAAAAAAAAAAAAAAAAAAAAAAAAAAAAAAAAAAAAAAAAAAAAAAAAAAAAAAAAAAAAAAAAAAAAAAAAAAAAAAAAAAAAAAAAAAAAAAAAAAAAAAAAAAAAAAAAAAAAAAAAAAAAAAAAAAAAAAAAAAAAAAAAAAAAAAAAAAAAAAAAAAAAAAAAAAAAAAAAAAAAAAAAAAAAAAAAAAAAAAAAAAAAAAAAAAAAAAAAAAAAAAAAAAAAAAAAAAAAAAAAAAAAAAAAAAAAAAAAAAAAAAAAAAAAAAAAAAAAAAAAAAAAAAAAAAAAAAAAAAAAAAAAAAAAAAAAAAAAAAAAAAAAAAAAAAAAAAAAAAAAAAAAAAAAAAAAAAAAAAAAAAAAAAAAAAAAAAAAAAAAAAAAAAAAAAAAAAAAAAAAAAAAAAAAAAAAAAAAAAAAAAAAAAAAAAAAAAAAAAAAAAAAAAAAAAAAAAAAAAAAAAAAAAAAAAAAAAAAAAAAAAAAAAAAAAAAAAAAAAAAAAAAAAAAAAAAAAAAAAAAAAAAAAAAAAAAAAAAAAAAAAAAAAAAAAAAAAAAAAAAAAAAAAAAAAAAAAAAAAAAAAAAAAAAAAAAAAAAAAAAAAAAAAAAAAAAAAAAAAAAAAAAAAAAAAAAAAAAAAAAAAAAAAAAAAAAAAAAAAAAAAAAAAAAAAAAAAAAAAAAAAAAAAAAAAAAAAAAAAAAAAAAAAAAAAAAAAAAAAAAAAAAAAAAAAAAAAAAAAAAAAAAAAAAAAAAAAAAAAAAAAAAAAAAAAAAAAAAAAAAAAAAAAAAAAAAAAAAAAAAAAAAAAAAAAAAAAAAAAAAAAAAAAAAAAAAAAAAAAAAAAAAAAAAAAAAAAAAAAAAAAAAAAAAAAAAAAAAAAAAAAAAAAAAAAAAAAAAAAAAAAAAAAAAAAAAAAAAAAAAAAAAAAAAAAAAAAAAAAAAAAAAAAAAAAAAAAAAAAAAAAAAAAAAAAAAAAAAAAAAAAAAAAAAAAAAAAAAAAAAAAAAAAAAAAAAAAAAAAAAAAAAAAAAAAAAAAAAAAAAAAAAAAAAAAAAAAAAAAAAAAAAAAAAAAAAAAAAAAAAAAAAAAAAAAAAAAAAAAAAAAAAAAAAAAAAAAAAAAAAAAAAAAAAAAAAAAAAAAAAAAAAAAAAAAAAAAAAAAAAAAAAAAAAAAAAAAAAAAAAAAAAAAAAAAAAAAAAAAAAAAAAAAAAAAAAAAAAAAAAAAAAAAAAAAAAAAAAAAAAAAAAAAAAAAAAAAAAAAAAAAAAAAAAAAAAAAAAAAAAAAAAAAAAAAAAAAAAAAAAAAAAAAAAAAAAAAAAAAAAAAAAAAAAAAAAAAAAAAAAAAAAAAAAAAAAAAAAAAAAAAAAAAAAAAAAAAAAAAAAAAAAAAAAAAAAAAAAAAAAAAAAAAAAAAAAAAAAAAAAAAAAAAAAAAAAAAAAAAAAAAAAAAAAAAAAAAAAAAAAAAAAAAAAAAAAAAAAAAAAAAAAAAAAAAAAAAAAAAAAAAAAAAAAAAAAAAAAAAAAAAAAAAAAAAAAAAAAAAAAAAAAAAAAAAAAAAAAAAAAAAAAAAAAAAAAAAAAAAAAAAAAAAAAAAAAAAAAAAAAAAAAAAAAAAAAAAAAAAAAAAAAAAAAAAAAAAAAAAAAAAAAAAAAAAAAAAAAAAAAAAAAAAAAAAAAAAAAAAAAAAAAAAAAAAAAAAAAAAAAAAAAAAAAAAAAAAAAAAAAAAAAAAAAAAAAAAAAAAAAAAAAAAAAAAAAAAAAAAAAAAAAAAAAAAAAAAAAAAAAAAAAAAAAAAAAAAAAAAAAAAAAAAAAAAAAAAAAAAAAAAAAAAAAAAAAAAAAAAAAAAAAAAAAAAAAAAAAAAAAAAAAAAAAAAAAAAAAAAAAAAAAAAAAAAAAAAAAAAAAAAAAAAAAAAAAAAAAAAAAAAAAAAAAAAAAAAAAAAAAAAAAAAAAAAAAAAAAAAAAAAAAAAAAAAAAAAAAAAAAAAAAAAAAAAAAAAAAAAAAAAAAAAAAAAAAAAAAAAAAAAAAAAAAAAAAAAAAAAAAAAAAAAAAAAAAAAAAAAAAAAAAAAAAAAAAAAAAAAAAAAAAAAAAAAAAAAAAAAAAAAAAAAAAAAAAAAAAAAAAAAAAAAAAAAAAAAAAAAAAAAAAAAAAAAAAAAAAAAAAAAAAAAAAAAAAAAAAAAAAAAAAAAAAAAAAAAAAAAAAAAAAAAAAAAAAAAAAAAAAAAAAAAAAAAAAAAAAAAAAAAAAAAAAAAAAAAAAAAAAAAAAAAAAAAAAAAAAAAAAAAAAAAAAAAAAAAAAAAAAAAAAAAAAAAAAAAAAAAAAAAAAAAAAAAAAAAAAAAAAAAAAAAAAAAAAAAAAAAAAAAAAAAAAAAAAAAAAAAAAAAAAAAAAAAAAAAAAAAAAAAAAAAAAAAAAAAAAAAAAAAAAAAAAAAAAAAAAAAAAAAAAAAAAAAAAAAAAAAAAAAAAAAAAAAAAAAAAAAAAAAAAAAAAAAAAAAAAAAAAAAAAAAAAAAAAAAAAAAAAAAAAAAAAAAAAAAAAAAyMDIxOjA2OjI3IDE2OjU0OjA2ADIwMjE6MDY6MjcgMTY6NTQ6MDYAAABTAEgAQQBSAEEAUgBBACAAQQB5AG0AYQBuAAAA/+ELIGh0dHA6Ly9ucy5hZG9iZS5jb20veGFwLzEuMC8APD94cGFja2V0IGJlZ2luPSfvu78nIGlkPSdXNU0wTXBDZWhpSHpyZVN6TlRjemtjOWQnPz4NCjx4OnhtcG1ldGEgeG1sbnM6eD0iYWRvYmU6bnM6bWV0YS8iPjxyZGY6UkRGIHhtbG5zOnJkZj0iaHR0cDovL3d3dy53My5vcmcvMTk5OS8wMi8yMi1yZGYtc3ludGF4LW5zIyI+PHJkZjpEZXNjcmlwdGlvbiByZGY6YWJvdXQ9InV1aWQ6ZmFmNWJkZDUtYmEzZC0xMWRhLWFkMzEtZDMzZDc1MTgyZjFiIiB4bWxuczpkYz0iaHR0cDovL3B1cmwub3JnL2RjL2VsZW1lbnRzLzEuMS8iLz48cmRmOkRlc2NyaXB0aW9uIHJkZjphYm91dD0idXVpZDpmYWY1YmRkNS1iYTNkLTExZGEtYWQzMS1kMzNkNzUxODJmMWIiIHhtbG5zOnhtcD0iaHR0cDovL25zLmFkb2JlLmNvbS94YXAvMS4wLyI+PHhtcDpDcmVhdGVEYXRlPjIwMjEtMDYtMjdUMTY6NTQ6MDYuNDUwPC94bXA6Q3JlYXRlRGF0ZT48L3JkZjpEZXNjcmlwdGlvbj48cmRmOkRlc2NyaXB0aW9uIHJkZjphYm91dD0idXVpZDpmYWY1YmRkNS1iYTNkLTExZGEtYWQzMS1kMzNkNzUxODJmMWIiIHhtbG5zOmRjPSJodHRwOi8vcHVybC5vcmcvZGMvZWxlbWVudHMvMS4xLyI+PGRjOmNyZWF0b3I+PHJkZjpTZXEgeG1sbnM6cmRmPSJodHRwOi8vd3d3LnczLm9yZy8xOTk5LzAyLzIyLXJkZi1zeW50YXgtbnMjIj48cmRmOmxpPlNIQVJBUkEgQXltYW48L3JkZjpsaT48L3JkZjpTZXE+DQoJCQk8L2RjOmNyZWF0b3I+PC9yZGY6RGVzY3JpcHRpb24+PC9yZGY6UkRGPjwveDp4bXBtZXRhPg0KICAgICAgICAgICAgICAgICAgICAgICAgICAgICAgICAgICAgICAgICAgICAgICAgICAgICAgICAgICAgICAgICAgICAgICAgICAgICAgICAgICAgICAgICAgICAgICAgICAgIAogICAgICAgICAgICAgICAgICAgICAgICAgICAgICAgICAgICAgICAgICAgICAgICAgICAgICAgICAgICAgICAgICAgICAgICAgICAgICAgICAgICAgICAgICAgICAgICAgICAgCiAgICAgICAgICAgICAgICAgICAgICAgICAgICAgICAgICAgICAgICAgICAgICAgICAgICAgICAgICAgICAgICAgICAgICAgICAgICAgICAgICAgICAgICAgICAgICAgICAgICAKICAgICAgICAgICAgICAgICAgICAgICAgICAgICAgICAgICAgICAgICAgICAgICAgICAgICAgICAgICAgICAgICAgICAgICAgICAgICAgICAgICAgICAgICAgICAgICAgICAgIAogICAgICAgICAgICAgICAgICAgICAgICAgICAgICAgICAgICAgICAgICAgICAgICAgICAgICAgICAgICAgICAgICAgICAgICAgICAgICAgICAgICAgICAgICAgICAgICAgICAgCiAgICAgICAgICAgICAgICAgICAgICAgICAgICAgICAgICAgICAgICAgICAgICAgICAgICAgICAgICAgICAgICAgICAgICAgICAgICAgICAgICAgICAgICAgICAgICAgICAgICAKICAgICAgICAgICAgICAgICAgICAgICAgICAgICAgICAgICAgICAgICAgICAgICAgICAgICAgICAgICAgICAgICAgICAgICAgICAgICAgICAgICAgICAgICAgICAgICAgICAgIAogICAgICAgICAgICAgICAgICAgICAgICAgICAgICAgICAgICAgICAgICAgICAgICAgICAgICAgICAgICAgICAgICAgICAgICAgICAgICAgICAgICAgICAgICAgICAgICAgICAgCiAgICAgICAgICAgICAgICAgICAgICAgICAgICAgICAgICAgICAgICAgICAgICAgICAgICAgICAgICAgICAgICAgICAgICAgICAgICAgICAgICAgICAgICAgICAgICAgICAgICAKICAgICAgICAgICAgICAgICAgICAgICAgICAgICAgICAgICAgICAgICAgICAgICAgICAgICAgICAgICAgICAgICAgICAgICAgICAgICAgICAgICAgICAgICAgICAgICAgICAgIAogICAgICAgICAgICAgICAgICAgICAgICAgICAgICAgICAgICAgICAgICAgICAgICAgICAgICAgICAgICAgICAgICAgICAgICAgICAgICAgICAgICAgICAgICAgICAgICAgICAgCiAgICAgICAgICAgICAgICAgICAgICAgICAgICAgICAgICAgICAgICAgICAgICAgICAgICAgICAgICAgICAgICAgICAgICAgICAgICAgICAgICAgICAgICAgICAgICAgICAgICAKICAgICAgICAgICAgICAgICAgICAgICAgICAgICAgICAgICAgICAgICAgICAgICAgICAgICAgICAgICAgICAgICAgICAgICAgICAgICAgICAgICAgICAgICAgICAgICAgICAgIAogICAgICAgICAgICAgICAgICAgICAgICAgICAgICAgICAgICAgICAgICAgICAgICAgICAgICAgICAgICAgICAgICAgICAgICAgICAgICAgICAgICAgICAgICAgICAgICAgICAgCiAgICAgICAgICAgICAgICAgICAgICAgICAgICAgICAgICAgICAgICAgICAgICAgICAgICAgICAgICAgICAgICAgICAgICAgICAgICAgICAgICAgICAgICAgICAgICAgICAgICAKICAgICAgICAgICAgICAgICAgICAgICAgICAgICAgICAgICAgICAgICAgICAgICAgICAgICAgICAgICAgICAgICAgICAgICAgICAgICAgICAgICAgICAgICAgICAgICAgICAgIAogICAgICAgICAgICAgICAgICAgICAgICAgICAgICAgICAgICAgICAgICAgICAgICAgICAgICAgICAgICAgICAgICAgICAgICAgICAgICAgICAgICAgICAgICAgICAgICAgICAgCiAgICAgICAgICAgICAgICAgICAgICAgICAgICAgICAgICAgICAgICAgICAgICAgICAgICAgICAgICAgICAgICAgICAgICAgICAgICAgICAgICAgICAgICAgICAgICAgICAgICAKICAgICAgICAgICAgICAgICAgICAgICAgICAgICAgICAgICAgICAgICAgICAgICAgICAgICAgICAgICAgICAgICAgICAgICAgICAgICAgICAgICAgICAgICAgICAgICAgICAgIAogICAgICAgICAgICAgICAgICAgICAgICAgICAgICAgICAgICAgICAgICAgICAgICAgICAgICAgICAgICAgICAgICAgICAgICAgICAgICAgICAgICAgICAgICAgICAgICAgICAgCiAgICAgICAgICAgICAgICAgICAgICAgICAgICA8P3hwYWNrZXQgZW5kPSd3Jz8+/9sAQwAHBQUGBQQHBgUGCAcHCAoRCwoJCQoVDxAMERgVGhkYFRgXGx4nIRsdJR0XGCIuIiUoKSssKxogLzMvKjInKisq/9sAQwEHCAgKCQoUCwsUKhwYHCoqKioqKioqKioqKioqKioqKioqKioqKioqKioqKioqKioqKioqKioqKioqKioqKioq/8AAEQgBWwPNAwEiAAIRAQMRAf/EAB8AAAEFAQEBAQEBAAAAAAAAAAABAgMEBQYHCAkKC//EALUQAAIBAwMCBAMFBQQEAAABfQECAwAEEQUSITFBBhNRYQcicRQygZGhCCNCscEVUtHwJDNicoIJChYXGBkaJSYnKCkqNDU2Nzg5OkNERUZHSElKU1RVVldYWVpjZGVmZ2hpanN0dXZ3eHl6g4SFhoeIiYqSk5SVlpeYmZqio6Slpqeoqaqys7S1tre4ubrCw8TFxsfIycrS09TV1tfY2drh4uPk5ebn6Onq8fLz9PX29/j5+v/EAB8BAAMBAQEBAQEBAQEAAAAAAAABAgMEBQYHCAkKC//EALURAAIBAgQEAwQHBQQEAAECdwABAgMRBAUhMQYSQVEHYXETIjKBCBRCkaGxwQkjM1LwFWJy0QoWJDThJfEXGBkaJicoKSo1Njc4OTpDREVGR0hJSlNUVVZXWFlaY2RlZmdoaWpzdHV2d3h5eoKDhIWGh4iJipKTlJWWl5iZmqKjpKWmp6ipqrKztLW2t7i5usLDxMXGx8jJytLT1NXW19jZ2uLj5OXm5+jp6vLz9PX29/j5+v/aAAwDAQACEQMRAD8A+kaKKKACiiigAooooAKKKKACiiigAooooAKKKKACiiigAooooAKKKKACiiigAooooAKKKKACiiigAooooAKKKKACiiigAooooAKKKKACiiigAooooAKKKKACiiigAooooAKKKKACiiigAooooAKKKKACiiigAooooAKKKKACiiigAooooAKKKKACiiigAooooAKKKKACiiigAooooAKKKKACiiigAooooAKKKKACiiigAooooAKKKKACiiigAooooAKKKKACiiigAooooAKKKKACiiigAooooAKKKKACiiigAooooAKKKKACiiigAooooAKKKKACiiigAooooAKKKKACiiigAooooAKKKKACiiigAooooAKKKKACiiigAooooAKKKKACiiigAooooAKKKKACiiigAooooAKKKKACiiigAooooAKKKKACiiigAooooAKKKKACiiigAooooAKKKKACiiigAooooAKKKKACiiigAooooAKKKKACiiigAooooAKKKKACiiigAooooAKKKKACiiigAooooAKKKKACiiigAorm/HvieTwp4Xa8s44Zb+5uIrOyjnbbG00rhV3H+6Mlj7A1l+Dp7y81h3f4kWPiXykIubC0gtgsTdiDGS6gHjDFs0AdxRRRQAUUUUAFFFFABRRRQAUUUUAFFFFABRRRQAUUUUAFFFFABRRRQAUUUUAFFFFABRRRQAUUUUAFFFFABRRRQAUUUUAFFFFABRRRQAUUUUAFFFFABRRRQAUUUUAFFFFABRRRQAUUUUAFFFFABRRRQAUUUUAFFFFABRRRQAUUUUAFFFFABRRRQAUUUUAFFFFABRRRQAUUUUAFFFFABRRRQAUUUUAFFFFABRRRQAUUUUAFFFFABRRRQAUUUUAFFFFABRRRQAUUUUAFFFFABRRRQAUUUUAFFFFABRRRQAUUUUAFFFFABRRRQAUUUUAFFFFAHn3xo0x7/wAE2lx9gOo2+m6ra313aLH5hmgR/wB4u3uNrHI9M1gQXfh7xV8WPCd78OoYZIdMS5bU76ytzFEkLR7UhY7QGYscheq4JwK9gooAKKKKACiobu7gsLSS5u5BFDGMs57UWl5b31us9nMk0TdGQ5FOztfoK6vYmooopDCiiigDD1fXbyz16w0nTLCC6nu4ZZi1xdGFUVCg6hHJJ3+g6Vetb2dEjTWlsrK6mkKQxRXZlEmBngsiEng8AHgZrnPEFrLd/EjQo7e+uLF/sN2fNt1jLfei4+dWGPwqx4st0tvBrwXl5d3t60qCxmxGs5ud2YtuxVUEHvj7u7PGazu9SbvU6RLmCS5lt45o2nhCtJErgsgbO0kdRnBx64NVrDXNJ1WV4tL1SyvZIxl0t7hJCo9SFJxXCTM8fw51/wC3bv7Y+0Aaz6kF0DY/6ZeT93/Z9811+tC3/saU6Z9n/tH7BP8A2b5e3zMbB/qsc4zs+7/s+1NSbC5ch1vSrjUX0+31OzlvUJD2yXCNIpHXKg5GKwr7xTe23h/xVfRxW5l0e4eK3DK21gsUbjdzycuemOMVmWOkT6j4R0Mf23o8GnxyW01q0FgyOsgYEKrmcjexyp4ydzDHNV9W/wCRL+If/X5L/wCk0NS5Owrux3t/qVjpduJ9TvLezhLBRJcSrGufTJIGeKE1KxktIbqO9t2t52VIpllUpIzHChWzgkngY6muY1ZL+T4lWi213Z2x/s1jam8tmmBfzP3uwCRMNt2Z6nFZWsaHHFpNxBe3lnqCah4hszcwW0HlRxs0kQdSu9yC33jk8ls96bk9R3Z29prelX8c8ljqdncpbDM7Q3COIhz94g8dD19DWf4e8YaX4ikuYbW7tDPDcSxpDHdLI0kaNgSADnaeD6c9TVa/RLX4jeHxbRrEJbC7hcIMZRDCVX6Ak49MmpPBh/0bWB3XWbvI9MyE/wAiD+NO7vYLu50dFFFWUFFFFABRRRQAUUUUAFFFFABRRRQAUUUUAFFFFABRRRQAUUUUAFFFFABRRRQAUUUUAFFFFABRRRQAUUUUAFFFFABRRRQAUUUUAFFFFABRRRQAUUUUAFFFFABRRRQAUUUUAFFFFABRRRQAUUUUAFFFFABRRRQAUUUUAFFFFABRRRQAUUUUAFFFFABRRRQAUUUUAFFFFABRRRQAUUUUAFFFFABRRRQAUUUUAFFFFABRRRQAUUUUAFFFFABRRRQAUUUUAUNZ1i30PTjeXaSPGGC4iAJyfqRXPf8ACzNH/wCfa+/79p/8VXYUVtCVNL3o3+ZlONRv3ZW+Rx//AAszR/8An2vv+/af/FUf8LM0f/n2vv8Av2n/AMVXYUVfPR/k/H/gEclb+f8AD/gnH/8ACzNH/wCfa+/79p/8VR/wszR/+fa+/wC/af8AxVdhRRz0f5Px/wCAHJW/n/D/AIJx/wDwszR/+fa+/wC/af8AxVH/AAszR/8An2vv+/af/FV2FFHPR/k/H/gByVv5/wAP+CcXN8RdCuIXhnsrySNxhkaJCCP++q5SbWrHTb37X4UlvrNmPz28yqYyP++j+RB+teraldS2enTXFvbPdSxrlYU6ua5OPQNa8TyLP4luGtLTOUsoeD+Pp+OT9K6qFSlFN2svW9/lY5q1Oq2le79LW+dy54X8Zx67ILW4tniugMkxqWjb3z/D+P511NVbDTbPS7YQWFukMY7KOT7k9SfrVquCrKEpXgrI7aamo2m7sKKKKzNClqOjaXq/l/2tptpfeVny/tMCybM4zjcDjOB+VNs9C0jTyhsNKsrUxuXTybdE2sRtJGBwSOM+lX6KVkBEtrbpdSXKQRrPIoR5QgDMozgE9SBk4+tVtP0PSdJd30rS7KyaQYdra3SMsPQ7QM1eoosgKEWg6RDqR1GHSrKO+Zixukt0EpJ6nfjOTk5qZ9OspIbiGSzt2iumLXCNEpWYkAEsMfMcADnsBVmiiyArX+m2OqW4g1Ozt7yEMGEdxEsi59cEEZ5pItL0+GzitIbG2jtoHEkUKQqEjYNuDKuMAhucjvzVqiiyAie2gkuYriSGNp4QyxysgLIGxuAPUZwM+uBUK6Vp6am+pJYWq30i7XuhColYYAwXxkjAA69hVuimAUUUUAFFFFABRRRQAUUUUAFFFFABRRRQAUUUUAFFFFABRRRQAUUUUAFFFFABRRRQAUUUUAFFFFABRRRQAUUUUAFFFFABRRRQAUUUUAFFFFABRRRQAUUUUAFFFFABRRRQAUUUUAFFFFABRRRQAUUUUAFFFFABRRRQAUUUUAFFFFABRRRQAUUUUAFFFFABRRRQAUUUUAFFFFABRRRQAUUUUAFFFFABRRRQAUUUUAFFFFABRRRQAUUUUAFFFFABRRRQAUUUUAFFFFABRRRQBi+LfFNp4O8PSavf291cxJLHEIbRFaR2dwigBmUdWHeoNA8VXGu30lvN4X13SFSMuJ9RhiSNjkDaCkjHPOemMA803x34Wl8Y+Fn0m2v10+U3EM6XDQ+aFMciuPl3Ln7vrWDp2veKdB+I2m+GPFV5p+r22sW00tpeWtqbaSN4gCyum5htIIwQetAHoNFFFABRRRQAUUUUAFFFFABRTJ54raB5rmVIYkGXkkYKqj1JPSq1lrGm6lIyadqNpdugyywTq5UepwaV1ewXLlFFFMAooqC5vbeze3S4k2NcyiGIbSdz4LY46cKevpRsBPRRRQAUUUUAFFFFABRRRQAUUUUAFFFFABRRRQAUUUUAFFFFABRRRQAUUUUAFFFFABRRRQAUUUUAFFFFABRRRQAUUUUAFFFFABRRRQAUUUUAFFFFABRRRQAUUUUAFFFFABRRRQAUUUUAFFFFABRRRQAUUUUAFFFFABRRRQAUUUUAFFFNZwo5NADqM1l3etQW5Kg729FrMk8QTs37uNVHuc159fMsLQfLOevlqdFPDVaivFHT5FGRXKf27d/9M/yP+NJ/bt3/ANM/yP8AjXJ/bmD7v7jb6jWOsyKMiuT/ALdu/wDpn+R/xo/t27/6Z/kf8aP7cwfd/cH1GsdZkUZFcn/bt3/0z/I/40f27d/9M/yP+NH9uYPu/uD6jWOsyKMiuT/t27/6Z/kf8aP7du/+mf5H/Gj+3MH3f3B9RrHWZFGRXJ/27d/9M/yP+NH9u3f/AEz/ACP+NH9uYPu/uD6jWOsyKMiuT/t27/6Z/kf8aP7du/8Apn+R/wAaP7cwfd/cH1GsdZkUZFcn/bt3/wBM/wAj/jR/bt3/ANM/yP8AjR/bmD7v7g+o1jrMijIrk/7du/8Apn+R/wAaP7du/wDpn+R/xo/tzB939wfUax1mRRkVyf8Abt3/ANM/yP8AjR/bt3/0z/I/40f25g+7+4PqNY6zIoyK5P8At27/AOmf5H/Gj+3bv/pn+R/xo/tzB939wfUax1mRRkVyf9u3f/TP8j/jR/bt3/0z/I/40f25g+7+4PqNY6zIoyK5P+3bv/pn+R/xo/t27/6Z/kf8aP7cwfd/cH1GsdZkUZFcn/bt3/0z/I/40f27d/8ATP8AI/40f25g+7+4PqNY6zIozXKf27d/9M/yP+NOXX7kfeVD9Mims7wb6v7g+o1ux1NFYtt4gikIWYGM+p6VrRzLKoKkEGvTo4ilXjzUpXOWdOdN2krElFFFbmYUUUUAFFFFABRRRQBm67o39uaetsNS1DTWSQSLcafP5UgIBGDwQw56EEdPSsrQPAlhoesPq89/qWs6q0XkLe6pcCV4o85KIFVVUE9cAZrp6KACiiigAoqtqNtNeadNb21y1rLIuEmTqhrk4/EOs+GZVt/E9u1za52pewjP5+v44P1raFJ1F7r17GU6qg/eWnc7Wiq1jqFpqdsLixnSeM91PT2I7H61ZrJpp2ZommroKKKKQzAuUS/8dQWt2BJDZ2Yu4Ym+75pkKh8dyoXj03Z61MNVik160tb3R7i3uXEv2aeYQsAABuwVdiMjHYZqfU9IN7cQXlnctZX9uCsc6qGDKeqOp+8pwDjgggEEVFDpF5Lq9tqGq30M72qusKW1sYl+cAMW3O5PQYwR+NZWkn8yNbmba3Gsar4ffXLfU2tncNNb2YhjaEIpO1XJXeSQOSGXrwOKlj1a6129sLaxnbT4ptPS/lkjVXkw/CoNwKjuScHoMYqRfDl5b2MumWWqLBpkjNiP7NumiRjlkSTdgDkgEqSAepwDVifQjHdWt1o06WU9vB9lAkiMsbw9lK7lOQRkEEdTnOalKYrMzZ9dv9ItdZtpnW9ubDyTbzyqF3iZiqBwuBlWByRjIx0PNR6rZajaar4f+1aq1/C2oKGE0KIyyCKTlSgA2kZ4OTwOetag8Nxz2WoR6ncNcXGoY8+eNfL27fuBF52heoznnOc1E2gajd3un3Op6usxsZRIkcNr5SOdrKSw3n5ueowBzxzScZP+vMLM36KKK6DQKKKKACiiigAooooAKKKKACiiigAooooAKKKKACiiigAooooAKKKKACiiigAooooAKKKKACiiigAooooAKKKKACiiigAooooAKKKKACiiigAooooAKKKKACiiigAooooAKKKKACiiigAooooAKKKKACiiigAooooAKKKKAGu4RSTXNarqzyOYoGwBwzCr2t3phhKIfmbgVzOa+azzMJUIqhTdm935f8E9LA4dTfPLZBRRmjNfFcx7YUUZozRzAFFGaM0cwBRRmjNHMAUUZozRzAFFGaM0cwBRRmjNHMAUUZozRzAFFGaM0cwBRRmjNHMAUUZozRzAFFGaM0cwBRRmjNHMAUUZozRzAFFGaM0cwBV2w1GSzkAJJjzyPSqWaM1tQxNTD1FUpuzRFSnGpHlkdxbXCzxhlOQRU9cvod6Ul8ljweRXTqciv0rCYiOJoRqx6/0z5qrTdKbg+gtFFFdRkUNZ0e31zTjZ3byJGWDZiIByPqDXPf8ACs9H/wCfm+/7+J/8TXYUVtCtUgrRdjKdGnN3krnH/wDCs9H/AOfm+/7+J/8AE0f8Kz0f/n5vv+/if/E12FFX9arfzEfVqP8AKcf/AMKz0f8A5+b7/v4n/wATR/wrPR/+fm+/7+J/8TXYUUfWq38wfVqP8px//Cs9H/5+b7/v4n/xNH/Cs9H/AOfm+/7+J/8AE12FFH1qt/MH1aj/ACnGTfDnQreFpZ728jjQZZ2lQAD67a5O40aw1C9+x+FIr69dT888rKIwP++Rx7kj6GvWbyzgv7SS1vIxLDIMOhJGfypLOytrC2WCyhSGJeioMf8A661p4ycVeTbf4GU8JCTskkvxOd8LeDBoUgurm6eS6IwVjYrGPb/a/H8q6miiuWpUlUlzSZ1U6caceWIUUUVmWFFFFABRRRQAUUUUAFFFFABRRRQAUUUUAFFFFABRRRQAUUUUAFFFFABRRRQAUUUUAFFFFABRRRQAUUUUAFFFFABRRRQAUUUUAFFFFABRRRQAUUUUAFFFFABRRRQAUUUUAFFFFABRRRQAUUUUAFFFFABRRRQAUUUUAFFFFABRRRQAUUUUAFFFFABSMcKaWmyfcNAHI61MZL7b2UVn1Y1I51KX6D+tVq/N88m/r812t+SPosEv3C+f5i0UlFeLzHYLRSUUcwC0UlFHMAtFJRRzALRSUUcwC0UlFHMAtFJRRzALRSUUcwC0UlFHMAtFJRRzALRSUUcwC0UlFHMAtFJRRzALRSUUcwC0UlFHMAtFJRRzAS28hiuY2H96u2tm3QqfauEzhl/3h/Ou3sTm2X6V9/w5Jywb8pP8keFmCtWXoWqKKK+jPOCiiigAooooACcDJ4FcN4N+JcfjLxdqmlWmlvBZWkIntL9ps/bIzI0e8JtG1SyNg5ORg8Zo+K+oajB4Xh03TLHU501WcWt5cabavcSWtuRmRgqAncVBUHsWz2rlPCHiHTx8bri107Q9ZsbVtDtbOCGfS5YvICPJguCPkTHAY8E8UAeyUUUUAFFFFABRRRQAUUUUAFFRXM/2e3aTbubgKucbmJwB+ZpLS4F1apMF27hypP3SOCPzpXV7CvrYmoqJbq3eYwpPE0ozlA4LDHtQbq3WfyWniEv/ADzLjd+VF0F0S0VFLdW8DhJp442boruATTpJ4os+bKiYG47mAwPWi6HcfRVae+gisXulljdACVIcYYjsD606G9t5rbzlmj2AAuQ4IX2JpcyvYV0T0VEtzFLbvLbyxyhQeUYMM46cVFaX0U8MAkliE8sauYwwzyueB1o5lcLotUVXinZ9QngIG2NEYEded2f5U+K6t52KwTxyMvUI4JH5U+ZMLktFIzqmN7BckAZOMk9qZFcwTswgmjkK/eCODj8qLoZJRUTXVukwheeJZSQAhcBjn2pZriC3ANxNHEG6b2C5/Oi6FdElFQtKy3SgvCIvLLMCfm4I5+lQW2pQ3ayiKWHzEZgq+YDkD+L6UuZXsF0XaKitpfNhXfJE8m0F/KbI5HUe3pStPCqO7SoEQ4Ziwwp9D6U7q1wuSUUyKaKdN8EiSLnG5GBH6U+mMKKKKACiiigAoorM8Q3r2WiytC22aUiKNvQscZ/AZP4VMpKKbYm7K5mav4jlad7XSmCBCVkuSAee4QdOPU8e1YEsQuDm7Z7lu5mcv/OlRVjjVEGFUYApc150pObvI45SctyH7BZ/8+kH/fsf4UfYLP8A59IP+/Y/wqbNGajlj2JsiH7BZ/8APpB/37H+FH2Cz/59IP8Av2P8KmzRmjlj2CyIfsFn/wA+kH/fsf4UfYLP/n0g/wC/Y/wqbNGaOWPYLIh+wWf/AD6Qf9+x/hR9gs/+fSD/AL9j/Cps0Zo5Y9gsiH7BZ/8APpB/37H+FH2Cz/59IP8Av2P8KmzRmjlj2CyIfsFn/wA+kH/fsf4UfYLP/n0g/wC/Y/wqbNGaOWPYLIh+wWf/AD6Qf9+x/hR9gs/+fSD/AL9j/Cps0Zo5Y9gsiH7BZ/8APpB/37H+FH2Cz/59IP8Av2P8KmzRmjlj2CyIfsFn/wA+kH/fsf4UfYLP/n0g/wC/Y/wqbNGaOWPYLIh+wWf/AD6Qf9+x/hR9gs/+fSD/AL9j/Cps0Zo5Y9gsiH7BZ/8APpB/37H+FH2Cz/59IP8Av2P8KmzRmjlj2CyIfsFn/wA+kH/fsf4UfYLP/n0g/wC/Y/wqbNGaOWPYLIbFELc5tGe2bsYXKfyre0nxHKkyWuqsHVyFjuQAOewcdOfUflWHmkdVkjZHGVYYI9auMnB3iVGTjseiUVl+Hbx73RYzM26aImKRj3Kng/iMH8a1K9GMlJJo7E7q4UUUVQwooooAKKKKACiiigAooooAKZL/AKs0+mS/6s0AcTqJ/wCJnL9B/Wq2asal/wAhOX6D+tVq/MM+dsxqfL/0lH0mC/3ePz/MXNGaSivF5jsFzRmkoo5gFzRmkoo5gFzRmkoo5gFzRmkoo5gFzRmkoo5gFzRmkoo5gFzRmkoo5gFzRmkoo5gFzRmkoo5gFzRmkoo5gFzRmkoo5gFzRmkoo5gFzRmkoo5gFzRmkoo5gFzRmkoo5gDPK/7w/nXc2H/Hsv0rhv4l/wB4fzrubD/j2X6V+hcMu+Dl/if5I8HMf4q9P1Zaooor6c80KKoazo9vrmnGzu3kSMsGzEQDkfUGue/4Vno//Pzff9/E/wDia2hGm170rfIynKon7sb/ADOworj/APhWej/8/N9/38T/AOJo/wCFZ6P/AM/N9/38T/4mr5KP8/4f8Ejnrfyfj/wDsKoR6Hp0XiCfXI7fGo3FultJNvb5o1JZV252jBY84zXPf8Kz0f8A5+b7/v4n/wATR/wrPR/+fm+/7+J/8TRyUf5/w/4Ic9b+T8f+AdhRXH/8Kz0f/n5vv+/if/E0f8Kz0f8A5+b7/v4n/wATRyUf5/w/4Ic9b+T8f+AdPqNtNeadNb21y1rLIuEmTqhrk4/EOs+GZVt/E9u1za52pewjP5+v44P1p03w50K3haWe9vI40GWdpUAA+u2uTuNGsNQvfsfhSK+vXU/PPKyiMD/vkce5I+hrpoU6Uk43uvS1vnc5q1SrFp2s/W9/lY9WsdQtNTthcWM6Txnup6exHY/WrNct4W8GDQpBdXN08l0RgrGxWMe3+1+P5V1NcNWMIytB3R205TlG81ZhRRRWZoULxpZr+CGBEfyR5zh3Kj0XkA+5/CoVa4gN9CyKkkkbTxCNy3OMHnA74P41qBFV2YKAzY3EDk0FFLq5UFlztYjkZ61m4Nu9yeUq2f2b7BabfL27V8vOPvY7e/X9ah0wwnSUM+z7583fj7+7v75x+lXEtbeOYypBEshyS4QBjnrzQbW3M/nGCIy9fMKDd+dHK9AszOt45pJL5fNt1zKwkWWEsduOMncOMU2OOGHUdPjmlWXbbEROf4myuCPwzWnLaW87Bp4IpGAwC6AkfnUUtmJ75ZZVR4vJaNkYZySykcfhUuDQuUpyAEax5Q+Qx9um/Yc/j0qeaby7C02JG7SMioXGVUkcNV2ONIYwkSKiDoqjAH4VGtnbJE0S28Sxt95AgwfqKfIw5WZ8LP8A2pfLJLHI3kLu8tdoz83UZPNQr5H/AAi0It9u/CBQvXzeP1zWxHbQRDEUMaDGMKgHHp+tItpbpKJUgiWRRgOEAIGMYz9KXs3b7/xDlZl3+7zNT2cfuYc/7uWz+mas/Z5HntXkubfEZJjEcW0sNvQHceMc/hV8IocuFAZgAWA5OOlRxWlvA5eCCKNiMFkQAn8qfJrf+t7hy6lTWTGLJPPx5fnx789Nu4Z/Sll2f2rZeRtzsfO3+5jj8M4qe8ga4jjVCAUmRzn0DAmpIbaC33eRDHFu67EAz+VNxbl9w7ambbeT/wAI/J9o29H87d135Oc++f6U9Y5ljhuRJGbmO2VZo5T1HU8/wng84NXmtbdphM0ERlHRyg3fnRLa29wwM8EcpXoXQHH50uR2FylK3kWbUbSRE8tXs2ITH3RuTinWf/Hre/8AXeX+dX9i+YH2jeBgNjnHpTPs8HnNL5MfmMMF9o3EfWnyNDsZMcy2FrY3j/6trVY3+oXcv9R+NK0EsJ05C6KzM7u0qFgZCM9MjnritYwRNEImiQxrjCFRgY6cUskaSxlJUV0PVWGQan2YuUq20DR300sk8TyOqhkjTbjGcE8nnt+FXKZFBFAmyCJIlznCKAM/hT60irIpKwUUUVQwooooAK57xgf9BsR2N2M/9+5K6Gue8Y/8eVj/ANff/tKSsa38NkVPhZzeaM0maM1wHGLmjNJmjNAC5ozSZozQAuaM0maM0ALmjNJmjNAC5ozSZozQAuaM0maM0ALmjNJmjNAC5ozSZozQAuaM0maM0ALmjNJmjNAC5ozSZozQAuaM0maM0ALmjNJmjNAHS+Dz/oV9/wBff/tOOuhrnvB3/Hlff9ff/tKOuhrvo/w0dlP4UFFFFbFhRRRQAUUUUAFFFFABRRRQAUyX/Vmn0yX/AFZoA4jU/wDkJy/Qf1qrVnU/+QnJ9B/Wqua/K+IHbMqny/8ASUfS4H/d4/P82LRSZozXh8x2C0UmaM0cwHEWPjfX9VF/NpPhNLu1sryW1LDU1WSQxtgkIUx743fjXR+HfENn4m0hb+wEiAO0UsMy7ZIZFOGRx2IrnPhgwXR9dLHAGu3hJPb5hWLpOpafaaD45167NwdGudTYRtaMVeb7sZMZBH3nONwI+te3Ww9Oc506cLOLSVru93a2r36q1tjjjUkkpSd73PUqzbHXLbUNb1TS4UlE+ltEszOAFYyJvG05yeDzkCvNdGik0j4meHUtPC83hqG/S5jmVr1ZftarEXBZFYkMCAcnnmtTwv4W0Jfif4qddMtxJYXFpJbHHMJeEMxH1bJrOeDpUoycpX93mVrP7XLraTX4v71YpVpSasutvwv2PSKK8J8S3drP4buvE/hvwxfRhJhNB4iuL8LIWEuCQjMWKE5G3pg9BXe+N/Dt1qWs2upSaZHr2m29s0cmlyXBiKuWz5qD7rNjjBx2waU8BGm4887Xuul01bT4rderXmgVdyTstrd+vy/K53NFeUeIdUGs6d4JsPDduX0fVDKTa3Vy8AkEcfyRSONxxndxzuKgd81qeGvCF5a6tqFpqemadZaDe2gV9Lt7x50Mof74VlG0EHBx3AqJYKNOnz1J2euml9HZ9b30elreZSrOUrRX9Wv2Ox8P65beJNBtdXsUlS3ulLIswAYAEjkAkdvWtKvP/g/oumWngPTdUtbOKO+uoWWedR8z4kbg/l+lNOmWXi34m6/Y+JEN3baXBbCyspGYR4dCzybc4Y7vlz2pVcPSWIqwjJqML9Nd0tr933XcI1Jezi2tX/lc7fVL9NK0e81CYFo7SB52AOMhVLH+VZXg/UNb1fRYdT1sWCRXsEVxbR2iuGRXXdhyxOTgryMd+K4b7HBN4J8f6PIWvdL0hpjYGZzJ5LLBv2Ann5G6eldh8OtJsNL8CaRJp9rHA13Y2885Qf6yQxLlj71dajToYeWt5XXTpa/fTfX7hRnKdRdrfrY6mivMNW0qHw94mutc8VaT/alnNfpJb6rFct5tiGZVSMx5HyBuMqTkHkGoNattQ8TfEzW9Pm0qz1a106C3Fva3168KKHUs0iqqncd3GT0wPWlDAxnqp+7a7enkrL3u7W9vQHWa0trf/Py8vM9WoryjV9M1bTPhTNYavcKkiaxCLb7NctK1vEZ0KpvYA5XJAJ9BWrJoVj4U+JHhgaEj2y6kt1Ber5rP9oCRb1ZtxOWDDr1pfU4Wdp3fvW00fKr736r1H7Z327fi7HYWOuW2oa3qmlwpKJ9LaJZmcAKxkTeNpzk8HnIFaVeb+F/C2hL8T/FTrpluJLC4tJLY45hLwhmI+rZNcto2i634w8Mzaw2lWM2qXEk5XU59UljntJA7AAKFIQLgYUHBH1rZ4GjKTcZ2ilC97byjf+bbf8rMj20ktVd6/g/Q9xorzjWNKOs+NfCVjrsjSl9LnN2tvKVSdgIiQSMEoWGccZwPpTdM3+F7vx/YaEGS2060ivLK2yWWKR4JGIUHsWQcVh9TThdT9617W0tzcu9++u2xfttdVp/wLnpNFcN4N8KaD/Yeia8u+bU5YY531Brh/MnkdcsGJPIJJG09Pwrh9G0XW/GHhmbWG0qxm1S4knK6nPqksc9pIHYABQpCBcDCg4I+tXDBU5uX7yyi0m2ktXfvLbT18hOtJJe7q/67HuNFeeeJPDmp6i2k6lqenweIre308R3enfaTGPO4LTR9FY9Rg44xjFdZ4WvtP1Hwrp11oySR2MkI8lJSSyKOMEkk5GMdTXLVoqFJVIyv0fZb+d+nZeRpGbcuVqxr0UmaM1ycxqLRSZozRzAKPvL/ALw/nXdWH/Hsv0rhAfmX/eH867uw/wCPZfpX6Nws74KX+J/lE8DMv4y9P1Zaooor6o80KKKKACiiigAorN16fWINLJ8OWdvd37uqILqYxxRgnl2IBJAHYDJ/WuW8PeK/EUXxDm8H+MLfTZLl9P8A7RtbzSw6xtGH2Mro7MVOTwc4NAHd0UUUAQ3lnBf2klreRiWGQYdCSM/lSWdlbWFssFlCkMS9FQY//XU9FPmdrdBWV7hRRRSGFFFFABRRRQAUUUUAFFFFABRRRQAUUUUAFFFFABRRRQAUUUUAFFFFABRRRQAUUUUAFFFFABRRRQAVzvjL/jxsf+vv/wBpSV0Vc74y/wCPGx/6+/8A2lJWNb+GyKnws5rNGabmjNeccY7NGabmjNADs0ZpuaM0AOzRmm5ozQA7NZ0XiHRp9QNhBq9hJeA4NslyhkB9NoOal1O2kvdJu7W3mMEs8DxpKOsbMpAb8Cc1wHhO+07w9/ZXhzxR4ei0rUodsVreGFXhupBwGSUDh264ODk++KuMbopK6PS80ZrzfUviRM2talaaZqOgafHp05tyNVmYSXDr97aFI2qDxk55B4q3N4+vrvw34a1PQrCCWXWrj7OYLiQgI218/MOwZOuDkA8Zp8kg5Wd7mjNcdp+u+Iv+EivfDuqppo1A2H22yubdJPJI3bCHUtu4YjoeR6VjfDq71XTfCV5qGqz2J0m2kvJnWKJxMGWVix3FsbeG4xnpzS5Ha4cuh6VmjNeUr8WZ47S21W4vNAazlZPM02GdmvIkdgM5ztLAHJXaOh54rpLzX/Edz401DQtCg01UtbeGf7Td7yE37sgqpyxJAxjGMHOeKbhJbhytHZZozXDxePbmPwPc6neaejara3raa1pC52SXAkCAKx/hOQfzrQj1PxFo1pe3/isaW9jbWj3BewEiujLzsw5O7IzggjkdOaXKw5WdRmjNeWQfFS4UWN9d3vh+W1upY1k0+1nZrqBXIAOSdrFc5IwO/Neo5pSi47iaa3HZozTc0ZqRDs0ZpuaM0AOzRmm5ozQA7NGabmjNAHT+Df8Ajxvv+vv/ANpR10Vc74N/48b7/r7/APaUddFXo0f4aOyn8KCiiitiwooooAKKKKACiiigAooooAKZL/qzT6ZL/qzQBw+qf8hOT6D+tVKtap/yE5PoP61Ur8l4idszq/L/ANJR9Ngf93j8/wA2LRSUV4PMdgtFJRRzAcw/w48Ky3E8r6dITcStNMn2yfy3djkkpv28ntjFbc2jabPox0mWygOnmPyvswQBAvYADpVyit54qtO3PNu22r0IVOC2SMDTfA3hzSb+3vbHTtl1bEmKZ55JHTKlSMsxOMMRjpzVmfwvo1z4gj1uWz/4mEYUCZZXXdt6blBCtjtkGtaih4uvKXM5u9rbvbt6AqcErJI5iX4b+Ep2m83R0ZZiS0fnSCME9Sqbtqn3UA1d1nwhofiC8W61W0eWYReTuS4lj3JknaQjAEZJ6561tUVX13EXUvaO682L2VO1uVGZe+GtG1HRotKvNOgexh2+VCF2iLbwCpGCpHqKTRvDWkaA0r6XaeVJKAJJZJXlkYDoC7knHPTOK1KKj6xV5HDmdn0voVyRve2pk6R4X0bQry4udJs/s0lwSZAsrleTk4UkquT6AUzWfCOh6/dR3WqWPmXMa7FnileKQL/d3IQSPYnFbNFP61WU/ac75u93f7w5IW5baGdD4f0m20CTRLeyjh06WJ4ngjyoZXBDcjnJyec5q3ZWdvp1hb2Vmnl29tEsUSZJ2oowBk8ngd6morOVacvibfX59xqKWyMD/hBfDh1Y6k+nb7gzm5O+eRo/NJzv8stszk5zip9Z8J6Jr91Hc6pZeZcxLsSeOV4pAv8Ad3IQce2e9bFFa/W6/Mpc7uttWT7OFrWRlHwvov8AYqaSLBFsUlWYRKzLl1YOGJByTuGeTz3q1c6VZXmpWV/cw77mwLm2k3EeWXXa3AODkcc5q3RUe3qN3cn1699/v69x8sexkz+F9GufEEety2f/ABMIwoEyyuu7b03KCFbHbINVLrwF4ZvL+a8n0tfNnbfMqSyJHK3cuisFYnvkHNdDRVxxdePwza0tu9u3oJ04PdIpvpFg+p2uoG3H2q0iaGBwxARGxkBQcfwjt2pYNKsbbU73UIYAt1fLGtxJuJ8wICF4JwMAnpVuisvbTta77fK97ffr6lcq7GBY+BfDem6il7ZaasU0bmSMCWQxxse6xltqnk9AKbdeAvDN5fzXk+lr5s7b5lSWRI5W7l0VgrE98g5roaK2+u4jm5vaO+27I9lTtblRiat4N0HXLlJ9SsmeRIRADFcSRAxgkhSEYAjk8H1rXtbW3sbSK1s4UgghUJHHGuFVR0AFSUVnKvUnFQlJtLZXKUYp3SFopKKy5ihaKSijmAcPvr/vD+dd3Yf8ey/SuDX76/7w/nXeWH/Hsv0r9L4Td8DP/E/yieBmX8Zen6stUUUV9aeYFFFFABRRRQBi+KtT0zTtH8vWNabRI76QWsV6kixtHIwJGHYFVOFOCwx26kV5v4XSLw/8cv7O0zXG8Vf2rpzy3t5dOs1zYrGRsUyJhQjE/c2jnB9K9cu7O11C1e2v7aG6t5Bh4pow6N9QeDVbStB0jQYXi0PSrHTY3OXSztkhDH1IUDNAF+iiigAoqtqKXj6dMumSJFdFf3TyDIBrmbLxlPYXIsfFdq1nP0W4Vco/vx/MZH0rWFKU03H7uplOrGDtL/gHX0UyKWOeJZYXWSNhlXQ5BH1p9ZGoUUUUAQXt3HY2clzMGKxjO1RksegA9ycCixvItQsYbu33eXKu4Bhgj2PuOlZmszSSanYWkNtLciNvtUyRFQQF4T7xA+9z1/hqpa3k9hBrNuLeS2eON7y1jl2kgMCSPlJGA4PH+1XDLEuNZp/Dtt1tffby9TZU7x8zpaKyNK0jT1s7O7S3Q3OxZDcj/WSMV5LN1bOTwcj8qraFp1nqOkwaheQJLezMZXuDxIGDdA3UAYAwOMDFaKtUbS5Vdq+/TTy8yeWOrudBRXKxWc2q3GpST6dZ3jC5kgWS4uGV4lXgBAIzt4Ocg5yc05bBptc0y01qRbiRNPfzBuO2Zg6dc/eHfB9M1l9ak1dR323727flcr2S6s6O7uUs7Oa5lDFIY2kYL1IAycflToZRPBHKgIWRQwB64IzXL3NpbJa+I7JIIza28AmiiKgrFIY2J2j+HoDx61bkhsLHQLOKPTo3N20SCGPEayyFc/OR1HBzkH6GhYmbk20rJd+qbXbyG6at/XY3ZpPJgkkxnYpbGeuBUWn3X27Tba72eX9ohSXZnO3cAcZ79a5+wSS01bVrT7Nb2cRs1l8i2ctGG+Ybh8q4JAGeOwqstjaWvgW11K2Ufbo4IpEud2ZA2FGzd1xzt29McYqPrc/iS0Sldej9P8h+yW1+34nTQX3natd2Xl4+zpG+/d97fu4x2xt/Wrdcrq1xNbXWvy2zFJPs9ooYNtIBZwTntwTz2q1baNc2+oWk1rYWGnrExEzW9wzGVCuNrDyxuOcHJPb3q4YmXNyWvq/u5ml06W62E6ate/8AVkdBRWN4njE2n2sRZ0D31uu5G2sMyDkHsfeohaW+leJ7CLT4Vt47q3lWVIxgPs2lSfU/MeevNazruM+W2mmt+7ttb9SFBON79/wN6iuNs9PvdW0U3S2Vkb243Ot89ywmjfPBGIzgAgDaDjAx3qS8Ftc6vqkOqWct/IkCRxeXbtKI2KZKggYQkkHPHbnisPrr5VLl32vddG+3l0vuX7FXtc66oru5Szs5rmUMUhjaRgvUgDJx+VYH2SK00vSNKm02G5umjz5DNshDKo3s2AQTk+h5OeKpxwB9D8R2l1awLHal3igU70hJi3fJkDHJJ6DBJpzxckrcutvPR2vZ6W/rYFST1v8A1ex00t1MbSGeytjceaUypcIVU9W59B2q1XN3VpbWmh6X9lt4oN95aM/loF3HevJx1NLeXh0K/wBT28C6hFxbDsZuEI/EmM/iar6y4a1NtL+Wj8vIXs7/AAnR0VyrafJHqVnpItre9htrISeVcylUaQsQzkbW3H6jjca19FsbmxS5SdYYoXl3wQQyF1iBAyoJUYGckADAzV08RKcuVx/r7rfj8hSgkr3NOiiiusyCiiigArnPGf8Ax4WP/X3/AO0pK6Ouc8af8g+x/wCvsf8AoqSsa/8ADZnU+FnL5ozSZozXnHGLmjNJmjNAC5ozSZozQAuaM0maM0AQ30dxPp88VjcfZbl4yIpygfy2xwdp4P0rkrvw/wCJvEVxp0PiWbSorKxu47smx8wyTumdowwwgyecFjXZ5ozTUmhp2OLTwzrmi6xqc3h8aRdWWpXTXjx6gHV4ZWA34Kg7gcZwcf1rQ1Hw/qF+3hx5J7VpdMvBc3LIhjVxsYEIvPdh1PTvXSZozT52PmZhtolwfiFHr2+L7KultZlMnfvMqvnGMYwPX8KzND8L6pY2OqaFqL2U2h3ZufLkiZxcYmYnawI28bm5ye3FdfmjNHMxczOL0bQfFOlWVppRbQZLO1VIlvTC5maNcAZjxt3bRjO78DWzY6LcW3jfVdZkeI295bQQxopO8FN2cjGMfMMcmtvNGaHNsfMzim8DXU/hvWdPlvI4Lm71iXU7OeLLCImQPHuBA54wR78GtBNN8Ra1Y3un+Km0yOyubR7dl08yM7M2Bvy4G3Az8uDyevFdLmjNHOw5mcdo+i+KtPt7PTp20F7W12Rm8WFzNJGuB/q8bQxAxncR3xXZZpM0ZpOVxN3FzRmkzRmkIXNGaTNGaAFzRmkzRmgBc0ZpM0ZoA6nwZ/x4X3/X3/7Sjro65zwX/wAg++/6+z/6Kjro69Gj/DR2U/hQUVW1Gxj1PTprOdnWOZdrFCAQPbNcx/wrPR/+fm+/7+J/8TXXCNNr3pW+VxTlUT92N/mdhRXH/wDCs9H/AOfm+/7+J/8AE0f8Kz0f/n5vv+/if/E1pyUf5/w/4JHPW/k/H/gHYUVx/wDwrPR/+fm+/wC/if8AxNH/AArPR/8An5vv+/if/E0clH+f8P8Aghz1v5Px/wCAdhRXH/8ACs9H/wCfm+/7+J/8TR/wrPR/+fm+/wC/if8AxNHJR/n/AA/4Ic9b+T8f+AdbMjS28kaSGNmUqHXqpI6iuM/tPxD4TfbrCNqmnZ4uU++g9/8A6/51KfhroqqWa6vgAMkmROP/AB2uU1HSdFe6+w+Gvt+pXZ43B18tf/HefrwPeumhTpO8b3XXT9b6HPXqVFZ2s/X9Lanp2l6zY6zb+dp9wsgH3l6Mv1Harcv+rNcb4Y8CNplxHfajcsLheVigcqF+rDr9On1rspf9Wa460acZ2pu6OujKco3mrM4bVf8AkJyfQf1qnmrerf8AITk+gqlX47xF/wAjSr/27/6Sj6vA/wC7x+f5js0ZptFeBY7R2aM02iiwDs0ZptFFgHZozTaKLAZ93rtrZeINP0idJRPqKStA4UbCYwCyk5znBz07GodN8UWGqa5qulW/mrPpRQTNIoCNuB5U55AIIOccis/xxZ3Emm2Wp2EElxd6TexXSRQoWeRM7ZFAHJyjNx7VyF1pmtadolhqNhYXTalrNpdW14qxMzQSXL+ajuAPlCEsCT0zXr4fCUK1JO9pPTfrq7+nLZerOWdWcZeW/wAv+HOpfxLp2sQ+GtTjl1a1ivr1o7aOJlRZjtcfvVycoQpI79Kp6D4z1K+8da3ptzpWqNaxTwRwAwxAWgMeWMhDZwx+Yfe49OlT65or2kng2z022lkttOv0ViiEiONYXXcxHQdOT3NM0+S60j4ma8LjTb6SDWGtXtrqCAvENkWxg7DhMEd+tbRjQdKfLG/uu13qvf8Aztr9/Qm81JXfXX7v8zF8K+M7TQNH1dZ7DUrqK21W7e5ntbbfHbqZScsxIzxyQuSBycV6Zb3EV1bRXFvIJIpUDo69GUjII/CuI0PT7yL4feI7aa0nSae41AxRNEQ0gZm2kDqc9vWui8IwS2vgnQ7e5jeKaLTrdJI3XayMI1BBB6EGscwjRlKVSG/Nbe99NyqDkkovsYXh+9j0/wAReN7qcSNHFexMVijLsf3CcBRyT7CtTTfGdrf61Fpdzpup6XdXEbSW638AQThfvbSGPIByQcGudng8Q2SeOrnQbWVL6a6hazZov9YBGgdk3cMQN2O2RisrSNP1C4+IHhy/X/hKbu2ga4+0Ta1EESJmgYDau0FcnjJ46AE11ywtGtGdSbWkVbXW6ppry1ennqlsZqpKLUV3/NmlpniSPRfGni+FdO1LUZjeRSmKwt/MKJ5CjcSSAOnTOT2FdUvjLRm8Kx+IVuHaxlwqbYyZGctt2BByW3cYrmrPU73w54u8Tz3WgardWl5do0E9nbGXeVhQEbeuPRumQQSMVlXXhDWJvhpYiWzl+1xax/a09hby7JPLLsTGrAjDBWz14I45p1MPh6soOp7t+RXutfd19LWS8uoo1JxTUdd+nmdxpXi+21LVhplxp+o6XePGZYYr+EJ5yjG4oVYg4yMjOfauS0i7trPwNfTXtzqFtEviKVd+nyBJCTc4AJP8JJ+Yemau+GtL0mfxJa3tpo3iOOe1SQrc6tJMEh3LtKhZGO4kHsCOOvArMk0jUj8PL22Gn3Xnv4hMyxeS24x/aw2/GM7cc56Y5ohSoQnyRuk3C97d5bavpbf8gcptXeuj/Q6/VPGtlpmvPoq2OoXuoLCk6w2kAcujFhkEkAY28lsDkYzmpbTxnpF14XuNfMktvaWpdbhZ4yskLocMjL/ezjj3FU7S0uV+KmpXjW8otn0uCNZih2MwkclQ3QkAjj3rlNWtbiy+H/joXVrJH9q1uR4FdShlVjCA0fTceDtx1IxXNTwuGquNNb+5rf8Amtc0lUqRvL1/A6mz8fxXevWmkv4f1y1nu0MkTXNvGi7BjLf6zOBkZGMjPSuszXmeh30x8ZadceLn1cXhSS2003mnR28WWALZMbvlyF77R7V6VXLj6MKM4qCtp5tPV7N/1e5pRm5Jtjs0ZptFefY3HZozTaKLAOzRmm0UWAdmjNNoosA9T+8T/eH8672w/wCPZfpXAp/rE/3h/Ou+sP8Aj2X6V+m8Jf7jP/G/yifP5l/GXp+rLVFFFfXHmFDWdPuNT0429pfSWEhYHzos5AHbgj+dc9/whms/9Ddffk//AMcrsKK2hWnBWj+SMp0YTd5fmzj/APhDNZ/6G6+/J/8A45R/whms/wDQ3X35P/8AHK7Cir+s1e/4L/Ij6tT7fi/8zj/+EM1n/obr78n/APjlH/CGaz/0N19+T/8Axyuwoo+s1e/4L/IPq1Pt+L/zOP8A+EM1n/obr78n/wDjlH/CGaz/ANDdffk//wAcrsKKPrNXv+C/yD6tT7fi/wDM44+DdYAyfF98B9H/APjlcprdvLJOun2uv3muTlv9UqMyA/Uucn6D8a9T1Gxi1PT5rO4Z1jmXaxjbDY+tQ6VolhosHlafAqZHzOeWf6mtqeLcVzS1fojGphVJ8sdF6s5/wb4Y1PR/319etEjjJs0IZc+rHpn6fnXX0UVyVKkqsuaR1U6caceWIUUUVmaEKWsMd3LcomJpVVXfJOQucD26npQ9pBJdJcvHmZEZA2T91sZBHccDrU1FTyxtaw7soQaLYW0ySQxOPLYtHGZnMcZOeVQnavU9Bxmg6JYee0nksNziRo1lcRs3HJjB2k5APTrz1q/RUexpWtyr7h88u5RuNHs7m4eZ0lSSQASGGd4vMxwNwUjdxxz2qndaLHda7bPJbD7JBaMiMjbDG+9Cu3aQV4B5HbjvW1RUzw9Ka1Xn69dRqcl1K9tYW1rbPbwxDy5CTIHJcuT1LFsls+9QLolitkLTZK0KsrIHuJGMZXoVYtlcexFX6Kv2VNq3KvuFzS7lG20awtJJZIISJJ02Su0jMzjnqSSSeevX8qjg8P6ZbPE0FuVETBkj81ygYDAbZnbu98Zzz1rSoqfYUtPdWnkPnl3IDY2xmuJWhVmuUEc27kOozgEHj+I/nUNtpFnaTJJEspaMYj82d5BGMY+UMSF4447cVdoqvZwbvyoXNLuRXFrDdqi3CbxHIsq8kYZTkHj3FJJaQy3cNzImZoAyxtk/KGxnjp2FTUVTjF7r+lsK7KD6JYSTO7ROBI++SNZnWN27lkB2nPfI571mTabjVb2e+0JNU85laGVREdqhQNhDkYIIJyM5z7V0VFYTw1OfS3XZf5eZaqSRkWOig6PaQamC09uWZGimdWiBJwocEHAUhffFW7PSbGwimjtbdVSfmUElt/GOc5zkdfXvVyirhQpwtZarr17Cc5PqUYtHsoraO3VJWijkSRFknd9rIQVxknAGBx0qW6061vZreW6hEj2z+ZCSSNrevFWaKr2VO3Lyq3oLmle9ytd6fbXxjNwjb4iSkkcjRuueuGUggHuM80+1tIbKIx26kAsWYsxZmJ7liSSfqewqainyQ5ua2vcXM7WCiiirEFFFFABXOeNP+QfZf9fY/wDRcldHXN+Nf+QdZf8AX2P/AEXJWNf+GzOp8DOVopM0ZryziFopM0ZoAWikzRmgBaKTNGaAFopM0ZoAWikzRmgBaKTNGaAFopM0ZoAWikzRmgBaKTNGaAFopM0ZoAWikzRmgBaKTNGaAFopM0ZoA6zwX/yD73/r7P8A6Ljro65vwV/yDr3/AK+z/wCi466SvUofw0dtP4EFFFFbGgUUUUAFFFFABRRRQA2WJJ4XilUNHIpVlPcHgiq2n6XZaVB5On2yQJ1O0cn6k8n8at0U+Z2sKyvcKZL/AKs0+mS/6s0hnCav/wAhN/oKo5q7rH/ITf6CqNfknEX/ACNKv/bv/pKPpcD/ALvH5/mxc0ZpKK8E7Bc0ZpKKAFzRmkooAXNGaSigBc0ZpKKAFzRmkooAXNGaSigBc0ZpKKAFzRmkooAXNGaSigBc1n65otn4h0p7DUBJ5TMrq8TlHjZTlWVh0IIq/RVQlKElKLs0JpNWZztl4MtrfVLa/v8AVNU1aazJa2F/cBliYjG4KqqCcZ5Oa6PNJRV1atSq05u9hRjGOwuaM0lFZFC5ozSUUALmjNJRQAuaM0lFAD4z+9T/AHh/OvQLD/j2X6V59F/rk/3h/OvQbD/j2X6V+l8J/wC4z/xv8ongZl/GXp+rLVFFFfXHmhRRRQAUUUUAZuva7a+HtLN7eR3Ew3rHHDawtLLK7HAVUXkk1keHPH+neINeudDksNS0jVreEXBstTgEcjxE48xdrMrLnjg10txcQ2lrLcXUqQwQoXkkkYKqKBkkk9ABXnXg+Kbxl8Sbz4geU8GkRWH9maRvUq13Hv3vcEEZCk8LnqOeKAPSaKKKACiiigAooooAKKKKACiiigAooooAKKKKACiiigAooooAKKKKACiiigAooooAKKKKACiiigAooooAKKKKACiiigArm/G3/INsv+vsf+i5K6Sud8axltIt3HSO6Vm+hVl/mwrGv/DZnU+BnIZozSUV5Jwi5ozSUUALmjNJRQAuaM0lFAC5ozSUUALmjNJRQAuaM0lFAC5ozSUUALmjNJRQAuaM0lFAC5ozSUUALmjNJRQAuaM0lFAC5ozSUUAdd4J/5Bt7/wBfZ/8ARcddJXO+CkK6Tcuekl0zL7gKq/zU10VetQ/ho7qfwIKKKK2NAooooAKKKKACiiigAooooAKZL/qzT6ZL/qzQBwWtf8hN/pVDNXtb/wCQm/0rPr8m4h/5GdX5f+ko+kwX+7x+f5js0ZptFeCdg7NGabRQA7NGabRQA7NGabRQA7NGabRQA7NGabRQA7NGabRQA7NGabRQA7NGabRQA7NGabRQA7NGabRQA7NGabRQA7NGabRQA7NGabRQA7NGabRQA7NGabRQBLCf3yf7w/nXoVh/x7L9K88h/wBfH/vD+deh2H/Hsv0r9K4T/wBxn/if5RPBzL+MvT9WWqKKK+tPNCiqGs6xb6HpxvLtJHjDBcRAE5P1Irnv+FmaP/z7X3/ftP8A4qtoUak1eKuZTrU4O0nY7CiuP/4WZo//AD7X3/ftP/iqP+FmaP8A8+19/wB+0/8Aiqv6rW/lI+s0f5jR8aeD7Pxz4bfRNTu721tZJFkc2ciqz7TkKdysCucHBHYVV0PwVPompQXJ8W+IdQihUqLO8mgMLDaQMhYlPGcjBHIFQf8ACzNH/wCfa+/79p/8VR/wszR/+fa+/wC/af8AxVH1Wt/KH1mj/MdhRXH/APCzNH/59r7/AL9p/wDFUf8ACzNH/wCfa+/79p/8VR9Vrfyh9Zo/zHVXd3BYWklzdyCKGMZZz2otLy3vrdZ7OZJom6MhyK5Gb4i6FcQvDPZXkkbjDI0SEEf99Vyk2tWOm3v2vwpLfWbMfnt5lUxkf99H8iD9a1hg5yVmmn+BlPFwi7ppr8T1+iuW8L+M49dkFrcWzxXQGSY1LRt75/h/H866muWpTlTlyyR1U6kakeaLCiiisyzlvEF7qjeLtJ0nTdRawjuopXkdYUkJKjI+8DU3h3Ur7+09Z03VryO7GmtGVuwgjyrqWIYDgEYrF8a/2aPGuiHXH8ux8ibe29k5xxypB64qPQZIbPVNabwqkt7o62LTbHDMr3POEUtyQR16815ftGq7169+nL27X6nq+yUsOtOm9lvzfzd7aWOntPF+hX17HaWt+rTSkiPMbqrn0ViAD+BqbVPEmk6NcJBqN2IpXXeEVGchfUhQcD3NeetrF1q1xoDXGsw3TjUrZ3sYLEoLY7gMFzzxnGO9dEdTtPD3xA1i41tzBHewwG0mZCwIVcMgIB5zziqhi5SV7rffptfv8tyZ4OMZWs3o9Ou9uy9duho+DtQbUo9Zm+1NcxDVJVgcuWAj2oQF9Bz0966OuT8APHLZ6zJDA1vG+rTMkTpsKAqmAR2+ldZXVhm3STZyYlJVmkFFFFdBzhRRRQAUUUUAFFFFABRRRQAUUUUAFFFFABRRRQAUUUUAFFFFABVbUbFNS06a0lOFlXAYfwnqD+BANWaKTSasweuh5bLFLa3EltdJsniOHX+o9j2pua9E1XRbPV4x9pUrIg+SaM4Zf8R7Hiuan8F6gjf6NdW8y+soaM/oGrzJ4ecXpqjilRknoYGaM1tf8IfrPrY/9/3/APiKP+EP1n1sf+/7/wDxFZeyqdmR7OfYxc0Zra/4Q/WfWx/7/v8A/EUf8IfrPrY/9/3/APiKPZVOzD2c+xi5ozW1/wAIfrPrY/8Af9//AIij/hD9Z9bH/v8Av/8AEUeyqdmHs59jFzRmtr/hD9Z9bH/v+/8A8RR/wh+s+tj/AN/3/wDiKPZVOzD2c+xi5ozW1/wh+s+tj/3/AH/+Io/4Q/WfWx/7/v8A/EUeyqdmHs59jFzRmtr/AIQ/WfWx/wC/7/8AxFH/AAh+s+tj/wB/3/8AiKPZVOzD2c+xi5ozW1/wh+s+tj/3/f8A+Io/4Q/WfWx/7/v/APEUeyqdmHs59jFzRmtr/hD9Z9bH/v8Av/8AEUf8IfrPrY/9/wB//iKPZVOzD2c+xi5ozW1/wh+s+tj/AN/3/wDiKP8AhD9Z9bH/AL/v/wDEUeyqdmHs59jFzRmtr/hD9Z9bH/v+/wD8RR/wh+s+tj/3/f8A+Io9lU7MPZz7GLmjNbX/AAh+s+tj/wB/3/8AiKP+EP1n1sf+/wC//wARR7Kp2Yezn2MXNGa2v+EP1n1sf+/7/wDxFH/CH6z62P8A3/f/AOIo9lU7MPZz7GLmnRRS3NxHb2qb55ThF/qfYd63YPBmoO3+k3VtCvrGGkP6ha6XStEs9IjP2ZWaVh880hyzf4D2FaQw85PXRFxoyb1JtNsU03TYLSM7hEuCx/iPUn8SSatUUV6iSSsjsSsrBRRRTGFFFFABRRRQAUUUUAFFFFABTJf9WafTJf8AVmgDgNc/5CbfSs7NaOu8am30rNzX5PxCv+FOp8v/AElH0eC/gR+f5i5ozSZozXhHWLmjNJmjNAC5ozSZozQAuaM0maM0ALmjNJmjNAC5ozSZozQAuaM0maM0ALmjNJmjNAC5ozSZozQAuaM0maM0ALmjNJmjNAC5ozSZozQAuaM0maM0ALmjNJmjNAC5ozSZozQAuaM0maM0ASwH/SI/94V6LYf8ey/SvObc/wCkx/7wr0aw/wCPZfpX6Twp/uMv8T/KJ4WY/wAVen+Zaooor6w84KKKKACiiigAooooAKKKKAK2pXUtnp01xb2z3Usa5WFOrmuTj0DWvE8iz+JbhrS0zlLKHg/j6fjk/Su1oranVdNe6te5lOkqj956dirYabZ6XbCCwt0hjHZRyfcnqT9atUUVk227s0SSVkFFFFIYUUUUAFFFFABRRRQAUUUUAFFFFABRRRQAUUUUAFFFFABRRRQAUUUUAFFFFABRRRQAUUUUAFFFFABRRRQAUUUUAFFFFABRRRQAUUUUAFFFFABRRRQAUUUUAFFFFABRRRQAUUUUAFFFFABRRRQAUUUUAFFFFABRRRQAUUUUAFFFFABRRRQAUUUUAFNcZU06g0AcD4mjMd+rY4bisfNdj4n043NqzIPmHINcTHJuyrcOpww9K+A4owMlVWKitHo/Xp9/6Hs5fWXK6bJc0ZpuaM18WeoOzRmm5ozQA7NGabmjNADs0ZpuaM0AOzRmm5ozQA7NGabmjNADs0ZpuaM0AOzRmm5ozQA7NGabmjNADs0ZpuaM0AOzRmm5ozQA7NGabmjNADs0ZpuaM0AOzRmm5ozQA7NGabmjNADs0ZpuaRpAilmOAKai5Oy3C6WrLVghl1GFB65r0i0XbAo9q4rwtYPNMbmRcbugPYV3SLtUCv1zKMG8Hg40pfFu/V/5bHzeJq+1quS2HUUUV6xzBRRRQAUUUUAZ+uanJo+jTXsGn3WpTJtWO0tFBklZmCgc8AZIJY8AZJ6Vz3w58U6z4osdcPiKzs7O803V5bDybRmZVVEjblj95suRkAA46V1txcQ2sDTXU0cMS43SSMFUc45J9688+FOo2UmoeNYo7y3eSbxTdvGiyqWdfKi+YDPI4PPtQB6PRRRQAUUUUAFFFFABRRRQAUUUUAFFFFABRUVvd292JDazxTiKRopPLcNsdeqnHQjuKloG007MKKKKBBRRRQAUUUUAFFFFABRRRQAUUUUAFFFFABRRRQAUUUUAFFFFABRRRQAUUUUAFFFFABRRRQAUUUUAFFFFABRRRQAUUUUAFFFFABRRRQAUUUUAFFFFABRRRQAUUUUAFFFFABRRRQAUUUUAFFFFABRRRQAUUUUAFFFFABRRRQBFcQiaMqR1rg/EPh+WKY3Nn8rj8j7GvQaimgSZSGGaipThUi4TV0xqTi7o8iW8VX8u5Bgcf3uh+hqcEEZByK7XU/C1vd5OwZ+lc1P4FZGPkM6f7pIr5DE8K0py5qE+Xyev4/8ADnpU8wklaauUM0ZqwfBl7/z83H/fxv8AGk/4Qy9/5+rj/v61cP8AqnW/5+L7mbf2jH+UgzRmp/8AhDL3/n6uP+/rUf8ACGXv/P1cf9/Wo/1Trf8APxfcw/tGP8pBmjNT/wDCGXv/AD9XH/f1qP8AhDL3/n6uP+/rUf6p1v8An4vuYf2jH+UgzRmp/wDhDL3/AJ+rj/v61H/CGXv/AD9XH/f1qP8AVOt/z8X3MP7Rj/KQZozU/wDwhl7/AM/Vx/39aj/hDL3/AJ+rj/v61H+qdb/n4vuYf2jH+UgzRmp/+EMvf+fq4/7+tR/whl7/AM/Vx/39aj/VOt/z8X3MP7Rj/KQZozU//CGXv/P1cf8Af1qP+EMvf+fq4/7+tR/qnW/5+L7mH9ox/lIM0Zqf/hDL3/n6uP8Av61H/CGXv/P1cf8Af1qP9U63/Pxfcw/tGP8AKQZozU//AAhl7/z9XH/f1qP+EMvf+fq4/wC/rUf6p1v+fi+5h/aMf5SDNGan/wCEMvf+fq4/7+tR/wAIZe/8/Vx/39aj/VOt/wA/F9zD+0Y/ykGaM1P/AMIZe/8AP1cf9/Wo/wCEMvf+fq4/7+tR/qnW/wCfi+5h/aMf5SDNGan/AOEMvf8An6uP+/rUf8IZe/8AP1cf9/Wo/wBU63/Pxfcw/tGP8pBmjNT/APCGXv8Az9XH/f1qP+EMvf8An6uP+/rUf6p1v+fi+5h/aMf5SDNGan/4Q29/5+rj/v43+NSx+CJnb99LK/8AvOTTXCdW+tVfcxf2jH+UzJbyGI7d29/7icmr+k6Rc6ncLJcIUiByqf410GmeDYLbBKDj2rp7WxjtlARQK+hy7IsNgZe0+KXd9PRHHWxdSqrbIbp9ktrAqqMcVdo6UV7xxhRRRQAUVQ1nT7jU9ONvaX0lhIWB86LOQB24I/nXPf8ACGaz/wBDdffk/wD8craEISV5St8mZTnNO0Y3+47CiuP/AOEM1n/obr78n/8AjlH/AAhms/8AQ3X35P8A/HKv2VL/AJ+fgyPaVP5PxR0+oabY6vYSWOq2dvfWkuPMt7mJZI3wQRlWBBwQD9RWbp3gvwtpF9He6T4a0exu487Li2sIo5EyCDhlUEZBI+hrK/4QzWf+huvvyf8A+OUf8IZrP/Q3X35P/wDHKPZUv+fn4MPaVP5PxR2FFcf/AMIZrP8A0N19+T//AByj/hDNZ/6G6+/J/wD45R7Kl/z8/Bh7Sp/J+KOn1FLx9OmXTJEiuiv7p5BkA1zNl4ynsLkWPiu1azn6LcKuUf34/mMj6U0+DdYAyfF98B9H/wDjlcprdvLJOun2uv3muTlv9UqMyA/Uucn6D8a6aNGlO8W7/J6fP/M561WrG0rW+a1+R6zFLHPEssLrJGwyrocgj60+uQ8G+GNT0f8AfX160SOMmzQhlz6semfp+ddfXDVjGErRd0dlOUpxvJWCiiiszQ4vV/8AiRfFHSdTA222swtp9wewlX5oj9TytSKDrfxYZwc23h+02j/r4nHP5Rj9av8AjjRLjXfC00Gnj/T4HS5szkDEqHK8ngZ5H40ngvSrzTtHnuNYiWLU9RupLu6QMG2Fj8qbh1AUAVy8r9py9L3/AOB9+p7yr0/qft+Ze0UXTt11+16crcfuMbRvFOm6N8PtKm0vSJY/tdxJbWWmRTmRmfzXB+du2QWJPTOK1dP8V3p8Q2+jeINFbS7m8jd7V0uVnjl2DLLuAGCBzjFc7a+EtdtPBvh57e2j/tbRb6a5NnJKoEqPI5KhxkAlWBB7Vrw2Gt+IfF2l6rrGlrpFppKytHC1wssk0jrtz8nAUD3qISqJJenTTz9DpxFLBSlUkmmr1Pecryvd8llf3k9NbO93qrGfoOvW3hzQfE1/dI8mPEV3HHFH96V2kAVRn1Na2meMrmbX7XStZ0qOwlvVc2zw3qXCuVGWVtoG0457g+tYl54I1LUfC2s2kkEK3D6/NqVrFOwKTpvyAxBOAwJ6/jir/h7Qli1u3uP+EEsdE8ncWuTcRyODtIAQJ9epxx2pRdVNR2X9X6f5F144GpCpVdpS16rTRctveV9d7KXbQV/HmpyrqsuneF5bq30m5mguJjdqgIjYglAVyxwMkds4yap+KfE2qT3HhO78PW7SWd9Okq/6YYfPLIx8pwAcDGDk5GeMVraJomoWeh+Jre4g2S32oXs1uu9TvST7hyDxn3xjvWVL4c1q28HeEvs1iLi/0WaKWez85FLAIVYByduRn1xRL2rjq393n6CpfUYVvdjHRtaydmnB6u8u+l1ZK+vc7qxluZrGKS+tltbhlzJCsnmBD6bsDP5VPUFlNPcWMUt5bG0ndcvAXDmM+m4cH8KnrtWx8zPST/Tb9fzCiiimQFFFFABRRRQAUUUUAFFFFABRRRQAUUUUAFFFFABRRRQAUUUUAFFFFABRRRQAUUUUAFFFFABRRRQAUUUUAFFFFABRRRQAUUUUAFFFFABRRRQAUUUUAFFFFABRRRQAUUUUAFFFFABRRRQAUUUUAFFFFABRRRQAUUUUAGKaUB7U6igBnlr6UeUvpT6KAGeUvpR5S+lPooAZ5S+lHlL6U+igBnlL6UeUvpT6KAGeUvpR5S+lPooAZ5S+lHlL6U+igBnlL6UeUvpT6KAGeUvpR5S+lPooAZ5S+lHlL6U+igBnlL6UeUvpT6KAGeUvpR5S+lPooAZ5S+lHlL6U+igBnlL6UeUvpT6KAGeUvpS+Wo7U6igAwBRRRQAUUUUAFFFFABRRRQAUUUUAFFVdT1Sx0XTJ9R1a6is7O3XdLPM21UGccn6kD8ax/D3j7wz4pvpLLRNTE11HH5pglgkgkKf3wsiqWX3GRQB0VFFFAFbUbGLU9Pms7hnWOZdrGNsNj61DpWiWGiweVp8CpkfM55Z/qav0VXPLl5b6E8sebmtqFFFFSUFFFFABRRRQAUUUUAFFFFABRRRQAUUUUAFFFFABRRRQAUUUUAFFFFABRRRQAUUUUAFFFFABRRRQAUUUUAFFFFABRRRQAUUUUAFFFFABRRRQAUUUUAFFFFABRRRQAUUUUAFFFFABRRRQAUUUUAFFFFABRRRQAUUUUAFFFFABRRRQAUUUUAFFFFABRRRQAUUUUAFFFFABRRRQAUUUUAFFFFABRRRQAUUUUAFFFFABRRRQAUUUUAFFFFABRRRQAUUUUAFFFFABRRRQAUUUUAFFFFABRRRQAUUUUAFFFFABRRRQAUUUUAedfFzM0vgqwmXfZ3fie1S4Q/dkADsEbsQSAcd9tL49RYPil8PLyAAXTXtzbkhgC0TQEsD6gYBx6/Wum8Y+FLfxhoS2E9zLZzQ3Ed1aXcABe3njOUcA8HuMehNZekeB9RXxTa+IPFviJtcvdPheGxSOzW1it94w77QzFnIGM5xjtQB2VFFFABRTZZY4YmkmdY41GWZzgAe5pUdZEDxsGVhkMDkEUALRRRQAUUUUAFFFFABRRRQAUUUUAFFFFABRRRQAUUUUAFFFFABRRRQAUUUUAFFFFABRRRQAUUUUAFFFFABRRRQAUUUUAFFFFABRRRQAUUUUAFFFFABRRRQAUUUUAFFFFABRRRQAUUUUAFFFFABRRRQAUUUUAFFFFABRRRQAUUUUAFFFFABRRRQAUUUUAFFFFABRRRQAUUUUAFFFFABRRRQAUUUUAFFFFABRRRQAUUUUAFFFFABRRRQAUUUUAFFFFABRRRQAUUUUAFFFFABRRRQAUUUUAFFFFABRRRQAUUUUAVdR1K00q0Nzfy+VCCFLbS3J9gCayf8AhOvDn/QR/wDIEn/xNbdxa295D5V3BHPHnOyVAwz9DVT+wNH/AOgTY/8AgMn+FbQ9lb3738jKftb+5a3mZ/8AwnXhz/oI/wDkCT/4mj/hOvDn/QR/8gSf/E1of2Bo/wD0CbH/AMBk/wAKP7A0f/oE2P8A4DJ/hV3w/Z/ev8iLV+6+5/5mf/wnXhz/AKCP/kCT/wCJo/4Trw5/0Ef/ACBJ/wDE1of2Bo//AECbH/wGT/Cj+wNH/wCgTY/+Ayf4UXw/Z/ev8gtX7r7n/mZ//CdeHP8AoI/+QJP/AImj/hOvDn/QR/8AIEn/AMTWh/YGj/8AQJsf/AZP8KP7A0f/AKBNj/4DJ/hRfD9n96/yC1fuvuf+ZkXvi7wrqFnLa3d75kMowy+TKM/+O1yS63F4auN3hvWPttmzc2c8Tjb9CQB+Ix9DXdalp2haZp015Po9o0cK7iqWqEn9K5SPQr3xXIsiaZaaLp2cqVt1Ejj8gf5D611UHSUXvy9btW/L8jlrKq5Lbm8r3/M6bQPF+na7tiVvs92RzBIev+6e/wDP2rfrM0bw9p2hxbbGEeYRhpn5dvx/oK064Kvs+b93sd1Pn5f3m4UUUVmaHG6hfXei/FbTRNcztpmt2j26xNITHFcR/MCB0XcvHuakkvbvU/ivFZ21zLHYaLYma7RJCEkmm4RXA4OFBYZ6U/4jaTdal4UNzpcTS6lpc8d/aKikszxnO0AcnK7hiq/g7Sru68O6tqOpQS2Wo6/PNM8cylZIEIKRIQemFAP41z68/L8/6+Z68XTeHVZ2vbk+fe3+G69UPb4l6Sqm5Fjqj6UJPLbVltf9FHzbd27O7bnjdtxVzW/G9homtw6S1nf319cW/wBogisoRIZV3EYHzDkYJycDA69q820nwza2vh9NF17w34quNRiUwyRW08ptJueCr7hGFPHXGOeK76PTJoPi5bXEVrN9hh8PtbrOUJQP56kLu6btozjripjOo1r5G1bDYSnP3btJS6rW1rdXv8r9DW0XxPaa3fahZR291aXOn+X58N0gRgJE3KcAnjHrjkGpvD+vWviTSRqVhHMls8jpG0qgeYFYruGCflJBxXB/EyPUNE1631TQoy0+u2zaLKoPSR+Yn+o+bn2r0LRtLg0TRLPTLT/U2kKxKcdcDGfx61pCUnJxfT+kceIo0oUI1Y/a2Xa2kvx28jmvBV9d2+v+IvDmp3M9zNY3f2i2knkLs1vKNyjJ67TkViDV2vPCXizxNq2pavBpU94I7M6dPtkjghcIGiydq723bvUZqf4jWes6drlrr/hixuLy6ubObS50t4yxUOC0Uhx0Cv1Jq14v8OSWPwUudA0i2kupYLSKFI4ELtIwddxAHJycms3zWa7X/wCAd0PZOVOpdfvHFPys/e9LtJryN3XPF9lompQ6atre6jqM0ZlWzsIRJIIwcbzkgAZ9TWVq3iex8SfDnxUbNLiCe00+5iubW6i8uWFvJY4Zf6gkVX1E3vhr4l3WuSaTfajp2o2McHmWEBmkgkRjwUHO0g5yO9URpep6lpvj7XX0y6tP7a08wWdlIn79xHA6hmQZO5i2AOtOUpNteplSoUYxjP8Awu993dXVvJX+7zNyz8T2eg+E/DtvLDdXt7d2MXkWdnF5ksgWNSzYJAAHqSKt2njbTrrRdWv2tr22k0eNpLyyuIgk8YCFx8ucHIBwc4PrXE614buVuPC2q32n6tc2MGkJZXUOmO6XFu+0EEqpDEZyCB6fStC10O0Hg/xdNoui63BPe6bJCG1Jnaa6YROFCoxLcbsDIyc4FJTne39bGk8NhnBSbbbe+lvitbft5X67G1afEnSru6sFNjqkFpqMiw2t/PbbIJZG6KGznk8A4wexqgvjbU4/iff6S2k6rPYxW0YSGKCI7WMhBmJ3A7CMY57dBTfEOmX0/wAOfDNrDZXElxBc6eZYliJaMLt3EjGRjvnpU95JdaJ8WJdRk0vULuz1DTYrdJrO3MqxyLIch8fdGDnJ4puU9LvsTCnh7ScY3bUkk32a19bfkdzRRRXSeGFFFFABRRRQAUUUUAFFFFABRRRQAUUUUAFFFFABRRRQAUUUUAFFFFABRRRQAUUUUAFFFFABRRRQAUUUUAFFFFABRRRQAUUUUAFFFFABRRRQAUUUUAFFFFABRRRQAUUUUAFFFFABRRRQAUUUUAFFFFABRRRQAUUUUAFFFFABRRRQAUUUUAFFFFABRRRQAUUUUAFFFFABRRRQAUUUUAFFFFABRRRQAUUUUAFFFFABRRRQAUUUUAFFFFABRRRQAUUUUAFFFFABRRRQAUUUUAFFFFABRRRQAUUUUAFFFFAGXqXh+01XWdL1G7eYvpbvJDCGHls7Lt3MMZJHbkYzWpRRSskXKcpJJvbb8wooopkBRRRQAUUUUAFFFFABRRRQAUUUUAFFFFABRRRQAUUUUAFFFFABRRRQAUUUUAFFFFABRRRQAUUUUAFFFFABRRRQAUUUUAFFFFABRRRQAUUUUAFFFFABRRRQAUUUUAFFFFABRRRQAUUUUAFFFFABRRRQAUUUUAFFFFABRRRQAUUUUAFFFFABRRRQAUUUUAFFFFABRRRQAUUUUAFFFFABRRRQAUUUUAFFFFABRRRQAUUUUAFFFFABRRRQAUUUUAFFFFABRRRQAUUUUAFFFFABRRRQAUUUUAFFFFABRRRQAUUUUAFFFFABRRRQAUUUUAFFFFABRRRQAUUUUAFFFFABRRRQAUUUUAFFFFABRRRQAUUUUAFFFFABRRRQB//Z)\n",
        "Under the hood, the model is actually made up of two model.\n",
        "\n",
        "* DistilBERT processes the sentence and passes along some information it extracted from it on to the next model. DistilBERT is a smaller version of BERT developed and open sourced by the team at HuggingFace. It’s a lighter and faster version of BERT that roughly matches its performance.\n",
        "* The next model, a basic Logistic Regression model from scikit learn will take in the result of DistilBERT’s processing, and classify the sentence as either positive or negative (1 or 0, respectively).\n",
        "\n",
        "The data we pass between the two models is a vector of size 768. We can think of this of vector as an embedding for the sentence that we can use for classification.\n",
        "\n",
        "![02.JPG](data:image/jpeg;base64,/9j/4AAQSkZJRgABAQEAkACQAAD/4RD0RXhpZgAATU0AKgAAAAgABAE7AAIAAAAOAAAISodpAAQAAAABAAAIWJydAAEAAAAcAAAQ0OocAAcAAAgMAAAAPgAAAAAc6gAAAAgAAAAAAAAAAAAAAAAAAAAAAAAAAAAAAAAAAAAAAAAAAAAAAAAAAAAAAAAAAAAAAAAAAAAAAAAAAAAAAAAAAAAAAAAAAAAAAAAAAAAAAAAAAAAAAAAAAAAAAAAAAAAAAAAAAAAAAAAAAAAAAAAAAAAAAAAAAAAAAAAAAAAAAAAAAAAAAAAAAAAAAAAAAAAAAAAAAAAAAAAAAAAAAAAAAAAAAAAAAAAAAAAAAAAAAAAAAAAAAAAAAAAAAAAAAAAAAAAAAAAAAAAAAAAAAAAAAAAAAAAAAAAAAAAAAAAAAAAAAAAAAAAAAAAAAAAAAAAAAAAAAAAAAAAAAAAAAAAAAAAAAAAAAAAAAAAAAAAAAAAAAAAAAAAAAAAAAAAAAAAAAAAAAAAAAAAAAAAAAAAAAAAAAAAAAAAAAAAAAAAAAAAAAAAAAAAAAAAAAAAAAAAAAAAAAAAAAAAAAAAAAAAAAAAAAAAAAAAAAAAAAAAAAAAAAAAAAAAAAAAAAAAAAAAAAAAAAAAAAAAAAAAAAAAAAAAAAAAAAAAAAAAAAAAAAAAAAAAAAAAAAAAAAAAAAAAAAAAAAAAAAAAAAAAAAAAAAAAAAAAAAAAAAAAAAAAAAAAAAAAAAAAAAAAAAAAAAAAAAAAAAAAAAAAAAAAAAAAAAAAAAAAAAAAAAAAAAAAAAAAAAAAAAAAAAAAAAAAAAAAAAAAAAAAAAAAAAAAAAAAAAAAAAAAAAAAAAAAAAAAAAAAAAAAAAAAAAAAAAAAAAAAAAAAAAAAAAAAAAAAAAAAAAAAAAAAAAAAAAAAAAAAAAAAAAAAAAAAAAAAAAAAAAAAAAAAAAAAAAAAAAAAAAAAAAAAAAAAAAAAAAAAAAAAAAAAAAAAAAAAAAAAAAAAAAAAAAAAAAAAAAAAAAAAAAAAAAAAAAAAAAAAAAAAAAAAAAAAAAAAAAAAAAAAAAAAAAAAAAAAAAAAAAAAAAAAAAAAAAAAAAAAAAAAAAAAAAAAAAAAAAAAAAAAAAAAAAAAAAAAAAAAAAAAAAAAAAAAAAAAAAAAAAAAAAAAAAAAAAAAAAAAAAAAAAAAAAAAAAAAAAAAAAAAAAAAAAAAAAAAAAAAAAAAAAAAAAAAAAAAAAAAAAAAAAAAAAAAAAAAAAAAAAAAAAAAAAAAAAAAAAAAAAAAAAAAAAAAAAAAAAAAAAAAAAAAAAAAAAAAAAAAAAAAAAAAAAAAAAAAAAAAAAAAAAAAAAAAAAAAAAAAAAAAAAAAAAAAAAAAAAAAAAAAAAAAAAAAAAAAAAAAAAAAAAAAAAAAAAAAAAAAAAAAAAAAAAAAAAAAAAAAAAAAAAAAAAAAAAAAAAAAAAAAAAAAAAAAAAAAAAAAAAAAAAAAAAAAAAAAAAAAAAAAAAAAAAAAAAAAAAAAAAAAAAAAAAAAAAAAAAAAAAAAAAAAAAAAAAAAAAAAAAAAAAAAAAAAAAAAAAAAAAAAAAAAAAAAAAAAAAAAAAAAAAAAAAAAAAAAAAAAAAAAAAAAAAAAAAAAAAAAAAAAAAAAAAAAAAAAAAAAAAAAAAAAAAAAAAAAAAAAAAAAAAAAAAAAAAAAAAAAAAAAAAAAAAAAAAAAAAAAAAAAAAAAAAAAAAAAAAAAAAAAAAAAAAAAAAAAAAAAAAAAAAAAAAAAAAAAAAAAAAAAAAAAAAAAAAAAAAAAAAAAAAAAAAAAAAAAAAAAAAAAAAAAAAAAAAAAAAAAAAAAAAAAAAAAAAAAAAAAAAAAAAAAAAAAAAAAAAAAAAAAAAAAAAAAAAAAAAAAAAAAAAAAAAAAAAAAAAAAAAAAAAAAAAAAAAAAAAAAAAAAAAAAAAAAAAAAAAAAAAAAAAAAAAAAAAAAAAAAAAAAAAAAAAAAAAAAAAAAAAAAAAAAAAAAAAAAAAAAAAAAAAAAAAAAAAAAAAAAAAAAAAAAAAAAAAAAAAAAAAAAAAAAAAAAAAAAAAAAAAAAAAAAAAAAAAAAAAAAAAAAAAAAAAAAAAAAAAAAAAAAAAAAAAAAAAAAAAAAAAAAAAAAAAAAAAAAAAAAAAAAAAAAAAAAAAAAAAAAAAAAAAAAAAAAAAAAAAAAAAAAAAAAAAAAAAAAAAAAAAAAAAAAAAAAAAAAAAAAAAAAAAAAAAAAAAAAAAAAAAAAAAAAAAAAAAAAAAAAAAAAAAAAAAAAAAAAAAAAAAAAAAAAAAAAAAAAAAAAAAAAAAAAAAAAAAAAAAAAAAAAAAAAAAAAAAAAAAAAAAAAAAAAAAAAAAAAAAAAAAAAAAAAAAAAAAAAAAAAAAAAAAAAAAAAAAAAAAAAAAAAAAAAAAAAAAAAAAAAAAAAAAAAAAAAAAAAAAAAAAAAAAAAAAAAAAAAAAAAAAAAAAAAAAAAAAAAAAAAAAAAAAAAAAAAAAAAAAAAAAAAAAAAAAAAAAAAAAAAAAAAAAAAAAAAAAAAAAAAAAAAAAAAAAAAAAAAAAAAAAAAAAAAAAAAAAAAAAAAAAAAAAAAAAAAAAAAAAAAAAAAAAAAAAAAAAAAAAAAAAAAAAAAAAAAAAAAAAAAAAAAAAAAAAAAAAAAAAAAAAAAAAAAAAAAAAAAAAAAAAAAAAAAAAAAAAAAAAAAAAAAAAAAAAAAAAAAAAAAAAAAAAAAAAAAAAAAAAAAAAAAAAAAAAAAAAAAAAAAAAAAAAAAAAAAAAAAAAAAAAAAAAAAAAAAAAAAAAAAAAAAAAAAAAAAAAAAAAAAAAAAAAAAAAAAAAFNIQVJBUkEgQXltYW4AAAWQAwACAAAAFAAAEKaQBAACAAAAFAAAELqSkQACAAAAAzgxAACSkgACAAAAAzgxAADqHAAHAAAIDAAACJoAAAAAHOoAAAAIAAAAAAAAAAAAAAAAAAAAAAAAAAAAAAAAAAAAAAAAAAAAAAAAAAAAAAAAAAAAAAAAAAAAAAAAAAAAAAAAAAAAAAAAAAAAAAAAAAAAAAAAAAAAAAAAAAAAAAAAAAAAAAAAAAAAAAAAAAAAAAAAAAAAAAAAAAAAAAAAAAAAAAAAAAAAAAAAAAAAAAAAAAAAAAAAAAAAAAAAAAAAAAAAAAAAAAAAAAAAAAAAAAAAAAAAAAAAAAAAAAAAAAAAAAAAAAAAAAAAAAAAAAAAAAAAAAAAAAAAAAAAAAAAAAAAAAAAAAAAAAAAAAAAAAAAAAAAAAAAAAAAAAAAAAAAAAAAAAAAAAAAAAAAAAAAAAAAAAAAAAAAAAAAAAAAAAAAAAAAAAAAAAAAAAAAAAAAAAAAAAAAAAAAAAAAAAAAAAAAAAAAAAAAAAAAAAAAAAAAAAAAAAAAAAAAAAAAAAAAAAAAAAAAAAAAAAAAAAAAAAAAAAAAAAAAAAAAAAAAAAAAAAAAAAAAAAAAAAAAAAAAAAAAAAAAAAAAAAAAAAAAAAAAAAAAAAAAAAAAAAAAAAAAAAAAAAAAAAAAAAAAAAAAAAAAAAAAAAAAAAAAAAAAAAAAAAAAAAAAAAAAAAAAAAAAAAAAAAAAAAAAAAAAAAAAAAAAAAAAAAAAAAAAAAAAAAAAAAAAAAAAAAAAAAAAAAAAAAAAAAAAAAAAAAAAAAAAAAAAAAAAAAAAAAAAAAAAAAAAAAAAAAAAAAAAAAAAAAAAAAAAAAAAAAAAAAAAAAAAAAAAAAAAAAAAAAAAAAAAAAAAAAAAAAAAAAAAAAAAAAAAAAAAAAAAAAAAAAAAAAAAAAAAAAAAAAAAAAAAAAAAAAAAAAAAAAAAAAAAAAAAAAAAAAAAAAAAAAAAAAAAAAAAAAAAAAAAAAAAAAAAAAAAAAAAAAAAAAAAAAAAAAAAAAAAAAAAAAAAAAAAAAAAAAAAAAAAAAAAAAAAAAAAAAAAAAAAAAAAAAAAAAAAAAAAAAAAAAAAAAAAAAAAAAAAAAAAAAAAAAAAAAAAAAAAAAAAAAAAAAAAAAAAAAAAAAAAAAAAAAAAAAAAAAAAAAAAAAAAAAAAAAAAAAAAAAAAAAAAAAAAAAAAAAAAAAAAAAAAAAAAAAAAAAAAAAAAAAAAAAAAAAAAAAAAAAAAAAAAAAAAAAAAAAAAAAAAAAAAAAAAAAAAAAAAAAAAAAAAAAAAAAAAAAAAAAAAAAAAAAAAAAAAAAAAAAAAAAAAAAAAAAAAAAAAAAAAAAAAAAAAAAAAAAAAAAAAAAAAAAAAAAAAAAAAAAAAAAAAAAAAAAAAAAAAAAAAAAAAAAAAAAAAAAAAAAAAAAAAAAAAAAAAAAAAAAAAAAAAAAAAAAAAAAAAAAAAAAAAAAAAAAAAAAAAAAAAAAAAAAAAAAAAAAAAAAAAAAAAAAAAAAAAAAAAAAAAAAAAAAAAAAAAAAAAAAAAAAAAAAAAAAAAAAAAAAAAAAAAAAAAAAAAAAAAAAAAAAAAAAAAAAAAAAAAAAAAAAAAAAAAAAAAAAAAAAAAAAAAAAAAAAAAAAAAAAAAAAAAAAAAAAAAAAAAAAAAAAAAAAAAAAAAAAAAAAAAAAAAAAAAAAAAAAAAAAAAAAAAAAAAAAAAAAAAAAAAAAAAAAAAAAAAAAAAAAAAAAAAAAAAAAAAAAAAAAAAAAAAAAAAAAAAAAAAAAAAAAAAAAAAAAAAAAAAAAAAAAAAAAAAAAAAAAAAAAAAAAAAAAAAAAAAAAAAAAAAAAAAAAAAAAAAAAAAAAAAAAAAAAAAAAAAAAAAAAAAAAAAAAAAAAAAAAAAAAAAAAAAAAAAAAAAAAAAAAAAAAAAAAAAAAAAAAAAAAAAAAAAAAAAAAAAAAAAAAAAAAAAAAAAAAAAAAAAAAAAAAAAAAAAAAAAAAAAAAAAAAAAAAAAAAAAAAAAAAAAAAAAAAAAAAAAAAAAAAAAAAAAAAAAAAAAAAAAAAAAAAAAAAAAAAAAAAAAAAAAAAAAAAAAAAAAAAAAAAAAAAAAAAAAAAAAAAAAAAAAAAAAAAAAAAAAAAAAAAAAAAAAAAAAAAAAAAAAAAAAAAAAAAAAAAAAAAAAAAAAAAAAAAAAAAAAAAAAAAAAAAAAAAAAAAAAAAAAAAAAAAAAAAAAAAAAAAAAAAAAAAAAAAAAAAAAAAAAAAAAAAAAAAAAAAAAAAAAAAAAAAAAAAAAAAAAAAAAAAAAAAAAAAAAAAAAAAAAAAAAAAAAAAAAAAAAAAAAAAAAAAAAAAAAAAAAAAAAAAAAAAAAAAAAAAAAAAAAAAAAAAAAAAAAAAAAAAAAAAAAAAAAAAAAAAAAAAAAAAAAAAAAAAAAAAAAAAAAAAAAAAAAAAAAAAAAAAAAAAAAAAAAAAAAAAAAAAAAAAAAAAAAAAAAAAAAAAAAAAAAAAAAAAAAAAAAAAAAAAAAAAAAAAAAAAAAAAAAAAAAAAAAAAAAAAAAAAAAAAAAAAAAAAAAAAAAAAAAAAAAAAAAAAAAAAAAAAAAAAAAAAAAAAAAAAAAAAAAAAAAAAAAAAAAAAAAAAAAAAAAAAAAAAAAAAAAAAAAAAAAAAAAAAAAAAAAAAAAAAAAAAAAAAAAAAAAAAAAAAAAAAAAAAAAAAAAAAAAAAAAAAAAAAAAAAAAAAAAAAAAAAAAAAAAAAAAAAAAAAAAAAAAAAAAAAAAAAAAAAAAAAAAAAAAAAAAAAAAAAAAAAAyMDIxOjA2OjI3IDE3OjAyOjQ2ADIwMjE6MDY6MjcgMTc6MDI6NDYAAABTAEgAQQBSAEEAUgBBACAAQQB5AG0AYQBuAAAA/+ELIGh0dHA6Ly9ucy5hZG9iZS5jb20veGFwLzEuMC8APD94cGFja2V0IGJlZ2luPSfvu78nIGlkPSdXNU0wTXBDZWhpSHpyZVN6TlRjemtjOWQnPz4NCjx4OnhtcG1ldGEgeG1sbnM6eD0iYWRvYmU6bnM6bWV0YS8iPjxyZGY6UkRGIHhtbG5zOnJkZj0iaHR0cDovL3d3dy53My5vcmcvMTk5OS8wMi8yMi1yZGYtc3ludGF4LW5zIyI+PHJkZjpEZXNjcmlwdGlvbiByZGY6YWJvdXQ9InV1aWQ6ZmFmNWJkZDUtYmEzZC0xMWRhLWFkMzEtZDMzZDc1MTgyZjFiIiB4bWxuczpkYz0iaHR0cDovL3B1cmwub3JnL2RjL2VsZW1lbnRzLzEuMS8iLz48cmRmOkRlc2NyaXB0aW9uIHJkZjphYm91dD0idXVpZDpmYWY1YmRkNS1iYTNkLTExZGEtYWQzMS1kMzNkNzUxODJmMWIiIHhtbG5zOnhtcD0iaHR0cDovL25zLmFkb2JlLmNvbS94YXAvMS4wLyI+PHhtcDpDcmVhdGVEYXRlPjIwMjEtMDYtMjdUMTc6MDI6NDYuODEzPC94bXA6Q3JlYXRlRGF0ZT48L3JkZjpEZXNjcmlwdGlvbj48cmRmOkRlc2NyaXB0aW9uIHJkZjphYm91dD0idXVpZDpmYWY1YmRkNS1iYTNkLTExZGEtYWQzMS1kMzNkNzUxODJmMWIiIHhtbG5zOmRjPSJodHRwOi8vcHVybC5vcmcvZGMvZWxlbWVudHMvMS4xLyI+PGRjOmNyZWF0b3I+PHJkZjpTZXEgeG1sbnM6cmRmPSJodHRwOi8vd3d3LnczLm9yZy8xOTk5LzAyLzIyLXJkZi1zeW50YXgtbnMjIj48cmRmOmxpPlNIQVJBUkEgQXltYW48L3JkZjpsaT48L3JkZjpTZXE+DQoJCQk8L2RjOmNyZWF0b3I+PC9yZGY6RGVzY3JpcHRpb24+PC9yZGY6UkRGPjwveDp4bXBtZXRhPg0KICAgICAgICAgICAgICAgICAgICAgICAgICAgICAgICAgICAgICAgICAgICAgICAgICAgICAgICAgICAgICAgICAgICAgICAgICAgICAgICAgICAgICAgICAgICAgICAgICAgIAogICAgICAgICAgICAgICAgICAgICAgICAgICAgICAgICAgICAgICAgICAgICAgICAgICAgICAgICAgICAgICAgICAgICAgICAgICAgICAgICAgICAgICAgICAgICAgICAgICAgCiAgICAgICAgICAgICAgICAgICAgICAgICAgICAgICAgICAgICAgICAgICAgICAgICAgICAgICAgICAgICAgICAgICAgICAgICAgICAgICAgICAgICAgICAgICAgICAgICAgICAKICAgICAgICAgICAgICAgICAgICAgICAgICAgICAgICAgICAgICAgICAgICAgICAgICAgICAgICAgICAgICAgICAgICAgICAgICAgICAgICAgICAgICAgICAgICAgICAgICAgIAogICAgICAgICAgICAgICAgICAgICAgICAgICAgICAgICAgICAgICAgICAgICAgICAgICAgICAgICAgICAgICAgICAgICAgICAgICAgICAgICAgICAgICAgICAgICAgICAgICAgCiAgICAgICAgICAgICAgICAgICAgICAgICAgICAgICAgICAgICAgICAgICAgICAgICAgICAgICAgICAgICAgICAgICAgICAgICAgICAgICAgICAgICAgICAgICAgICAgICAgICAKICAgICAgICAgICAgICAgICAgICAgICAgICAgICAgICAgICAgICAgICAgICAgICAgICAgICAgICAgICAgICAgICAgICAgICAgICAgICAgICAgICAgICAgICAgICAgICAgICAgIAogICAgICAgICAgICAgICAgICAgICAgICAgICAgICAgICAgICAgICAgICAgICAgICAgICAgICAgICAgICAgICAgICAgICAgICAgICAgICAgICAgICAgICAgICAgICAgICAgICAgCiAgICAgICAgICAgICAgICAgICAgICAgICAgICAgICAgICAgICAgICAgICAgICAgICAgICAgICAgICAgICAgICAgICAgICAgICAgICAgICAgICAgICAgICAgICAgICAgICAgICAKICAgICAgICAgICAgICAgICAgICAgICAgICAgICAgICAgICAgICAgICAgICAgICAgICAgICAgICAgICAgICAgICAgICAgICAgICAgICAgICAgICAgICAgICAgICAgICAgICAgIAogICAgICAgICAgICAgICAgICAgICAgICAgICAgICAgICAgICAgICAgICAgICAgICAgICAgICAgICAgICAgICAgICAgICAgICAgICAgICAgICAgICAgICAgICAgICAgICAgICAgCiAgICAgICAgICAgICAgICAgICAgICAgICAgICAgICAgICAgICAgICAgICAgICAgICAgICAgICAgICAgICAgICAgICAgICAgICAgICAgICAgICAgICAgICAgICAgICAgICAgICAKICAgICAgICAgICAgICAgICAgICAgICAgICAgICAgICAgICAgICAgICAgICAgICAgICAgICAgICAgICAgICAgICAgICAgICAgICAgICAgICAgICAgICAgICAgICAgICAgICAgIAogICAgICAgICAgICAgICAgICAgICAgICAgICAgICAgICAgICAgICAgICAgICAgICAgICAgICAgICAgICAgICAgICAgICAgICAgICAgICAgICAgICAgICAgICAgICAgICAgICAgCiAgICAgICAgICAgICAgICAgICAgICAgICAgICAgICAgICAgICAgICAgICAgICAgICAgICAgICAgICAgICAgICAgICAgICAgICAgICAgICAgICAgICAgICAgICAgICAgICAgICAKICAgICAgICAgICAgICAgICAgICAgICAgICAgICAgICAgICAgICAgICAgICAgICAgICAgICAgICAgICAgICAgICAgICAgICAgICAgICAgICAgICAgICAgICAgICAgICAgICAgIAogICAgICAgICAgICAgICAgICAgICAgICAgICAgICAgICAgICAgICAgICAgICAgICAgICAgICAgICAgICAgICAgICAgICAgICAgICAgICAgICAgICAgICAgICAgICAgICAgICAgCiAgICAgICAgICAgICAgICAgICAgICAgICAgICAgICAgICAgICAgICAgICAgICAgICAgICAgICAgICAgICAgICAgICAgICAgICAgICAgICAgICAgICAgICAgICAgICAgICAgICAKICAgICAgICAgICAgICAgICAgICAgICAgICAgICAgICAgICAgICAgICAgICAgICAgICAgICAgICAgICAgICAgICAgICAgICAgICAgICAgICAgICAgICAgICAgICAgICAgICAgIAogICAgICAgICAgICAgICAgICAgICAgICAgICAgICAgICAgICAgICAgICAgICAgICAgICAgICAgICAgICAgICAgICAgICAgICAgICAgICAgICAgICAgICAgICAgICAgICAgICAgCiAgICAgICAgICAgICAgICAgICAgICAgICAgICA8P3hwYWNrZXQgZW5kPSd3Jz8+/9sAQwAHBQUGBQQHBgUGCAcHCAoRCwoJCQoVDxAMERgVGhkYFRgXGx4nIRsdJR0XGCIuIiUoKSssKxogLzMvKjInKisq/9sAQwEHCAgKCQoUCwsUKhwYHCoqKioqKioqKioqKioqKioqKioqKioqKioqKioqKioqKioqKioqKioqKioqKioqKioq/8AAEQgBiwRMAwEiAAIRAQMRAf/EAB8AAAEFAQEBAQEBAAAAAAAAAAABAgMEBQYHCAkKC//EALUQAAIBAwMCBAMFBQQEAAABfQECAwAEEQUSITFBBhNRYQcicRQygZGhCCNCscEVUtHwJDNicoIJChYXGBkaJSYnKCkqNDU2Nzg5OkNERUZHSElKU1RVVldYWVpjZGVmZ2hpanN0dXZ3eHl6g4SFhoeIiYqSk5SVlpeYmZqio6Slpqeoqaqys7S1tre4ubrCw8TFxsfIycrS09TV1tfY2drh4uPk5ebn6Onq8fLz9PX29/j5+v/EAB8BAAMBAQEBAQEBAQEAAAAAAAABAgMEBQYHCAkKC//EALURAAIBAgQEAwQHBQQEAAECdwABAgMRBAUhMQYSQVEHYXETIjKBCBRCkaGxwQkjM1LwFWJy0QoWJDThJfEXGBkaJicoKSo1Njc4OTpDREVGR0hJSlNUVVZXWFlaY2RlZmdoaWpzdHV2d3h5eoKDhIWGh4iJipKTlJWWl5iZmqKjpKWmp6ipqrKztLW2t7i5usLDxMXGx8jJytLT1NXW19jZ2uLj5OXm5+jp6vLz9PX29/j5+v/aAAwDAQACEQMRAD8A+kaKKKACiiigAooooAKKKKACiiigAooooAKKKKACiiigAooooAKKKKACiiigAooooAKKKKACiiigAooooAKKKKACiiigAooooAKKKKACiiigAooooAKKKKACiiigAooooAKKKKACiiigAooooAKKKKACiiigAooooAKKKKACiiigAooooAKKKKACiiigAooooAKKKKACiiigAooooAKKKKACiiigAooooAKKKKACiiigAooooAKKKKACiiigAooooAKKKKACiiigAooooAKKKKACiiigAooooAKKKKACiiigAooooAKKKKACiiigAooooAKKKKACiiigAooooAKKKKACiiigAooooAKKKKACiiigAooooAKKKKACiiigAooooAKKKKACiiigAooooAKKKKACiiigAooooAKKKKACiiigAooooAKKKKACiiigAooooAKKKKACiiigAooooAKKKKACiiigAooooAKKKKACiiigAooooAKKKKACiiigAooooAKKKKACiiigAooooAKKKKACiiigAooooAKKKKACiiigAooooAKKKKACiiigAooooAKKKKACiiigAooooAKKKKACiiigAooooAKKKKACiiigAooooAKKKKACiiigAooooAKKKKACiiigAooooAKKKKACiiigAooooAKKKKACiiigAooooAKKKKACiiigAooooAKKKKACiiigAooooAKKKKACiiigAooooAKKKKACiiigAooooAKKKKACiiigAooooAKKKKACiiigAooooAKKKKACiiigAooooAKKKKACiiigAooooAKKKKACiiigAooooAKKKKACiiigAooooAKKKKACiiigAooooAKKKKACiiigAooooAKKKKACiiigAooooAK5nxf4wbw3c6Vp2n6a+q6xrEzxWVmsywhtib3ZnOdqqOpwTz0rpq5bxn4V0rxf9itLnUZdO1ezc3Wn3VpMEuISMBmUd15AYYxyPagDR8PahreoW8x8RaEmjzRuAix3q3KSrjqGCqR6YIFbFeGeIPHHjDRfBHj/AEO/vYr7V/DsFr5Or2kflNJHcMASyjhZFUk8f0ybOjeBNf0zxFoGq6Noui6Isd1Gb29t9bmuHv7dgQ6uGjAkY53Ak5yOOtAHtVZHiPxJZ+F7G3u9QjmkS4vIbNBCoJDyuEUnJHGTz/I15xpHgjRPGHxD8fDxHBLeww6hEkVu07rHGzW0eZAoI+fgDd1GBjHOeXvLC18R/AXwZfeIol1C6ttZjsRc3HL+R9tMRUn3SNQfpQB7tqN5qVtfadFp+lfboLiYpdz/AGhY/sibSd+08vzgYHPOa0K8z8W6Lpvh3Uvh7puiWcdlZxeIMpDEMKu6GUn8yTWZpXgjRfGPj74gJ4hilu4o7+JIYWmYRxM1tHmRVBHz8D5uoxxjnIB6/RXzj/Y0Lfs323j6a5vJ/FNpFHcW+pzXTtJFsnEYRecBNowRjnJJyea6fxtBqnin4zTaA2lWOs2NjpMdzDpuoag9vCzO5DTbVVvMIwF54X6mgD2eivC9f0bXfDHwB8Z2erm2giinWTT7W2vHuRZxl4j5W91BwDyAezVt6z4S0zwN448F6h4dFxBd32pNZX88lw8j3qNC7EylidzZXIPY9O2AD0LTfElnqviPWtFt451udFeFLhnUBGMsYkXaQcng85A59al8ReINP8LeHrzWtZm8mzs498jAZJ7AAdySQAPU15p4L8E+GU+NHjeRdHtRLpd1YzWZC8wM9uHZl9Mtk/Wtf44KyeALe8ZWezsdVs7q9VVzmBZRu49OQfwoA0NO8X+LbxrW5n8Az2+m3LphzqURuYkYj53hIGMA5IDkj0zxWh4Z8SXes+KPFOm3UUKQ6PexwQNGpDMrQq5LZJycsemOK6GO6t5rVLmKeN4JFDJKrAqwPQg9Oc15TDqmnaLdfFjUNae5Swhu4fONo5WUg20a4RgQQxJAByMZ6igD1uivA9Igk0P4qeD5dN8E3PhCDUZZ4Zmk1JJjfx+SzASRhi25SActzmta+0KDwh43l13xtoR1eC81pZLHxBBdsZrIvIPJikiJBCKcL8mVI6rzggHs1Z8N5qT+Ibm0m0rytOjhR4dQ+0KfOck7k8v7y7cDk8HNeU+LNDt/DHizU/FfjbQv7e0eW7img1WG7cXGkp8qqnlZHyB+coc/NyD23zptnrHxv8RadqdulzZ3Hh21SWGT7rjzpODQAvhXxp4v8TeF7rxVp2kaZf6dOJhpemQzNDcyFJvLG+VyYwCFc8Aduua9EQs0al12MQCVznB9K+c/C2haZZ/sg6lrFrZRRahfWFwtzcKPmlCXMgUH6AAV0Pi6PVfEvxR07w7/AGZZ6vp9voCXiadf3720MsjSFWkIVW8wqAAARgZJoA9torw/U9A1vw38EvHtjq6WltZmMy2FjbXr3Is0Kruj3OoIXI3Adtxr07wd4T0nw1p5n02F/td/HG97dzSM8t04BO9yTy2Xb0646AUAdFRRRQAUUUUAFFFFABRRRQAUUUUAFFFFABRRRQAUUUUAFFFFABRRRQAUUUUAFFFFABRRRQAUUUUAFFFFABRRRQAUUUUAFFFFABRRRQAUUUUAFFFFABRRRQAUUUUAFFFFABRRRQAUUUUAFFFFABRRRQAUUUUAFFFFABRRRQAUUUUAFFFFABRRRQAUUUUAFFFFABRRRQAUUUUAFFFFABRRRQAUUUUAFFFFABRRRQAUUUUAFFFFABRRRQAUUUUAFFFFABRRRQAUUUUAFFFFABRRRQAUUUUAFFFFABRRRQAUUUUAFFFFABWL4i8H6F4rWAa9p63L2xLQSq7xSRE9dsiEMue+DW1RQBi6R4P8P6Fo9xpWmaVBHZXW77TG4Mn2jcMN5jOSXyOPmJrP0f4Z+EdB1CG90zSBHNbndB5lxLKkBwRmNHYqhwT90CuqooAoWGiafpmoahe2Nv5VxqUqzXb72PmOqhQcE4HygDAxWefA3hxvB7eFn0xH0VixNq0jnlpDITuJ3A7yTnPHat+igDCt/Beg21ppdtHZOY9JuDdWfmXMrtHKQwLFmYlvvt94nr7Cr1homn6ZqGoXtjb+VcalKs12+9j5jqoUHBOB8oAwMVfooAwP+EH8OnwT/wAIj/Z//Ej8vy/snnSfd3b8b92773PWneIvBfh/xXJBJrunLPNbZ8meOV4ZYweoEkbKwB9M4rdooA54eA/DQ8K3XhsaWg0q8bfcQCRwZmyDuZ928n5V5JzwBWlqOiafq11YXGoW/nS6dcfabVt7L5cm0ruwCM8MeDkc1fooAwbnwV4fvPFUXiOew/4m0QUC4SeRN237u5VYK+O24HFbVxbw3dvJb3UUc0MqlJI5FDK6kYIIPBB9KkooA4+x+FHgrTr2K5tNECtBKJoomuZnhjcHIZYmcopB54Wtg+E9DddYWTTo5V1tg2oJKWdZyECDIJIHygDjHTPWtiigDk9K+GHg/RdQtL7T9I2Xdm++3nkuZZXi+UpgF3Py4Y/L93vjIFLF8MvCMOuDV10nfdrcG5XzbmWSNZSc7xEzlA2echeK6uigDlZ/hn4SudbbVrnSfOunuPtLCS5laJpc53mIv5ec8/drbj0TT4fEE+tx2+NRuLdLaWfe3zRqSyrtzgYLHkDNX6KAMCDwP4dtvBTeEYNO2aGyPGbQTSfdZi7Dfu3csSetO1/wV4e8Tx2q61pqztZ5FtKkjxSwgjBCyIQwBxyM81u0UAc9F4E8NweGbzw/Fparpt/n7VEJX3Tk4yWk3byeByTnit+NFijWOMYVQFUegFOooAKKKKACiiigAooooAKKKKACiiigAooooAKKKKACiiigAooooAKKKKACiisTxd4kj8KeHJtSa3a7m3pBbWqNhriaRgiID2yxHPYZNAG3RXM6D/wnJ1FX8THw+LJ0JaGwWbzYm7Dex2uPU4WumoAKKKKACiiigAooooAKKKKACiiigAooooAKKKKACiiigAooooAKKKKACiiigAooooAKKKKACiiigAooooAKKKKACiiigAooooAKKKKACiiigAooooAKKKKACiiigAooooAKKKKACiiigAooooAKKKKACiiigAooooAKKKKACiiigAooooAKKKKACiiigAooooAKKKKACiiigAooooAKKKKACiiigAooooAKKKKACiiigAooooAKKKKACiiigAooooAKKKKACiiigAooooAKKKKACiiigAooooAKKKKACiiigAooooAKKKKACiiigAooooAKKKKACiiigAooooAKKKKACiiigAooooAKKKKACvN/jjbxy+CtNubwSfYLLW7O4vXidkaOAPtdgy8rjd1HTrXpFMlijnheKeNZI3BV0dchgeoIPWgDyCLTvDmi/GHwrD8OJIUe7juX1eGxuPNjkthHlJJfmIzvI2t1Jr2Ks/SvD+jaEsi6HpNjpqynMgs7ZIQ599oGa0KACiimyyxwxNJM6xxqMsznAA9zQA6ikR1kQPGwZWGQwOQRS0AFFFFABWRqviBdM1S006LT7y/u7uOSVI7byxtVNoJJkdR/EOma1647xAl7J8SNCGm3FvbzfYbv57iBplxui42h0OffNTJtLQTOosLqa8tzJcWFxYMGx5Vw0ZYj1/duwx+OeOlWa5bxVBND4Sa81K9gGp2Mgns7q2tmTE2cIgQuxO7OwjPIY9KwxeXC+A9a1ySZ7fWby4SC+KZVrPEix+UPTYjEhh1LFu9JytoK9j0WiucvNC0zw5o99qXh/TYLO9trGby2t02byFyN4HDnKjlsnr6nPP6f4b1KfTtLvdO0rSbS83w3LaquoSPcTKSGk3nyAX3qWBUtjJHoKHJrSwXOgu/Fn2XRfEV/9i3/ANiTPF5fm487bGj5zj5fv479K6OvOdW/5Ev4h/8AX5L/AOk0NafiGG51TxxDpzadZanaQ6f9pW1v7gxxGQyFS5URuHIAAGRxuOOtJSYXOzorznVNDvrLw99ivvKs7W512zNrb2N07/ZEaWMMqOVQr825gAMLnjpWqdK0/RPHOl2Wl2UNta6lY3Md3BGgCTeWYyrMP4m+dxk8kMc0+Z9gudJpmqQarHcPbrIot7mS2fzABlo22kjBPGRxV2uP8CaNpdoNUubXTbSCdNUu4UljgVWWMSEBAQMheBx0rsKcW2tRrYKKKKoYUUUUAFFFFABRRRQAUUUUAFFFFABRRRQAUUUUAFFFFABRRRQAUUUUAFFFFABRRRQAUUUUAFFFFABRRRQAUUUUAFFFFABRRRQAUUUUAFFFFABRRRQAUUUUAFFFFABRRRQAUUUUAFFFFABRRRQAVFdXdvY2z3F5NHBCgy0kjBVH4mqutazaaDpUt/fuRGnCqvLSMeiqO5Nc7Z+H77xPeR6p4wQJbod1rpAOUj9Gk/vN7dv0rWFNNc0nZf1sZTm0+WOr/rcefFmpa7IYvBmnCaEHDajegxwD/dH3mpw8I6rqHza/4ov5M9YbHFug9uOSK6tEWNFSNQqqMBVGABS1XteX4Fb8X9/+QvZX+N3/AC/r1OU/4Vp4af8A4+bW4uW7tNdyEn8mFH/CsfCH/QI/8mZv/i66uil9YrfzP7w9hS/lX3HKf8Kx8If9Aj/yZm/+Lo/4Vj4Q/wCgR/5Mzf8AxddXRR9Yrfzv72HsKX8q+5HKf8Kx8If9Aj/yZm/+Lo/4Vj4Q/wCgR/5Mzf8AxddXRR9Yrfzv72HsKX8q+5HKf8Kx8If9Aj/yZm/+Lo/4Vj4Q/wCgR/5Mzf8AxddXRR9Yrfzv72HsKX8q+5HKf8Kx8If9Aj/yZm/+Lo/4Vj4Q/wCgR/5Mzf8AxddXRR9Yrfzv72HsKX8q+5HKf8Kx8If9Aj/yZm/+Lo/4Vj4Q/wCgR/5Mzf8AxddXRR9Yrfzv72HsKX8q+5HKf8Kx8If9Aj/yZm/+Lo/4Vj4Q/wCgR/5Mzf8AxddXRR9Yrfzv72HsKX8q+5HKf8Kx8If9Aj/yZm/+Lo/4Vj4Q/wCgR/5Mzf8AxddXRR9Yrfzv72HsKX8q+5HKf8Kx8If9Aj/yZm/+Lo/4Vj4Q/wCgR/5Mzf8AxddXRR9Yrfzv72HsKX8q+5HKf8Kx8If9Aj/yZm/+Lo/4Vj4Q/wCgR/5Mzf8AxddXRR9Yrfzv72HsKX8q+5HKf8Kx8If9Aj/yZm/+Lo/4Vj4Q/wCgR/5Mzf8AxddXRR9Yrfzv72HsKX8q+5HKf8Kx8If9Aj/yZm/+Lo/4Vj4Q/wCgR/5Mzf8AxddXRR9Yrfzv72HsKX8q+5HKf8Kx8If9Aj/yZm/+Lo/4Vj4Q/wCgR/5Mzf8AxddXRR9Yrfzv72HsKX8q+5HKf8Kx8If9Aj/yZm/+Lo/4Vj4Q/wCgR/5Mzf8AxddXRR9Yrfzv72HsKX8q+5HKf8Kx8If9Aj/yZm/+Lo/4Vj4Q/wCgR/5Mzf8AxddXRR9Yrfzv72HsKX8q+5HKf8Kx8If9Aj/yZm/+Lo/4Vj4Q/wCgR/5Mzf8AxddXRR9Yrfzv72HsKX8q+5HKf8Kx8If9Aj/yZm/+Lo/4Vj4Q/wCgR/5Mzf8AxddXRR9Yrfzv72HsKX8q+5HKf8Kx8If9Aj/yZm/+Lo/4Vj4Q/wCgR/5Mzf8AxddXRR9Yrfzv72HsKX8q+5HKf8Kx8If9Aj/yZm/+Lo/4Vj4Q/wCgR/5Mzf8AxddXRR9Yrfzv72HsKX8q+5HKf8Kx8If9Aj/yZm/+Lo/4Vj4Q/wCgR/5Mzf8AxddXRR9Yrfzv72HsKX8q+5HKf8Kx8If9Aj/yZm/+Lo/4Vj4Q/wCgR/5Mzf8AxddXRR9Yrfzv72HsKX8q+5HKf8Kx8If9Aj/yZm/+Lo/4Vj4Q/wCgR/5Mzf8AxddXRR9Yrfzv72HsKX8q+5HKf8Kx8If9Aj/yZm/+Lo/4Vl4TH3NLZD6rdS5/9Crq6KPrFb+d/ew9hS/lX3HJ/wDCAW9t82kazq+nMPuiO6LJ+KtnNNaTxjoA3zC38RWa/eMSeTcgeyj5W+g5NddRT9tJ/Fr6/wCe4exivh09P8tjI0TxPpfiBWFhPieP/WW0o2Sxn3U/zHFa9YWv+FbXWmW6gc2OqQndBfQDDqfQ/wB4exqDQPEN22otofiOFLfVo03o6H93dp/fT39R/wDXAThGS5ofd/W4Kcovln950lFFFYmwVV1HUrTSrQ3N/L5UIIUttLcn2AJq1UVxa295D5V3BHPHnOyVAwz9DTja+uwpXtpuYn/CdeHP+gj/AOQJP/iaP+E68Of9BH/yBJ/8TWh/YGj/APQJsf8AwGT/AAo/sDR/+gTY/wDgMn+FdF8P2f3r/IwtX7r7n/mZ/wDwnXhz/oI/+QJP/iaP+E68Of8AQR/8gSf/ABNaH9gaP/0CbH/wGT/Cj+wNH/6BNj/4DJ/hRfD9n96/yC1fuvuf+Zn/APCdeHP+gj/5Ak/+Jo/4Trw5/wBBH/yBJ/8AE1of2Bo//QJsf/AZP8KP7A0f/oE2P/gMn+FF8P2f3r/ILV+6+5/5mf8A8J14c/6CP/kCT/4moL3xd4V1Czltbu98yGUYZfJlGf8Ax2tf+wNH/wCgTY/+Ayf4VV1LTtC0zTpryfR7Ro4V3FUtUJP6U4+wurKV/Vf5Cl7azu1b0f8AmcKutxeGrjd4b1j7bZs3NnPE42/QkAfiMfQ12ugeL9O13bErfZ7sjmCQ9f8AdPf+ftXMx6Fe+K5FkTTLTRdOzlStuokcfkD/ACH1rstG8PadocW2xhHmEYaZ+Xb8f6CujEujy2fxf1v0OfDqtzafD/W3U06KKK809EKzdT0DT9Xure5vEnE9srpFLb3UsDKrY3DMbKSDtHX0rSootfcDLi8O6dEYCwubg283nxfaryafa+3bn52PQdPQ8jB5qc6Np7XN7O9qjtfoqXSvlkmCjA3IflPBxnHIwD0FXaKVkKyMvTvDmm6XOk1qlw0kcZjjNxdyz+UpxkJ5jNtBwOmM4HpUdt4U0e0njkt7eVUhk8yK3+1SmCNs5BWEt5a4PIwvB5GK2KKOVBZGdNoGmT2Wo2kttug1NzJdp5jDzGKqpOc5HCqOMdKfqWjWOrGFr2N/NgJMU0MzwyR5GCA6EMAeMjODgZ6VeooshmYnh7TEso7X7OzRpcpdZeZ3dpVYMrs5JZiCo+8TwAOgxVqbTrWfUra/li3XNqjpDJuI2h8bhjODnaOvpVmiiyAoW2iWNnqk9/apLFNcMXlVbiQRMxABbyt2zccDnGav0UU9gCiiigAooooAKKKKACiiigAooooAKKKKACiiigAooooAKKKKACiiigAooooAKKKKACiiigAooooAKKKKACiiigAooooAKKKKACiiigAooooAKKKKACiiigAooooAKKKKACiiigAooooAKKKKACkZgqlmIAAyST0pa5fxzdTvYWmiWLlLnWJxbbh1SLrI34Lx+NXCPPJRInLki5FPRYW8Y68fEF9zplnK0elwEcOQcGY+pz09Me1dpUFlZwafYwWdomyGBBGijsAMVPTqT5npsthU4cq136hRRRWZoFFFFABRRRQAUUUUAFFFFABRRRQAUUUUAFFFFABRRRQAUUUUAFFFFABRRRQAUUUUAFFFFABRRRQAUUUUAFFFFABRRRQAUUUUAFFFFABRRRQAUUUUAFFFFABRRRQAUUUUAFYvibw+uvWCeTJ9m1C1bzbO6XrE4/oehH+FbVFVGTi+ZEyipKzMTwprr67o3mXaCG/t5DBdw/3JF4P4HrW3XIX6/wDCO/ECzv4vks9b/wBFul7CcDMbfU8j866+rqxSfNHZkU5NrllugooorI1CiiigArM8QeItL8LaNJquu3JtrONlRpBE8hyzBVAVASckgcCtOuU+JHhzUvFPg19O0VrZbwXVvPH9qdljPlyq5BKgnovpQBa0DxzoPie+ktNGnu5Jo4zKwm0+4gG0ED70iKCckcZz+VdDXD6T4y1+28b2vhfxno1naXGoW8k9jeaddNNDMY8F0IZVZSAQc9DXcUAFFFFABRRRQAUUUUAFFFFABRRRQAUUUUAFFMlnihaMTSpGZX2Rh2A3tgnA9TgE49qfQAUUUUAFFFFABRRRQAUUUUAFFFFABRRRQAUUUUAFFFFABRRRQAUUUUAFFFFABRRRQAUUUUAFFFFABRRRQAUUUUAFFFFABRRRQAUUUUAFFFFABRRRQAUUUUAFFFFABRRRQAUUUUAFFFFABRRRQAUUUUAFFFFABXJn/T/iwA3Mel6blR6SSNgn/vmusrlNB+f4k+K2PWNLNR9DGTW1LRSfl+qX6mNXVxXn+jf6HV0UUySVYxljisTYfRWVNrtrGcBi5/2RmoD4jh/55yfkP8a4p4/CwdpVF95vHD1ZK6izcorC/wCEji/55yfkP8aP+Eji/wCecn5D/Go/tLB/8/EP6rW/lN2isL/hI4v+ecn5D/Gj/hI4v+ecn5D/ABo/tLB/8/EH1Wt/KbtFYX/CRxf885PyH+NH/CRxf885PyH+NH9pYP8A5+IPqtb+U3aKwv8AhI4v+ecn5D/Gj/hI4v8AnnJ+Q/xo/tLB/wDPxB9Vrfym7RWF/wAJHF/zzk/If40f8JHF/wA85PyH+NH9pYP/AJ+IPqtb+U3aKw/+Eji/55yfkP8AGpYtftnOGLJ/vCqjmGEk7KovvE8PWSu4s16KiiuI5lDIwIPoalru3MAooooAKKKKACiiigAooooAKKKKACiiigAooooAKKQnHWqV3qkFqPnbnsB1NROcaceabshxi5OyL1GRXNzeIZCf3MYA9WNQHXrv0j/I/wCNeVLOsHF25r/I61gqzWx1eRRkVyf9u3f/AEz/ACP+NH9u3f8A0z/I/wCNR/bmD7v7ivqNY6zIoyK5P+3bv/pn+R/xo/t27/6Z/kf8aP7cwfd/cH1GsdZkUZFcn/bt3/0z/I/40f27d/8ATP8AI/40f25g+7+4PqNY6zIoyK5P+3bv/pn+R/xo/t27/wCmf5H/ABo/tzB939wfUax1mRRkVyf9u3f/AEz/ACP+NH9u3f8A0z/I/wCNH9uYPu/uD6jWOsyKMiuT/t27/wCmf5H/ABo/t27/AOmf5H/Gj+3MH3f3B9RrHWZFGRXJ/wBu3f8A0z/I/wCNL/b136R/kf8AGj+3MH3f3B9RrHV0VzMXiGZT+9jUj2OK1bPV4LngNtb+63WuzD5jhcQ+WnLXtsY1MNVpq8kaNFIrBhxS13nOcx8Q7dpfBd1PFxPZMl1E391kYHP5ZrorWdbqzhuE+7NGrj6EZrN8WLu8GayD/wA+Mx/JCaf4Xbf4Q0dj1NjAf/IYrZ60V5MxWlV+aNSiiisTYKKKKACs3XbHVL/T1j0PV/7JulkD+ebZZ1YYOUZGxwcg8EHjr1rSooA5DRfBN5D4nj8ReKtdbXNTtoGt7PZarbQ2qP8AfKoCxLHABYseOK6+iigAooqtqKXj6dMumSJFdFf3TyDIBppXdhN2VyzRXIWXjKewuRY+K7VrOfotwq5R/fj+YyPpXWRSxzxLLC6yRsMq6HII+tXUpSp/ERCpGew+iiiszQKwNQT+1vFUek3RY2MFr9qlhBwJ2LlVV/VRtYlehJGcgYrfrJ1PS7l9Rg1TSZYo76FDC6Tg+XPETnYSOVIIyGGcc8HNRNXQpbFTT/8AhHLfW4otOsGsL11dUC2MtssoGN2flVXxx1zjt1qOLV9av9Ik1nT1shaDc8NpLGxkmjU9TIGwrMASBtYDIyTVpLDU73XbO/1GO0tUskkCRwTNMZC4AOSUTbjHoc57VVg0jWbDSH0WxazNp80cN3LI/mxRsehjC4ZlBIB3AHAJHas9fl5Eak51y41K7s7XRPKjNxZrevPdRlwkbcKAisMsTn+IAAd6ifxJcafZ6qmpQRzXmnbCPs+US4EhxHgEkoSeCMnGM89KlbQ7jTbyzutD8mT7PZrYvb3MhQPGvKEOqnDA5/hIIPbFMfw5PqFnqjalPHFeaj5eDACyQCM5jAzgtg8k8ZzjAo9/5/8AA/zD3ilqv9spqvh9dVNlNE2oK3mWyNGY38qT5cMzbgc8Nx06c111c7Pp2u6nfaXPfmwt4rG4EzxQSPJ5p2MpbcVGMbuF56nJ4FdFVwWrKj1CiiitCgooooAKKKKACiiigAooooAKKKKACiiigAooooAKKKKACiiigAooooAKKKKACiiigAooooAKKKKACiiigAooooAKKKKACiiigAooooAKKKKACiiigAooooAKKKKACiiigAooooAKKKKACiiigAooooAK5Tw//wAlG8X/APbl/wCiTXV1yegnHxF8Yf8Abl/6JNbU/hn6fqjGp8UPX9GdJd3K28RdzgAVyl9qMt5IckiPsvrVrXLsyTeUDwOTWTXxGeZhP2n1aDslv/ke9gcOuX2svkLRSUV8vzHqi0UlFHMAtFJRRzALRSUUcwC0UlFHMAtFJRRzALRSUUcwFi1vJbSTdGeO69jXV2F6l3CGU1xlX9JujBdBc/K386+jyTMJwqrDzfuvbyf/AATzcbh1KHtFujsKKajblBp1fbHiBRRRQAUUUUAFFFFABRRRQAUUUUAFITgUtU9QuRb27MT0FGwFDVtV8geXCfnP6Vzru0jFnJZj1JollaWRnbkk03NfnGZZhLF1XZ+6tl+p9HhsOqMPMKKM0ZrzOY6goozRmjmAKKM0Zo5gCijNGaOYAoozRmjmAKKM0Zo5gCijNGaOYAoozRmjmAKUEggg4I70maM0c1gsb2k6sxYQznJ7H1roFbcMiuCVirArwRyK6zSbz7RbKT17191kuYSxNN06jvKP4o8LG4dUpc0dmR+Kv+RN1r/rwn/9FtR4V/5E3Rf+vCD/ANFrR4q/5E3Wf+vCf/0W1HhX/kTdF/68IP8A0WtfTf8ALn5/oeT/AMvfl+prVQ1nT7jU9ONvaX0lhIWB86LOQB24I/nV+isoycXdGskpKzOP/wCEM1n/AKG6+/J//jlH/CGaz/0N19+T/wDxyuworo+s1e/4L/Iw+rU+34v/ADOP/wCEM1n/AKG6+/J//jlH/CGaz/0N19+T/wDxyuwoo+s1e/4L/IPq1Pt+L/zOP/4QzWf+huvvyf8A+OUf8IZrP/Q3X35P/wDHK7Cij6zV7/gv8g+rU+34v/M4/wD4QzWf+huvvyf/AOOUh8G6wBk+L74D6P8A/HK7Gq2o2MWp6fNZ3DOscy7WMbYbH1oWJqX1f4L/ACE8PTtovxZ5ZrdvLJOun2uv3muTlv8AVKjMgP1LnJ+g/Gut8G+GNT0f99fXrRI4ybNCGXPqx6Z+n510GlaJYaLB5WnwKmR8znln+pq/WtXFuUfZx2+RnSwqjLnlv8wooorhO0KKKKACiiigAooooAKKKKACiiigAooooAKKKKACiiigAooooAKKKKACiiigAooooAKKKKACiis/VdZt9KRRIDLO4+SFPvN7+w96UpKKuxNpK7NCiuMm8QarOcrLFar2WJAxH1LdfyFQ/wBq6t/0FZ/+/UX/AMRXP9Yj2Zl7WJ3NFcN/aurf9BWf/v1F/wDEUf2rq3/QVn/79Rf/ABFH1mPZ/h/mHtl2O5orhv7V1b/oKz/9+ov/AIij+1dW/wCgrP8A9+ov/iKPrMez/D/MPbLsdzRXDf2rq3/QVn/79Rf/ABFH9q6t/wBBWf8A79Rf/EUfWY9n+H+Ye2XY7miuG/tXVv8AoKz/APfqL/4ij+1dW/6Cs/8A36i/+Io+sx7P8P8AMPbLsdzRXDf2rq3/AEFZ/wDv1F/8RR/aurf9BWf/AL9Rf/EUfWY9n+H+Ye2XY7miuG/tXVv+grP/AN+ov/iKP7V1b/oKz/8AfqL/AOIo+sx7P8P8w9sux3NFcN/aurf9BWf/AL9Rf/EUf2rq3/QVn/79Rf8AxFH1mPZ/h/mHtl2O5orhv7V1b/oKz/8AfqL/AOIo/tXVv+grP/36i/8AiKPrMez/AA/zD2y7Hc0Vw39q6t/0FZ/+/UX/AMRR/aurf9BWf/v1F/8AEUfWY9n+H+Ye2XY7miuG/tXVv+grP/36i/8AiKP7V1b/AKCs/wD36i/+Io+sx7P8P8w9sux3NFcN/aurf9BWf/v1F/8AEUf2rq3/AEFZ/wDv1F/8RR9Zj2f4f5h7ZdjuaK4b+1dW/wCgrP8A9+ov/iKfHrerxNn7cJvaaFcH/vkLR9Yj2f4f5h7ZdjtqKw9L8SR3cy219GLa4bhCGykh9Aex9j+Ga3K3jOM1dGqkpK6CiiiqGFFFFABRRRQAUUUUAFFFFABXIaKcfEHxh9LL/wBEmuvrjtI/5KB4x+ll/wCiTW1P4Z+n6oxqfFD1/Rla8ffeyk9mxUNOn/4+5v8Af/oKZX5Xmsv9uqep9Xhf4MRaKSivM5jpFopKKOYBaKSijmAWikoo5gFopKKOYBaKSijmAWikoo5gFpyNslRh2YUykPVf94fzrtwEv9rpf4o/mjGv/Cl6M7qzbdbqfarFVbD/AI9l+lWq/VD5cKKKKACiiigAooooAKKKKACiiigArnvEUxCKg7muhPSuV8RH/SIh7n+VcmNk44Wo1/K/yNaKvVivNGTRSUV+Ucx9SLRSUUcwC0UlFHMAtFUdQ1iw0qaziv5/Je+nFtbjYx3yEEheAcdDycCrtU7pJvqGmwtFJRU8wC0VRl1exh1qDSZJ9t7cRNNFFsb5kUgMc4wOo6mrtU7q1+oaMWioIru2muZ7eG4ikntyomiRwWi3DI3DqMjkZ61Bper2OtWr3OmT+fCkrws2xlw6HDDBA6EUWla9v6YrrYvUUlFTzDFopKKOYBaKSijmAWtfQJiLh07dax60NEONSP8Auj+tfQcPyf123dM4Mev3PzNvxT/yJms/9eE//otqPCv/ACJui/8AXhB/6LWk8Uf8iXrP/XhP/wCi2pfCv/Im6L/14Qf+i1r9I/5c/P8AQ+a/5e/L9TWooorE2CiiigAoorhvix4uXwv4Wit0vk0661icWMN7JwloGHzzE/7K5IHdsUAX/DnxE0bxT4q1XQtJS6aXSxl7l41EMw3lCY23ZYBlZc4AyDjNdVXingPxF4MtfjDJpvhvVrWSybQrWxstjZ82RJJCy57tg5P1r2ugAooooAKKKKACiiigAooqOeZbeBpXyQo6DqfQCjYCSio7edLm3SaPO1xkZHI9qko3AKKKKACiimTSiCCSVwSsaliB1wBmgB9FNRxJGrjowBGaV22Rs2M7QTigBaKitpvtFpDNt2+YivtznGRmkjuN95NBtx5Sq27PXdn/AApXQrk1FFFMYUUUUAFFFRl5BcKgizGVJMm7ofTFAElFQxXAnjlaJSTG7Jg8ZIp8TO8KNLH5bkZZM52n0zSumA+iiimAUUUUAFFFFAEV1cJZ2c1zN9yFC7Y9AM1wJlluZpLq6OZ5jub/AGR2Uew6V1nilivhy4x/E8Sn6GRQf51yWa4sQ/eSOas9bDqKbmjNc5iOopuaM0AOopuaM0AOopuaM0AOopuaM0AOopuaM0AOopuaM0AOopuaM0AOopuaM0AOopuaM0AOopuaM0AOopuaM0AOopuaM0ADosiFW6H9K6/w7qD6hpf787p4GMUjf3iACG/EEH65rkM1ueEWP27UU7bIW/Elx/QVrRlaovM0pu0jqKKKK9A6wooooAKKKKACiiigAooooAK47SP+SgeMfpZf+iTXY1x2kf8AJQPGP0sv/RJran8M/T9UY1Pih6/oylP/AMfc3+//AEFR5p1x/wAfk3+//SmV+SZs/wDbqvqfW4X+BEXNGaSivM5joFzRmkoo5gFzRmkoo5gFzRmkoo5gFzRmkoo5gFzRmkoo5gFzRmkoo5gFzQTyv+8P50lH8S/7w/nXbl8v9spf4o/mjKv/AApej/I7mw/49l+lWqq2H/Hsv0q1X62fKhRRRQAUUUUAFFFFABRRRQAUUUUAB6VyniP/AI+Yv94/yrqz0rlPEf8Ax8Rf7x/lXFmH+51f8MvyZtQ/ix9V+ZkZozSUV+R8x9ULmjNJRRzALmjNJRRzAcT8Qz/xNvBv/Ydi/wDQWrU8a67e6LpVmmkrGb/Ur6Kwt3mGUjZ8/Ow7gBTxR4u8MXHiRNMey1FdPudOvFu45Gt/OBIBGCu5fX1qpeeENT1vSZLTxDry3Msc0VzZXNrZCBrWVCSH5Zg3UenGfXj1KdSg4UnOS9291Z9/S1u+pzSjO8uVblWW98Q+FvEeiwaprQ1qw1Wc2r+ZapDJBJtLKV2AAqcEEHOPWsTxB4o1t4fFN5beKoNEfRpnhttP+zxO0wVAwZi4LEuThccfWups/CV/LrVnqfibXDq0mn7jaRR2q28aOwwXYAnc2M45wM9K838zTrfV9ZvL/XI9I1WPUria3sLrSYriVSW4Ku6F2DYyNjYAIA9a7sL7KrK6tJpK9o6PXty9tG+X/g4VHKKtqk/Py73/AFPQLTVtXt/E/hnTbu9kmS806ee6EsMas8g2Fc7VGCNxHGBWf4Y1/Vb/AMQrDr3iE2GoedIH0KawWNWQEhfKkI3PwA24E9+K1tF0zUNZn8O+JtaP2S/t7CRJ7PyiMtJtOeTlcbemD17YpieD9VvNV0658R+IhqUOmz/aIIo7BIGMgBALMCcgZ6AKDXK6lBKUZWTs76dby20a7a6dLPQ15ZuzV/8Agaef+ZjeF9L1UfE7xUx8Q3BSC4tGnT7ND/pIMIIUnb8uB8vy4z1PNOXxjrX/AAiuYZo5NSvvEMmk2s0sQ2wr5jAMVGM7UU/U4zmuhXwxd2vjS61zTtX+zwX/AJRvbNrYP5pjXapV8/JxweDVNvh/DJ4bm0yTUJFm/tN9TtruKMK1vMZC6kAkg4zj356VTxOHnJSqNPSHTays76d/w+4Xs5pNR8+vnobGi6frWn3Ev9q67/a0DoNnmWqRPG2eeUwCCPUZHrWzmsXRdM1mznkl1vXf7TLIESOO0WBE55bAJJJ+v4Vs15dad57p+isvusvyOmC0FzRmkorHmLFzRmkoo5gFzV/RP+Qkf90fzNZ9aGh/8hI/7o/ma+h4dd8evRnBj/4BueKP+RL1n/rwn/8ARbUvhX/kTdF/68IP/Ra0nij/AJEvWf8Arwn/APRbUvhX/kTdF/68IP8A0Wtfp3/Ln5/ofMf8vfl+prUUVQ1nT7jU9ONvaX0lhIWB86LOQB24I/nWUUm7N2NZNpXRforj/wDhDNZ/6G6+/J//AI5R/wAIZrP/AEN19+T/APxyuj2VL/n5+DMPaVP5PxR2FFcf/wAIZrP/AEN19+T/APxyj/hDNZ/6G6+/J/8A45R7Kl/z8/Bh7Sp/J+KNmHw3ZweMbrxIkk5vLqzjs3jLDywiMzAgYznLHv8AhWvXH/8ACGaz/wBDdffk/wD8co/4QzWf+huvvyf/AOOUeypf8/PwYe0qfyfijsKrail4+nTLpkiRXRX908gyAa5j/hDNZ/6G6+/J/wD45SHwbrAGT4vvgPo//wAcoVOknfnX3MTqVGrcj+9DrLxlPYXIsfFdq1nP0W4Vco/vx/MZH0rrIpY54llhdZI2GVdDkEfWvJtbt5ZJ10+11+81yct/qlRmQH6lzk/QfjXW+DfDGp6P++vr1okcZNmhDLn1Y9M/T866K9Gkoc6dn211/UwoVqjnyNXXfT/hjr6KKK849AKoX0jNd28KRPMFPnOqEA4H3epA6/yq/TFhRZnlC/O4AY57Dp/Opkm1YTVzNhnkt47+PyniZVaeFXwTgg56Ej7wP51Ys7K2EMEyxr5u0MZf4mJHJJ6nOe9WmhjaZZWX51UqDnseo9+lRR2FvE6tGjDaSVUuxVT7LnA69hUKDT7k8pV061gurOO5njV53O9pT94HPY9RjGMVCkEl5LdNJawTkStGHllIZAOgHynHrkVf/s+28wvsYZbcVDsFJ9ducfpSy2MEsjSMHVmGGKSMm764Iz+NL2bskHK7FAWxfULSC/YSMts28Z4kIK9fX1pssESw6pbrGphjjDohGQjFSTgdux/GrU1gs2oQloh5McJVSp27G3LjGORwD0q1FbRQxNGifKxJbcd24nrknr+NJQbb/roLlKTR29vpsCLao3nFAI1+UO2P4sduPeorZWhvbyHyY4EMCv5cTZXPIz0GDx6dqvCwtxb+TtcoCCoaRiVI6YJOR+FLFY28DO0aHdINrsWJLD3JPvT5HdD5Xcyxbww+HobuIf6QsaMsufmzwMZ9O2KkvZHim1F4jtbyoRkHGMswPPbir0em2kTIY4iAhBVd7bQcYztzjPv1qb7PEZJHKAmVQr55DAZ4x+Jpezdv68xcrKMVjLFdQPDbW9sEPzmKQkuuOhG0Z5wcmpNXANrEGYoDPGCwOCBuHOe1TRWUELqyByVGF3yMwX6Ak4/CmajbtcwRxhA485GZTjBUMM9faq5WoNDtoyEwRWeqWgtUWLzQ6uF43ADIJ9Tnv71Db20FzpBup1BnZWczH76EE9D1GMdvStCCzgt2LRK27btyzliB6DJOB7U1tPtndmaM4ZtzIHYIx9SucH8qXIw5Sm8MlxDbXdxAl0v2cb4WxkE4JZQeM/lT4min1G2aMbons2wG5yNy9c1bmsoLhy0gfJXa2yRl3D0OCM9T1p4t4llWRUAZE8tccALxxj8BT5HcOVmdYW0EdvdvHDGriWVQyoAQM9PpUdrItlHZ3DnbFNaKrn/aVcj9N35VpraQrLJIoYGTO4B22n325xn3psljby2qW0kQaGPG1STxjpS9m0tOgcr6GaYpdlnE0aSG4Z5pUdyqs3UA8Hpnp7VdsrWW3uJWMcUMLqMRROWAYdT0GMjH5VZmgjuECyrkA7gQSCD6gjkGkht47fd5YbLdWdyxP4kk01CzuCjZktFFFalhRRRQBjeK/wDkXJv+usP/AKNSuSzXW+LP+Rbm/wCusP8A6NSuRzXBiP4ny/zOWr8QuaM0maM1gZC5ozSZozQAuaM0maM0ALmjNJmjNAC5ozSZozQAuaM0maM0ALmjNJmjNAC5ozSZozQAuaM0maM0ALmjNJmjNAC5ozSZozQAuaM0maM0ALmjNJmjNAC5rc8If8hDUf8ArlB/OSsLNbng/wD5CGo/9coP5yVpS/iR/roy6fxo6uiiivSOwKKKKACiiigAooooAKKKKACuO0j/AJKB4x+ll/6JNdjXHaR/yUDxj9LL/wBEmtqfwz9P1RjU+KHr+jKFz/x+Tf7/APSo81Jc/wDH5N/v/wBKir8ezh/7fV9T67C/wI+guaM0lFeXzHSLmjNJRRzALmjNJRRzALmjNJRRzALmjNJRRzALmjNJRRzALmjNJRRzALmgH5l/3h/OkpR95f8AeH867cul/ttH/FH80Y1/4MvR/kd1Yf8AHsv0q1VWw/49l+lWq/Yj5QKKKKACiiigAooooAKKKKACiiigAPSuT8Sf8fEX+8f5V1h6VyfiT/j4j/3j/KuHMf8Acq3+GX5M2ofxo+q/Mx6KTNGa/HeY+rFopM0Zo5gForlvGviDVNF/saDRFtPtGpaglpvu0Z0QMpOcKwPUDvUej+ItZi8ZN4b8SQ2LzvZ/bILmwDqhUNtKsjEkHPfOK644apKl7VW2bt1st2ZOpFS5TraKz59d0m21BLG51SyhvHxst5LhFkb6KTk1JqGq6fpMKzarfW1lEx2h7mZY1J9MsRXPyzulZ67GnMi5RWZbeI9EvIGms9Y0+eJHWNpIrpGVWY4VSQepPAHep7bVtOvYJprO/tbiKBikskUyssbDqGIPBHvQ4TjumLmi9mXKKo6frWmat5n9lajaXvlnD/Zp1k2n32k4pE1zSZNTOnJqdm18uc2ouEMox1+TOf0o5Z3as9B80e5foqhPrmk2uoJYXOp2cN5JjZbSXCLI2emFJyajhvLpvEt1aSXGnm1S3SSOGNz9pViSCzr0CHHB9QafJK13ppcXMjTorOGv6O2pf2cuq2Jvc4+zC5TzM+m3OanutTsbFtt7e29u3ltJiaVUOwYBbk9BkZPuKXLO6VnqPmRaoqtZahZ6nbC4027gu4CcCWCUSKT9RxVjNS24uzHoxaKTNGaXMAtaGh/8hE/7o/rWdmtHQv8AkIn/AHR/Wvo+G3fMF6M4Mw/gG74o/wCRL1n/AK8J/wD0W1L4V/5E3Rf+vCD/ANFrSeKP+RL1n/rwn/8ARbUvhX/kTdF/68IP/Ra1+p/8ufn+h8v/AMvfl+prUUUVibBRRRQAUUVm69qd1pOlm40/SrnVrpnWOK1tyqlmJ6lmICqOpY9KANKiuN8O+Ob2/wDGE/hfxLoLaJqy2gvYAl0LmG4h3bSVcKuCCcYIrsqACq2o2MWp6fNZ3DOscy7WMbYbH1qzRTTad0JpNWZQ0rRLDRYPK0+BUyPmc8s/1NX6KKJScndhGKirIKKKKQwooooAKKKKACiiigAooooAKKKKACiiigAooooAKKKKACiiigAooooAKKKKACiiigAooooAxvFn/Itzf9dYf/RqVx+a7DxZ/wAi3P8A9dYf/RqVx1efiP4ny/zOWt8QuaM0lFYGQuaM0lFAC5ozSUUALmjNJTWJCEoNzAcDOMmgDzXwlMviG+mXXvEmq2fiSG6k83TUvDCkahztVIsbXXbjnBzn6V2GreLbbTNSOnQWN/ql6sYlkt7CEO0SE4BYkgDODgZyfSuN8XPN4w0hLKLwlqdp4iV0EF1LBtS0YMCWFwDgrgHpyeOKbrGgmx8eanqWsWeuXtlqMFuYp9HklzG8abGV0jIbngg4IGT6mt7JvU0snuddN460eDwt/b7mf7Gs628qmLEkLlwhDqSCCpPPt0zS6b41s9R1mPTJLDUrC4uImmtvttv5QuVXrs56gc4ODjtXMajoSx/DtoNE0fUrc3Gqw3LQXLNLO375N0jDLEZC5OTx1Nb/AIhs7ifx94RuYbeWSG2kuzNKqErEGgIG49Bk8DPWptH8xWRQ8I+MtS1jxBq1ne6VqYiW+McLyQxKlogjU7JCGznOT/F94c+l65+Iem25nljsNUurC2kaOfUbe23QRlThjnO4gdyoIqr4ekudI8a69YXemX2zUb77Tb3aQFoChiUHL9FIK4we5Fcfo/hq30nR5ND8QaL4nu7uN5Y82M0xtrpGZiCCrhFBB5DY756mq5Ytjsmz0TVvGunaTqVpYmC8vLi9tzcWy2cXmecAQMDnrg5ycDAOSKl0nxdpuq6bfXjCaxGnMy3sN4nlyW5UbjuAJGMc5BINZMOly2vxB0M29nNHZWuiSW+4gusZDR7UL9CcD15xms698Pahql58Q7WGB4jqMdutrJIpVJWFuAcN0IzwT2qbRFZHQ6R4zg1i8t4odJ1aCC7BNteT2u2GUAFs5BJXIBI3AZqrN8RdMiElwljqc+mwyGOXU4rbdboQcE5zuKg9WCke9LoXiOfUYLPTJdA1awnMPl3Ek1sY4bchD0cnDAkADbnqOlcJo/hu207QRoev6D4nub2LfEyWc8xtbkFjgqwcRqpBGQ2Mc5pqMeo0l1PZVcOgZCGVhkEHIIpc1BaQpbWUEESlEijVFUtkgAYAz3qasTMXNGaSigBc0ZpKKAFzRmkooAXNb3g7/kIaj/1yg/nJWBW94N/4/wDUf+uUP85K0pfxI/10ZdP40dZRRRXpnYFFFFABRRRQAUUUUAFFFRtcQpOkLyosrjKxlgGYew70ASVx2kf8lA8Y/Sy/9EmuxrjtI/5KB4x+ll/6JNbU/hn6fqjGp8UPX9GZ9z/x+Tf7/wDSoqkuv+P2b/f/AKVFX4xnT/4UKvqfX4T+BH0FrF8S+KLbwxDZNcWl3eSXtyLaCG0RWdnIJH3mUdvWtmuJ+IX/ACFvB3/Ydi/9BauTBwhVrqM9tfwTZrVk4wbRqad42sbzWItKvbLUNIvpwTBDqMATz8DJ2MpZSR6ZzWvFqPm6zPp/2O7TyYlk+0vFiF9xPyq2eWGOR2yK5T4oBTpOi+Xj7b/bVr9kI+9v3dvwzU0l1qUnxE1uysbplK6LE9tHIxMSTFpAG29OuM+oFdXsKdSkqsFa6eje1mldeWv5mfPKMuV6nY1RtNZstQt7yWwka5FlNJbzKiEMJI/vIAQMnPHHB9a4rwe4TUU07Xb7xFba5PaMJba/ui0Mx43yQsMrwem0ggHpxUHw/wBDS1j8Q3qahqTPbatfQrG947Rtg43MpOGfvuPOaJYOFOM3KWqtbTR3v+GmjQlVcmrLc6m58V+RHoD/ANm3MX9s3Ig8q6HlS2+UZssvPPy4xnv1qrdePreDWdR0610PWdQfTWVbmWzgR0Xcu4Yy4Y8e3auXtLq4vfDXw3ubyeS4nkv0LyyuWZz5UnJJ5JqTTW8SDx942HhiHTHJng3tfSyKVbyeMBVOfxIrrWDox5uZL3U93ZaT5d/Qz9rJ2t1/yudbe+ONItPBaeJ4jNeafJsCC3QF2LPsxhiOQeDk9jU+k+I5tUvvs8nh7WNPXaW868ijVOO2VkY5/CvMr6aMfAWbT7eOSO60zUltLpJ2BxcC4DPyOCMvnj1r1DR38SNcSf8ACQW+lxQ7f3Zsp5JGLZ7hkXjFY4nDUqFKTS+1JK71srWsuu5VOpKcl6L9TEPxLsdt7Mmia3JZWM8kFxeR2yNEhQ4ZuH3YHXOOlaepeLorK1gu7PSdT1WzntxcLc2EcbIEIzzudT056V5lbS+JbfwV4pm0ySz/ALJGrXgvFETG6ERbEjISdnCnOCOx5r0+C3srT4fLBpTl7KPTMW7k5LJ5fynPuOa0xWHw9BppX96277Lfs9fQVOpOad30uR+HvF6+I/Ie20PV7W2uIvNjurqKNY2GMjlXJ5+ldFXOfD//AJJ1oH/XhF/6CK6KvKxXJGvKEFZJtfczop3cE2LSj76/7w/nTaVfvr/vD+dbZbL/AG6j/ij+aJxH8Gfo/wAjvLD/AI9l+lWqq2H/AB7L9KtV+0HyYUUUUAFFFFABRRRQAUUUUAFFVtRku4dOmk06FZ7lVzHG5wGNYWkeNLW7n+x6tG2m3ynaY5uFJ9ien0P61pGlOUXKOtjOVSMZKMup0x6VyfiT/Xx/739K6s/drlPEv+vj/wB7+leZmX+41v8ADL8mdWH/AI0PVfmYtFJRX4tzH1gtFJRRzAcH8TrZb258KWzSzRCXWo1MkEhR1yrcqw5B9xUfhywj8K/E290u5lmvDqloLiyvrxzJPhDiSAueSBww9vWu6uLO1u2ha6toZ2gkEkRkjDGNx0Zc9DyeRRLZ2s91BczW0MlxbbvIleMFotww209RkcHHWvTjmFqCoPazT9b3T++1/I53RvPn63R4noWmS6t4J1CHV9b8PWU8s1wNRF9Z7rmGXewLM5kHI4KnHHHpW54g1K30Txjoj6klprJt9CCH7ZcRW6uzOB5qGZgpY7TkZyARyelejXGgaPd3y3t1pNjNdrgi4ktkaQf8CIzXP654b1iXxb/bWlrpV+j2q2xttUDgQ4YktGyhsZyMgjsOa9GOZ069Zuei9520Su9LJqz+baMHQlCOnkclfaPDbfB+SNjZlL/V45jHYyh44UkuVIiV167QcZH4Vt/E6wi03wbY2+lw2tjYHVLZb0+R+5WHOMyKuMqDsyM8jitjwv4PGmWuonWYrCeTUbsXT2tvBi3hZQAuwN1IK53YHNdRJGk0TRzIskbgqyMMhh6EVz1cxUK8XF8yUnLyd0vytv8AM0jRvBp6XVvzPPtE0gjxzpuoP4g0KSaO3lT7NpdqImuI2A+9hzkKQpHH86qaK9p4V1jSdPt20bXbG/vXFpd2+03kLNubexGd4AyC4IIHWvQdP0XStJZzpWmWdkZPvm2t1j3fXaBmmWWgaPpt01zp2k2NpcOMNLBbIjt9SBms5ZjGXMpXata2i7222tfzvs9NmqLVrf1t/kcDqT2nhTWb3Uom0bXbO+1RTNbSbTeQTM6rtQ879rDO0gEYPPFX9Va7Xx34pOm7vtg8Nqbfb18zMu3HvnFdemgaPHqR1FNJsVvixY3QtkEpJ6nfjOatraW63j3a28QuXQRvMEG9lByFLdSBk8e9S8who7Xdra9dVbT5b9eo1Rffr/meS3Q8JN8DoRZ/Y2v2tI/JEe03JvDjpj5t+/r7e1dBqmnR6l8QvCEOuW8dy6adcSSJKNymUCPkjocHnnvzXYR6Do8WonUItKsUvScm5W2QSE/72M1ae0t5LuO6e3ia4iUpHMUBdFOMgN1AOBn6VU8yje8b/ber1Tkraen4iVB21t0/BnI+FLeGx+I3jG0s41gtv9CmEMYwod433MB2J2jNdpUMdpbQ3U1zFbxJPOFE0qoA0m0YXcepxk4z0qWvPxFf20+fyivuSX6G9OPIrev5i0UlFc/MWLWloX/IRP8AuisytPQf+Qif90V9Nww75ivRnBmH8D5m74o/5EvWf+vCf/0W1L4V/wCRN0X/AK8IP/Ra0nij/kS9Z/68J/8A0W1L4V/5E3Rf+vCD/wBFrX6x/wAufn+h8t/y9+X6mtRRRWJsFFFFABVHV3k+wNBaajBp17cnyrWadBIPMwSAELDecAnbnoD6VerN17w9pPifSzp+vWMV7alw4jkz8rDowI5UjJ5BB5oA830OHVPD3x1jt/Fl9Br+pazpki2l/DH5Bs4YmDGIwgkBWPO7cSSMV61XP+HvAvhzwtdzXei6aIruddklzNNJPKy/3fMkZmxwOM44roKACiiq2oyXcOnTSadCs9yq5jjc4DGmld2E3ZXLNFczpHjS1u5/serRtpt8p2mObhSfYnp9D+tdNVTpypu0kTCpGavFhRRRUFhUdxcRWltJPcPsijUszYzgfQdfpUlYuvXSfarCycSsjy+fMIomlOxMEAqoJwW2/kayrVPZwcioR5pWNa2uIru1juLZxJFKoZGHcGpK5vTdRFjYatDEjgWQe5t0miaMmNgWAwwBwGDCr+m6d/o9pdve3jzsokkYzsUkJHI2H5QOeMAYwKxpYh1Ekld9fvtp8y5U+W9zVorC0e3bVdNh1Ke7u1uJ280eXOwRBu4QJ93GBjkEnk5zzVUS3OpXF+72+puY53gha0uUjSMLwDtMi7jnn5gR0HSl9ZfLGSj8W3p939dw9nq1fY6emTzx21vJPO22OJC7tjOABkniueRdQvNU0621C4mtnawaS6jhk272DoOqnjr1HPbPNR3kZ+w+INPknuJIbWDzoS07bl3RsdpbOWGR0JPWplinytqP397X2/rUapK+r/q9jpo5FliWSM5VwGU+oNEsgiheRskIpY49qxNltYeH7YNLffv/AC1CRTu8kjEfcUsflBx2K49RVexuJkv9UsmjuooVtVmSO7mErqSGBw25uDgcZ659ap4lpqLWr/Ozf6B7O92jfs7lL2xguogwSeNZFDDkBhkZ/OmxXscuoXFmqsJLdEdiRwQ+cY/75Nc1FBLp/gu01SK9uWuYbeKRQZD5ZXaBs8v7uMHGcZzzmptRvJrC/wBduLb/AFqwWqocA4LM65544znnisvrclGLmraXfpyyf36FeyTbt/Wq/wAzp6K5+2hvodQtDa2upRx7ityby6SVWTb97HmMQwIH3QByas+I3nWwt1tbh7aSS8hjEidQC4HTofoeDW/1h+zlNxen4+l7GfJ7ySe5r0ViIjaZ4hs7aK4uJYbuCTes8zSYZNpDAsTjO45AwOnFZcE2pajpJvre21M30uZIZEuUWFSD8q+WZANvGDlc9T1qJYrlfLyttX0Wu1n280Uqd9b6f1/kdfRXKX99BJqWoQ6rqMtm8NuhgiiuTH8xXLEbSNzZxwc9uOatKfJ0bS7a9OoPdzRhmt4Z2EkjbQW3OxBABOfvAduelJYtNtJbefnbXtfp1fYPZNJG9PPHbW8k87bY4kLu2M4AGSeKhnvVitop44ZrhZWVVEKbiA38RHYDvXNh5LrQPEFrc/akW08wxLLOTIoMe7azKx3DJPBJ44PSrk0ZsNE002s1wplurUOWnd8gsoI5JwCOw4qfrUpJtKytfzvdr9B+zS0Z0NFYUuovpN7qqTu0iiEXdsrkn/ZKD23BeP8AaqoxvY7uz0y4F9d+VaCeb7NOEd5GYg5cup2jnAB7jPStJYpLRLX/AINvx1foSqTfU6iiszRVvUS5S8jnSJZc232iRXk2EA4JVjnByASc4xmtOumnPnipWsRJWdgoooqyTG8W/wDItT/9dYf/AEalcZXZeLf+Ran/AOukP/o1K4yvOxP8T5f5nJW+IWikorC5kLRSUUXAWikoouAtFJRRcBaKSii4C0UlFFwFopKKLgLRSUUXAWikoouAtFJRRcBaKSii4C0UlFFwFopKKLgLXQeDP+P/AFH/AK5Q/wA5K56ug8F/8f2o/wDXOH+claUf4kf66Mun8aOtrJ1HxRo+lXZtr+88qYAMV8p24PuARWtVS40rTrybzbuwtZ5MY3ywqxx9SK9eHJf39vI6p89vc38zK/4Trw5/0Ef/ACBJ/wDE0f8ACdeHP+gj/wCQJP8A4mtD+wNH/wCgTY/+Ayf4Uf2Bo/8A0CbH/wABk/wra+H7P71/kZWr919z/wAzP/4Trw5/0Ef/ACBJ/wDE0f8ACdeHP+gj/wCQJP8A4mtD+wNH/wCgTY/+Ayf4Uf2Bo/8A0CbH/wABk/wovh+z+9f5Bav3X3P/ADM//hOvDn/QR/8AIEn/AMTR/wAJ14c/6CP/AJAk/wDia0P7A0f/AKBNj/4DJ/hR/YGj/wDQJsf/AAGT/Ci+H7P71/kFq/dfc/8AMz/+E68Of9BH/wAgSf8AxNYviDU/CWvBJH1R4LqIYinjhkyvfkbeRmuq/sDR/wDoE2P/AIDJ/hWD4ifTNKmhs9P8N2t5fXC7o1Fqu0DOMnA5+n6itaPsudcl7+q/yM6vtOT37W9H/mYmlePZtMuPsuozDU7VeFuYwVcD6MBn8fzNaHhq+t9S8ZeLLuzk8yGVbMq2CM/umB6+4pNL8BG6uPtviHykLci0tUCKPY7f6fnUugW8Nr448XQW0SxRItkFRBgD90a1rOi4z9nvbXtujGkqylH2m19O+zKV3/x+zf739KizUl5/x/Tf71QZr8Izv/kY1vU+7wn8CPoPzXG+NrD+05rOO9j1BI7aZbixuNMZfME4BAVtysADnIOO1dfmjNefQrOhUU0dkXC9qkeZdjz/AE7Sbiz1aKa9s9R1fxBAD5EmoXPmQQoRyyEKFBP3emc96tTM1zrF9rNvp2pRedZLZXzK/lvAAW5iAGSy7id2fTFdtmjNdUsc5Pmcelt3tvbyXbs+5sqmHS/hL738+v3dvM8/0u0fStWj1nUIdb1VvLaLTZLyYSOm7GQUVVCF8D5jk4HNOs9Nu9P1m+a0tNQiv76R557EXA+wkuMNLu253dsZ69q77NGabx8m23HdW3fy0/rXXQOfDrakvvf+f39/I4C3sYotO0KG10zUjY+HJRIzSsol3hWUjG35wNxJxjtiqtxpMw1zUNahk8Q6dHq7KyJYyx/vGVdqhlMZKZHIOfWvSc0ZqlmEk2+Xfz7u/wCeoubDNW9kvvf9f8DTzPOrnw+s/hGTwimk3cFzLMLmSWOfO87g5laZgcsSMHIzVrSm1Kwvhfrc+IdQtLdSt3DfyR/Kx67VWMFyvXOa7vNGal5hKUXGUb3u/m9x8+GTv7Jfe/8AP7u3mcTpG3QrC+hGj3s1hqtxNcRByHd3kPKsoA2Ke2e3U07SY73SPC8fhWDTbqW5jiaNWmlBQRNk58wKBwDtAx2FdpmjNRLGc17x3d93utv+D3GqmHW1Jfe/69e/kcno+oy6RolpZadpN4+n6bCsNw9xgSrgY4AA3kdSRj2rrY5FljWRDlWAYHHUGkzRmuetUVV81rMzqTpySUIctvMfmhT+8T/eH86ZmnIf3if7w/nXRln+/Uf8cfzRx4j+DP0f5HfWH/Hsv0q1VWw/49l+lWq/bD5MoazDqU+nFNFuI7e63Ah5RkY79j/Kue/s3x3/ANBqx/74H/xuuworaFVwVrJ+qMp0lN3u/kzj/wCzfHf/AEGrH/vgf/G6P7N8d/8AQasf++B/8brsKKv6w/5V9yI9gv5n97OP/s3x3/0GrH/vgf8Axuj+zfHf/Qasf++B/wDG67Cij6w/5V9yD2C/mf3s4/8As3x3/wBBqx/74H/xuj+zfHf/AEGrH/vgf/G67Cij6w/5V9yD2C/mf3s4/wDs3x3/ANBqx/74H/xuuV8VDVQ6Qazqdhe3AOBFBGDIv4hBj6Z/CvUdStZL7TpraC5e1kkXaJkHKVm6J4U07RMSRp591/FcS8tn29K2pYmMfeklfsl+pjUw8pe6m7eb/Qx/BNj4itYQdQl8ux2/JBON0g+n90ex/LvU3iX/AF0f+9/SutPSuS8Tf66P/e/pXi5vUdTB15NW9yX5M9DB01TqQinfVfmYmaM02ivw+x9iOzRmm0UWAdmjNNoosA7NGabRRYB2aM02iiwDs0ZptFFgHZozTaKLAOzRmm0UWAdmjNNoosA7NGabRRYB2a09A/5CB/3RWVWp4f8A+Qg30FfTcL/8jFejPPzD+B8zf8Uf8iXrP/XhP/6Lal8K/wDIm6L/ANeEH/otaTxR/wAiXrP/AF4T/wDotqXwr/yJui/9eEH/AKLWv1v/AJc/P9D5b/l78v1NaqGsw6lPpxTRbiO3utwIeUZGO/Y/yq/RWUXZ3NZK6scf/Zvjv/oNWP8A3wP/AI3R/Zvjv/oNWP8A3wP/AI3XYUV0fWH/ACr7kYewX8z+9nH/ANm+O/8AoNWP/fA/+N0f2b47/wCg1Y/98D/43XYUUfWH/KvuQewX8z+9nH/2b47/AOg1Y/8AfA/+N0f2b47/AOg1Y/8AfA/+N12FFH1h/wAq+5B7BfzP72cf/Zvjv/oNWP8A3wP/AI3R/Zvjv/oNWP8A3wP/AI3XYVW1K1kvtOmtoLl7WSRdomQcpQq7b1ivuQnQSWjf3nl3ioaqHSDWdTsL24BwIoIwZF/EIMfTP4V1Hgix8RWsSnUJfLscfJBON0g+n90ex/LvWvonhTTtExJGnn3X8VxLy2fb0rbratiU4ezitPT8kZUsM1P2knr6/mwooorgO4KrpZRpqMt7udpZI1jwx4VRk4H1JyasUUnFO1+g7tFWbToJ75bp927yWgZeNsiMQcEfh+pqG10j7I0SpfXjQQn93bs67VHYZChiBnoSe3pWhRWbpQcua2o+Z2sZsWipAxW2vbuG28zzPsyOoQHOSAdu4AnnAbHJ7cU6TSAbiaW0vbqz887pUgKbWbGN2GU4OPTGcetaFFL2FO1rf15dh88jCvNLa48SWZR7mFILNwlxGxJVt6YBZshiRnhs55+taEGlW8NtcRSF7g3WftEkpG6XIxg4AAGOAAABV2ipjh6cZOVt/wDKwOcmkjM/sRWsYraW9upPIdXglYoHiKjAxhQDxn7wOc0ttokUFzcXD3NzcTXMXlSPKwORk9AAAOvYY9utaVFP6vTunbYOeRjweG7eCCG2+1XUlnEVYWsjqUJHTPG7GRnbnGe2OKtyaTazT3kk6tILyNI5UY8YXdjGOQfmPOfTGKu0URw9KKso/wBbfrsDnJ9Slbac8EyPJqN5ciMYVJWUAcYydqgtx/eJ9evNS3tlHfRxJKWAimSZdp6sjBh+GRViirVOKjy9BczvcrTWMU2o214zOJLZXVACMEPjOf8AvkVWXRVjLLb3t3b27uXNvE6hRk5IB27lBPYMMZ4xWlRSdGEndr+v6QKTRzUkMMWtajLqMGpI0rqYjZ+fskQIACfK/iyCDu7Yq3ZabcXemWMt/NcW99b79kqlTIFYkANkFSdu3PB5FbVFYxwsVJt+f4u+vmnt2LdRtGdaaJbWkN3GzzXAvP8AXmd9xb5dp5GOo/8ArYpF0ZfscNtNeXM6QSxyRmTZkbCCBwoyOO/PvWlRWvsKaVkieeXcoajo9tqdxay3O/Nq+9QpwG5Bw3qMqDj2FPu9OS6uI7hJpra4jBVZoSMlT1UhgQR0PI47VcopujBtu2/6bC5pENrbm2iKtPNcMzFmkmYEk/QAAD2AA/WpqKK0SSVkJu4UUUUxGL4u/wCRZn/66Q/+jUris12vi7/kWZ/+ukP/AKNSuJzXm4n+J8v8zkrfELmjNJmjNc9zAXNGaTNGaLgLmjNJmjNFwFzRmkzRmi4C5ozSZozRcBc0ZpM0ZouAuaM0maM0XAXNGaTNGaLgLmjNJmjNFwFzRmkzRmi4C5ozSZozRcBc0ZpM0ZouAuaM0maM0XAXNdF4L/4/tR/65w/zkrnM10Xgr/j+1H/rnD/OStaP8WP9dDSl8aOuooor1TuCiiigAooooAKKKKACiiigArjtI/5KB4x+ll/6JNdjXHaR/wAlA8Y/Sy/9Emtqfwz9P1RjU+KHr+jMy9P+nTf71QZqW+/4/pv96oM1+LZ1/wAjGr6n12E/gR9B2aM03NGa8g6R2aM03NGaAHZozTc0ZoAdmjNNzRmgB2aM03NGaAHZozTc0ZoAdmjNNzRmgB2adGf3qf7w/nUeadEf3yf7w/nXoZb/AL9R/wAcfzRjiP4M/R/keg2H/Hsv0q1VWw/49l+lWq/aj5QKKKKACiiigAooooAKKKKACiiigAPSuS8T/wCtj/3v6V1p6VyPij/WR/71cGZf7jW/wS/Jm2H/AI0PVfmYOaM0lFfip9WLmjNJRQAuaM1heNLfVbvwXqcGgOy6g8JEJRtrHkZAPYlcgH1Nc94G/wCEMmvt2h2TabrUMe24tbgulwvAzvBPz/73PXtXZTwqnh5VrvTole3m9VZPvZ9TKVS01H+vkd9mo7i5htLeS4upkghjUs8kjBVQDqSTwBXK2XjHUtXY3ei+HZLzSBOYRefa0R5ArbWdIyOVBB/iBOOlZGtz2Unh34hQ2dj9mmhVhcS+cX+0MYAd2D93g4wPTNaU8BN1OSppts07XaWuum/a/kTKsrXX9aHoiSLIiujBlYZVgcgj1pc1y2geIzf3Vrpel2n2m2tbVBe33mbUhk2DESjB3v6jI2jqc8VyetaxPZ/DLUZvC2nNp6R6q8U0kd8wdGFyoLg4yd54IyMBj1p08vqTqKm9G2l06331020VtfuuSrxUeb1/A9VzUS3lu149otxGblEDtCHG9VJwGK9QDg8+1VtKuNQubLzNWsY7C43EeTHcecMdju2r+WK5qO4itPirrNzcOEih0WGR2P8ACokkJP5Vz08O5uae8VfTXql09S5TtZ9zs80Zrhh8RZktLfVbrRDBolwyBbo3iGVFdgqu0IHCnI6MSAelbmr6vrlreNDo3h1tQREDNNJeJArH+6uQST9QB71csDWhJRkkr36q2m+t7X8txKrBq6/Jm7mjNcnc+PbaLwHb+KILKaaGZ40NvnEikyeWw6HJBzx3x2pdQ8W6jo3hmTV9Y0FrdluIokto7oSuyOyru4X7w3fd55HXvQsDXbty635d1e/a1/MPbQ79L/I6vNGa5ax8W3x8R2mk65ob6W2oRu9nJ9pWbeUGWRgB8rBeepHvXUVhVoTotKfXXdP8VoXGalsLmjNJRWRQua1vD3/H+30FZFa3h3/j/b6CvpuGP+RivRnBmH8A6DxR/wAiXrP/AF4T/wDotqXwr/yJui/9eEH/AKLWk8Uf8iXrP/XhP/6Lal8K/wDIm6L/ANeEH/ota/Wf+XPz/Q+X/wCXvy/U1qKKKxNgooooAKo6xrWneH9Ll1HWryKztIsb5ZTgAk4A9yTwAOTV6o5oIJwhuIo5BE4kTzFB2MOjDPQj1oAxPDvjfw74ruLm30LURPcWuDNbyQyQyoD0JSRVbHvjFb9eZeG8eLvjXqPjDS1H9jabpv8AY8V2BxfTeZvdkP8AEifdz0J6E16bQAUUUUAFFFFABRRRQAUUUUAFFFFABRRRQAUUUUAFFFFABRRRQAUUUUAFFFFABRRRQAUUUUAFFFFABRRRQAUUUUAY3i0E+GLnHZ4j+UimuGr0q/tFv9OuLVzgTRlM+hI4P4da80ZJIZHhuF2TRMUkX0I/pXnYpNTUjkrr3kxaKTNGa5LnOLRSZozRcBaKTNGaLgLRSZozRcBaKTNGaLgLRSZozRcBaKTNGaLgLRSZozRcBaKTNGaLgLRSZozRcBaKTNGaLgLRSZozRcBaKTNGaLgLXSeCQftmontshH6yf41zJYKpLHAHU13HhOwez0gyzrtlum80qRyq4woP4c/jW+HTdRPsbUVeZuUUUV6p2hRRRQAUUUUAFFFFABRRRQAVx2kf8lA8Y/Sy/wDRJrsa47SP+SgeMfpZf+iTW1P4Z+n6oxqfFD1/RmTf/wDH/N/vVXzU+of8hCb/AHqr5r8Yzr/kY1fU+twv8CIuaM0maM15J0i5ozSZozQAuaM0maM0ALmjNJmjNAC5ozSZozQAuaM0maM0ALmjNJmjNAC5p8R/fJ/vD+dR5p8J/fx/7w/nXflv+/Uf8UfzRjX/AIMvR/keh2H/AB7L9KtVVsP+PZfpVqv2g+VCiiigAooooAKKKKACiiigAooooAD0rkfFH+sT/errj0rkPFP30/3q4My/3Gt/hl+TNqH8aPqvzOfzRmm0V+Ln1Q7NGabRQBna5f3VlZqNLW2kvpHAhguZCizYOWUMOjYzj3rk4lvPEvj3TtRvdPg0f+wllafddRyzSl12hfk4CDk5J/AV2t9ZQajatb3ab42564KnsQexHrVGTwxpUlvDC1thYScEMQz56hj1YHvmvQw9elSg1b3ndX8mrPqltpqvO5rGnh5pe0lJPytbvfv8vnfoch4a1HVfC3hyLTIrC2vdOtp2jg1X7dGkZjaQkbl+9uAPQDnHXvUmo6bcmDxnaDyvP14Z02PzkzcDyAuRzxyMc4rr/wCwNN/tD7Z9lXfjGz+DOMbtvTOOM1HH4Y0qO3mhW2ysxGSWJZMdAp6qB2xXT9epe0dRKzer03d0+/ddLJ9kP2GD5eXmlb0Xa34fj5HNeHLCfwx4g+x6S0M2lTxB9QtBMgOnThRmRcnlGxyBnB56cVmzaZNP8J9bt1mto5LnUpbiBnmUo/8ApAkUEg8EhenbPNdvJ4Y0qS3hha2wsJOCGIZ89Qx6sD3zUn9gab/aH2z7Ku/GNn8GcY3bemccZo+vx51PrdO9t3Ha+vX9Or1D2GCtbmlbXt/Wu/l5hpWsSXkMI1K0/s68nBZLVp0lYoP4spkYrGvfDd1qXizXXmTy7DUdGWxWcMD8xLhvlzngMDW5p2jWWlNI1nFtaTqWYsQOyjPQD0q/XD7dUpylR0v/AJp6avt1bMq0KTaUW2l36/ceZaN4QktLO002/wDh/pU1xAqRSak00RikAwDIRjfkjnG3r3FWvEvhrVNS8XXlxfaTPrmnSxxiyjTVDax2pC4feoIJy3ORnjjFeh0V1f2pW9p7Syvr1l1s9PeutujXY5fq8OXl/wAv8jzu28J6xB8JLDQjaL9vgvVkeJZVICC7MmQxOD8vPr+NdJ430u81jw4LXTofOm+128m3cF+VZVZjkkdACa6CisJY6rKqqrSupOXzdm+u2hapRUeXysc/rel3l5408MX9vDvtrCS5a4fcBsDwlV4Jycn0ros02iuadRzjGL+yrfi3+pokk2+47NGabRWRQ7Na/hz/AI/m+grGrZ8N/wDH830FfS8M/wDIwXozgzD+AdD4o/5EvWf+vCf/ANFtS+Ff+RN0X/rwg/8ARa0nij/kS9Z/68J//RbUvhX/AJE3Rf8Arwg/9FrX6x/y5+f6HzH/AC9+X6mtRRVXUdStNKtDc38vlQghS20tyfYAmskm3ZGraSuy1RXP/wDCdeHP+gj/AOQJP/iaP+E68Of9BH/yBJ/8TWvsKv8AK/uZn7al/MvvOgrnPHnhm+8YeE59F07Wn0Y3DATXCQ+YXj/ijwGUgN0JB6ZHen/8J14c/wCgj/5Ak/8AiaP+E68Of9BH/wAgSf8AxNHsKv8AK/uYe2pfzL7yh4Y8MeJ9Bms7e58S6dcaRaxmMWFrogtvl2kKFcSttwcHoc498119c/8A8J14c/6CP/kCT/4mj/hOvDn/AEEf/IEn/wATR7Cr/K/uYe2pfzL7zoKbLLHDE0kzrHGoyzOcAD3NYP8AwnXhz/oI/wDkCT/4moL3xd4V1Czltbu98yGUYZfJlGf/AB2mqFW+sX9wnWp20kvvOmR1kQPGwZWGQwOQRS15WutxeGrjd4b1j7bZs3NnPE42/QkAfiMfQ12ugeL9O13bErfZ7sjmCQ9f909/5+1XVws4LmWq/roRTxMJvlejN+iiiuU6Qrm9d1nVbfxJpukaOLMNeRyOz3SOwG0Z/hI966SuH8VxJN4+0JJb6WwU28+biKRUZePVgRz0rmxMnGndd1+Z1YWKlUs+z/I3NA1e/vNQ1LTdXht0u9PaPdJbE+XIrglSAeQeK0INX026ujbW2oWs04zmKOdWYfgDmuL0qeHR9c8QW0VydZsvsBvZ5yQ0m8ZHlM44JK5I9KyWu2uLjw5MlroVnE+oQGGKyk3XCKWwQ2BjGDz74rlWKcIpPV3f599jqeEU5trRWX5dtz0271Kx08oL+9t7YycIJpVTd9MnmszwzqVxqR1c3MwlW31KWCEhQMRgKQOOvU81jKdN/wCFia3/AMJB9mwLaD7J9r27fL2nfjdx97+tT/Dz7J/Z+r/2bj7J/asvk4zjZtTGM84xW0a0p1Uul366GMqMYUW+tl6a66HXUUUV2nCFFFFABRRRQAUUUUAFFFFABRRRQAUUUUAFFFFABRRRQAUUUUAFYuueHItVP2iBxBdqMb8ZVx6MP69R+lbVFTKEZq0hSipKzPN7jRdVtGImsJXHZoB5gP5c/mBVf7Je/wDQOvv/AAEk/wDia9QorkeEXRmHsF3PL/sl7/0Dr7/wEk/+Jo+yXv8A0Dr7/wABJP8A4mvUKKX1NdxfV13PL/sl7/0Dr7/wEk/+Jo+yXv8A0Dr7/wABJP8A4mvUKKPqa7h9XXc8v+yXv/QOvv8AwEk/+Jo+yXv/AEDr7/wEk/8Aia9Qoo+pruH1ddzy/wCyXv8A0Dr7/wABJP8A4mj7Je/9A6+/8BJP/ia9Qoo+pruH1ddzy/7Je/8AQOvv/AST/wCJo+yXv/QOvv8AwEk/+Jr1Cij6mu4fV13PL/sl7/0Dr7/wEk/+Jo+yXv8A0Dr7/wABJP8A4mvUKKPqa7h9XXc8v+yXv/QOvv8AwEk/+Jo+yXv/AEDr7/wEk/8Aia9Qoo+pruH1ddzy/wCyXv8A0Dr7/wABJP8A4mj7Je/9A6+/8BJP/ia9Qoo+pruH1ddzy/7Je/8AQOvv/AST/wCJo+yXv/QOvv8AwEk/+Jr1Cij6mu4fV13PL/sl7/0Dr7/wEk/+Jo+yXv8A0Dr7/wABJP8A4mvUKKPqa7h9XXc8v+yXv/QOvv8AwEk/+Jo+yXv/AEDr7/wEk/8Aia9Qoo+pruH1ddzy/wCyXv8A0Dr7/wABJP8A4mpItN1GdtsWnXZP+3CYx+bYFemUUfU13D6uu5ymj+EmSVLnVyrFSGS3Q5UH1Y9/p0+tdXRRXVTpxpq0TeMVFWQUUUVoUFFFFABRRRQAUUUUAFFFFABXHaR/yUDxj9LL/wBEmuxrjtI/5KB4x+ll/wCiTW1P4Z+n6oxqfFD1/RmPqP8AyEJf96q2asal/wAhCX61VzX41nP/ACMKvqfWYX+DEdmjNNzRmvJOkdmjNNzRmgB2aM03NGaAHZozTc0ZoAdmjNNzRmgB2aM03NGaAHZozTc0ZoAdmpID/pEf+8KhzUluf9Ij/wB4V3Zb/vtH/FH80Y1/4UvR/kejWH/Hsv0q1VWw/wCPZfpVqv2c+WCiiigAooooAKKKKACiiigAooooAD0rkPFX3k/3q689K5DxXwUP+1XDmOuCrf4Zfkzah/Fj6r8zm80ZpM0Zr8YPqBc0ZpM0ZoAXNGaTNGaAFzRmkzRmgBc0ZpM0ZoAXNGaTNGaAFzRmkzRmgBc0ZpM0ZoAXNGaTNGaAFzRmkzRmgBc1teGv+P1voKxM1t+Geb1vwr6Xhlf8KC9GcOP/AIJ0Xij/AJEvWf8Arwn/APRbUvhX/kTdF/68IP8A0WtJ4o/5EvWf+vCf/wBFtS+Ff+RN0X/rwg/9FrX6t/y5+f6HzP8Ay9+X6mtUVxa295D5V3BHPHnOyVAwz9DUtFY3sbbmf/YGj/8AQJsf/AZP8KP7A0f/AKBNj/4DJ/hWhRV+0n3I5I9jP/sDR/8AoE2P/gMn+FH9gaP/ANAmx/8AAZP8K0KKPaT7hyR7Gf8A2Bo//QJsf/AZP8KP7A0f/oE2P/gMn+FaFFHtJ9w5I9jP/sDR/wDoE2P/AIDJ/hVXUtO0LTNOmvJ9HtGjhXcVS1Qk/pW1RTVSV9WwdONtEedR6Fe+K5FkTTLTRdOzlStuokcfkD/IfWuy0bw9p2hxbbGEeYRhpn5dvx/oK06K0qYic1y7LsZ06EIPm3fcKKKK5zcKq3ulafqJQ6hYW12UyEM8Kvtz1xkcVaopNJqzGm4u6K9rYWdjEYrG0gtoz1SGMID+AqGLQ9Jgk3w6ZZxvuD7kt0B3A5B6dQec1eopckew+eXcq3emWF+yNfWVvctH9wzRK+36ZHFSwW0FqHFtBHCJHLv5aBdzHqTjqeBzUtFPlV72DmdrXCiiimSFFFFABRRRQAUUUUAFFFFABRRRQAUUUUAFFFFABRRRQAUUUUAFFFFABRRRQAUUUUAFFFFABRRRQAUUUUAFFFFABRRRQAUUUUAFFFFABRRRQAUUUUAFFFFABRRRQAUUUUAFFFFABRRRQAUUUUAFFFFABRRRQAVx2j/8lA8Y/Sy/9EmuxrkNEG74heMB/wBeX/ok1tT+Gfp+qManxQ9f0Zh6mcalL9aqZrQ16IwaoSej/wA6zs1+RZ/RlSzCpfrqv69T6jByUqK8hc0ZpM0ZrwzrFzRmkzRmgBc0ZpM0ZoAXNGaTNGaAFzRmkzRmgBc0ZpM0ZoAXNGaTNGaAFzUtsc3UY/2hUOasaahn1KJF52nJr1MnoyrY+ko9Gn92pz4mSjRk32PRbD/j2X6VaqG1XZCo9qmr9fPmgooooAKKKKACiiigAooooAKKKKAA1yviyIm33gfdOa6qszWLQXNo64zxUVIRqQcJbPQabi7o88zRmmOrWty1tJwVPy+4pc1+NYzCVMJXlRqbr8V3PqKVSNSCkh2aM03NGa5DQdmjNNzRmgB2aM03NGaAHZozTc0ZoAdmjNNzRmgB2aM03NGaAHZozTc0ZoAdmjNNzRmgB2aM03NGaAHZrofCcRaR5McE8VzLMXkWGPmR+BjsPWu/8PWH2WzQYxxX3XC2BlHmxc1o9F+r/T7zyMwrJ2pom8U/8iZrP/XhP/6Lajwr/wAibov/AF4Qf+i1o8Vf8ibrP/XhP/6Lajwr/wAibov/AF4Qf+i1r7//AJc/P9Dw/wDl78v1NaiiisTYKKKKACsjxJ4jtvDWnR3E8Fzdz3EogtbS1jLy3EpBIRR0HCkkkgAAkmtejGfwoA57wJ4pbxr4Lsteex/s9rpplNsZfN8sxyvH97AznZnp379a6GuA+CH/ACSHSv8Arvef+lc1d/QAUUUUAFFFFABRRRQAUUUUAFFFFABRRRQAUUUUAFFFFABRRRQAUUUUAFFFFABRRRQAUUUUAFFFFABRRRQAUUUUAFFFFABRRRQAUUUUAFFFFABRRRQAUUUUAFFFFABRRRQAUUUUAFFFFABRRRQAUUUUAFFFFABRRRQAUUUUAFFFFABRRRQAUUUUAFFFFABRRRQAVyegDPxF8X/9uX/ok11lcpoHy/EjxaD1ZbNh9BERW1P4Z+n6oxqfFD1/RknibSftUBZB8w5BHauHWUpKYZxslHY/xfSvXJYhIpDCuW1vwtFeqSF5rw8zyujmFPlnpJbP+uh3UMRKi7rY5HNGadcaBqloxEMpdewcZ/8Ar1WNprQ48qE/8AP+NfF1OGMdGVotNep6qx9JrW5PmjNV/sutf88Yf++G/wAaPsutf88Yf++G/wAaz/1azDsvvH9eoljNGar/AGXWv+eMP/fDf40fZda/54w/98N/jR/q1mHZfeH16iWM0Zqv9l1r/njD/wB8N/jR9l1r/njD/wB8N/jR/q1mHZfeH16iWM0Zqv8AZda/54w/98N/jR9l1r/njD/3w3+NH+rWYdl94fXqJYzRmq/2XWv+eMP/AHw3+NH2XWv+eMP/AHw3+NH+rWYdl94fXqJYzRmq4tNaP/LKH/vg/wCNTw6Jq90QJH8sd9i4qocMY6Ts7L5/8ATx9JLS4yScIwRRvkbogrrPC2kPGPPnGXbkmm6J4SS2YPKNzdSTyTXXQQLCgVRivssryill0W07ye7/AEXkeZiMTKs+yJVGFxS0UV7RyhRRRQAUUUUAFFFFABRRRQAUUUUAFNdQy4NOooA5DxH4f+1KZIhtccgjtXGPNLZyeVfIVI48wDg/X0r2B4w64IrF1Hw/BeKcoOfavOx+W4fHw5aq1WzW6N6NedF3iefpIsi7o3DD1BzTs1q3fgVd5aHKH1U4qkfBl4OFuZwPaQ18pU4Tnf3Kqt5r/gnoLMVbWJXzRmp/+EMvf+fq4/7+tR/whl7/AM/Vx/39as/9U63/AD8X3Mr+0Y/ykGaM1P8A8IZe/wDP1cf9/Wo/4Qy9/wCfq4/7+tR/qnW/5+L7mH9ox/lIM0Zqf/hDL3/n6uP+/rUf8IZe/wDP1cf9/Wo/1Trf8/F9zD+0Y/ykGaM1P/whl7/z9XH/AH9aj/hDL3/n6uP+/rUf6p1v+fi+5h/aMf5SDNGan/4Qy9/5+rj/AL+tR/whl7/z9XH/AH9aj/VOt/z8X3MP7Rj/ACkGaM1P/wAIZe/8/Vx/39aj/hDL3/n6uP8Av61H+qdb/n4vuYf2jH+UgzRmp/8AhDL3/n6uP+/rUo8GXve5nx/10b/Gj/VOt/z8X3MP7Rj/AClZmCrlmAA7k1B9qM0nl2amZz/EPuj8e9bVt4F3MDOWf/eOa6bTfDVvZgYQZHtXoYThajTlzV583ktF/n+RjUzCTVoKxkeHPDzIwnuctI3JJrtooxGgApIoVjUBRipK+ujGMIqMVZI81tt3Zk+Kv+RN1r/rwn/9FtR4V/5E3Rf+vCD/ANFrR4rIXwbrJP8Az4Tj/wAhml8LAr4P0YHqLCAH/v2tdH/Ln5/oYf8AL35fqatFFZWvW+tXEEQ0C7htZAxMhlAIIx/ums4x5na9jST5Ve1zVorj/wCzfHf/AEGrH/vgf/G6P7N8d/8AQasf++B/8brf2C/nX4/5GPtn/I/w/wAzsKy9f8Oab4nsEstYjmkgjlEqiG6lgO4Aj70bKSMMeM4/IVh/2b47/wCg1Y/98D/43R/Zvjv/AKDVj/3wP/jdHsF/Ovx/yD2z/kf4f5lvwx8PvDfg24aXw5ZT2paMxlWvp5UClgxwjuyg5GcgZ6+prpa4/wDs3x3/ANBqx/74H/xuj+zfHf8A0GrH/vgf/G6PYL+dfj/kHtn/ACP8P8zsKz9butQs9NabSbVbqdWGY2PVe+PU1z/9m+O/+g1Y/wDfA/8AjdH9m+O/+g1Y/wDfA/8AjdONGKd+aP4/5ClVbVuV/h/maOieL7DV3FvJmzvAcG3m4JPoD3+nX2rfrx3xEuoz6lHDeX1pqN5nbizjy4PoSEGfpk4rvvCFpr9rZ41udWix+7if5pF+rentz+Fa4jDwhHni9+n+RnQxEpy5JL5/5nSUUUVwHaFcjf3t1o/xP08TXEzadrNq0CxNITHFcR/MCB0G5ePc111cx8QNLudQ8MG402NpNQ02dL21VFJZnQ52gDk5GRisqt+W66anfl7h7f2dTaacfS+z+Tsxj3d1qXxQjs7a4lSy0iyMt0iOQsksvCKwHBwoLDNRaT4o0nSfAVlqL3ep3VvJK8MJvT511PJ5jLt4+8cg49gKn8C2Vyun3ur6nbSW19q929zJFMpV4kB2xoQemFA/OuTstG1az8E+Fr5dMuJptI1Gee4sfLKzGNpZPmVTjJAIIHfNc/NNe8ut3+K/Q9dUcPUboSekHCO6V3yzb185aJ9E0dppfjC01HV10u4sdQ0y+eMyRQ38IQyqOpUgkHHpnNYvhbV7PQ9G8T3+pS+XBFr95nALFiXACgDkkk4xTw934r8caJqEGlX9hZaQs7yTX0BhaRpE2hFU847k9Kw7/wANapqHhHXIobK482PxLNfJBkxPcRB/4CcdQcgj04pOc/iWtr2+5F08Nhv4U3yKXJzK6096S39LPXa+p2emeMLa/wBWj02507UtMuZ0Z4Fv4BGJgvLbSCeQOcHBqhP8R9Nie/EWm6tcrp08kN3JBbBkh2MQWJ3YxwTxzjkgVmeHdK0mfxJZXVtoviSOa23uJ9UeVUgJUg8O3zE5xxkVe0Cwu4fDviyOa1mje41O/eFHjIMit90qO4PYjrVKdVrfuY1MNgqcm+V/Z0btq20+re1t+uuxH4q8Z3NjeeHG0aC8ubS/mSR3t4kcXEbKxEa7jkN0Pbjv2rsbG6N7YxXDW81qZFyYbhQHT2IBIz+NedyafqNl4J8EXR028mfS54ZLq2ihLTIuwgnZ14z0616JZXX22xiuRDNAJV3COdNjr9V7H2q6MpOT5n2/I5swpUadGCpRWjkm+rtJ2v8AKzJ6KKK6TxQooooAKKKKACiiigAooooAKKKKACiiigAooooAKKKKACiiigAooooAKKKKACiiigAooooAKKKKACiiigAooooAKKKKACiiigAooooAKKKKACiiigAooooAKKKKACiiigAooooAKKKKACiiigArk4f9C+LFyjcLqOmrIp/vPG2Mf98811lcp43R7E6Z4igVmbSbjM4UcmB/lk/p+tbUdZOPdW/y/ExraRUuzv8A5/gdXSEA9abDNHcQJNC4eORQyMp4YEZBp9YmxC9tG/VRUZsIT/AKtUUAVfsEP9wUfYIf7gq1RQBV+wQ/3BR9gh/uCrVFAFX7BD/cFH2CH+4KtUUAVfsEP9wUfYIf7gq1RQBV+wQ/3BR9gh/uCrVFAFX7BD/cFSLaxr0UVNRQAgUDpS0UUAFFFFABRRRQAUUUUAFFFFABRRRQAUUUUAFFFFABRRRQAhUHtSeWvpTqKAGeUvpR5S+lPooAZ5S+lHlL6U+igBnlL6UeUvpT6KAGeUvpR5S+lPooAZ5S+lHlL6U+igBnlL6UeUvpT6KAGeUvpS+WvpTqKAECAdqXFFFABRRRQBzfxBuTbeBtQCcyTqsEajqxdguPyJrdsLYWWnW1qvSCJYx+AA/pXMa639ueNtK0SL5obBv7QvcdFI/1Sn6k5x6V11bz92nGPzMYe9UlL5BRRRWBsFFFFABRRTZZY4YmlmdY40G5nc4Cj1JoAdRWdpXiHRdd83+xNXsNS8k4k+x3KS7D6HaTitGgArP1vTJNX01rSK8ks9zAs8YyWXuvUcGtCinGTi7oUoqSszL0bw7p2hxYsof3hGGmfl2/Ht9BWpRRTlKUneTFGKirRQUUUVJQUUUUAFFFFABRRRQAUUUUAFFFFABRRRQAUUUUAFFFFABRRRQAUUUUAFFFFABRRRQAUUUUAFFFFABRRRQAUUUUAFFFFABRRRQAUUUUAFFFFABRRRQAUUUUAFFFFABRRRQAUUUUAFFFFABRRRQAUUUUAFFFFABRRRQAUUUUAFFFFABRRRQAUyaGO5t5IJ0EkUilHRujAjBFPooA47wrdSeH9Sk8Jamzfuy0mmTOeJ4c525/vL6ensK7GsnxH4fh8QacIWka3uYWEtrcp96GQdCPb1FZujeJ54tQXRPFMS2eqY/dSj/U3Y/vIfX/AGf/ANQ6JL2q5479V+phF+zfJLbp/kdRRRRXObhRRRQAUUUUAFFFFABRRRQAUUUUAFFFFABRRRQAUUUUAFFFFABRRRQAUUUUAFFFFABRRRQAUUUUAFFFFABRRRQAUUUUAFFFFABRRRQAUUUUAFFFFABRRRQAUUUUAFFFFABWZr+uW3h7SZL26yxzsiiX70rnooHqaNc1+w8PWP2jUJDljtihQZklbsqr3NY2kaRqGs6xH4g8TxLC8Q/0DT85FsD/ABt6uf0/ltCCtzz2/MynN35Ib/kW/B2j3OnadNe6qM6pqUpuLo/3Sfup9FH8zXQ0UVnOTnJyZcIqEeVBRRRUlBRRRQAV518YG+12vhbQpsmy1nxBbW17HniWEbnMZ9iVX8q9FrmfHnhSfxZodtFp94tlqWnXsOoWM8iFkSaMnG4DBKkFgfr+FAHMeKdKsfDvxV8CajodnDYyXc9xp1ylrEqCaEwllDAYBCsuR6V6bXCWHhbxNrHjPTPEHjebSo10aOUWNlpZkdWlkXa0rvIAeF4CgcZzmu7oAKKKKACiiigAooooAKKKKACiiigAooooAKKKKACiiigAooooAKKKKACiiigAooooAKKKKACiiigAooooAKKKKACiiigAooooAKKKKACiiigAooooAKKKKACiiigAooooAKKKKACiiigAooooAKKKKACiiigAooooAKKKKACiiigAooooAKKKKACiiigAooooAKKKKACqOr6Lp+u2JtNVtlnizkZ4Kn1BHINXqKabi7oTSaszj1sPE/hg40qb+39OHS1upAlxGPRZOjD6/hU0fxC0mJhFrUN7o83TZeW7AE+zDII966qmuiSIUkVXU9VYZBrb2kZfHH7tP+B+Bl7OUfgf36/8EyI/GHhyVQV13Txn+9cqv8zT/wDhKvD3/Qe0z/wMj/xqSTw3oczEy6Np7k9S1qhz+lR/8Ir4e/6AOmf+Acf+FL9z5/gH73y/EP8AhKvD3/Qe0z/wMj/xo/4Srw9/0HtM/wDAyP8Axo/4RXw9/wBAHTP/AADj/wAKP+EV8Pf9AHTP/AOP/Cj9z5/gH73y/EP+Eq8Pf9B7TP8AwMj/AMaP+Eq8Pf8AQe0z/wADI/8AGj/hFfD3/QB0z/wDj/wo/wCEV8Pf9AHTP/AOP/Cj9z5/gH73y/EP+Eq8Pf8AQe0z/wADI/8AGj/hKvD3/Qe0z/wMj/xo/wCEV8Pf9AHTP/AOP/Cj/hFfD3/QB0z/AMA4/wDCj9z5/gH73y/EP+Eq8Pf9B7TP/AyP/Gj/AISrw9/0HtM/8DI/8aP+EV8Pf9AHTP8AwDj/AMKP+EV8Pf8AQB0z/wAA4/8ACj9z5/gH73y/EP8AhKvD3/Qe0z/wMj/xo/4Srw9/0HtM/wDAyP8Axo/4RXw9/wBAHTP/AADj/wAKP+EV8Pf9AHTP/AOP/Cj9z5/gH73y/EP+Eq8Pf9B7TP8AwMj/AMaP+Eq8Pf8AQe0z/wADI/8AGj/hFfD3/QB0z/wDj/wo/wCEV8Pf9AHTP/AOP/Cj9z5/gH73y/EP+Eq8Pf8AQe0z/wADI/8AGj/hKvD3/Qe0z/wMj/xo/wCEV8Pf9AHTP/AOP/Cj/hFfD3/QB0z/AMA4/wDCj9z5/gH73y/EP+Eq8Pf9B7TP/AyP/Gj/AISrw9/0HtM/8DI/8aP+EV8Pf9AHTP8AwDj/AMKP+EV8Pf8AQB0z/wAA4/8ACj9z5/gH73y/EP8AhKvD3/Qe0z/wMj/xo/4Srw9/0HtM/wDAyP8Axo/4RXw9/wBAHTP/AADj/wAKP+EV8Pf9AHTP/AOP/Cj9z5/gH73y/EP+Eq8Pf9B7TP8AwMj/AMaP+Eq8Pf8AQe0z/wADI/8AGj/hFfD3/QB0z/wDj/wo/wCEV8Pf9AHTP/AOP/Cj9z5/gH73y/EP+Eq8Pf8AQe0z/wADI/8AGj/hKvD3/Qe0z/wMj/xo/wCEV8Pf9AHTP/AOP/Cj/hFfD3/QB0z/AMA4/wDCj9z5/gH73y/EP+Eq8Pf9B7TP/AyP/Gj/AISrw9/0HtM/8DI/8aP+EV8Pf9AHTP8AwDj/AMKP+EV8Pf8AQB0z/wAA4/8ACj9z5/gH73y/EP8AhKvD3/Qe0z/wMj/xo/4Srw9/0HtM/wDAyP8Axo/4RXw9/wBAHTP/AADj/wAKP+EV8Pf9AHTP/AOP/Cj9z5/gH73y/EP+Eq8Pf9B7TP8AwMj/AMaP+Eq8Pf8AQe0z/wADI/8AGj/hFfD3/QB0z/wDj/wo/wCEV8Pf9AHTP/AOP/Cj9z5/gH73y/EP+Eq8Pf8AQe0z/wADI/8AGj/hKvD3/Qe0z/wMj/xo/wCEV8Pf9AHTP/AOP/Cj/hFfD3/QB0z/AMA4/wDCj9z5/gH73y/EP+Eq8Pf9B7TP/AyP/Gj/AISrw9/0HtM/8DI/8aP+EV8Pf9AHTP8AwDj/AMKP+EV8Pf8AQB0z/wAA4/8ACj9z5/gH73y/EP8AhKvD3/Qe0z/wMj/xo/4Srw9/0HtM/wDAyP8Axo/4RXw9/wBAHTP/AADj/wAKP+EV8Pf9AHTP/AOP/Cj9z5/gH73y/EP+Eq8Pf9B7TP8AwMj/AMaP+Eq8Pf8AQe0z/wADI/8AGj/hFfD3/QB0z/wDj/wo/wCEV8Pf9AHTP/AOP/Cj9z5/gH73y/EP+Eq8Pf8AQe0z/wADI/8AGj/hKvD3/Qe0z/wMj/xo/wCEV8Pf9AHTP/AOP/Cj/hFfD3/QB0z/AMA4/wDCj9z5/gH73y/EP+Eq8Pf9B7TP/AyP/Gj/AISrw9/0HtM/8DI/8aP+EV8Pf9AHTP8AwDj/AMKP+EV8Pf8AQB0z/wAA4/8ACj9z5/gH73y/EP8AhKvD3/Qe0z/wMj/xo/4Srw9/0HtM/wDAyP8Axo/4RXw9/wBAHTP/AADj/wAKP+EV8Pf9AHTP/AOP/Cj9z5/gH73y/EP+Eq8Pf9B7TP8AwMj/AMaD4s8OqMnXdN/C7jP9aP8AhFfD3/QB0z/wDj/wpR4W8PqcroWmg+os4/8ACj9z5/gH73y/EoXPxB8M2x2rqaXEh4WO2RpSx9BtGKqtrviTXB5fh/Rn06FuPt2pjaVHqsXU+2eK6e2sLSyXFnawW49Iowv8qnp89OPwx+8OSpL4pfcc9o/g60069Go3882qaoet3dHJX2Reij/Oa6GiispTlN3kzSMYwVohRRRUlBUVxdW9nD5t3PHBHnG+Vwoz9TUtVdR0201W0NtfxebCSGK7ivI9wQacbX12FK9tNyH+39H/AOgtY/8AgSn+NH9v6P8A9Bax/wDAlP8AGs//AIQXw5/0Dv8AyPJ/8VR/wgvhz/oHf+R5P/iq6LYfu/uX+Zhev2X3v/I0P7f0f/oLWP8A4Ep/jR/b+j/9Bax/8CU/xrP/AOEF8Of9A7/yPJ/8VR/wgvhz/oHf+R5P/iqLYfu/uX+YXr9l97/yND+39H/6C1j/AOBKf40f2/o//QWsf/AlP8az/wDhBfDn/QO/8jyf/FUf8IL4c/6B3/keT/4qi2H7v7l/mF6/Zfe/8jQ/t/R/+gtY/wDgSn+NVtR1HQ9T06azm1m0RJl2lo7pAR+tQf8ACC+HP+gd/wCR5P8A4qoLzwj4V0+zkuruy8uGIZZjNIcf+PU4+wurOV/Rf5il7azulb1f+Rgx6/e+FZVi/tK01vTs4XZcKZEH5k/zH0rs9H1/T9ch32E4LgZaJuHX6j+o4rz0aLD4kuNnhrRvsdorfNeTyuc/QEkfgMn6V2mgeDtP0IrMAbi7A/1zj7v+6O3866MTGjy3fxf1v0OfDyrc1l8P9bHQUUUV5p6IVylxrV/pvxQtNLvLjdperWTG0Qoo8u4jOXG4DJyhzyevSurrjfibaSjw1Drdku670K6S/jA6sin94v0Kk/lWdS6jddDrwajKr7OX2tPRvZ/fb5Fq41i/ufibZ6LYTbLKzsXu9QART5hc7YkyRkEYLcYzUj/EHwtHqX2FtXj83zfJLiNzEHzjaZduwHPbNZXgqKbWNG17xJEWjuNfmka2ZuCsKAxw/ToT+Nef6RBpreC18Pa/4q1ixuVQw3GhpZqX3BuigRktk4IOe/WsXUklddf6R6kMFRqScJX9yydt76uTdk72enTpqj1/WfGGheH7wWurXwguGiEqxCJ3Z1LbRtCg5OQeBzxnGKsaT4h0zXXuU0u5857UqJlMbIU3LuXhgOoOciuZW0jT412KOPNNt4cbZI4ywPnqu76kEj8TWP4/u7vwd4ol1jS4nkPiCxbT9qDpdr/qWPvhiPwq3UlG8nsmc0MHSquNKF+eUbrVWvfbbtfrueh6VrFjrdm11pc/nwLK8XmBGUFlOGxkDIyOo4rB8G61f3epa9o2t3Hn32l3pCuUVC9u43RHCgDpkfhWx4b0WPw74ZsNJhIItIVRmH8TdWb8SSfxrhfiHfXHgzxTD4lsY2f+0rCXTXVBn9+AWgbHrnI+lOUnGKk/mRh6VOtUnQp63+FvfTX8Vf52Lg8SahfaN4r1eTXf7H0y2vVtrC7+xrOIFjZVkcLjLh2JHOcdsYrqtb8U6N4daFdYvRDJPnyoljaSR8dSEQFiPfFcd4v0QeHf2f7rSV5a2tI1kPXdIZFLn8WJNS6jqVn4X+LlzqviTNvY3mmxw2d86Fo42ViXjyB8pOc1HNKOj8vxudPsKVf3oLROVkrJvlUEul7u93v1srtm1q/iWx1j4c69qXh3UfM8iwudssLMjwyLExHHDKw4PODUlr4n0/RfBui3mv3/AJb3NpDgsGkkmcxgnCgFmPc4Brj1/wCJhpvxK1+wikj0nUNPK2zvGUE7R27h5ADg4JPXvVLWIZbO/wDBurXmp3mkaYuiLb/2hbRCQQSlVOGyrbQw4zjt6ZqXUkve/rfc0jgqUv3V9L38/gT5dt09Nvl0PSbLxboeoaJd6vZ36yWVkrtcv5bBogq7m3IRuBxzjGaq2fj/AML3+qQ6faatHJcTttiHluEdsZ2hyu0t7Zz2rj7e101vCHjnVNM1y+1p7vS3We6uIQkblYZANpCqGIB5I9qn8RQRxfC/wh5USoY7vTWTauNpJXJHoeTVe0na+hl9Sw/Pye9q7LpbS+t1d6+l12NT/hZFlF8QrzQrpmW1hhRUdbOdnM5cqykgEbeBhsY9zXcV5/darZ+H/jNcS6vL9mi1DSoYrWRlJWVxKwKAgfe5HFegVpTbd7vqceMpwhyOEWk4r56a9F8wooorU4AooooAKKKKACiiigAooooAKKKKACiiigAooooAKKKKACiiigAooooAKKKKACiiigAooooAKKKKACiiigAooooAKKKKACiiigAooooAKKKKACiiigAooooAKKKKACiiigAooooAKKKKACiiigAooooAKKKKACiiigAooooAKKKKACiiigAooooAKKKKACiiigAooooAKKKKACiiigAooooAKKKKACiiigAooooAKKKKACiiigAooooAKKKKACiiigAooooAKKKKACiiigAooooAKKKKACiiigAooooAKKKKACiiigApksUc8TRTxrJGwwyOuQR7g0+igBqIscapGqoijAVRgAU6iigAooooAKKKKACiiigArE1vw5/betaLdz3W220udrk2vl586TbhGLZ42nJ6HOe1bdFJpNWZdOpKnLmi9f8APQKKKKZAUUUUAFFFFABRRRQAUUUUAFFFFABRRRQAUUUUAFFFFABRRRQAUUUUAFFFFABRRRQAUUUUAFFFFABRRRQAUUUUAFFFFABRRRQAUUUUAFFFFABRRRQAUUUUAFFFFABRRRQAUUUUAFFFFABRRRQAUUUUAFFFFABRRRQAUUUUAFFFFABRRRQAUUUUAFFFFABRRRQAUUUUAFFFFABRRRQAUUUUAFFFFABRRRQAUUUUAFFFFABRRRQAUUUUAFFFFABRRRQAUUUUAFFFFABRRRQAUUUUAFFFFABRRRQAUUUUAFFFFABRRRQAUUUUAFFFFABRRRQAUUUUAFFFFABRRRQAUUUUAFFFFABRRRQAUUUUAFFFFABRRRQAUUUUAFFFFABRRRQAUUUUAFFFFABRRRQAUUUUAFFFFABRRRQAUUUUAFFFFABRRRQAUUUUAFFFFABRRRQAUUUUAFFFFABRRRQAUUUUAFFFFABRRRQAUUUUAFFFFABRRRQAUUUUAFFFFABRRRQAUUUUAFFFFABRRRQAUUUUAFFFFABRRRQAUUUUAFFFFABRRRQAUUUUAFFFFABRRRQAUUUUAFFFFABRRRQAUUUUAFFFFABRRRQAUUUUAFFFFABRRRQAUUUUAFFFFABRRRQAUUUUAFFFFABRRRQAUUUUAFFFFABRRRQAUUUUAFFFFABRRRQAUUUUAFFFFABRRRQAUUUUAFFFFABRRRQAUUUUAFFFFABRRRQAUUUUAFFFFABRRRQAUUUUAFFFFABRRRQAUUUUAFFFFAH/2Q==)\n",
        "\n",
        "## Installing the transformers library\n",
        "Let's start by installing the huggingface transformers library so we can load our deep learning NLP model."
      ]
    },
    {
      "cell_type": "code",
      "metadata": {
        "colab": {
          "base_uri": "https://localhost:8080/"
        },
        "id": "iRMLi3kukbkM",
        "outputId": "d3001dee-ff69-454d-d34c-fab8aa6bbb9d"
      },
      "source": [
        "# install Transformers it will include packages for (huggingface-hub, sacremoses, tokenizers, transformers)\n",
        "!pip install transformers"
      ],
      "execution_count": 3,
      "outputs": [
        {
          "output_type": "stream",
          "text": [
            "Collecting transformers\n",
            "\u001b[?25l  Downloading https://files.pythonhosted.org/packages/b5/d5/c6c23ad75491467a9a84e526ef2364e523d45e2b0fae28a7cbe8689e7e84/transformers-4.8.1-py3-none-any.whl (2.5MB)\n",
            "\u001b[K     |████████████████████████████████| 2.5MB 3.9MB/s \n",
            "\u001b[?25hRequirement already satisfied: numpy>=1.17 in /usr/local/lib/python3.7/dist-packages (from transformers) (1.19.5)\n",
            "Requirement already satisfied: filelock in /usr/local/lib/python3.7/dist-packages (from transformers) (3.0.12)\n",
            "Requirement already satisfied: regex!=2019.12.17 in /usr/local/lib/python3.7/dist-packages (from transformers) (2019.12.20)\n",
            "Collecting huggingface-hub==0.0.12\n",
            "  Downloading https://files.pythonhosted.org/packages/2f/ee/97e253668fda9b17e968b3f97b2f8e53aa0127e8807d24a547687423fe0b/huggingface_hub-0.0.12-py3-none-any.whl\n",
            "Requirement already satisfied: requests in /usr/local/lib/python3.7/dist-packages (from transformers) (2.23.0)\n",
            "Requirement already satisfied: packaging in /usr/local/lib/python3.7/dist-packages (from transformers) (20.9)\n",
            "Requirement already satisfied: importlib-metadata; python_version < \"3.8\" in /usr/local/lib/python3.7/dist-packages (from transformers) (4.5.0)\n",
            "Collecting tokenizers<0.11,>=0.10.1\n",
            "\u001b[?25l  Downloading https://files.pythonhosted.org/packages/d4/e2/df3543e8ffdab68f5acc73f613de9c2b155ac47f162e725dcac87c521c11/tokenizers-0.10.3-cp37-cp37m-manylinux_2_5_x86_64.manylinux1_x86_64.manylinux_2_12_x86_64.manylinux2010_x86_64.whl (3.3MB)\n",
            "\u001b[K     |████████████████████████████████| 3.3MB 40.2MB/s \n",
            "\u001b[?25hCollecting sacremoses\n",
            "\u001b[?25l  Downloading https://files.pythonhosted.org/packages/75/ee/67241dc87f266093c533a2d4d3d69438e57d7a90abb216fa076e7d475d4a/sacremoses-0.0.45-py3-none-any.whl (895kB)\n",
            "\u001b[K     |████████████████████████████████| 901kB 36.1MB/s \n",
            "\u001b[?25hRequirement already satisfied: tqdm>=4.27 in /usr/local/lib/python3.7/dist-packages (from transformers) (4.41.1)\n",
            "Requirement already satisfied: pyyaml in /usr/local/lib/python3.7/dist-packages (from transformers) (3.13)\n",
            "Requirement already satisfied: typing-extensions in /usr/local/lib/python3.7/dist-packages (from huggingface-hub==0.0.12->transformers) (3.7.4.3)\n",
            "Requirement already satisfied: certifi>=2017.4.17 in /usr/local/lib/python3.7/dist-packages (from requests->transformers) (2021.5.30)\n",
            "Requirement already satisfied: chardet<4,>=3.0.2 in /usr/local/lib/python3.7/dist-packages (from requests->transformers) (3.0.4)\n",
            "Requirement already satisfied: idna<3,>=2.5 in /usr/local/lib/python3.7/dist-packages (from requests->transformers) (2.10)\n",
            "Requirement already satisfied: urllib3!=1.25.0,!=1.25.1,<1.26,>=1.21.1 in /usr/local/lib/python3.7/dist-packages (from requests->transformers) (1.24.3)\n",
            "Requirement already satisfied: pyparsing>=2.0.2 in /usr/local/lib/python3.7/dist-packages (from packaging->transformers) (2.4.7)\n",
            "Requirement already satisfied: zipp>=0.5 in /usr/local/lib/python3.7/dist-packages (from importlib-metadata; python_version < \"3.8\"->transformers) (3.4.1)\n",
            "Requirement already satisfied: click in /usr/local/lib/python3.7/dist-packages (from sacremoses->transformers) (7.1.2)\n",
            "Requirement already satisfied: joblib in /usr/local/lib/python3.7/dist-packages (from sacremoses->transformers) (1.0.1)\n",
            "Requirement already satisfied: six in /usr/local/lib/python3.7/dist-packages (from sacremoses->transformers) (1.15.0)\n",
            "Installing collected packages: huggingface-hub, tokenizers, sacremoses, transformers\n",
            "Successfully installed huggingface-hub-0.0.12 sacremoses-0.0.45 tokenizers-0.10.3 transformers-4.8.1\n"
          ],
          "name": "stdout"
        }
      ]
    },
    {
      "cell_type": "markdown",
      "metadata": {
        "id": "AsgiKGmstBJW"
      },
      "source": [
        "### Model Training\n",
        "While we’ll be using two models, we will only train the logistic regression model.\n",
        "- For DistillBERT, we’ll use a model that’s already pre-trained and has a grasp on the English language.\n",
        "The transformers library provides us with an implementation of DistilBERT as well as pretrained versions of the model.\n",
        "\n",
        "## Overview\n",
        "1. First use the trained distilBERT to generate sentence embeddings\n",
        "2. Then We do the usual train/test split on this datase\n",
        "3. Then we train the logistic regression model on the training set"
      ]
    },
    {
      "cell_type": "markdown",
      "metadata": {
        "id": "OUEbjRHBtavc"
      },
      "source": [
        "### How a single prediction is calculated\n",
        "Let’s try to classify the sentence “a visually stunning rumination on love”. The first step is to use the BERT tokenizer to first split the word into tokens. Then, we add the special tokens needed for sentence classifications (these are [CLS] at the first position, and [SEP] at the end of the sentence).\n",
        "\n"
      ]
    },
    {
      "cell_type": "code",
      "metadata": {
        "colab": {
          "base_uri": "https://localhost:8080/"
        },
        "id": "lq2rmlFVS7lj",
        "outputId": "c59aa374-cd9c-4275-d605-8862755f5bac"
      },
      "source": [
        "from google.colab import drive\n",
        "drive.mount('/content/drive')"
      ],
      "execution_count": 1,
      "outputs": [
        {
          "output_type": "stream",
          "text": [
            "Mounted at /content/drive\n"
          ],
          "name": "stdout"
        }
      ]
    },
    {
      "cell_type": "code",
      "metadata": {
        "id": "jsew3K-xu3MD"
      },
      "source": [
        "import numpy as np\n",
        "import pandas as pd\n",
        "from sklearn.model_selection import train_test_split\n",
        "from sklearn.linear_model import LogisticRegression\n",
        "from sklearn.model_selection import GridSearchCV\n",
        "from sklearn.model_selection import cross_val_score\n",
        "import torch\n",
        "import transformers as ppb\n",
        "import warnings\n",
        "warnings.filterwarnings('ignore')"
      ],
      "execution_count": 4,
      "outputs": []
    },
    {
      "cell_type": "markdown",
      "metadata": {
        "id": "6jFD4_FYuo4u"
      },
      "source": [
        "## Importing the dataset\n",
        "We'll use pandas to read the dataset and load it into a dataframe."
      ]
    },
    {
      "cell_type": "code",
      "metadata": {
        "id": "wdhphjEwj03Y"
      },
      "source": [
        "# import pandas\n",
        "import pandas as pd\n",
        "\n",
        "df = pd.read_csv('/content/drive/MyDrive/Colab_Notebooks/Data_sentences.csv')\n",
        "# Dataset is now stored in a Pandas Dataframe"
      ],
      "execution_count": 5,
      "outputs": []
    },
    {
      "cell_type": "code",
      "metadata": {
        "id": "VjDZf84Uj-hf"
      },
      "source": [
        "# map the labele to only 0 violent and 1 non-violent\n",
        "df['ratings']=df['ratings'].map({'very violent':0, 'violent':1,'bad':2, 'acceptable negative':3,'acceptable positive':4,'good':5,'excellent':6})"
      ],
      "execution_count": 6,
      "outputs": []
    },
    {
      "cell_type": "code",
      "metadata": {
        "id": "gC0quZsikCwL"
      },
      "source": [
        "# save only sentences and ratings column in our dataframe\n",
        "df=df[['words_en','ratings']]"
      ],
      "execution_count": 7,
      "outputs": []
    },
    {
      "cell_type": "code",
      "metadata": {
        "id": "aw4fHJUvqUa-"
      },
      "source": [
        "def clean_text_punc(txt):\n",
        "    import string\n",
        "    clean_text=\"\".join([c for c in txt if c not in string.punctuation])\n",
        "    return clean_text"
      ],
      "execution_count": 8,
      "outputs": []
    },
    {
      "cell_type": "code",
      "metadata": {
        "id": "1gc98ofsqeZX"
      },
      "source": [
        "# create new column with cleaned text\n",
        "df['text_clean']=df['words_en'].apply(lambda x : clean_text_punc(x).lower())"
      ],
      "execution_count": 9,
      "outputs": []
    },
    {
      "cell_type": "code",
      "metadata": {
        "colab": {
          "base_uri": "https://localhost:8080/"
        },
        "id": "_LG3JY5KkERK",
        "outputId": "777190ae-f95a-4060-cbc2-0470665349e2"
      },
      "source": [
        "# check if we have duplicated sentences showing only first 4 records\n",
        "df['text_clean'].value_counts()[0:4]"
      ],
      "execution_count": 10,
      "outputs": [
        {
          "output_type": "execute_result",
          "data": {
            "text/plain": [
              "youre a pain in the ass    5\n",
              "i feel neglected           4\n",
              "good morning               4\n",
              "bitch                      4\n",
              "Name: text_clean, dtype: int64"
            ]
          },
          "metadata": {
            "tags": []
          },
          "execution_count": 10
        }
      ]
    },
    {
      "cell_type": "code",
      "metadata": {
        "id": "YBncoU0_kGK5"
      },
      "source": [
        "# drop the duplicated rows keeping only one from each\n",
        "df=df.drop_duplicates(subset=['text_clean'], keep='first')"
      ],
      "execution_count": 11,
      "outputs": []
    },
    {
      "cell_type": "code",
      "metadata": {
        "colab": {
          "base_uri": "https://localhost:8080/"
        },
        "id": "I6VSmGf0kH-y",
        "outputId": "534b3942-8297-406c-cff8-41b5d6a335e1"
      },
      "source": [
        "# data set shape\n",
        "df.shape"
      ],
      "execution_count": 12,
      "outputs": [
        {
          "output_type": "execute_result",
          "data": {
            "text/plain": [
              "(7266, 3)"
            ]
          },
          "metadata": {
            "tags": []
          },
          "execution_count": 12
        }
      ]
    },
    {
      "cell_type": "code",
      "metadata": {
        "colab": {
          "base_uri": "https://localhost:8080/",
          "height": 235
        },
        "id": "xscgIXM_zQBR",
        "outputId": "53293561-e207-410b-80e9-fceabe5bb46b"
      },
      "source": [
        "df.head(6)"
      ],
      "execution_count": 13,
      "outputs": [
        {
          "output_type": "execute_result",
          "data": {
            "text/html": [
              "<div>\n",
              "<style scoped>\n",
              "    .dataframe tbody tr th:only-of-type {\n",
              "        vertical-align: middle;\n",
              "    }\n",
              "\n",
              "    .dataframe tbody tr th {\n",
              "        vertical-align: top;\n",
              "    }\n",
              "\n",
              "    .dataframe thead th {\n",
              "        text-align: right;\n",
              "    }\n",
              "</style>\n",
              "<table border=\"1\" class=\"dataframe\">\n",
              "  <thead>\n",
              "    <tr style=\"text-align: right;\">\n",
              "      <th></th>\n",
              "      <th>words_en</th>\n",
              "      <th>ratings</th>\n",
              "      <th>text_clean</th>\n",
              "    </tr>\n",
              "  </thead>\n",
              "  <tbody>\n",
              "    <tr>\n",
              "      <th>0</th>\n",
              "      <td>I feel neglected by you.</td>\n",
              "      <td>2</td>\n",
              "      <td>i feel neglected by you</td>\n",
              "    </tr>\n",
              "    <tr>\n",
              "      <th>1</th>\n",
              "      <td>A big boy doesn't cry</td>\n",
              "      <td>2</td>\n",
              "      <td>a big boy doesnt cry</td>\n",
              "    </tr>\n",
              "    <tr>\n",
              "      <th>2</th>\n",
              "      <td>A cheetah, the fastest land animal, can run 70...</td>\n",
              "      <td>5</td>\n",
              "      <td>a cheetah the fastest land animal can run 70 m...</td>\n",
              "    </tr>\n",
              "    <tr>\n",
              "      <th>3</th>\n",
              "      <td>A combination of words that makes a complete s...</td>\n",
              "      <td>5</td>\n",
              "      <td>a combination of words that makes a complete s...</td>\n",
              "    </tr>\n",
              "    <tr>\n",
              "      <th>4</th>\n",
              "      <td>A door would have more charisma than you</td>\n",
              "      <td>0</td>\n",
              "      <td>a door would have more charisma than you</td>\n",
              "    </tr>\n",
              "    <tr>\n",
              "      <th>5</th>\n",
              "      <td>A feeling of gratitude is born in me.</td>\n",
              "      <td>5</td>\n",
              "      <td>a feeling of gratitude is born in me</td>\n",
              "    </tr>\n",
              "  </tbody>\n",
              "</table>\n",
              "</div>"
            ],
            "text/plain": [
              "                                            words_en  ...                                         text_clean\n",
              "0                           I feel neglected by you.  ...                            i feel neglected by you\n",
              "1                              A big boy doesn't cry  ...                               a big boy doesnt cry\n",
              "2  A cheetah, the fastest land animal, can run 70...  ...  a cheetah the fastest land animal can run 70 m...\n",
              "3  A combination of words that makes a complete s...  ...  a combination of words that makes a complete s...\n",
              "4           A door would have more charisma than you  ...           a door would have more charisma than you\n",
              "5              A feeling of gratitude is born in me.  ...               a feeling of gratitude is born in me\n",
              "\n",
              "[6 rows x 3 columns]"
            ]
          },
          "metadata": {
            "tags": []
          },
          "execution_count": 13
        }
      ]
    },
    {
      "cell_type": "code",
      "metadata": {
        "colab": {
          "base_uri": "https://localhost:8080/"
        },
        "id": "ZD2He4SpkJSz",
        "outputId": "46780186-9609-403e-dc21-e1abb2beb0da"
      },
      "source": [
        "# check in our data set how many record violent and non-violent to understand \n",
        "df['ratings'].value_counts()"
      ],
      "execution_count": 14,
      "outputs": [
        {
          "output_type": "execute_result",
          "data": {
            "text/plain": [
              "5    2899\n",
              "2    1483\n",
              "1    1071\n",
              "6     920\n",
              "0     748\n",
              "4      93\n",
              "3      52\n",
              "Name: ratings, dtype: int64"
            ]
          },
          "metadata": {
            "tags": []
          },
          "execution_count": 14
        }
      ]
    },
    {
      "cell_type": "code",
      "metadata": {
        "colab": {
          "base_uri": "https://localhost:8080/"
        },
        "id": "3fd1PEP3kK14",
        "outputId": "2c5166a8-3e2c-459a-bfaa-92bcceb112a5"
      },
      "source": [
        "# check ratings column the unique values\n",
        "df['ratings'].unique()"
      ],
      "execution_count": 15,
      "outputs": [
        {
          "output_type": "execute_result",
          "data": {
            "text/plain": [
              "array([2, 5, 0, 1, 6, 4, 3])"
            ]
          },
          "metadata": {
            "tags": []
          },
          "execution_count": 15
        }
      ]
    },
    {
      "cell_type": "code",
      "metadata": {
        "colab": {
          "base_uri": "https://localhost:8080/",
          "height": 317
        },
        "id": "qzmOZjbLkNKj",
        "outputId": "fd6c7444-cbd8-4353-c400-60177b7ad03b"
      },
      "source": [
        "# show chart for the frequancy of violent and good sentences in our data set\n",
        "import matplotlib.pyplot as plt\n",
        "names = ['good', 'bad', 'violent', 'excellent','very violent', 'acceptable positive','acceptable negative']\n",
        "values = df['ratings'].value_counts()\n",
        "plt.rcParams[\"figure.figsize\"] = (15,4)\n",
        "plt.xticks(rotation = 20)\n",
        "plt.bar(names, values)"
      ],
      "execution_count": 16,
      "outputs": [
        {
          "output_type": "execute_result",
          "data": {
            "text/plain": [
              "<BarContainer object of 7 artists>"
            ]
          },
          "metadata": {
            "tags": []
          },
          "execution_count": 16
        },
        {
          "output_type": "display_data",
          "data": {
            "image/png": "[encoded data removed]",
            "text/plain": [
              "<Figure size 1080x288 with 1 Axes>"
            ]
          },
          "metadata": {
            "tags": [],
            "needs_background": "light"
          }
        }
      ]
    },
    {
      "cell_type": "markdown",
      "metadata": {
        "id": "u5cbjZOJwPC7"
      },
      "source": [
        "Loading the Pre-trained BERT model\n"
      ]
    },
    {
      "cell_type": "code",
      "metadata": {
        "id": "ldRIBde3kOr5"
      },
      "source": [
        "# For DistilBERT:\n",
        "model_class, tokenizer_class, pretrained_weights = (ppb.DistilBertModel, ppb.DistilBertTokenizer, 'distilbert-base-uncased')\n",
        "\n",
        "## Want BERT instead of distilBERT?:\n",
        "#model_class, tokenizer_class, pretrained_weights = (ppb.BertModel, ppb.BertTokenizer, 'bert-base-uncased')"
      ],
      "execution_count": 17,
      "outputs": []
    },
    {
      "cell_type": "code",
      "metadata": {
        "colab": {
          "base_uri": "https://localhost:8080/",
          "height": 333,
          "referenced_widgets": [
            "e5a2282b299c441c802871de3faef7ee",
            "1fa557ba87754e80a8b8d1d19a9b1090",
            "785068167ed6439a8b51def30b9a0897",
            "642001b6ea5c4ef79c1e04d47bc0f1b7",
            "054bc77472dd42e9b7efeae0e2ed8a57",
            "ad3fd37b08d3420b933dd354f88fe045",
            "07362b90b7ad4f4ca35619663d95f967",
            "a6555e1beb0f4916b336017c47f17a03",
            "873c16ca24324ed4938f1a7a6406c5b0",
            "e0fc8f4a9c6145cb815041f51766b24c",
            "3a49b4df9a154d69b2243353c0d85102",
            "e2f594c342af4e89b56f3354afc7dc13",
            "66952bc93ca54142804832eb21c5a805",
            "ddf73b6401fb414ab0cdb46f052ea1d8",
            "a7a6af6586ec4d70b268317bf9c854df",
            "a4650d857d0346ef908536ce04f3314f",
            "80179063f70c425e95f710de78470550",
            "099e321d56f14c719a7776e576ef6ed5",
            "c4be4e78cf8848e6887f1aa7bc900308",
            "38e17563bb4749f0a362aab5cf48885e",
            "a48e8852ea8a4b748cb99980a2fdf324",
            "5f877b5e17d1471682e9a9ef39123b47",
            "e1c7e6bfec08423d93a0781622a9d7ed",
            "ef86889334714609855172cb5fb28561",
            "d5189a0d1da5482591fd6fd131abd4de",
            "a648772e4aca4238978bcad33f775f5d",
            "a5f450e4a44340c6a6a8cddefca6907e",
            "39c1645bbeeb49c5af8ef4c020021348",
            "26a9120121f04085990df20d3c86dfd7",
            "5906bf3a622d4431bdc0c1fb875ae689",
            "0511c1aa82534d34bfb7189832f0f946",
            "dd4b1b316a034453b02f41dad5944dce",
            "34858b3b326a4f16ae481b0c62082fa2",
            "3d4def9d4fa14ea591b0113261d36270",
            "4885d7d8f32740e5a3e14505693af085",
            "14de8c7ba0c94baa8d3897b154619cc7",
            "8279f1e78a274d209b928f0ca6eb8607",
            "1b42fc5795ff469fb7472013f5a9ccc1",
            "717d2a15965c420e96e254dc6cf48644",
            "95d92184d7ae4738ac020dc634890f79"
          ]
        },
        "id": "DyOTN8vJkR_A",
        "outputId": "dab3ab19-3db5-43e4-bb33-fb4bbd6bd749"
      },
      "source": [
        "# Load pretrained model/tokenizer\n",
        "tokenizer = tokenizer_class.from_pretrained(pretrained_weights)\n",
        "model = model_class.from_pretrained(pretrained_weights)"
      ],
      "execution_count": 18,
      "outputs": [
        {
          "output_type": "display_data",
          "data": {
            "application/vnd.jupyter.widget-view+json": {
              "model_id": "e5a2282b299c441c802871de3faef7ee",
              "version_minor": 0,
              "version_major": 2
            },
            "text/plain": [
              "HBox(children=(FloatProgress(value=0.0, description='Downloading', max=231508.0, style=ProgressStyle(descripti…"
            ]
          },
          "metadata": {
            "tags": []
          }
        },
        {
          "output_type": "stream",
          "text": [
            "\n"
          ],
          "name": "stdout"
        },
        {
          "output_type": "display_data",
          "data": {
            "application/vnd.jupyter.widget-view+json": {
              "model_id": "873c16ca24324ed4938f1a7a6406c5b0",
              "version_minor": 0,
              "version_major": 2
            },
            "text/plain": [
              "HBox(children=(FloatProgress(value=0.0, description='Downloading', max=28.0, style=ProgressStyle(description_w…"
            ]
          },
          "metadata": {
            "tags": []
          }
        },
        {
          "output_type": "stream",
          "text": [
            "\n"
          ],
          "name": "stdout"
        },
        {
          "output_type": "display_data",
          "data": {
            "application/vnd.jupyter.widget-view+json": {
              "model_id": "80179063f70c425e95f710de78470550",
              "version_minor": 0,
              "version_major": 2
            },
            "text/plain": [
              "HBox(children=(FloatProgress(value=0.0, description='Downloading', max=466062.0, style=ProgressStyle(descripti…"
            ]
          },
          "metadata": {
            "tags": []
          }
        },
        {
          "output_type": "stream",
          "text": [
            "\n"
          ],
          "name": "stdout"
        },
        {
          "output_type": "display_data",
          "data": {
            "application/vnd.jupyter.widget-view+json": {
              "model_id": "d5189a0d1da5482591fd6fd131abd4de",
              "version_minor": 0,
              "version_major": 2
            },
            "text/plain": [
              "HBox(children=(FloatProgress(value=0.0, description='Downloading', max=442.0, style=ProgressStyle(description_…"
            ]
          },
          "metadata": {
            "tags": []
          }
        },
        {
          "output_type": "stream",
          "text": [
            "\n"
          ],
          "name": "stdout"
        },
        {
          "output_type": "display_data",
          "data": {
            "application/vnd.jupyter.widget-view+json": {
              "model_id": "34858b3b326a4f16ae481b0c62082fa2",
              "version_minor": 0,
              "version_major": 2
            },
            "text/plain": [
              "HBox(children=(FloatProgress(value=0.0, description='Downloading', max=267967963.0, style=ProgressStyle(descri…"
            ]
          },
          "metadata": {
            "tags": []
          }
        },
        {
          "output_type": "stream",
          "text": [
            "\n"
          ],
          "name": "stdout"
        },
        {
          "output_type": "stream",
          "text": [
            "Some weights of the model checkpoint at distilbert-base-uncased were not used when initializing DistilBertModel: ['vocab_transform.weight', 'vocab_layer_norm.weight', 'vocab_projector.bias', 'vocab_transform.bias', 'vocab_projector.weight', 'vocab_layer_norm.bias']\n",
            "- This IS expected if you are initializing DistilBertModel from the checkpoint of a model trained on another task or with another architecture (e.g. initializing a BertForSequenceClassification model from a BertForPreTraining model).\n",
            "- This IS NOT expected if you are initializing DistilBertModel from the checkpoint of a model that you expect to be exactly identical (initializing a BertForSequenceClassification model from a BertForSequenceClassification model).\n"
          ],
          "name": "stderr"
        }
      ]
    },
    {
      "cell_type": "markdown",
      "metadata": {
        "id": "OR4ivMy6ngen"
      },
      "source": [
        "Right now, the variable `model` holds a pretrained distilBERT model -- a version of BERT that is smaller, but much faster and requiring a lot less memory.\n",
        "\n",
        "## Model #1: Preparing the Dataset\n",
        "Before we can hand our sentences to BERT, we need to so some minimal processing to put them in the format it requires.\n",
        "\n",
        "### Tokenization\n",
        "Our first step is to tokenize the sentences -- break them up into word and subwords in the format BERT is comfortable with."
      ]
    },
    {
      "cell_type": "code",
      "metadata": {
        "id": "IvZ9zXyzkoiB"
      },
      "source": [
        "#Tokenization This turns every sentence into the list of ids. saving in new column name tokenized\n",
        "df['tokenized'] = df['text_clean'].apply((lambda x: tokenizer.encode(x, add_special_tokens=True)))"
      ],
      "execution_count": 19,
      "outputs": []
    },
    {
      "cell_type": "code",
      "metadata": {
        "colab": {
          "base_uri": "https://localhost:8080/"
        },
        "id": "SQtAMZjknWcW",
        "outputId": "20a7a0e0-45a6-4586-fba7-56da5d1f827e"
      },
      "source": [
        "df['tokenized'].head(5)"
      ],
      "execution_count": 20,
      "outputs": [
        {
          "output_type": "execute_result",
          "data": {
            "text/plain": [
              "0            [101, 1045, 2514, 15486, 2011, 2017, 102]\n",
              "1       [101, 1037, 2502, 2879, 2987, 2102, 5390, 102]\n",
              "2    [101, 1037, 18178, 12928, 2232, 1996, 7915, 24...\n",
              "3    [101, 1037, 5257, 1997, 2616, 2008, 3084, 1037...\n",
              "4    [101, 1037, 2341, 2052, 2031, 2062, 25869, 296...\n",
              "Name: tokenized, dtype: object"
            ]
          },
          "metadata": {
            "tags": []
          },
          "execution_count": 20
        }
      ]
    },
    {
      "cell_type": "markdown",
      "metadata": {
        "id": "iuj_TXZEL9UD"
      },
      "source": [
        "The dataset is currently a list (or pandas Series/DataFrame) of lists. Before DistilBERT can process this as input, we’ll need to make all the vectors the same size by padding shorter sentences with the token id 0"
      ]
    },
    {
      "cell_type": "markdown",
      "metadata": {
        "id": "Im46hKRRqeP_"
      },
      "source": [
        "<img src=\"https://jalammar.github.io/images/distilBERT/bert-distilbert-tokenization-2-token-ids.png\" />\n",
        "\n",
        "### Padding\n",
        "After tokenization, `tokenized` is a list of sentences -- each sentences is represented as a list of tokens. We want BERT to process our examples all at once (as one batch). It's just faster that way. For that reason, we need to pad all lists to the same size, so we can represent the input as one 2-d array, rather than a list of lists (of different lengths)."
      ]
    },
    {
      "cell_type": "code",
      "metadata": {
        "id": "0av2RIQjqh2O"
      },
      "source": [
        "max_len = 0\n",
        "for i in df['tokenized'][:2000].values:\n",
        "    if len(i) > max_len:\n",
        "        max_len = len(i)\n",
        "\n",
        "padded= np.array([i + [0]*(max_len-len(i)) for i in df['tokenized'][:2000].values])"
      ],
      "execution_count": 21,
      "outputs": []
    },
    {
      "cell_type": "markdown",
      "metadata": {
        "id": "eKbLRTVWrLXg"
      },
      "source": [
        "Our dataset is now in the padded variable, we can view its dimensions below:"
      ]
    },
    {
      "cell_type": "code",
      "metadata": {
        "colab": {
          "base_uri": "https://localhost:8080/"
        },
        "id": "ThWhm7TprPYi",
        "outputId": "cefbcdaa-7fd5-4c7f-a785-6725cb3adce2"
      },
      "source": [
        "np.array(padded).shape"
      ],
      "execution_count": 22,
      "outputs": [
        {
          "output_type": "execute_result",
          "data": {
            "text/plain": [
              "(2000, 36)"
            ]
          },
          "metadata": {
            "tags": []
          },
          "execution_count": 22
        }
      ]
    },
    {
      "cell_type": "markdown",
      "metadata": {
        "id": "Jn0V79IVrXQ3"
      },
      "source": [
        "**Masking**\n",
        "\n",
        "If we directly send padded to BERT, that would slightly confuse it. We need to create another variable to tell it to ignore (mask) the padding we've added when it's processing its input. That's what attention_mask is:"
      ]
    },
    {
      "cell_type": "code",
      "metadata": {
        "colab": {
          "base_uri": "https://localhost:8080/"
        },
        "id": "rEcQrw63rWTO",
        "outputId": "301fd96e-30c2-4ba2-d8e5-cd5d04011c31"
      },
      "source": [
        "attention_mask = np.where(padded != 0, 1, 0)\n",
        "attention_mask.shape"
      ],
      "execution_count": 23,
      "outputs": [
        {
          "output_type": "execute_result",
          "data": {
            "text/plain": [
              "(2000, 36)"
            ]
          },
          "metadata": {
            "tags": []
          },
          "execution_count": 23
        }
      ]
    },
    {
      "cell_type": "markdown",
      "metadata": {
        "id": "KZGTbLcnxI1w"
      },
      "source": [
        "## Model #1: And Now, Deep Learning!\n",
        "Now that we have our model and inputs ready, let's run our model!\n",
        "\n",
        ">dummy sample from the web, but same concept:\n",
        "<img src=\"https://jalammar.github.io/images/distilBERT/bert-distilbert-tutorial-sentence-embedding.png\" />\n",
        "\n",
        "\n",
        "\n",
        "The `model()` function runs our sentences through BERT. The results of the processing will be returned into `last_hidden_states`."
      ]
    },
    {
      "cell_type": "code",
      "metadata": {
        "id": "jyVvqDa1nwAQ"
      },
      "source": [
        "# Processing with DistilBERT\n",
        "# We now create an input tensor out of the padded token matrix, and send that to DistilBERT\n",
        "\n",
        "input_ids = torch.tensor(padded)  \n",
        "attention_mask = torch.tensor(attention_mask)\n",
        "\n",
        "with torch.no_grad():\n",
        "    last_hidden_states = model(input_ids, attention_mask=attention_mask)\n"
      ],
      "execution_count": 24,
      "outputs": []
    },
    {
      "cell_type": "code",
      "metadata": {
        "colab": {
          "base_uri": "https://localhost:8080/"
        },
        "id": "HLgamxu1CAkY",
        "outputId": "07cfcb32-02ef-4706-92c0-16270109ed00"
      },
      "source": [
        "input_ids"
      ],
      "execution_count": 25,
      "outputs": [
        {
          "output_type": "execute_result",
          "data": {
            "text/plain": [
              "tensor([[  101,  1045,  2514,  ...,     0,     0,     0],\n",
              "        [  101,  1037,  2502,  ...,     0,     0,     0],\n",
              "        [  101,  1037, 18178,  ...,     0,     0,     0],\n",
              "        ...,\n",
              "        [  101,  1045,  2514,  ...,     0,     0,     0],\n",
              "        [  101,  1045,  2514,  ...,     0,     0,     0],\n",
              "        [  101,  1045,  2514,  ...,     0,     0,     0]])"
            ]
          },
          "metadata": {
            "tags": []
          },
          "execution_count": 25
        }
      ]
    },
    {
      "cell_type": "code",
      "metadata": {
        "colab": {
          "base_uri": "https://localhost:8080/"
        },
        "id": "GjkgoSiPCEiH",
        "outputId": "d4511707-2f4c-474e-d658-e805607966be"
      },
      "source": [
        "attention_mask"
      ],
      "execution_count": 26,
      "outputs": [
        {
          "output_type": "execute_result",
          "data": {
            "text/plain": [
              "tensor([[1, 1, 1,  ..., 0, 0, 0],\n",
              "        [1, 1, 1,  ..., 0, 0, 0],\n",
              "        [1, 1, 1,  ..., 0, 0, 0],\n",
              "        ...,\n",
              "        [1, 1, 1,  ..., 0, 0, 0],\n",
              "        [1, 1, 1,  ..., 0, 0, 0],\n",
              "        [1, 1, 1,  ..., 0, 0, 0]])"
            ]
          },
          "metadata": {
            "tags": []
          },
          "execution_count": 26
        }
      ]
    },
    {
      "cell_type": "code",
      "metadata": {
        "colab": {
          "base_uri": "https://localhost:8080/"
        },
        "id": "1rIPZIFSCJUf",
        "outputId": "1e98c4e0-cb42-4eb8-909d-dde756b69552"
      },
      "source": [
        "last_hidden_states[0][:,0,:]"
      ],
      "execution_count": 27,
      "outputs": [
        {
          "output_type": "execute_result",
          "data": {
            "text/plain": [
              "tensor([[-8.7862e-02,  6.2111e-02, -1.2315e-01,  ..., -5.2384e-02,\n",
              "          2.6557e-01,  1.8920e-01],\n",
              "        [-3.1385e-01,  8.3016e-02, -1.1713e-01,  ...,  6.6377e-03,\n",
              "          4.3215e-01,  4.6854e-01],\n",
              "        [-3.4652e-01, -1.8579e-01,  1.1030e-02,  ..., -1.9074e-01,\n",
              "          4.2118e-01,  2.3632e-01],\n",
              "        ...,\n",
              "        [ 3.3872e-02, -3.6119e-02, -7.0672e-03,  ...,  2.4812e-03,\n",
              "          2.4267e-01,  3.0502e-01],\n",
              "        [-9.3042e-02,  1.5961e-04,  5.5856e-02,  ..., -6.8167e-02,\n",
              "          2.4061e-01,  2.8275e-01],\n",
              "        [-3.9053e-02,  9.7117e-02, -4.1387e-02,  ..., -5.3303e-02,\n",
              "          2.4340e-01,  1.8609e-01]])"
            ]
          },
          "metadata": {
            "tags": []
          },
          "execution_count": 27
        }
      ]
    },
    {
      "cell_type": "markdown",
      "metadata": {
        "id": "I8xIamEq0yHv"
      },
      "source": [
        "Let's slice only the part of the output that we need. That is the output corresponding the first token of each sentence. The way BERT does sentence classification, is that it adds a token called `[CLS]` (for classification) at the beginning of every sentence. The output corresponding to that token can be thought of as an embedding for the entire sentence.\n",
        "\n",
        "<img src=\"https://jalammar.github.io/images/distilBERT/bert-output-tensor-selection.png\" />\n",
        "\n",
        "We'll save those in the `features` variable, as they'll serve as the features to our logitics regression model."
      ]
    },
    {
      "cell_type": "code",
      "metadata": {
        "id": "CZOXdCWGowEw"
      },
      "source": [
        "features = last_hidden_states[0][:,0,:].numpy()"
      ],
      "execution_count": 28,
      "outputs": []
    },
    {
      "cell_type": "markdown",
      "metadata": {
        "id": "JcUHztqz1Tt-"
      },
      "source": [
        "The labels indicating which sentence is positive and negative now go into the labels variable"
      ]
    },
    {
      "cell_type": "code",
      "metadata": {
        "colab": {
          "base_uri": "https://localhost:8080/"
        },
        "id": "aD45VUSWRtnR",
        "outputId": "0345967d-9d70-4d26-9d6e-3956211d833f"
      },
      "source": [
        "features"
      ],
      "execution_count": null,
      "outputs": [
        {
          "output_type": "execute_result",
          "data": {
            "text/plain": [
              "array([[-0.08786149,  0.06211066, -0.12315196, ..., -0.05238402,\n",
              "         0.26556987,  0.18920462],\n",
              "       [-0.31385162,  0.08301671, -0.11713339, ...,  0.00663789,\n",
              "         0.4321484 ,  0.46854332],\n",
              "       [-0.35048056, -0.20777893,  0.01780636, ..., -0.21447906,\n",
              "         0.404086  ,  0.20536888],\n",
              "       ...,\n",
              "       [-0.04288101, -0.02361638,  0.16599448, ..., -0.0727957 ,\n",
              "         0.18205824,  0.25522044],\n",
              "       [-0.06198974, -0.038468  , -0.003792  , ..., -0.12664695,\n",
              "         0.19811285,  0.2624396 ],\n",
              "       [ 0.00692434,  0.07602084,  0.01083228, ...,  0.03200514,\n",
              "         0.15249199,  0.244176  ]], dtype=float32)"
            ]
          },
          "metadata": {
            "tags": []
          },
          "execution_count": 94
        }
      ]
    },
    {
      "cell_type": "code",
      "metadata": {
        "id": "1KfDv38D1L-6"
      },
      "source": [
        "labels = df['ratings'][0:2000]"
      ],
      "execution_count": 29,
      "outputs": []
    },
    {
      "cell_type": "markdown",
      "metadata": {
        "id": "uEWDUOKv185c"
      },
      "source": [
        "## Model #2: Train/Test Split\n",
        "Let's now split our datset into a training set and testing set (even though we're using 2,000 sentences from the SST2 training set)."
      ]
    },
    {
      "cell_type": "code",
      "metadata": {
        "id": "XAibtjJC14Rt"
      },
      "source": [
        "train_features, test_features, train_labels, test_labels = train_test_split(features, labels)"
      ],
      "execution_count": 30,
      "outputs": []
    },
    {
      "cell_type": "code",
      "metadata": {
        "colab": {
          "base_uri": "https://localhost:8080/"
        },
        "id": "C35y594LeaYk",
        "outputId": "47e75274-b8de-4528-f9ed-bd33ea7bab7b"
      },
      "source": [
        "print('len of train_features : ', len(train_features),'\\nlen of test_features : ', len(test_features))"
      ],
      "execution_count": 31,
      "outputs": [
        {
          "output_type": "stream",
          "text": [
            "len of train_features :  1500 \n",
            "len of test_features :  500\n"
          ],
          "name": "stdout"
        }
      ]
    },
    {
      "cell_type": "markdown",
      "metadata": {
        "id": "XB5VEs_L1sBd"
      },
      "source": [
        "<img src=\"https://jalammar.github.io/images/distilBERT/bert-distilbert-train-test-split-sentence-embedding.png\" />\n"
      ]
    },
    {
      "cell_type": "markdown",
      "metadata": {
        "id": "PmgVQrBK2kZe"
      },
      "source": [
        "We now train the LogisticRegression model. If you've chosen to do the gridsearch, you can plug the value of C into the model declaration (e.g. LogisticRegression(C=5.2))."
      ]
    },
    {
      "cell_type": "code",
      "metadata": {
        "colab": {
          "base_uri": "https://localhost:8080/"
        },
        "id": "JAaWNM5y2eCg",
        "outputId": "41e5fc69-5859-405e-d210-90765fb4d30a"
      },
      "source": [
        "# logistic Regression model\n",
        "from sklearn.linear_model import LogisticRegression\n",
        "from sklearn.metrics import accuracy_score #\n",
        "\n",
        "model_lr = LogisticRegression()\n",
        "# model fit train feature and train labels\n",
        "model_lr.fit(train_features, train_labels)"
      ],
      "execution_count": 32,
      "outputs": [
        {
          "output_type": "execute_result",
          "data": {
            "text/plain": [
              "LogisticRegression(C=1.0, class_weight=None, dual=False, fit_intercept=True,\n",
              "                   intercept_scaling=1, l1_ratio=None, max_iter=100,\n",
              "                   multi_class='auto', n_jobs=None, penalty='l2',\n",
              "                   random_state=None, solver='lbfgs', tol=0.0001, verbose=0,\n",
              "                   warm_start=False)"
            ]
          },
          "metadata": {
            "tags": []
          },
          "execution_count": 32
        }
      ]
    },
    {
      "cell_type": "code",
      "metadata": {
        "id": "wdIr-bHBnLg8"
      },
      "source": [
        "# predict\n",
        "predict_md=model_lr.predict(test_features)"
      ],
      "execution_count": 33,
      "outputs": []
    },
    {
      "cell_type": "code",
      "metadata": {
        "colab": {
          "base_uri": "https://localhost:8080/"
        },
        "id": "G_Za9AcnngPa",
        "outputId": "ecdcc71f-bbee-4ac7-a799-d95c8445a7bb"
      },
      "source": [
        "# check the accuracy of the test labels with the predicted \n",
        "score=accuracy_score(predict_md,test_labels)\n",
        "score"
      ],
      "execution_count": 34,
      "outputs": [
        {
          "output_type": "execute_result",
          "data": {
            "text/plain": [
              "0.736"
            ]
          },
          "metadata": {
            "tags": []
          },
          "execution_count": 34
        }
      ]
    },
    {
      "cell_type": "code",
      "metadata": {
        "colab": {
          "base_uri": "https://localhost:8080/"
        },
        "id": "lUTD0iBFiBaR",
        "outputId": "9aa2befc-7e04-4861-f84e-914fe5eb0c0f"
      },
      "source": [
        "from sklearn.metrics import confusion_matrix\n",
        "confusion_matrix(test_labels,predict_md) "
      ],
      "execution_count": 35,
      "outputs": [
        {
          "output_type": "execute_result",
          "data": {
            "text/plain": [
              "array([[ 16,  15,   0,   0,   0,   1,   0],\n",
              "       [  6,  19,  12,   1,   0,   4,   3],\n",
              "       [  3,  16,  32,   2,   0,  12,   3],\n",
              "       [  0,   0,   1,   4,   0,   0,   2],\n",
              "       [  0,   0,   1,   0,   2,   4,   0],\n",
              "       [  1,   1,   7,   1,   0, 216,  18],\n",
              "       [  0,   0,   2,   3,   0,  13,  79]])"
            ]
          },
          "metadata": {
            "tags": []
          },
          "execution_count": 35
        }
      ]
    },
    {
      "cell_type": "code",
      "metadata": {
        "colab": {
          "base_uri": "https://localhost:8080/"
        },
        "id": "s5v4xuyKqoLq",
        "outputId": "a43f87d6-e82d-4138-f6de-9d774453a437"
      },
      "source": [
        "from sklearn.metrics import classification_report\n",
        "matrix=classification_report (predict_md, test_labels)\n",
        "print(matrix)"
      ],
      "execution_count": 36,
      "outputs": [
        {
          "output_type": "stream",
          "text": [
            "              precision    recall  f1-score   support\n",
            "\n",
            "           0       0.50      0.62      0.55        26\n",
            "           1       0.42      0.37      0.40        51\n",
            "           2       0.47      0.58      0.52        55\n",
            "           3       0.57      0.36      0.44        11\n",
            "           4       0.29      1.00      0.44         2\n",
            "           5       0.89      0.86      0.87       250\n",
            "           6       0.81      0.75      0.78       105\n",
            "\n",
            "    accuracy                           0.74       500\n",
            "   macro avg       0.56      0.65      0.57       500\n",
            "weighted avg       0.75      0.74      0.74       500\n",
            "\n"
          ],
          "name": "stdout"
        }
      ]
    },
    {
      "cell_type": "code",
      "metadata": {
        "colab": {
          "base_uri": "https://localhost:8080/",
          "height": 328
        },
        "id": "nlWm6o1A7c1T",
        "outputId": "9326c874-9491-4d39-85f9-45bdfbd2e537"
      },
      "source": [
        "pd.crosstab(test_labels, predict_md, rownames=['True'], colnames=['Predicted'], margins=True)"
      ],
      "execution_count": 37,
      "outputs": [
        {
          "output_type": "execute_result",
          "data": {
            "text/html": [
              "<div>\n",
              "<style scoped>\n",
              "    .dataframe tbody tr th:only-of-type {\n",
              "        vertical-align: middle;\n",
              "    }\n",
              "\n",
              "    .dataframe tbody tr th {\n",
              "        vertical-align: top;\n",
              "    }\n",
              "\n",
              "    .dataframe thead th {\n",
              "        text-align: right;\n",
              "    }\n",
              "</style>\n",
              "<table border=\"1\" class=\"dataframe\">\n",
              "  <thead>\n",
              "    <tr style=\"text-align: right;\">\n",
              "      <th>Predicted</th>\n",
              "      <th>0</th>\n",
              "      <th>1</th>\n",
              "      <th>2</th>\n",
              "      <th>3</th>\n",
              "      <th>4</th>\n",
              "      <th>5</th>\n",
              "      <th>6</th>\n",
              "      <th>All</th>\n",
              "    </tr>\n",
              "    <tr>\n",
              "      <th>True</th>\n",
              "      <th></th>\n",
              "      <th></th>\n",
              "      <th></th>\n",
              "      <th></th>\n",
              "      <th></th>\n",
              "      <th></th>\n",
              "      <th></th>\n",
              "      <th></th>\n",
              "    </tr>\n",
              "  </thead>\n",
              "  <tbody>\n",
              "    <tr>\n",
              "      <th>0</th>\n",
              "      <td>16</td>\n",
              "      <td>15</td>\n",
              "      <td>0</td>\n",
              "      <td>0</td>\n",
              "      <td>0</td>\n",
              "      <td>1</td>\n",
              "      <td>0</td>\n",
              "      <td>32</td>\n",
              "    </tr>\n",
              "    <tr>\n",
              "      <th>1</th>\n",
              "      <td>6</td>\n",
              "      <td>19</td>\n",
              "      <td>12</td>\n",
              "      <td>1</td>\n",
              "      <td>0</td>\n",
              "      <td>4</td>\n",
              "      <td>3</td>\n",
              "      <td>45</td>\n",
              "    </tr>\n",
              "    <tr>\n",
              "      <th>2</th>\n",
              "      <td>3</td>\n",
              "      <td>16</td>\n",
              "      <td>32</td>\n",
              "      <td>2</td>\n",
              "      <td>0</td>\n",
              "      <td>12</td>\n",
              "      <td>3</td>\n",
              "      <td>68</td>\n",
              "    </tr>\n",
              "    <tr>\n",
              "      <th>3</th>\n",
              "      <td>0</td>\n",
              "      <td>0</td>\n",
              "      <td>1</td>\n",
              "      <td>4</td>\n",
              "      <td>0</td>\n",
              "      <td>0</td>\n",
              "      <td>2</td>\n",
              "      <td>7</td>\n",
              "    </tr>\n",
              "    <tr>\n",
              "      <th>4</th>\n",
              "      <td>0</td>\n",
              "      <td>0</td>\n",
              "      <td>1</td>\n",
              "      <td>0</td>\n",
              "      <td>2</td>\n",
              "      <td>4</td>\n",
              "      <td>0</td>\n",
              "      <td>7</td>\n",
              "    </tr>\n",
              "    <tr>\n",
              "      <th>5</th>\n",
              "      <td>1</td>\n",
              "      <td>1</td>\n",
              "      <td>7</td>\n",
              "      <td>1</td>\n",
              "      <td>0</td>\n",
              "      <td>216</td>\n",
              "      <td>18</td>\n",
              "      <td>244</td>\n",
              "    </tr>\n",
              "    <tr>\n",
              "      <th>6</th>\n",
              "      <td>0</td>\n",
              "      <td>0</td>\n",
              "      <td>2</td>\n",
              "      <td>3</td>\n",
              "      <td>0</td>\n",
              "      <td>13</td>\n",
              "      <td>79</td>\n",
              "      <td>97</td>\n",
              "    </tr>\n",
              "    <tr>\n",
              "      <th>All</th>\n",
              "      <td>26</td>\n",
              "      <td>51</td>\n",
              "      <td>55</td>\n",
              "      <td>11</td>\n",
              "      <td>2</td>\n",
              "      <td>250</td>\n",
              "      <td>105</td>\n",
              "      <td>500</td>\n",
              "    </tr>\n",
              "  </tbody>\n",
              "</table>\n",
              "</div>"
            ],
            "text/plain": [
              "Predicted   0   1   2   3  4    5    6  All\n",
              "True                                       \n",
              "0          16  15   0   0  0    1    0   32\n",
              "1           6  19  12   1  0    4    3   45\n",
              "2           3  16  32   2  0   12    3   68\n",
              "3           0   0   1   4  0    0    2    7\n",
              "4           0   0   1   0  2    4    0    7\n",
              "5           1   1   7   1  0  216   18  244\n",
              "6           0   0   2   3  0   13   79   97\n",
              "All        26  51  55  11  2  250  105  500"
            ]
          },
          "metadata": {
            "tags": []
          },
          "execution_count": 37
        }
      ]
    },
    {
      "cell_type": "markdown",
      "metadata": {
        "id": "-waSoTIX7vaI"
      },
      "source": [
        "This allows us to see that:\n",
        "\n",
        "1. The diagonal elements show the number of correct classifications for each class: 15, 12, 32, 1, 1, 236, 75, 500 for the labels 0, 1 to 6.\n",
        "2. The off-diagonal elements provides the misclassifications: for example, 3 of the label 2 were misclassified as 0 and 9 of the label 1 were misclassified as 0, none of the class 0 were misclassified as 3 or 4 or 6, etc.\n",
        "3. The total number of classifications for each class in both test_labels and predict_md, from the \"All\" subtotals"
      ]
    },
    {
      "cell_type": "code",
      "metadata": {
        "colab": {
          "base_uri": "https://localhost:8080/",
          "height": 265
        },
        "id": "RSNxCwGW9kuB",
        "outputId": "7b774f47-92c9-41bb-a1d3-55fcca2f70b3"
      },
      "source": [
        "import matplotlib.pyplot as plt\n",
        "import sklearn.metrics\n",
        " \n",
        "conf = sklearn.metrics.confusion_matrix(test_labels, predict_md)\n",
        "plt.imshow(conf, cmap='binary', interpolation='None')\n",
        "plt.show()"
      ],
      "execution_count": 38,
      "outputs": [
        {
          "output_type": "display_data",
          "data": {
            "image/png": "[encoded data removed]",
            "text/plain": [
              "<Figure size 1080x288 with 1 Axes>"
            ]
          },
          "metadata": {
            "tags": [],
            "needs_background": "light"
          }
        }
      ]
    },
    {
      "cell_type": "markdown",
      "metadata": {
        "id": "4egJjkYX2slV"
      },
      "source": [
        "<img src=\"https://jalammar.github.io/images/distilBERT/bert-training-logistic-regression.png\" />\n",
        "\n",
        "## predict test input Model #2\n",
        "So how well does our model do in classifying sentences? One way is to check the accuracy against the testing dataset:"
      ]
    },
    {
      "cell_type": "code",
      "metadata": {
        "id": "cLBkHTkhEWRj"
      },
      "source": [
        "def predict_con(txt):\n",
        "  x_new_df=pd.DataFrame({0:txt})\n",
        "  \n",
        "  # tokenize\n",
        "  x_new_df['tokenized'] = x_new_df[0].apply((lambda x: tokenizer.encode(x, add_special_tokens=True)))\n",
        "  print('\\ntext after tokinize : ', x_new_df['tokenized'])\n",
        "\n",
        "  # pad the txt list to be same size of our dataset\n",
        "  padded_test= np.array([i + [0]*(max_len-len(i)) for i in x_new_df['tokenized'].values])\n",
        "\n",
        "  #If we directly send padded to BERT, that would slightly confuse it. \n",
        "  # so We create another variable to tell it to ignore (mask) the padding we've added when it's processing its input. That's what attention_mask is:\n",
        "  attention_mask_test = np.where(padded_test != 0, 1, 0)\n",
        "  print('attention_mask shape : ', attention_mask_test.shape)\n",
        "\n",
        "  # We now create an input tensor out of the padded token matrix, and send that to DistilBERT\n",
        "  input_ids_test = torch.tensor(padded_test)  \n",
        "  attention_mask_test = torch.tensor(attention_mask_test)\n",
        "\n",
        "  with torch.no_grad():\n",
        "      last_hidden_states_test = model(input_ids_test, attention_mask=attention_mask_test)\n",
        "  # We'll save those in the features variable, as they'll serve as the features to our logitics regression model.\n",
        "  features_test = last_hidden_states_test[0][:,0,:].numpy()\n",
        "  # print('after padding : ', features_test)\n",
        "\n",
        "  predicting= model_lr.predict(features_test)\n",
        "  print('the predicted value is : ', predicting)\n",
        "\n",
        "# 'very violent':0, 'violent':1,'bad':2, 'acceptable negative':3,'acceptable positive':4,'good':5,'excellent':6\n",
        "  if (predicting == 0):\n",
        "    print('very violent')\n",
        "  elif (predicting == 1):\n",
        "    print('violent')\n",
        "  elif (predicting == 2):\n",
        "    print('bad')\n",
        "  elif (predicting == 3):\n",
        "    print('acceptable negative')\n",
        "  elif (predicting == 4):\n",
        "    print('acceptable positive')\n",
        "  elif (predicting == 5):\n",
        "    print('good')\n",
        "  elif (predicting == 6):\n",
        "    print('excellent')\n",
        "  else:\n",
        "    print('not clear')"
      ],
      "execution_count": 39,
      "outputs": []
    },
    {
      "cell_type": "code",
      "metadata": {
        "colab": {
          "base_uri": "https://localhost:8080/"
        },
        "id": "fTB9xLdvEYUW",
        "outputId": "197a9d90-6d5f-451c-f124-a1c438d58450"
      },
      "source": [
        "# data entry test model\n",
        "#========================\n",
        "#input the data for testing the model\n",
        "X_new = [input('please input your text to test : ')]\n",
        "\n",
        "predict_con(X_new)"
      ],
      "execution_count": 40,
      "outputs": [
        {
          "output_type": "stream",
          "text": [
            "please input your text to test : this is bad\n",
            "\n",
            "text after tokinize :  0    [101, 2023, 2003, 2919, 102]\n",
            "Name: tokenized, dtype: object\n",
            "attention_mask shape :  (1, 36)\n",
            "the predicted value is :  [2]\n",
            "bad\n"
          ],
          "name": "stdout"
        }
      ]
    }
  ]
}